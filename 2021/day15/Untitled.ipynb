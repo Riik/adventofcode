{
 "cells": [
  {
   "cell_type": "code",
   "execution_count": 2,
   "id": "99b87858",
   "metadata": {},
   "outputs": [
    {
     "name": "stdout",
     "output_type": "stream",
     "text": [
      "373\n",
      "2868\n"
     ]
    }
   ],
   "source": [
    "import networkx as nx\n",
    "import numpy as np\n",
    "\n",
    "\n",
    "def get_neighbors(x: int, y: int, m: int, n: int):\n",
    "    \"\"\"Get values of neighbouring coordinates on the grid\"\"\"\n",
    "    potential = [(x - 1, y), (x + 1, y), (x, y - 1), (x, y + 1)]\n",
    "    return [(x, y) for x, y in potential if 0 <= x <= m and 0 <= y <= n]\n",
    "\n",
    "\n",
    "def create_graph(grid: np.ndarray, m: int, n: int) -> nx.Graph:\n",
    "    \"\"\"Create a networkx directed weighted graph from the grid\"\"\"\n",
    "    g = nx.grid_2d_graph(m, n, create_using=nx.DiGraph)\n",
    "    for x in range(m):\n",
    "        for y in range(n):\n",
    "            for neighbour in get_neighbors(x, y, m, n):\n",
    "                g.add_edge(neighbour, (x, y), weight=grid[x][y])\n",
    "    return g\n",
    "\n",
    "\n",
    "def create_big_grid(small_grid: np.ndarray, size: int = 5) -> np.ndarray:\n",
    "    \"\"\"Create a bigger grid from the small grid\"\"\"\n",
    "    return np.block(\n",
    "        [[(small_grid + i + j - 1) % 9 + 1 for j in range(size)] for i in range(size)]\n",
    "    )\n",
    "\n",
    "\n",
    "def part_1(grid: np.ndarray) -> int:\n",
    "    m, n = grid.shape\n",
    "    g = create_graph(grid, m, n)\n",
    "    return nx.shortest_path_length(g, (0, 0), target=(m - 1, n - 1), weight=\"weight\")\n",
    "\n",
    "\n",
    "def part_2(grid: np.ndarray) -> int:\n",
    "    big_grid = create_big_grid(grid)\n",
    "    return part_1(big_grid)\n",
    "\n",
    "\n",
    "if __name__ == \"__main__\":\n",
    "    with open(\"input.txt\", \"r\") as input:\n",
    "        input = input.read().splitlines()\n",
    "        grid = np.array([[int(x) for x in list(row)] for row in input])\n",
    "\n",
    "    part_1_ans = part_1(grid)\n",
    "    print(part_1_ans)\n",
    "\n",
    "    part_2_ans = part_2(grid)\n",
    "    print(part_2_ans)"
   ]
  },
  {
   "cell_type": "code",
   "execution_count": null,
   "id": "1dfc8309",
   "metadata": {},
   "outputs": [],
   "source": []
  }
 ],
 "metadata": {
  "kernelspec": {
   "display_name": "Python 3",
   "language": "python",
   "name": "python3"
  },
  "language_info": {
   "codemirror_mode": {
    "name": "ipython",
    "version": 3
   },
   "file_extension": ".py",
   "mimetype": "text/x-python",
   "name": "python",
   "nbconvert_exporter": "python",
   "pygments_lexer": "ipython3",
   "version": "3.8.8"
  }
 },
 "nbformat": 4,
 "nbformat_minor": 5
}
