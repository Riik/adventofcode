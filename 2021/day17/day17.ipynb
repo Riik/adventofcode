{
 "cells": [
  {
   "cell_type": "code",
   "execution_count": 120,
   "id": "e6c583c4",
   "metadata": {},
   "outputs": [],
   "source": [
    "def simulate_trajectory(vx, vy, xrange, yrange):\n",
    "    xmin, xmax = xrange\n",
    "    ymin, ymax = yrange\n",
    "    x = 0\n",
    "    y = 0\n",
    "    maxy = 0\n",
    "    hit_target = False\n",
    "    while(x < xmax + 1 and y > ymin - 1):\n",
    "        x, y, vx, vy = update(x, y, vx, vy)\n",
    "        if in_target(x, y, xmin, xmax, ymin, ymax):\n",
    "            hit_target = True\n",
    "        if y > maxy:\n",
    "            maxy = y\n",
    "    return hit_target, maxy\n",
    "        \n",
    "def in_target(x,y, xmin, xmax, ymin, ymax):\n",
    "    return xmin <= x <= xmax and ymin <= y <= ymax\n",
    "    \n",
    "def to_zero(vx):\n",
    "    if vx == 0:\n",
    "        return vx\n",
    "    if vx >  0:\n",
    "        vx -= 1\n",
    "    else:\n",
    "        vx += 1\n",
    "    return vx\n",
    "    \n",
    "def update(x, y, vx, vy):\n",
    "    x += vx\n",
    "    y += vy\n",
    "    vx = to_zero(vx)\n",
    "    vy -= 1\n",
    "    return x, y, vx, vy"
   ]
  },
  {
   "cell_type": "code",
   "execution_count": 130,
   "id": "113347f0",
   "metadata": {},
   "outputs": [],
   "source": [
    "# target area: x=282..314, y=-80..-45\n",
    "\n",
    "xmin = 282\n",
    "xmax = 314\n",
    "ymin = -80\n",
    "ymax = -45 \n",
    "# xmin = 20\n",
    "# xmax = 30\n",
    "# ymin = -10\n",
    "# ymax = -5 \n",
    "\n",
    "xrange = (xmin, xmax)\n",
    "yrange = (ymin, ymax)"
   ]
  },
  {
   "cell_type": "code",
   "execution_count": 131,
   "id": "0b120eab",
   "metadata": {},
   "outputs": [
    {
     "data": {
      "text/plain": [
       "(False, 21)"
      ]
     },
     "execution_count": 131,
     "metadata": {},
     "output_type": "execute_result"
    }
   ],
   "source": [
    "simulate_trajectory(7, 6, xrange, yrange)"
   ]
  },
  {
   "cell_type": "code",
   "execution_count": 132,
   "id": "14e97c7c",
   "metadata": {},
   "outputs": [],
   "source": [
    "targets_hit = []\n",
    "for vx in range(2000):\n",
    "    for vy in range(-2000, 2000):\n",
    "        hit, maxy = simulate_trajectory(vx, vy, xrange, yrange)\n",
    "        if hit:\n",
    "            targets_hit.append((maxy, vx, vy))"
   ]
  },
  {
   "cell_type": "code",
   "execution_count": 133,
   "id": "d00db4ad",
   "metadata": {},
   "outputs": [
    {
     "data": {
      "text/plain": [
       "3160"
      ]
     },
     "execution_count": 133,
     "metadata": {},
     "output_type": "execute_result"
    }
   ],
   "source": [
    "ans1 = max([maxy for maxy, _, _ in targets_hit])\n",
    "ans1"
   ]
  },
  {
   "cell_type": "code",
   "execution_count": 134,
   "id": "a7adf216",
   "metadata": {},
   "outputs": [
    {
     "data": {
      "text/plain": [
       "1928"
      ]
     },
     "execution_count": 134,
     "metadata": {},
     "output_type": "execute_result"
    }
   ],
   "source": [
    "ans2 = len(targets_hit)\n",
    "ans2"
   ]
  },
  {
   "cell_type": "code",
   "execution_count": null,
   "id": "6952057b",
   "metadata": {},
   "outputs": [],
   "source": []
  },
  {
   "cell_type": "code",
   "execution_count": null,
   "id": "7ff1b908",
   "metadata": {},
   "outputs": [],
   "source": []
  }
 ],
 "metadata": {
  "kernelspec": {
   "display_name": "Python 3",
   "language": "python",
   "name": "python3"
  },
  "language_info": {
   "codemirror_mode": {
    "name": "ipython",
    "version": 3
   },
   "file_extension": ".py",
   "mimetype": "text/x-python",
   "name": "python",
   "nbconvert_exporter": "python",
   "pygments_lexer": "ipython3",
   "version": "3.8.8"
  }
 },
 "nbformat": 4,
 "nbformat_minor": 5
}
