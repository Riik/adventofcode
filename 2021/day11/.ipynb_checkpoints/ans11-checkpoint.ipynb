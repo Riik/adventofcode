{
 "cells": [
  {
   "cell_type": "code",
   "execution_count": 1,
   "id": "23f19826",
   "metadata": {},
   "outputs": [],
   "source": [
    "import numpy as np"
   ]
  },
  {
   "cell_type": "code",
   "execution_count": 18,
   "id": "1c3bc2dd",
   "metadata": {},
   "outputs": [],
   "source": [
    "import scipy.signal as signal"
   ]
  },
  {
   "cell_type": "code",
   "execution_count": 119,
   "id": "2c8fe61b",
   "metadata": {},
   "outputs": [],
   "source": [
    "parse_string = lambda s: [int(i) for i in s if i != '\\n']\n",
    "parse_text_matrix = lambda text: np.array([parse_string(l) for l in text])"
   ]
  },
  {
   "cell_type": "code",
   "execution_count": 172,
   "id": "5e36071f",
   "metadata": {
    "scrolled": true
   },
   "outputs": [
    {
     "data": {
      "text/plain": [
       "array([[5, 4, 3, 3, 5, 6, 6, 2, 7, 6],\n",
       "       [6, 3, 7, 6, 2, 5, 3, 4, 3, 8],\n",
       "       [8, 4, 5, 8, 6, 3, 6, 3, 1, 6],\n",
       "       [6, 2, 5, 3, 2, 5, 4, 5, 2, 5],\n",
       "       [7, 2, 1, 1, 1, 3, 7, 1, 3, 8],\n",
       "       [1, 4, 1, 1, 5, 2, 6, 5, 3, 2],\n",
       "       [5, 7, 8, 8, 7, 6, 1, 4, 2, 4],\n",
       "       [8, 6, 7, 7, 8, 4, 1, 5, 1, 4],\n",
       "       [1, 6, 2, 2, 3, 3, 1, 6, 3, 1],\n",
       "       [5, 8, 7, 6, 7, 1, 2, 2, 2, 7]])"
      ]
     },
     "execution_count": 172,
     "metadata": {},
     "output_type": "execute_result"
    }
   ],
   "source": [
    "with open(\"input.txt\") as f:\n",
    "    input_data = parse_text_matrix(f.readlines())\n",
    "input_data"
   ]
  },
  {
   "cell_type": "code",
   "execution_count": 173,
   "id": "7f4865f5",
   "metadata": {},
   "outputs": [],
   "source": [
    "kernel = np.ones((3, 3))"
   ]
  },
  {
   "cell_type": "code",
   "execution_count": 174,
   "id": "17d040f1",
   "metadata": {},
   "outputs": [],
   "source": [
    "disperse = lambda triggered: signal.convolve2d(triggered, kernel, 'same').astype(\"int\")"
   ]
  },
  {
   "cell_type": "code",
   "execution_count": 175,
   "id": "d6fef75d",
   "metadata": {},
   "outputs": [],
   "source": [
    "def update(data):\n",
    "    d = data.copy()\n",
    "    d += 1\n",
    "    triggered = d > 9\n",
    "    d += disperse(triggered)\n",
    "    new_trig = np.logical_xor(triggered, d > 9)\n",
    "    while sum(sum(new_trig)) > 0:\n",
    "        d += disperse(new_trig)\n",
    "        triggered |= new_trig\n",
    "        new_trig = np.logical_xor(triggered, d > 9)\n",
    "    d[triggered] = 0\n",
    "    n_triggered = sum(sum(triggered))\n",
    "    return d, n_triggered"
   ]
  },
  {
   "cell_type": "code",
   "execution_count": 178,
   "id": "a6bfdcb0",
   "metadata": {},
   "outputs": [
    {
     "name": "stdout",
     "output_type": "stream",
     "text": [
      "235\n"
     ]
    }
   ],
   "source": [
    "data = input_data.copy()\n",
    "count = 0\n",
    "for i in range(1000):\n",
    "    data, n_trig = update(data)\n",
    "    count += n_trig\n",
    "    if n_trig == np.product(input_data.shape):\n",
    "        print(i+1)\n",
    "        break"
   ]
  },
  {
   "cell_type": "code",
   "execution_count": null,
   "id": "5260a3aa",
   "metadata": {},
   "outputs": [],
   "source": []
  },
  {
   "cell_type": "code",
   "execution_count": null,
   "id": "5aa4c067",
   "metadata": {},
   "outputs": [],
   "source": []
  }
 ],
 "metadata": {
  "kernelspec": {
   "display_name": "Python 3",
   "language": "python",
   "name": "python3"
  },
  "language_info": {
   "codemirror_mode": {
    "name": "ipython",
    "version": 3
   },
   "file_extension": ".py",
   "mimetype": "text/x-python",
   "name": "python",
   "nbconvert_exporter": "python",
   "pygments_lexer": "ipython3",
   "version": "3.8.8"
  }
 },
 "nbformat": 4,
 "nbformat_minor": 5
}
