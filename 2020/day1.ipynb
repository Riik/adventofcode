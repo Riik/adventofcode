{
 "cells": [
  {
   "cell_type": "code",
   "execution_count": 29,
   "id": "27e688dc",
   "metadata": {},
   "outputs": [
    {
     "name": "stderr",
     "output_type": "stream",
     "text": [
      "current_day is only available in December (EST)\n"
     ]
    }
   ],
   "source": [
    "from aocd import get_data, submit\n",
    "import numpy as np\n",
    "data = get_data(year=2020, day=1)\n",
    "data = data.split(\"\\n\")\n",
    "# data = [d.split(\"\\n\") for d in data]\n",
    "# data = [(eval(left), eval(right)) for left, right in data]\n",
    "\n",
    "data = np.array(data).astype(\"int\").reshape(len(data), 1)\n",
    "\n",
    "sums = data + np.transpose(data)\n",
    "indices = np.where(sums == 2020)[0]\n",
    "\n",
    "answer = (data[indices[0]] * data[indices[1]])[0]"
   ]
  },
  {
   "cell_type": "code",
   "execution_count": 30,
   "id": "c77fb96d",
   "metadata": {},
   "outputs": [
    {
     "data": {
      "text/plain": [
       "1003971"
      ]
     },
     "execution_count": 30,
     "metadata": {},
     "output_type": "execute_result"
    }
   ],
   "source": [
    "answer"
   ]
  },
  {
   "cell_type": "code",
   "execution_count": 31,
   "id": "38b68346",
   "metadata": {},
   "outputs": [
    {
     "name": "stderr",
     "output_type": "stream",
     "text": [
      "coerced int64 value 1003971 for 2020/01\n"
     ]
    },
    {
     "name": "stdout",
     "output_type": "stream",
     "text": [
      "\u001b[32mThat's the right answer!  You are one gold star closer to saving your vacation. [Continue to Part Two]\u001b[0m\n"
     ]
    },
    {
     "data": {
      "text/plain": [
       "<urllib3.response.HTTPResponse at 0x10729b760>"
      ]
     },
     "execution_count": 31,
     "metadata": {},
     "output_type": "execute_result"
    }
   ],
   "source": [
    "submit(answer, year=2020, day=1, part=\"a\")"
   ]
  },
  {
   "cell_type": "code",
   "execution_count": 33,
   "id": "190c6474",
   "metadata": {},
   "outputs": [
    {
     "name": "stdout",
     "output_type": "stream",
     "text": [
      "[84035952]\n",
      "[84035952]\n",
      "[84035952]\n",
      "[84035952]\n",
      "[84035952]\n",
      "[84035952]\n"
     ]
    }
   ],
   "source": [
    "run = True\n",
    "for i, x in enumerate(data):\n",
    "    for j, y in enumerate(data): \n",
    "        for k, z in enumerate(data):\n",
    "            if x+y+z == 2020:\n",
    "                print(data[i]*data[j]*data[k])\n",
    "                break\n",
    "                run = False\n",
    "        if not run:\n",
    "            break\n",
    "    if not run: \n",
    "        break"
   ]
  },
  {
   "cell_type": "code",
   "execution_count": 34,
   "id": "07b51e54",
   "metadata": {},
   "outputs": [
    {
     "name": "stdout",
     "output_type": "stream",
     "text": [
      "\u001b[32mThat's the right answer!  You are one gold star closer to saving your vacation.You have completed Day 1! You can [Shareon\n",
      "  Twitter\n",
      "Mastodon] this victory or [Return to Your Advent Calendar].\u001b[0m\n"
     ]
    },
    {
     "data": {
      "text/plain": [
       "<urllib3.response.HTTPResponse at 0x10729ae30>"
      ]
     },
     "execution_count": 34,
     "metadata": {},
     "output_type": "execute_result"
    }
   ],
   "source": [
    "submit(84035952, year=2020, day=1, part=\"b\")"
   ]
  },
  {
   "cell_type": "code",
   "execution_count": null,
   "id": "0e67107c",
   "metadata": {},
   "outputs": [],
   "source": []
  }
 ],
 "metadata": {
  "kernelspec": {
   "display_name": "aoc",
   "language": "python",
   "name": "aoc"
  },
  "language_info": {
   "codemirror_mode": {
    "name": "ipython",
    "version": 3
   },
   "file_extension": ".py",
   "mimetype": "text/x-python",
   "name": "python",
   "nbconvert_exporter": "python",
   "pygments_lexer": "ipython3",
   "version": "3.11.5"
  }
 },
 "nbformat": 4,
 "nbformat_minor": 5
}
