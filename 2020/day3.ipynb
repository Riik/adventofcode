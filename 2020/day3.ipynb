{
 "cells": [
  {
   "cell_type": "code",
   "execution_count": 2,
   "id": "04ee8775",
   "metadata": {},
   "outputs": [],
   "source": [
    "year = 2020; day = 3"
   ]
  },
  {
   "cell_type": "code",
   "execution_count": 50,
   "id": "00309cae",
   "metadata": {},
   "outputs": [
    {
     "name": "stderr",
     "output_type": "stream",
     "text": [
      "current_day is only available in December (EST)\n"
     ]
    },
    {
     "data": {
      "text/plain": [
       "1"
      ]
     },
     "execution_count": 50,
     "metadata": {},
     "output_type": "execute_result"
    }
   ],
   "source": [
    "from aocd import get_data, submit\n",
    "import numpy as np\n",
    "data = get_data(year=year, day=day)\n",
    "data = data.split(\"\\n\")\n",
    "data = [list(d) for d in data]\n",
    "# data = [(eval(left), eval(right)) for left, right in data]\n",
    "data = np.array(data)\n",
    "data = (data == \"#\").astype(\"int\")\n",
    "data[0,1]\n"
   ]
  },
  {
   "cell_type": "code",
   "execution_count": 72,
   "id": "0d298b8f",
   "metadata": {},
   "outputs": [],
   "source": [
    "def traverse(delta_x, delta_y, data):\n",
    "    x = 0 \n",
    "    y = 0\n",
    "    count = 0\n",
    "    while y < data.shape[0]:\n",
    "        count += data[y, x]\n",
    "        x = (x + delta_x) % data.shape[1]\n",
    "        y += delta_y\n",
    "        \n",
    "    print(count)\n",
    "    \n",
    "    return count"
   ]
  },
  {
   "cell_type": "code",
   "execution_count": 60,
   "id": "a3924662",
   "metadata": {},
   "outputs": [
    {
     "name": "stderr",
     "output_type": "stream",
     "text": [
      "coerced int64 value 209 for 2020/03\n"
     ]
    },
    {
     "name": "stdout",
     "output_type": "stream",
     "text": [
      "aocd will not submit that answer again. At 2023-10-13 11:10:39.896391-04:00 you've previously submitted 209 and the server responded with:\n",
      "\u001b[32mThat's the right answer!  You are one gold star closer to saving your vacation. [Continue to Part Two]\u001b[0m\n"
     ]
    }
   ],
   "source": [
    "submit(traverse(3, 1, data), year=year, day=day, part=\"a\")"
   ]
  },
  {
   "cell_type": "code",
   "execution_count": 73,
   "id": "81563192",
   "metadata": {},
   "outputs": [
    {
     "name": "stdout",
     "output_type": "stream",
     "text": [
      "58\n",
      "209\n",
      "58\n",
      "64\n",
      "35\n"
     ]
    }
   ],
   "source": [
    "directions = [\n",
    "    [1, 1],\n",
    "    [3, 1],\n",
    "    [5, 1],\n",
    "    [7, 1],\n",
    "    [1, 2],\n",
    "]\n",
    "\n",
    "answer = np.product(list(traverse(dx, dy, data) for dx, dy in directions))"
   ]
  },
  {
   "cell_type": "code",
   "execution_count": 74,
   "id": "b9573594",
   "metadata": {},
   "outputs": [
    {
     "data": {
      "text/plain": [
       "1574890240"
      ]
     },
     "execution_count": 74,
     "metadata": {},
     "output_type": "execute_result"
    }
   ],
   "source": [
    "answer"
   ]
  },
  {
   "cell_type": "code",
   "execution_count": 75,
   "id": "cbbe370c",
   "metadata": {},
   "outputs": [
    {
     "name": "stderr",
     "output_type": "stream",
     "text": [
      "coerced int64 value 1574890240 for 2020/03\n"
     ]
    },
    {
     "name": "stdout",
     "output_type": "stream",
     "text": [
      "\u001b[32mThat's the right answer!  You are one gold star closer to saving your vacation.You have completed Day 3! You can [Shareon\n",
      "  Twitter\n",
      "Mastodon] this victory or [Return to Your Advent Calendar].\u001b[0m\n"
     ]
    },
    {
     "data": {
      "text/plain": [
       "<urllib3.response.HTTPResponse at 0x111322cb0>"
      ]
     },
     "execution_count": 75,
     "metadata": {},
     "output_type": "execute_result"
    }
   ],
   "source": [
    "submit(answer, year=year, day=day, part=\"b\")"
   ]
  },
  {
   "cell_type": "code",
   "execution_count": null,
   "id": "cdc93888",
   "metadata": {},
   "outputs": [],
   "source": []
  }
 ],
 "metadata": {
  "kernelspec": {
   "display_name": "aoc",
   "language": "python",
   "name": "aoc"
  },
  "language_info": {
   "codemirror_mode": {
    "name": "ipython",
    "version": 3
   },
   "file_extension": ".py",
   "mimetype": "text/x-python",
   "name": "python",
   "nbconvert_exporter": "python",
   "pygments_lexer": "ipython3",
   "version": "3.11.5"
  }
 },
 "nbformat": 4,
 "nbformat_minor": 5
}
