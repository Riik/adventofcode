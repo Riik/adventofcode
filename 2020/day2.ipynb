{
 "cells": [
  {
   "cell_type": "code",
   "execution_count": 6,
   "id": "f1b16d3d",
   "metadata": {},
   "outputs": [
    {
     "name": "stderr",
     "output_type": "stream",
     "text": [
      "current_day is only available in December (EST)\n"
     ]
    },
    {
     "data": {
      "text/plain": [
       "False"
      ]
     },
     "execution_count": 6,
     "metadata": {},
     "output_type": "execute_result"
    }
   ],
   "source": [
    "from aocd import get_data, submit\n",
    "import numpy as np\n",
    "data = get_data(year=2020, day=2)\n",
    "data = data.split(\"\\n\")\n",
    "from collections import Counter\n",
    "# data = [d.split(\"\\n\") for d in data]\n",
    "# data = [(eval(left), eval(right)) for left, right in data]\n",
    "\n",
    "# data = np.array(data).astype(\"int\").reshape(len(data), 1)\n",
    "\n",
    "data = [d.split(\":\") for d in data]\n",
    "def parse_policy(policy):\n",
    "    r = policy.split(\" \")[0]\n",
    "    r = list(map(int, r.split(\"-\")))\n",
    "    c = policy.split(\" \")[1]\n",
    "    return r, c\n",
    "\n",
    "def parse_pswd(pswd):\n",
    "    return Counter(pswd)\n",
    "\n",
    "def check_line(line):\n",
    "    policy, password = line\n",
    "    r, c = parse_policy(policy)\n",
    "    p = parse_pswd(password)\n",
    "    if r[0] <= p[c] <= r[1]:\n",
    "        return True\n",
    "    else:\n",
    "        return False\n",
    "\n",
    "check_line(data[0])"
   ]
  },
  {
   "cell_type": "code",
   "execution_count": 10,
   "id": "7fc344e1",
   "metadata": {},
   "outputs": [],
   "source": [
    "answer = sum(check_line(line) for line in data)"
   ]
  },
  {
   "cell_type": "code",
   "execution_count": 11,
   "id": "0bc55050",
   "metadata": {},
   "outputs": [
    {
     "name": "stdout",
     "output_type": "stream",
     "text": [
      "\u001b[32mThat's the right answer!  You are one gold star closer to saving your vacation. [Continue to Part Two]\u001b[0m\n"
     ]
    },
    {
     "data": {
      "text/plain": [
       "<urllib3.response.HTTPResponse at 0x103bb8670>"
      ]
     },
     "execution_count": 11,
     "metadata": {},
     "output_type": "execute_result"
    }
   ],
   "source": [
    "submit(answer, year=2020, day=2, part=\"a\")"
   ]
  },
  {
   "cell_type": "code",
   "execution_count": 22,
   "id": "1123a5a0",
   "metadata": {},
   "outputs": [],
   "source": [
    "def check_line(line):\n",
    "    policy, password = line\n",
    "    r, c = parse_policy(policy)\n",
    "    pswd = password.strip()\n",
    "    if (pswd[r[0]-1] == c) ^ (pswd[r[1]-1] == c):\n",
    "        return True\n",
    "    else:\n",
    "        return False"
   ]
  },
  {
   "cell_type": "code",
   "execution_count": 23,
   "id": "108f6829",
   "metadata": {},
   "outputs": [],
   "source": [
    "answer = sum(check_line(line) for line in data)"
   ]
  },
  {
   "cell_type": "code",
   "execution_count": 24,
   "id": "f1b8c871",
   "metadata": {},
   "outputs": [
    {
     "name": "stdout",
     "output_type": "stream",
     "text": [
      "\u001b[32mThat's the right answer!  You are one gold star closer to saving your vacation.You have completed Day 2! You can [Shareon\n",
      "  Twitter\n",
      "Mastodon] this victory or [Return to Your Advent Calendar].\u001b[0m\n"
     ]
    },
    {
     "data": {
      "text/plain": [
       "<urllib3.response.HTTPResponse at 0x104d88fa0>"
      ]
     },
     "execution_count": 24,
     "metadata": {},
     "output_type": "execute_result"
    }
   ],
   "source": [
    "submit(answer, year=2020, day=2, part=\"b\")"
   ]
  },
  {
   "cell_type": "code",
   "execution_count": null,
   "id": "b6d24861",
   "metadata": {},
   "outputs": [],
   "source": []
  }
 ],
 "metadata": {
  "kernelspec": {
   "display_name": "aoc",
   "language": "python",
   "name": "aoc"
  },
  "language_info": {
   "codemirror_mode": {
    "name": "ipython",
    "version": 3
   },
   "file_extension": ".py",
   "mimetype": "text/x-python",
   "name": "python",
   "nbconvert_exporter": "python",
   "pygments_lexer": "ipython3",
   "version": "3.11.5"
  }
 },
 "nbformat": 4,
 "nbformat_minor": 5
}
