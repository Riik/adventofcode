{
 "cells": [
  {
   "metadata": {
    "ExecuteTime": {
     "end_time": "2024-12-19T05:57:49.213427Z",
     "start_time": "2024-12-19T05:57:49.210065Z"
    }
   },
   "cell_type": "code",
   "source": "year = 2024; day = 19",
   "id": "14097d859b17d8da",
   "outputs": [],
   "execution_count": 1
  },
  {
   "metadata": {
    "ExecuteTime": {
     "end_time": "2024-12-19T05:57:49.422526Z",
     "start_time": "2024-12-19T05:57:49.217526Z"
    }
   },
   "cell_type": "code",
   "source": [
    "from aocd import get_data, submit\n",
    "\n",
    "data = get_data(year=year, day=day)\n",
    "\n",
    "data = data.strip()\n",
    "\n",
    "patterns, designs = data.split(\"\\n\\n\")\n",
    "\n",
    "\n",
    "def parse_single_line(line):\n",
    "    line = line.split(\",\")\n",
    "    return list(map(int, line))\n",
    "\n",
    "patterns = [p.strip() for p in patterns.split(\",\")]\n",
    "designs = [p.strip() for p in designs.split(\"\\n\")]"
   ],
   "id": "e10b758f9c8c5fd3",
   "outputs": [],
   "execution_count": 2
  },
  {
   "metadata": {
    "jupyter": {
     "is_executing": true
    },
    "ExecuteTime": {
     "start_time": "2024-12-19T05:57:49.477835Z"
    }
   },
   "cell_type": "code",
   "source": [
    "from collections import defaultdict\n",
    "ans1 = 0\n",
    "ans2 = 0\n",
    "for i, d in enumerate(designs):\n",
    "    known_combos = {\"\" : 1}\n",
    "    designs_found = 0\n",
    "\n",
    "    for iteration in range(1_000):\n",
    "        new_combos = defaultdict(int)\n",
    "        for combo, combo_count in known_combos.items():\n",
    "            for s in patterns:\n",
    "                new_string = combo + s\n",
    "                if len(new_string) > len(d):\n",
    "                    continue\n",
    "                if new_string == d[:len(new_string)]:\n",
    "                    if len(new_string) == len(d):\n",
    "                        designs_found += combo_count\n",
    "                    else:\n",
    "                        new_combos[new_string] += combo_count\n",
    "\n",
    "        if not new_combos:\n",
    "            ans1 += 1 if designs_found else 0\n",
    "            ans2 += designs_found\n",
    "            break\n",
    "\n",
    "        known_combos = new_combos.copy()\n",
    "\n",
    "    else:\n",
    "        raise ValueError(\"max iterations exceeded\")\n",
    "print(ans1, ans2)"
   ],
   "id": "40365ad3d188b9ab",
   "outputs": [],
   "execution_count": null
  },
  {
   "metadata": {},
   "cell_type": "code",
   "outputs": [],
   "execution_count": null,
   "source": "submit(ans1, part=\"a\", year=year, day=day)",
   "id": "6bf84725ce803d32"
  },
  {
   "metadata": {},
   "cell_type": "code",
   "outputs": [],
   "execution_count": null,
   "source": "submit(ans2, part=\"b\", year=year, day=day)",
   "id": "2a320d24c5cfb810"
  }
 ],
 "metadata": {
  "kernelspec": {
   "display_name": "aoc",
   "language": "python",
   "name": "aoc"
  },
  "language_info": {
   "codemirror_mode": {
    "name": "ipython",
    "version": 2
   },
   "file_extension": ".py",
   "mimetype": "text/x-python",
   "name": "python",
   "nbconvert_exporter": "python",
   "pygments_lexer": "ipython2",
   "version": "2.7.6"
  }
 },
 "nbformat": 4,
 "nbformat_minor": 5
}
