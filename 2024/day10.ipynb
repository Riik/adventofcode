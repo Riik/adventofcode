{
 "cells": [
  {
   "metadata": {
    "ExecuteTime": {
     "end_time": "2024-12-10T06:09:39.086336Z",
     "start_time": "2024-12-10T06:09:39.057226Z"
    }
   },
   "cell_type": "code",
   "source": [
    "from helpers.helpers import parse_single_matrix\n",
    "\n",
    "year = 2024; day = 10"
   ],
   "id": "14097d859b17d8da",
   "outputs": [],
   "execution_count": 1
  },
  {
   "metadata": {
    "ExecuteTime": {
     "end_time": "2024-12-10T06:09:39.306001Z",
     "start_time": "2024-12-10T06:09:39.092755Z"
    }
   },
   "cell_type": "code",
   "source": [
    "import numpy as np\n",
    "from aocd import get_data, submit\n",
    "\n",
    "data = get_data(year=year, day=day)\n",
    "data = data.strip()\n",
    "data = parse_single_matrix(data)\n",
    "\n",
    "data[:5]\n"
   ],
   "id": "e10b758f9c8c5fd3",
   "outputs": [
    {
     "data": {
      "text/plain": [
       "array([['9', '8', '7', '1', '2', '3', '4', '3', '4', '3', '3', '0', '1',\n",
       "        '2', '1', '2', '3', '2', '1', '0', '1', '0', '0', '1', '2', '3',\n",
       "        '4', '7', '3', '0', '1', '2', '3', '4', '5', '6', '7', '8', '1',\n",
       "        '0', '6', '7', '6', '3', '2'],\n",
       "       ['8', '7', '6', '0', '7', '6', '5', '7', '6', '5', '2', '1', '0',\n",
       "        '1', '0', '3', '4', '5', '6', '9', '2', '3', '4', '0', '3', '4',\n",
       "        '9', '8', '2', '3', '2', '1', '2', '3', '4', '7', '8', '9', '2',\n",
       "        '3', '9', '8', '7', '0', '1'],\n",
       "       ['9', '4', '5', '0', '8', '7', '6', '8', '9', '4', '3', '2', '1',\n",
       "        '0', '5', '6', '7', '6', '7', '8', '7', '6', '5', '9', '8', '5',\n",
       "        '6', '7', '1', '4', '5', '0', '3', '2', '1', '0', '9', '8', '7',\n",
       "        '4', '4', '5', '6', '1', '0'],\n",
       "       ['3', '3', '2', '1', '9', '6', '5', '7', '6', '5', '8', '7', '6',\n",
       "        '5', '4', '9', '8', '9', '8', '0', '1', '4', '5', '6', '7', '8',\n",
       "        '7', '6', '0', '9', '6', '5', '4', '5', '0', '2', '3', '7', '6',\n",
       "        '5', '3', '0', '9', '2', '3'],\n",
       "       ['2', '1', '1', '5', '4', '3', '2', '1', '0', '2', '9', '8', '9',\n",
       "        '2', '3', '2', '1', '5', '4', '3', '2', '3', '2', '1', '0', '9',\n",
       "        '8', '1', '2', '8', '7', '7', '8', '9', '0', '1', '4', '3', '0',\n",
       "        '1', '2', '1', '8', '9', '4']], dtype='<U1')"
      ]
     },
     "execution_count": 2,
     "metadata": {},
     "output_type": "execute_result"
    }
   ],
   "execution_count": 2
  },
  {
   "metadata": {
    "ExecuteTime": {
     "end_time": "2024-12-10T06:09:39.521573Z",
     "start_time": "2024-12-10T06:09:39.519066Z"
    }
   },
   "cell_type": "code",
   "source": [
    "HEIGHT, WIDTH = data.shape\n",
    "assert HEIGHT == WIDTH\n",
    "MAX_ITER = 1_000\n",
    "\n",
    "locations = [(int(y),int(x)) for y, x in zip(*np.where(data == '0'))]\n",
    "\n",
    "directions = [\n",
    "    (0, 1),\n",
    "    (1, 0),\n",
    "    (0, -1),\n",
    "    (-1, 0)\n",
    "]"
   ],
   "id": "3e41ece9c2022b8d",
   "outputs": [],
   "execution_count": 3
  },
  {
   "metadata": {
    "ExecuteTime": {
     "end_time": "2024-12-10T06:09:39.603208Z",
     "start_time": "2024-12-10T06:09:39.584820Z"
    }
   },
   "cell_type": "code",
   "source": [
    "\n",
    "\n",
    "all_sols = []\n",
    "\n",
    "for loc in locations:\n",
    "    positions = [loc]\n",
    "    visited = set()\n",
    "    sol = set()\n",
    "    for _ in range(MAX_ITER):\n",
    "        new_positions = []\n",
    "\n",
    "        for p in positions:\n",
    "            if p in visited:\n",
    "                continue\n",
    "            visited.add(p)\n",
    "            if data[p] == '9':\n",
    "                sol.add(p)\n",
    "                continue\n",
    "            for dy, dx in directions:\n",
    "                new_p = (p[0]+dy, p[1]+dx)\n",
    "                if not (0 <= new_p[0] < HEIGHT and 0 <= new_p[1] < WIDTH):\n",
    "                    continue\n",
    "                if data[new_p] in visited:\n",
    "                    continue\n",
    "                if data[new_p] == '.':\n",
    "                    continue\n",
    "                if int(data[new_p]) == int(data[p])+1:\n",
    "                    if new_p not in visited:\n",
    "                        new_positions.append(new_p)\n",
    "        positions = new_positions.copy()\n",
    "        new_positions = []\n",
    "        if not positions:\n",
    "            break\n",
    "    else:\n",
    "        ValueError(\"out of iterations\")\n",
    "\n",
    "    all_sols.append(len(sol))\n",
    "\n",
    "ans = sum(all_sols)\n"
   ],
   "id": "a9703ecc90ed0f79",
   "outputs": [],
   "execution_count": 4
  },
  {
   "metadata": {
    "ExecuteTime": {
     "end_time": "2024-12-10T06:09:39.956146Z",
     "start_time": "2024-12-10T06:09:39.624624Z"
    }
   },
   "cell_type": "code",
   "source": "submit(ans, part=\"a\", year=year, day=day)",
   "id": "6c4f2123fbb76381",
   "outputs": [
    {
     "name": "stdout",
     "output_type": "stream",
     "text": [
      "Part a already solved with same answer: 566\n"
     ]
    }
   ],
   "execution_count": 5
  },
  {
   "metadata": {
    "ExecuteTime": {
     "end_time": "2024-12-10T06:09:39.991709Z",
     "start_time": "2024-12-10T06:09:39.968594Z"
    }
   },
   "cell_type": "code",
   "source": [
    "all_sols = []\n",
    "\n",
    "for loc in locations:\n",
    "    positions = [(loc, set())]\n",
    "    sol = []\n",
    "    for _ in range(MAX_ITER):\n",
    "        new_positions = []\n",
    "\n",
    "        for p, trail in positions:\n",
    "            if p in trail:\n",
    "                continue\n",
    "            trail.add(p)\n",
    "            if data[p] == '9':\n",
    "                sol.append(p)\n",
    "                continue\n",
    "            for dy, dx in directions:\n",
    "                new_p = (p[0]+dy, p[1]+dx)\n",
    "                if not (0 <= new_p[0] < HEIGHT and 0 <= new_p[1] < WIDTH):\n",
    "                    continue\n",
    "                if data[new_p] == '.':\n",
    "                    continue\n",
    "                if int(data[new_p]) == int(data[p])+1:\n",
    "                    if new_p not in trail:\n",
    "                        new_positions.append((new_p, trail.copy()))\n",
    "        positions = new_positions.copy()\n",
    "        if not positions:\n",
    "            break\n",
    "    else:\n",
    "        ValueError(\"out of iterations\")\n",
    "\n",
    "    all_sols.append(len(sol))\n",
    "\n",
    "ans = sum(all_sols)"
   ],
   "id": "8a0fbbd4712d5d52",
   "outputs": [],
   "execution_count": 6
  },
  {
   "metadata": {
    "ExecuteTime": {
     "end_time": "2024-12-10T06:09:40.000045Z",
     "start_time": "2024-12-10T06:09:39.997655Z"
    }
   },
   "cell_type": "code",
   "source": "submit(ans, part=\"b\", year=year, day=day)",
   "id": "5f04a8d626041e4e",
   "outputs": [
    {
     "name": "stdout",
     "output_type": "stream",
     "text": [
      "Part b already solved with same answer: 1324\n"
     ]
    }
   ],
   "execution_count": 7
  }
 ],
 "metadata": {
  "kernelspec": {
   "display_name": "aoc",
   "language": "python",
   "name": "aoc"
  },
  "language_info": {
   "codemirror_mode": {
    "name": "ipython",
    "version": 2
   },
   "file_extension": ".py",
   "mimetype": "text/x-python",
   "name": "python",
   "nbconvert_exporter": "python",
   "pygments_lexer": "ipython2",
   "version": "2.7.6"
  }
 },
 "nbformat": 4,
 "nbformat_minor": 5
}
