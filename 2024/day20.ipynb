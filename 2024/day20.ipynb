{
 "cells": [
  {
   "metadata": {
    "ExecuteTime": {
     "end_time": "2024-12-20T06:17:31.447793Z",
     "start_time": "2024-12-20T06:17:31.446036Z"
    }
   },
   "cell_type": "code",
   "source": "year = 2024; day = 20",
   "id": "14097d859b17d8da",
   "outputs": [],
   "execution_count": 1
  },
  {
   "metadata": {
    "ExecuteTime": {
     "end_time": "2024-12-20T06:17:31.673089Z",
     "start_time": "2024-12-20T06:17:31.453117Z"
    }
   },
   "cell_type": "code",
   "source": [
    "import numpy as np\n",
    "from helpers.helpers import parse_single_matrix\n",
    "from aocd import get_data, submit\n",
    "\n",
    "data = get_data(year=year, day=day)\n",
    "\n",
    "data = data.strip()\n",
    "\n",
    "data = parse_single_matrix(data)\n",
    "H, W = data.shape\n",
    "def in_bounds(y, x):\n",
    "    return 0 <= y < H and 0 <= x < W\n",
    "starting_pos = int(np.where(data == \"S\")[0][0]), int(np.where(data == \"S\")[1][0])\n",
    "end_pos = int(np.where(data == \"E\")[0][0]), int(np.where(data == \"E\")[1][0])\n",
    "end_pos"
   ],
   "id": "e10b758f9c8c5fd3",
   "outputs": [
    {
     "data": {
      "text/plain": [
       "(79, 97)"
      ]
     },
     "execution_count": 2,
     "metadata": {},
     "output_type": "execute_result"
    }
   ],
   "execution_count": 2
  },
  {
   "metadata": {
    "ExecuteTime": {
     "end_time": "2024-12-20T06:17:31.748722Z",
     "start_time": "2024-12-20T06:17:31.730540Z"
    }
   },
   "cell_type": "code",
   "source": [
    "directions = [\n",
    "    (0, 1),\n",
    "    (1, 0),\n",
    "    (0, -1),\n",
    "    (-1, 0)\n",
    "]\n",
    "\n",
    "path_cost = dict()\n",
    "to_visit = [starting_pos]\n",
    "path_cost[starting_pos] = 0\n",
    "for iteration in range(10_000):\n",
    "    new_to_visit = set()\n",
    "    for s in to_visit:\n",
    "        cost = path_cost[s]\n",
    "        for new_s in directions:\n",
    "            new_s = (s[0] + new_s[0], s[1] + new_s[1])\n",
    "            if data[new_s] in \".SE\":\n",
    "                new_cost = cost + 1\n",
    "                if new_s not in path_cost or new_cost < path_cost[new_s]:\n",
    "                    path_cost[new_s] = new_cost\n",
    "                    new_to_visit.add(new_s)\n",
    "    if not new_to_visit:\n",
    "        print(\"DONE\")\n",
    "        break\n",
    "    to_visit = list(new_to_visit)\n",
    "\n",
    "else:\n",
    "    raise ValueError(\"max iterations exceeded\")"
   ],
   "id": "5ee3a27b9b485198",
   "outputs": [
    {
     "name": "stdout",
     "output_type": "stream",
     "text": [
      "DONE\n"
     ]
    }
   ],
   "execution_count": 3
  },
  {
   "metadata": {
    "ExecuteTime": {
     "end_time": "2024-12-20T06:17:31.773769Z",
     "start_time": "2024-12-20T06:17:31.754842Z"
    }
   },
   "cell_type": "code",
   "source": [
    "# initial solution. This didn't scale well for part 2\n",
    "cheat_directions = [\n",
    "    (0, 2),\n",
    "    (2, 0),\n",
    "    (0, -2),\n",
    "    (-2, 0)\n",
    "]\n",
    "cheats = []\n",
    "for s in path_cost:\n",
    "    for new_s in cheat_directions:\n",
    "        new_s = (s[0] + new_s[0], s[1] + new_s[1])\n",
    "        if not in_bounds(*new_s):\n",
    "            continue\n",
    "        if data[new_s] == \"#\":\n",
    "            continue\n",
    "        new_cost = path_cost[s] + 2\n",
    "        if new_cost < path_cost[new_s]:\n",
    "            cheat = path_cost[new_s] - new_cost\n",
    "            cheats.append((new_s, cheat))"
   ],
   "id": "dd4477211ce56f0d",
   "outputs": [],
   "execution_count": 4
  },
  {
   "metadata": {
    "ExecuteTime": {
     "end_time": "2024-12-20T06:17:31.782562Z",
     "start_time": "2024-12-20T06:17:31.779818Z"
    }
   },
   "cell_type": "code",
   "source": [
    "ans1 = len([c for c in cheats if c[1] >= 100])\n",
    "submit(ans1, part=\"a\", year=year, day=day)"
   ],
   "id": "5318b620ccd3b806",
   "outputs": [
    {
     "name": "stdout",
     "output_type": "stream",
     "text": [
      "Part a already solved with same answer: 1197\n"
     ]
    }
   ],
   "execution_count": 5
  },
  {
   "metadata": {
    "ExecuteTime": {
     "end_time": "2024-12-20T06:17:39.577492Z",
     "start_time": "2024-12-20T06:17:31.790891Z"
    }
   },
   "cell_type": "code",
   "source": [
    "from itertools import combinations\n",
    "\n",
    "# we don't need to know the route for the cheat, just the\n",
    "# difference in path cost between two points and the travel distance\n",
    "# Takes a bit of time but solves both pt1 and pt2\n",
    "cheats = []\n",
    "for a, b in combinations(path_cost.keys(), 2):\n",
    "    distance = abs(a[0] - b[0]) + abs(a[1] - b[1])\n",
    "    if 2 <= distance <= 20:\n",
    "        cheat_len = abs(path_cost[a] - path_cost[b]) - distance\n",
    "        if cheat_len > 0:\n",
    "            cheats.append(((a,b), distance, cheat_len))\n"
   ],
   "id": "f37642d0d0397ed0",
   "outputs": [],
   "execution_count": 6
  },
  {
   "metadata": {
    "ExecuteTime": {
     "end_time": "2024-12-20T06:17:39.705644Z",
     "start_time": "2024-12-20T06:17:39.584208Z"
    }
   },
   "cell_type": "code",
   "source": [
    "# Same answer as before\n",
    "ans1 = 0\n",
    "for c in cheats:\n",
    "    coords, cheat_distance, cheat_len = c\n",
    "    if cheat_distance == 2 and cheat_len >= 100:\n",
    "        ans1 += 1\n",
    "ans1"
   ],
   "id": "20b1c1388bbb675e",
   "outputs": [
    {
     "data": {
      "text/plain": [
       "1197"
      ]
     },
     "execution_count": 7,
     "metadata": {},
     "output_type": "execute_result"
    }
   ],
   "execution_count": 7
  },
  {
   "metadata": {
    "ExecuteTime": {
     "end_time": "2024-12-20T06:17:39.887154Z",
     "start_time": "2024-12-20T06:17:39.718084Z"
    }
   },
   "cell_type": "code",
   "source": [
    "ans2 = 0\n",
    "for c in cheats:\n",
    "    coords, cheat_distance, cheat_len = c\n",
    "    if cheat_distance <= 20 and cheat_len >= 100:\n",
    "        ans2 += 1\n",
    "ans2"
   ],
   "id": "228ff3d4792216fe",
   "outputs": [
    {
     "data": {
      "text/plain": [
       "944910"
      ]
     },
     "execution_count": 8,
     "metadata": {},
     "output_type": "execute_result"
    }
   ],
   "execution_count": 8
  },
  {
   "metadata": {
    "ExecuteTime": {
     "end_time": "2024-12-20T06:17:39.924212Z",
     "start_time": "2024-12-20T06:17:39.899657Z"
    }
   },
   "cell_type": "code",
   "source": [
    "ans2 = len([c for c in cheats if c[1] >= 100])\n",
    "submit(ans2, part=\"b\", year=year, day=day)"
   ],
   "id": "e8919656e7ec7043",
   "outputs": [
    {
     "name": "stdout",
     "output_type": "stream",
     "text": [
      "aocd will not submit that answer. At 2024-12-20 01:08:51.221141-05:00 you've previously submitted 944910 and the server responded with:\n",
      "\u001B[32mThat's the right answer!  You are one gold star closer to finding the Chief Historian.You have completed Day 20! You can [Shareon\n",
      "  Bluesky\n",
      "Twitter\n",
      "Mastodon] this victory or [Return to Your Advent Calendar].\u001B[0m\n",
      "It is certain that '0' is incorrect, because '0' != '944910'.\n"
     ]
    }
   ],
   "execution_count": 9
  }
 ],
 "metadata": {
  "kernelspec": {
   "display_name": "aoc",
   "language": "python",
   "name": "aoc"
  },
  "language_info": {
   "codemirror_mode": {
    "name": "ipython",
    "version": 2
   },
   "file_extension": ".py",
   "mimetype": "text/x-python",
   "name": "python",
   "nbconvert_exporter": "python",
   "pygments_lexer": "ipython2",
   "version": "2.7.6"
  }
 },
 "nbformat": 4,
 "nbformat_minor": 5
}
