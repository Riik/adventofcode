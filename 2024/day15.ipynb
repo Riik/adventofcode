{
 "cells": [
  {
   "metadata": {
    "ExecuteTime": {
     "end_time": "2024-12-22T19:13:40.198130Z",
     "start_time": "2024-12-22T19:13:40.195367Z"
    }
   },
   "cell_type": "code",
   "source": "year = 2024; day = 15",
   "id": "14097d859b17d8da",
   "outputs": [],
   "execution_count": 1
  },
  {
   "metadata": {
    "ExecuteTime": {
     "end_time": "2024-12-22T19:13:40.487190Z",
     "start_time": "2024-12-22T19:13:40.202133Z"
    }
   },
   "cell_type": "code",
   "source": [
    "import numpy as np\n",
    "from aocd import get_data, submit\n",
    "directions = {\n",
    "    \"^\": np.array((-1, 0)),\n",
    "    \"v\": np.array((1, 0)),\n",
    "    \"<\": np.array((0, -1)),\n",
    "    \">\": np.array((0, 1)),\n",
    "}\n",
    "data = get_data(year=year, day=day)\n",
    "\n",
    "data = data.strip()\n",
    "\n",
    "matrix, commands = data.split(\"\\n\\n\")\n",
    "commands = commands.replace(\"\\n\", \"\")\n",
    "\n",
    "def parse_single_matrix(data):\n",
    "    return np.array([list(d) for d in data.split(\"\\n\")])\n",
    "\n",
    "matrix = parse_single_matrix(matrix)\n",
    "\n",
    "start_pos = np.array(np.where(matrix == '@')).flatten()\n",
    "matrix[*start_pos] = '.'\n",
    "#\n",
    "HEIGHT, WIDTH = matrix.shape\n",
    "start_pos"
   ],
   "id": "e10b758f9c8c5fd3",
   "outputs": [
    {
     "data": {
      "text/plain": [
       "array([24, 24])"
      ]
     },
     "execution_count": 2,
     "metadata": {},
     "output_type": "execute_result"
    }
   ],
   "execution_count": 2
  },
  {
   "metadata": {
    "ExecuteTime": {
     "end_time": "2024-12-22T19:13:40.640134Z",
     "start_time": "2024-12-22T19:13:40.559271Z"
    }
   },
   "cell_type": "code",
   "source": [
    "m = matrix.copy()\n",
    "pos = start_pos\n",
    "for c in commands:\n",
    "    d = directions[c]\n",
    "\n",
    "    next = pos + d\n",
    "    if m[*next] == '#':\n",
    "        continue\n",
    "    if m[*next] == '.':\n",
    "        pos = next\n",
    "    if m[*next] == 'O':\n",
    "        count = 0\n",
    "        while m[*next] == 'O':\n",
    "            count += 1\n",
    "            next += d\n",
    "        if m[*next] == '#':\n",
    "            continue\n",
    "        if m[*next] == '.':\n",
    "            next = pos + d\n",
    "            m[*next] = '.'\n",
    "            box = next.copy()\n",
    "            for _ in range(count):\n",
    "                box += d\n",
    "                m[*box] = 'O'\n",
    "\n",
    "    pos = next"
   ],
   "id": "768559ef8a749435",
   "outputs": [],
   "execution_count": 3
  },
  {
   "metadata": {
    "ExecuteTime": {
     "end_time": "2024-12-22T19:13:40.648783Z",
     "start_time": "2024-12-22T19:13:40.646242Z"
    }
   },
   "cell_type": "code",
   "source": [
    "gps = 0\n",
    "for y, x in zip(*np.where(m == 'O')):\n",
    "    gps += 100*y + x\n",
    "ans1 = int(gps)"
   ],
   "id": "61baec9a0448235a",
   "outputs": [],
   "execution_count": 4
  },
  {
   "metadata": {
    "ExecuteTime": {
     "end_time": "2024-12-22T19:13:40.658159Z",
     "start_time": "2024-12-22T19:13:40.655146Z"
    }
   },
   "cell_type": "code",
   "source": "submit(ans1, part=\"a\", year=year, day=day)",
   "id": "2e06348aa2da3e5c",
   "outputs": [
    {
     "name": "stdout",
     "output_type": "stream",
     "text": [
      "Part a already solved with same answer: 1479679\n"
     ]
    }
   ],
   "execution_count": 5
  },
  {
   "metadata": {
    "ExecuteTime": {
     "end_time": "2024-12-22T19:13:40.670503Z",
     "start_time": "2024-12-22T19:13:40.666627Z"
    }
   },
   "cell_type": "code",
   "source": [
    "data = get_data(year=year, day=day)\n",
    "\n",
    "d, commands = data.split(\"\\n\\n\")\n",
    "commands = commands.replace(\"\\n\", \"\")\n",
    "d = d.replace(\"#\", \"##\")\n",
    "d = d.replace(\"O\", \"[]\")\n",
    "d = d.replace(\".\", \"..\")\n",
    "d = d.replace(\"@\", \"@.\")\n",
    "matrix = parse_single_matrix(d)\n",
    "start_pos = np.array(np.where(matrix == '@')).flatten()\n",
    "matrix[*start_pos] = '.'"
   ],
   "id": "b5e793b1d1328956",
   "outputs": [],
   "execution_count": 6
  },
  {
   "metadata": {
    "ExecuteTime": {
     "end_time": "2024-12-22T19:13:40.840855Z",
     "start_time": "2024-12-22T19:13:40.676227Z"
    }
   },
   "cell_type": "code",
   "source": [
    "m = matrix.copy()\n",
    "pos = start_pos\n",
    "\n",
    "for i, c in enumerate(commands):\n",
    "    d = directions[c]\n",
    "    next = pos + d\n",
    "    if m[*next] == '#':\n",
    "        continue\n",
    "    if m[*next] == '.':\n",
    "        pos = next\n",
    "    if m[*next] in '[]':\n",
    "        if c in '<>':\n",
    "            count = 0\n",
    "            while m[*next] in '[]':\n",
    "                count += 2\n",
    "                next += 2*d\n",
    "            if m[*next] == '#':\n",
    "                continue\n",
    "            if m[*next] == '.':\n",
    "                next = pos + d\n",
    "                start_c = ']' if c == '<' else '['\n",
    "                matching_c = '[' if c == '<' else ']'\n",
    "                m[*next] = '.'\n",
    "                box = next.copy()\n",
    "                for i in range(count):\n",
    "                    box += d\n",
    "                    m[*box] = start_c if i % 2 == 0 else matching_c\n",
    "        if c in '^v':\n",
    "            is_moveable = True\n",
    "            to_move = [pos]\n",
    "            all_to_move = set()\n",
    "            for _ in range(100):\n",
    "                if not to_move or not is_moveable:\n",
    "                    break\n",
    "                new_to_move = set()\n",
    "                for box_pos in to_move:\n",
    "                    n = box_pos + d\n",
    "                    if m[*n] == '#':\n",
    "                        is_moveable = False\n",
    "                    if m[*n] == '[':\n",
    "                        other = n + np.array((0,1))\n",
    "                        assert m[*other] == ']'\n",
    "                    if m[*n] == ']':\n",
    "                        other = n + np.array((0, -1))\n",
    "                        assert m[*other] == '['\n",
    "                    if m[*n] in '[]':\n",
    "                        new_to_move.add(tuple(n))\n",
    "                        new_to_move.add(tuple(other))\n",
    "                    if m[*n] == \".\":\n",
    "                        pass\n",
    "                all_to_move.update(new_to_move)\n",
    "                to_move = [np.array(x) for x in new_to_move]\n",
    "            else:\n",
    "                raise ValueError(\"out of iterations\")\n",
    "            if not is_moveable:\n",
    "                continue\n",
    "            if c == 'v':\n",
    "                all_to_move = sorted(list(all_to_move), key=lambda x: x[0], reverse=True)\n",
    "            else:\n",
    "                all_to_move = sorted(list(all_to_move), key=lambda x: x[0])\n",
    "            for b in all_to_move:\n",
    "                c = m[*b]\n",
    "                m[*b] = '.'\n",
    "                next = b + d\n",
    "                m[*next] = c\n",
    "            next = pos + d\n",
    "\n",
    "    pos = next\n",
    "    m[*pos] = '@'\n",
    "    m[*pos] = '.'"
   ],
   "id": "8a80f554919afc5c",
   "outputs": [],
   "execution_count": 7
  },
  {
   "metadata": {
    "ExecuteTime": {
     "end_time": "2024-12-22T19:13:40.848840Z",
     "start_time": "2024-12-22T19:13:40.846686Z"
    }
   },
   "cell_type": "code",
   "source": [
    "gps = 0\n",
    "for y, x in zip(*np.where(m == '[')):\n",
    "    gps += 100*y + x\n",
    "\n",
    "ans2 = int(gps)"
   ],
   "id": "5b3d71fd931c4834",
   "outputs": [],
   "execution_count": 8
  },
  {
   "metadata": {
    "ExecuteTime": {
     "end_time": "2024-12-22T19:13:40.857495Z",
     "start_time": "2024-12-22T19:13:40.854602Z"
    }
   },
   "cell_type": "code",
   "source": "submit(ans2, part=\"b\", year=year, day=day)",
   "id": "96cd8ee939b3167b",
   "outputs": [
    {
     "name": "stdout",
     "output_type": "stream",
     "text": [
      "Part b already solved with same answer: 1509780\n"
     ]
    }
   ],
   "execution_count": 9
  }
 ],
 "metadata": {
  "kernelspec": {
   "display_name": "aoc",
   "language": "python",
   "name": "aoc"
  },
  "language_info": {
   "codemirror_mode": {
    "name": "ipython",
    "version": 2
   },
   "file_extension": ".py",
   "mimetype": "text/x-python",
   "name": "python",
   "nbconvert_exporter": "python",
   "pygments_lexer": "ipython2",
   "version": "2.7.6"
  }
 },
 "nbformat": 4,
 "nbformat_minor": 5
}
