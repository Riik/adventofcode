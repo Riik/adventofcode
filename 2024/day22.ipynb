{
 "cells": [
  {
   "metadata": {
    "ExecuteTime": {
     "end_time": "2024-12-22T18:38:01.525054Z",
     "start_time": "2024-12-22T18:38:01.521737Z"
    }
   },
   "cell_type": "code",
   "source": "year = 2024; day = 22",
   "id": "14097d859b17d8da",
   "outputs": [],
   "execution_count": 1
  },
  {
   "metadata": {
    "ExecuteTime": {
     "end_time": "2024-12-22T18:38:02.420426Z",
     "start_time": "2024-12-22T18:38:02.149655Z"
    }
   },
   "cell_type": "code",
   "source": [
    "from aocd import get_data, submit\n",
    "\n",
    "data = get_data(year=year, day=day)\n",
    "\n",
    "data = data.strip()\n",
    "data = list(map(int, data.split(\"\\n\")))"
   ],
   "id": "e10b758f9c8c5fd3",
   "outputs": [],
   "execution_count": 2
  },
  {
   "metadata": {
    "ExecuteTime": {
     "end_time": "2024-12-22T18:38:02.969643Z",
     "start_time": "2024-12-22T18:38:02.965864Z"
    }
   },
   "cell_type": "code",
   "source": [
    "MOD = 1 << 24\n",
    "def evolve(num):\n",
    "    num ^= (num << 6) % MOD\n",
    "    num ^= (num >> 5) % MOD\n",
    "    num ^= (num << 11) % MOD\n",
    "    return num\n"
   ],
   "id": "560d905cf9481deb",
   "outputs": [],
   "execution_count": 3
  },
  {
   "metadata": {
    "ExecuteTime": {
     "end_time": "2024-12-22T18:38:04.654819Z",
     "start_time": "2024-12-22T18:38:04.599008Z"
    }
   },
   "cell_type": "code",
   "source": [
    "import numpy as np\n",
    "prices = np.zeros((len(data), 2001), dtype=int)"
   ],
   "id": "2d27643835cfbc4",
   "outputs": [],
   "execution_count": 4
  },
  {
   "metadata": {
    "ExecuteTime": {
     "end_time": "2024-12-22T18:38:07.614293Z",
     "start_time": "2024-12-22T18:38:06.682592Z"
    }
   },
   "cell_type": "code",
   "source": [
    "nums = data.copy()\n",
    "for i in range(2000):\n",
    "    prices[:, i] = nums\n",
    "    nums = [evolve(num) for num in nums]\n",
    "prices[:, -1] = nums\n",
    "prices = prices % 10\n",
    "\n",
    "ans1 = sum(nums)"
   ],
   "id": "f58b4f0f9a1f61fe",
   "outputs": [],
   "execution_count": 5
  },
  {
   "metadata": {
    "ExecuteTime": {
     "end_time": "2024-12-22T18:38:09.143438Z",
     "start_time": "2024-12-22T18:38:09.138451Z"
    }
   },
   "cell_type": "code",
   "source": "submit(ans1, part=\"a\", year=year, day=day)",
   "id": "4277c98dc438534",
   "outputs": [
    {
     "name": "stdout",
     "output_type": "stream",
     "text": [
      "Part a already solved with same answer: 13764677935\n"
     ]
    }
   ],
   "execution_count": 6
  },
  {
   "metadata": {
    "ExecuteTime": {
     "end_time": "2024-12-22T18:38:11.252804Z",
     "start_time": "2024-12-22T18:38:11.243810Z"
    }
   },
   "cell_type": "code",
   "source": "diffs = np.diff(prices, axis=1)",
   "id": "929211561a110bb8",
   "outputs": [],
   "execution_count": 7
  },
  {
   "metadata": {
    "ExecuteTime": {
     "end_time": "2024-12-22T18:38:20.478961Z",
     "start_time": "2024-12-22T18:38:13.471846Z"
    }
   },
   "cell_type": "code",
   "source": [
    "sell_dict = {}\n",
    "for i in range(4, 2001):\n",
    "    for j in range(len(diffs)):\n",
    "        d, p = diffs[j, i-4:i], prices[j, i]\n",
    "        d = tuple(map(int, d))\n",
    "        p = int(p)\n",
    "        key = (d, j)\n",
    "        if key not in sell_dict:\n",
    "            sell_dict[key] = p"
   ],
   "id": "f6badc2cd1fc22d9",
   "outputs": [],
   "execution_count": 8
  },
  {
   "metadata": {
    "ExecuteTime": {
     "end_time": "2024-12-22T18:38:52.924220Z",
     "start_time": "2024-12-22T18:38:50.670555Z"
    }
   },
   "cell_type": "code",
   "source": [
    "from collections import defaultdict\n",
    "diff_dict = defaultdict(int)\n",
    "for key in sell_dict:\n",
    "    d, m = key\n",
    "    diff_dict[d] += sell_dict[key]"
   ],
   "id": "27fafeb68cd48119",
   "outputs": [],
   "execution_count": 9
  },
  {
   "metadata": {
    "ExecuteTime": {
     "end_time": "2024-12-22T18:38:57.705446Z",
     "start_time": "2024-12-22T18:38:57.703398Z"
    }
   },
   "cell_type": "code",
   "source": [
    "for i in range(4):\n",
    "    key = ((-2, 1, -1, 3), i)\n",
    "    if key in sell_dict:\n",
    "        print(i, sell_dict[key])"
   ],
   "id": "cc2cfe300905b94a",
   "outputs": [],
   "execution_count": 10
  },
  {
   "metadata": {
    "ExecuteTime": {
     "end_time": "2024-12-22T18:39:35.757673Z",
     "start_time": "2024-12-22T18:39:35.755196Z"
    }
   },
   "cell_type": "code",
   "source": "ans2 = max(diff_dict.values())",
   "id": "c1be38842a8e4614",
   "outputs": [],
   "execution_count": 15
  },
  {
   "metadata": {
    "ExecuteTime": {
     "end_time": "2024-12-22T18:39:35.765042Z",
     "start_time": "2024-12-22T18:39:35.762409Z"
    }
   },
   "cell_type": "code",
   "source": "submit(ans2, part=\"b\", year=year, day=day)",
   "id": "e19b9f4f27746fe0",
   "outputs": [
    {
     "name": "stdout",
     "output_type": "stream",
     "text": [
      "Part b already solved with same answer: 1619\n"
     ]
    }
   ],
   "execution_count": 16
  }
 ],
 "metadata": {
  "kernelspec": {
   "display_name": "aoc",
   "language": "python",
   "name": "aoc"
  },
  "language_info": {
   "codemirror_mode": {
    "name": "ipython",
    "version": 2
   },
   "file_extension": ".py",
   "mimetype": "text/x-python",
   "name": "python",
   "nbconvert_exporter": "python",
   "pygments_lexer": "ipython2",
   "version": "2.7.6"
  }
 },
 "nbformat": 4,
 "nbformat_minor": 5
}
