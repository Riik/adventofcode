{
 "cells": [
  {
   "metadata": {
    "ExecuteTime": {
     "end_time": "2024-12-05T17:00:21.808194Z",
     "start_time": "2024-12-05T17:00:21.806087Z"
    }
   },
   "cell_type": "code",
   "source": [
    "from collections import defaultdict\n",
    "\n",
    "year = 2024; day = 4"
   ],
   "id": "14097d859b17d8da",
   "outputs": [],
   "execution_count": 2
  },
  {
   "metadata": {
    "collapsed": true,
    "ExecuteTime": {
     "end_time": "2024-12-05T17:00:22.052123Z",
     "start_time": "2024-12-05T17:00:21.821267Z"
    }
   },
   "cell_type": "code",
   "source": [
    "from aocd import get_data, submit\n",
    "from helpers.helpers import parse_single_matrix\n",
    "\n",
    "data = get_data(year=year, day=day)\n",
    "\n",
    "data = \"\"\"MMMSXXMASM\n",
    "MSAMXMSMSA\n",
    "AMXSXMAAMM\n",
    "MSAMASMSMX\n",
    "XMASAMXAMM\n",
    "XXAMMXXAMA\n",
    "SMSMSASXSS\n",
    "SAXAMASAAA\n",
    "MAMMMXMMMM\n",
    "MXMXAXMASX\"\"\"\n",
    "data = data.strip()\n",
    "\n",
    "m = parse_single_matrix(data)\n"
   ],
   "id": "initial_id",
   "outputs": [],
   "execution_count": 3
  },
  {
   "metadata": {
    "ExecuteTime": {
     "end_time": "2024-12-05T17:00:22.058637Z",
     "start_time": "2024-12-05T17:00:22.055668Z"
    }
   },
   "cell_type": "code",
   "source": [
    "# original solution\n",
    "\n",
    "def find_XMAS(y, x, m):\n",
    "    directions = [\n",
    "        (0, 1),\n",
    "        (1, 0),\n",
    "        (1, 1),\n",
    "        (-1, 1),\n",
    "        (-1, 0),\n",
    "        (0, -1),\n",
    "        (1, -1),\n",
    "        (-1, -1),\n",
    "    ]\n",
    "    count = 0\n",
    "    for dx, dy in directions:\n",
    "        found = True\n",
    "        for i in range(1, len(\"XMAS\")):\n",
    "            if (y + i*dy) < 0 or (x + i*dx) < 0:\n",
    "                found = False\n",
    "                break\n",
    "            if (y + i*dy) >= m.shape[0] or (x + i*dx) >= m.shape[1]:\n",
    "                found = False\n",
    "                break\n",
    "            if m[y + i*dy, x + i*dx] != \"XMAS\"[i]:\n",
    "                found = False\n",
    "                break\n",
    "        if found:\n",
    "            count += 1\n",
    "    return count"
   ],
   "id": "3c180748d694d4c4",
   "outputs": [],
   "execution_count": 4
  },
  {
   "metadata": {
    "ExecuteTime": {
     "end_time": "2024-12-05T17:31:00.799846Z",
     "start_time": "2024-12-05T17:31:00.796932Z"
    }
   },
   "cell_type": "code",
   "source": [
    "direction_mapping = {\n",
    "    (1,0): \"DOWN\",\n",
    "    (0,1): \"RIGHT\",\n",
    "    (1,1): \"DOWNRIGHT\",\n",
    "    (-1,1): \"UPRIGHT\",\n",
    "    (-1,0): \"UP\",\n",
    "    (0,-1): \"LEFT\",\n",
    "    (1,-1): \"DOWNLEFT\",\n",
    "    (-1,-1): \"UPLEFT\"\n",
    "}"
   ],
   "id": "6cd8aa61ed4aa0ba",
   "outputs": [],
   "execution_count": 103
  },
  {
   "metadata": {
    "ExecuteTime": {
     "end_time": "2024-12-05T17:34:53.476249Z",
     "start_time": "2024-12-05T17:34:53.471177Z"
    }
   },
   "cell_type": "code",
   "source": [
    "from collections import defaultdict\n",
    "#refactored for reusing later\n",
    "match_count = defaultdict(int)\n",
    "from itertools import product\n",
    "def check_XMAS(y, x, m):\n",
    "    count = 0\n",
    "    N = len(\"XMAS\")\n",
    "    for dy, dx in product([-1, 0, 1], [-1, 0, 1]):\n",
    "        if dy == dx == 0: continue\n",
    "        if not ((0 <= y+dy*(N-1) < m.shape[0]) and (0 <= x+dx*(N-1) < m.shape[1])):\n",
    "            continue\n",
    "        if all(m[y+i*dy, x+i*dx] == \"XMAS\"[i] for i in range(N)):\n",
    "            match_count[direction_mapping[(dy, dx)]] += 1\n",
    "            print(y, x, direction_mapping[(dy, dx)])\n",
    "            count += 1\n",
    "    return count"
   ],
   "id": "a2e6c7735222ac2f",
   "outputs": [],
   "execution_count": 114
  },
  {
   "metadata": {
    "ExecuteTime": {
     "end_time": "2024-12-05T17:34:54.127843Z",
     "start_time": "2024-12-05T17:34:54.122489Z"
    }
   },
   "cell_type": "code",
   "source": [
    "count = 0\n",
    "for y in range(m.shape[0]):\n",
    "    for x in range(m.shape[1]):\n",
    "        if m[y, x] == \"X\":\n",
    "            count += check_XMAS(y, x, m)\n",
    "count"
   ],
   "id": "d6c85661825dddc6",
   "outputs": [
    {
     "name": "stdout",
     "output_type": "stream",
     "text": [
      "0 4 DOWNRIGHT\n",
      "0 5 RIGHT\n",
      "1 4 LEFT\n",
      "3 9 DOWNLEFT\n",
      "3 9 DOWN\n",
      "4 0 RIGHT\n",
      "4 6 UP\n",
      "4 6 LEFT\n",
      "5 0 UPRIGHT\n",
      "5 6 UPLEFT\n",
      "9 1 UPRIGHT\n",
      "9 3 UPLEFT\n",
      "9 3 UPRIGHT\n",
      "9 5 UPLEFT\n",
      "9 5 UPRIGHT\n",
      "9 5 RIGHT\n",
      "9 9 UPLEFT\n",
      "9 9 UP\n"
     ]
    },
    {
     "data": {
      "text/plain": [
       "18"
      ]
     },
     "execution_count": 115,
     "metadata": {},
     "output_type": "execute_result"
    }
   ],
   "execution_count": 115
  },
  {
   "metadata": {
    "ExecuteTime": {
     "end_time": "2024-12-05T17:00:22.089405Z",
     "start_time": "2024-12-05T17:00:22.086234Z"
    }
   },
   "cell_type": "code",
   "source": [
    "count = 0\n",
    "for y in range(m.shape[0]):\n",
    "    for x in range(m.shape[1]):\n",
    "        if m[y, x] == \"X\":\n",
    "            count += check_XMAS(y, x, m)\n",
    "count"
   ],
   "id": "d267985650aadde6",
   "outputs": [
    {
     "data": {
      "text/plain": [
       "18"
      ]
     },
     "execution_count": 7,
     "metadata": {},
     "output_type": "execute_result"
    }
   ],
   "execution_count": 7
  },
  {
   "metadata": {
    "ExecuteTime": {
     "end_time": "2024-12-05T17:00:22.110390Z",
     "start_time": "2024-12-05T17:00:22.107363Z"
    }
   },
   "cell_type": "code",
   "source": "submit(count, part=\"a\", year=year, day=day)",
   "id": "d7c4c53352883eb0",
   "outputs": [
    {
     "name": "stdout",
     "output_type": "stream",
     "text": [
      "\u001B[31mPart a already solved with different answer: 2571\u001B[0m\n"
     ]
    }
   ],
   "execution_count": 8
  },
  {
   "metadata": {
    "ExecuteTime": {
     "end_time": "2024-12-05T17:00:22.128061Z",
     "start_time": "2024-12-05T17:00:22.124393Z"
    }
   },
   "cell_type": "code",
   "source": [
    "def find_XMAS(y, x, m):\n",
    "    count = 0\n",
    "\n",
    "    if y - 1 < 0 or x - 1 < 0:\n",
    "        return count\n",
    "    if y + 1 >= m.shape[0] or x + 1 >= m.shape[1]:\n",
    "        return count\n",
    "\n",
    "    left = False\n",
    "    right = False\n",
    "    if m[y-1, x-1] == \"M\" and m[y+1, x+1] == \"S\":\n",
    "        left = True\n",
    "    if m[y-1, x-1] == \"S\" and m[y+1, x+1] == \"M\":\n",
    "        left = True\n",
    "    if m[y-1, x+1] == \"M\" and m[y+1, x-1] == \"S\":\n",
    "        right = True\n",
    "    if m[y-1, x+1] == \"S\" and m[y+1, x-1] == \"M\":\n",
    "        right = True\n",
    "\n",
    "    if left and right:\n",
    "        count = 1\n",
    "        # print(f\"found {count} at {y, x}\")\n",
    "    return count\n"
   ],
   "id": "8ad81b5a4dfccbe8",
   "outputs": [],
   "execution_count": 9
  },
  {
   "metadata": {
    "ExecuteTime": {
     "end_time": "2024-12-05T17:00:22.136891Z",
     "start_time": "2024-12-05T17:00:22.134039Z"
    }
   },
   "cell_type": "code",
   "source": [
    "count = 0\n",
    "for y in range(m.shape[0]):\n",
    "    for x in range(m.shape[1]):\n",
    "        if m[y, x] == \"A\":\n",
    "            count += find_XMAS(y, x, m)\n",
    "count"
   ],
   "id": "a57b1bec8594a1d3",
   "outputs": [
    {
     "data": {
      "text/plain": [
       "9"
      ]
     },
     "execution_count": 10,
     "metadata": {},
     "output_type": "execute_result"
    }
   ],
   "execution_count": 10
  },
  {
   "metadata": {
    "ExecuteTime": {
     "end_time": "2024-12-05T17:00:22.157494Z",
     "start_time": "2024-12-05T17:00:22.153290Z"
    }
   },
   "cell_type": "code",
   "source": "submit(count, part=\"b\", year=year, day=day)",
   "id": "f3dd274bc67e8051",
   "outputs": [
    {
     "name": "stdout",
     "output_type": "stream",
     "text": [
      "\u001B[31mPart b already solved with different answer: 1992\u001B[0m\n"
     ]
    }
   ],
   "execution_count": 11
  },
  {
   "metadata": {
    "ExecuteTime": {
     "end_time": "2024-12-05T17:22:18.672734Z",
     "start_time": "2024-12-05T17:22:18.667897Z"
    }
   },
   "cell_type": "code",
   "source": [
    "X = 1; M = 10; A = 100; S = 1000\n",
    "import numpy as np\n",
    "chars_to_ints = {\n",
    "    \"X\": X,\n",
    "    \"M\": M,\n",
    "    \"A\": A,\n",
    "    \"S\": S,\n",
    "}\n",
    "\n",
    "# converted = chars_to_ints[c] if c in chars_to_ints else c for c in data\n",
    "\n",
    "m = parse_single_matrix(data)\n",
    "converted = np.vectorize(lambda x: chars_to_ints[x] if x in chars_to_ints else x)(m)\n",
    "\n",
    "search_patterns = [\n",
    "    np.array([[X, M, A, S]]),\n",
    "    np.array([[X],[M],[A],[S]]),\n",
    "    np.array([[S, A, M, X]]),\n",
    "    np.array([[S],[A],[M],[X]]),\n",
    "    np.array([\n",
    "        [X, 0, 0, 0],\n",
    "        [0, M, 0, 0],\n",
    "        [0, 0, A, 0],\n",
    "        [0, 0, 0, S],\n",
    "    ]),\n",
    "    np.array([\n",
    "        [S, 0, 0, 0],\n",
    "        [0, A, 0, 0],\n",
    "        [0, 0, M, 0],\n",
    "        [0, 0, 0, X],\n",
    "    ]),\n",
    "    np.array([\n",
    "        [0, 0, 0, X],\n",
    "        [0, 0, M, 0],\n",
    "        [0, A, 0, 0],\n",
    "        [S, 0, 0, 0]\n",
    "    ]),\n",
    "        np.array([\n",
    "        [0, 0, 0, S],\n",
    "        [0, 0, A, 0],\n",
    "        [0, M, 0, 0],\n",
    "        [X, 0, 0, 0]\n",
    "    ])\n",
    "]"
   ],
   "id": "dc69af57a59f9cbe",
   "outputs": [],
   "execution_count": 75
  },
  {
   "metadata": {
    "ExecuteTime": {
     "end_time": "2024-12-05T17:22:24.139234Z",
     "start_time": "2024-12-05T17:22:24.135404Z"
    }
   },
   "cell_type": "code",
   "source": "search_patterns[0].dtype\n",
   "id": "4dba915f32320df5",
   "outputs": [
    {
     "data": {
      "text/plain": [
       "dtype('int64')"
      ]
     },
     "execution_count": 76,
     "metadata": {},
     "output_type": "execute_result"
    }
   ],
   "execution_count": 76
  },
  {
   "metadata": {
    "ExecuteTime": {
     "end_time": "2024-12-05T17:22:27.759481Z",
     "start_time": "2024-12-05T17:22:27.229255Z"
    }
   },
   "cell_type": "code",
   "source": "%pip install scipy",
   "id": "615705fcbe1b5ef",
   "outputs": [
    {
     "name": "stdout",
     "output_type": "stream",
     "text": [
      "Requirement already satisfied: scipy in /Users/rikvandervlist/git/personal/adventofcode/.venv/lib/python3.12/site-packages (1.14.1)\r\n",
      "Requirement already satisfied: numpy<2.3,>=1.23.5 in /Users/rikvandervlist/git/personal/adventofcode/.venv/lib/python3.12/site-packages (from scipy) (2.1.3)\r\n",
      "\r\n",
      "\u001B[1m[\u001B[0m\u001B[34;49mnotice\u001B[0m\u001B[1;39;49m]\u001B[0m\u001B[39;49m A new release of pip is available: \u001B[0m\u001B[31;49m24.2\u001B[0m\u001B[39;49m -> \u001B[0m\u001B[32;49m24.3.1\u001B[0m\r\n",
      "\u001B[1m[\u001B[0m\u001B[34;49mnotice\u001B[0m\u001B[1;39;49m]\u001B[0m\u001B[39;49m To update, run: \u001B[0m\u001B[32;49mpip install --upgrade pip\u001B[0m\r\n",
      "Note: you may need to restart the kernel to use updated packages.\n"
     ]
    }
   ],
   "execution_count": 77
  },
  {
   "metadata": {
    "ExecuteTime": {
     "end_time": "2024-12-05T17:22:28.913479Z",
     "start_time": "2024-12-05T17:22:28.910208Z"
    }
   },
   "cell_type": "code",
   "source": "from scipy.signal import convolve2d, correlate2d\n",
   "id": "5e81fff0ab518870",
   "outputs": [],
   "execution_count": 78
  },
  {
   "metadata": {
    "ExecuteTime": {
     "end_time": "2024-12-05T17:22:29.870999Z",
     "start_time": "2024-12-05T17:22:29.866212Z"
    }
   },
   "cell_type": "code",
   "source": [
    "search_value = sum(i*i for i in chars_to_ints.values())\n",
    "search_value"
   ],
   "id": "27bb99bf821ceacf",
   "outputs": [
    {
     "data": {
      "text/plain": [
       "1010101"
      ]
     },
     "execution_count": 79,
     "metadata": {},
     "output_type": "execute_result"
    }
   ],
   "execution_count": 79
  },
  {
   "metadata": {
    "ExecuteTime": {
     "end_time": "2024-12-05T17:37:05.445704Z",
     "start_time": "2024-12-05T17:37:05.442417Z"
    }
   },
   "cell_type": "code",
   "source": [
    "count = 0\n",
    "all_matches = np.zeros_like(converted)\n",
    "# for pattern in search_patterns:\n",
    "pattern = search_patterns[4]\n",
    "matches = (correlate2d(converted, pattern, \"same\") == search_value).astype(\"int\")\n",
    "# all_matches += matches\n",
    "print(matches, sum(sum(matches)), match_count[\"DOWN_RIGHT\"])"
   ],
   "id": "42fa6da264217398",
   "outputs": [
    {
     "name": "stdout",
     "output_type": "stream",
     "text": [
      "[[0 0 0 0 0 0 0 0 0 0]\n",
      " [0 0 0 0 0 1 0 0 0 0]\n",
      " [0 0 0 0 0 0 0 0 0 0]\n",
      " [0 0 0 0 0 0 0 0 0 0]\n",
      " [0 0 0 0 0 0 0 0 0 0]\n",
      " [0 0 0 0 0 0 0 0 0 0]\n",
      " [0 0 0 0 0 0 0 0 0 0]\n",
      " [0 0 0 0 0 0 0 0 0 0]\n",
      " [0 0 0 0 0 0 0 0 0 0]\n",
      " [0 0 0 0 0 0 0 0 0 0]] 1 0\n"
     ]
    }
   ],
   "execution_count": 121
  },
  {
   "metadata": {
    "ExecuteTime": {
     "end_time": "2024-12-05T17:36:17.082944Z",
     "start_time": "2024-12-05T17:36:17.078183Z"
    }
   },
   "cell_type": "code",
   "source": "pattern",
   "id": "817ced92bcab0149",
   "outputs": [
    {
     "data": {
      "text/plain": [
       "array([[   1],\n",
       "       [  10],\n",
       "       [ 100],\n",
       "       [1000]])"
      ]
     },
     "execution_count": 118,
     "metadata": {},
     "output_type": "execute_result"
    }
   ],
   "execution_count": 118
  },
  {
   "metadata": {
    "ExecuteTime": {
     "end_time": "2024-12-05T17:19:53.317066Z",
     "start_time": "2024-12-05T17:19:53.314094Z"
    }
   },
   "cell_type": "code",
   "source": [
    "# 0 4 DOWNRIGHT\n",
    "# 0 5 RIGHT\n",
    "# 1 4 LEFT\n",
    "# 3 9 DOWNLEFT\n",
    "# 3 9 DOWN\n",
    "# 4 0 RIGHT\n",
    "# 4 6 UP\n",
    "# 4 6 LEFT\n",
    "# 5 0 UPRIGHT\n",
    "# 5 6 UPLEFT\n",
    "# 9 1 UPRIGHT\n",
    "# 9 3 UPLEFT\n",
    "# 9 3 UPRIGHT\n",
    "# 9 5 UPLEFT\n",
    "# 9 5 UPRIGHT\n",
    "# 9 5 RIGHT\n",
    "# 9 9 UPLEFT\n",
    "# 9 9 UP"
   ],
   "id": "dbb8675c5eb08003",
   "outputs": [
    {
     "data": {
      "text/plain": [
       "204"
      ]
     },
     "execution_count": 66,
     "metadata": {},
     "output_type": "execute_result"
    }
   ],
   "execution_count": 66
  },
  {
   "metadata": {
    "ExecuteTime": {
     "end_time": "2024-12-05T17:28:03.860706Z",
     "start_time": "2024-12-05T17:28:03.856861Z"
    }
   },
   "cell_type": "code",
   "source": [
    "# print(data[0][6])\n",
    "\n",
    "\n",
    "data[0]\n",
    "print(data)"
   ],
   "id": "3e44d5a9f3f0b9be",
   "outputs": [
    {
     "name": "stdout",
     "output_type": "stream",
     "text": [
      "MMMSXXMASM\n",
      "MSAMXMSMSA\n",
      "AMXSXMAAMM\n",
      "MSAMASMSMX\n",
      "XMASAMXAMM\n",
      "XXAMMXXAMA\n",
      "SMSMSASXSS\n",
      "SAXAMASAAA\n",
      "MAMMMXMMMM\n",
      "MXMXAXMASX\n"
     ]
    }
   ],
   "execution_count": 100
  },
  {
   "metadata": {
    "ExecuteTime": {
     "end_time": "2024-12-05T17:11:55.561404Z",
     "start_time": "2024-12-05T17:11:55.557969Z"
    }
   },
   "cell_type": "code",
   "source": "np.diag(np.ones(5))",
   "id": "237373e9d3454fb2",
   "outputs": [
    {
     "data": {
      "text/plain": [
       "array([[1., 0., 0., 0., 0.],\n",
       "       [0., 1., 0., 0., 0.],\n",
       "       [0., 0., 1., 0., 0.],\n",
       "       [0., 0., 0., 1., 0.],\n",
       "       [0., 0., 0., 0., 1.]])"
      ]
     },
     "execution_count": 52,
     "metadata": {},
     "output_type": "execute_result"
    }
   ],
   "execution_count": 52
  },
  {
   "metadata": {
    "ExecuteTime": {
     "end_time": "2024-12-05T17:14:07.864342Z",
     "start_time": "2024-12-05T17:14:07.859681Z"
    }
   },
   "cell_type": "code",
   "source": "convolve2d(a, np.diag(np.ones(5)), mode=\"full\")",
   "id": "fd56de29f15ef5dd",
   "outputs": [
    {
     "data": {
      "text/plain": [
       "array([[1., 2., 0., 0., 0., 0.],\n",
       "       [3., 5., 2., 0., 0., 0.],\n",
       "       [0., 3., 5., 2., 0., 0.],\n",
       "       [0., 0., 3., 5., 2., 0.],\n",
       "       [0., 0., 0., 3., 5., 2.],\n",
       "       [0., 0., 0., 0., 3., 4.]])"
      ]
     },
     "execution_count": 56,
     "metadata": {},
     "output_type": "execute_result"
    }
   ],
   "execution_count": 56
  },
  {
   "metadata": {},
   "cell_type": "code",
   "outputs": [],
   "execution_count": null,
   "source": "",
   "id": "3ead9a779225d84c"
  }
 ],
 "metadata": {
  "kernelspec": {
   "display_name": "aoc",
   "language": "python",
   "name": "aoc"
  },
  "language_info": {
   "codemirror_mode": {
    "name": "ipython",
    "version": 2
   },
   "file_extension": ".py",
   "mimetype": "text/x-python",
   "name": "python",
   "nbconvert_exporter": "python",
   "pygments_lexer": "ipython2",
   "version": "2.7.6"
  }
 },
 "nbformat": 4,
 "nbformat_minor": 5
}
