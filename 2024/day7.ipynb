{
 "cells": [
  {
   "metadata": {
    "ExecuteTime": {
     "end_time": "2024-12-07T05:54:12.199279Z",
     "start_time": "2024-12-07T05:54:12.196058Z"
    }
   },
   "cell_type": "code",
   "source": [
    "\n",
    "\n",
    "year = 2024; day = 7"
   ],
   "id": "14097d859b17d8da",
   "outputs": [],
   "execution_count": 1
  },
  {
   "metadata": {
    "ExecuteTime": {
     "end_time": "2024-12-07T05:54:12.409279Z",
     "start_time": "2024-12-07T05:54:12.203772Z"
    }
   },
   "cell_type": "code",
   "source": [
    "from aocd import get_data, submit\n",
    "\n",
    "data = get_data(year=year, day=day)\n",
    "data = data.strip()\n",
    "data = data.split(\"\\n\")\n",
    "\n",
    "def parse_line(line):\n",
    "    res, values = line.split(\":\")\n",
    "    res = int(res)\n",
    "    values = list(map(int, values.split()))\n",
    "    return (res, values)\n",
    "\n",
    "data = [parse_line(l) for l in data]\n",
    "data[:5]"
   ],
   "id": "e10b758f9c8c5fd3",
   "outputs": [
    {
     "data": {
      "text/plain": [
       "[(28690, [43, 665, 1, 88, 9]),\n",
       " (292283, [36, 5, 3, 9, 8, 8, 4, 4, 184, 770]),\n",
       " (115932854, [67, 2, 8, 7, 3, 6, 49, 1, 631, 4, 2]),\n",
       " (159, [8, 8, 3, 96, 15]),\n",
       " (642859823521, [7, 9, 3, 6, 5, 4, 1, 27, 84, 10, 3])]"
      ]
     },
     "execution_count": 2,
     "metadata": {},
     "output_type": "execute_result"
    }
   ],
   "execution_count": 2
  },
  {
   "metadata": {
    "ExecuteTime": {
     "end_time": "2024-12-07T05:54:12.689345Z",
     "start_time": "2024-12-07T05:54:12.468860Z"
    }
   },
   "cell_type": "code",
   "source": [
    "from itertools import product\n",
    "count = 0\n",
    "for i, d in enumerate(data):\n",
    "    res, val = d\n",
    "    N = len(val) - 1\n",
    "\n",
    "    outcomes = []\n",
    "    for ops in product(\"+*\", repeat=N):\n",
    "        eq = val[0]\n",
    "        for op, v in zip(ops, val[1:]):\n",
    "            if op == \"+\":\n",
    "                eq += v\n",
    "            else:\n",
    "                eq *= v\n",
    "\n",
    "        if res == eq:\n",
    "            count += res\n",
    "            break\n",
    "\n",
    "count"
   ],
   "id": "154426aca4b17ab5",
   "outputs": [
    {
     "data": {
      "text/plain": [
       "2299996598890"
      ]
     },
     "execution_count": 3,
     "metadata": {},
     "output_type": "execute_result"
    }
   ],
   "execution_count": 3
  },
  {
   "metadata": {
    "ExecuteTime": {
     "end_time": "2024-12-07T05:54:13.078268Z",
     "start_time": "2024-12-07T05:54:12.703571Z"
    }
   },
   "cell_type": "code",
   "source": "submit(count, part=\"a\", year=year, day=day)",
   "id": "5fd97d9dddd559a4",
   "outputs": [
    {
     "name": "stdout",
     "output_type": "stream",
     "text": [
      "Part a already solved with same answer: 2299996598890\n"
     ]
    }
   ],
   "execution_count": 4
  },
  {
   "metadata": {
    "ExecuteTime": {
     "end_time": "2024-12-07T05:54:29.479380Z",
     "start_time": "2024-12-07T05:54:13.097750Z"
    }
   },
   "cell_type": "code",
   "source": [
    "from itertools import product\n",
    "count = 0\n",
    "for i, d in enumerate(data):\n",
    "    res, val = d\n",
    "    N = len(val) - 1\n",
    "\n",
    "    for ops in product(\"+*|\", repeat=N):\n",
    "        eq = val[0]\n",
    "        for op, v in zip(ops, val[1:]):\n",
    "            if op == \"+\":\n",
    "                eq += v\n",
    "            if op == \"*\":\n",
    "                eq *= v\n",
    "            if op == \"|\":\n",
    "                eq = int(str(eq)+str(v))\n",
    "            if eq > res:\n",
    "                break\n",
    "        if eq == res:\n",
    "            count += res\n",
    "            break\n",
    "\n",
    "count"
   ],
   "id": "125670f04e5668bb",
   "outputs": [
    {
     "data": {
      "text/plain": [
       "362646859298554"
      ]
     },
     "execution_count": 5,
     "metadata": {},
     "output_type": "execute_result"
    }
   ],
   "execution_count": 5
  },
  {
   "metadata": {
    "ExecuteTime": {
     "end_time": "2024-12-07T05:54:29.546587Z",
     "start_time": "2024-12-07T05:54:29.544123Z"
    }
   },
   "cell_type": "code",
   "source": "submit(count, part=\"b\", year=year, day=day)",
   "id": "e5b270a6fef74283",
   "outputs": [
    {
     "name": "stdout",
     "output_type": "stream",
     "text": [
      "Part b already solved with same answer: 362646859298554\n"
     ]
    }
   ],
   "execution_count": 6
  }
 ],
 "metadata": {
  "kernelspec": {
   "display_name": "aoc",
   "language": "python",
   "name": "aoc"
  },
  "language_info": {
   "codemirror_mode": {
    "name": "ipython",
    "version": 2
   },
   "file_extension": ".py",
   "mimetype": "text/x-python",
   "name": "python",
   "nbconvert_exporter": "python",
   "pygments_lexer": "ipython2",
   "version": "2.7.6"
  }
 },
 "nbformat": 4,
 "nbformat_minor": 5
}
