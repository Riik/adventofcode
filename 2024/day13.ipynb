{
 "cells": [
  {
   "metadata": {
    "ExecuteTime": {
     "end_time": "2024-12-13T05:03:51.681818Z",
     "start_time": "2024-12-13T05:03:51.678842Z"
    }
   },
   "cell_type": "code",
   "source": "year = 2024; day = 13",
   "id": "14097d859b17d8da",
   "outputs": [],
   "execution_count": 2
  },
  {
   "metadata": {
    "ExecuteTime": {
     "end_time": "2024-12-13T06:25:33.213863Z",
     "start_time": "2024-12-13T06:25:33.207266Z"
    }
   },
   "cell_type": "code",
   "source": [
    "import numpy as np\n",
    "from aocd import get_data, submit\n",
    "\n",
    "data = get_data(year=year, day=day)\n",
    "\n",
    "data = data.strip()\n",
    "\n",
    "data = data.split(\"\\n\\n\")\n",
    "\n",
    "machines = []\n",
    "\n",
    "def parse_lines(lines):\n",
    "    lines = lines.split(\"\\n\")\n",
    "    a, b, prize = lines\n",
    "    a = np.array([int(x) for x in a.replace(\",\", \"\").replace(\"X\", \"\").replace(\"Y\", \"\").split()[-2:]])\n",
    "    b = np.array([int(x) for x in b.replace(\",\", \"\").replace(\"X\", \"\").replace(\"Y\", \"\").split()[-2:]])\n",
    "    prize = np.array([int(x) for x in prize.replace(\",\", \"\").replace(\"X=\", \"\").replace(\"Y=\", \"\").split()[-2:]])\n",
    "\n",
    "    return (a, b, prize)\n",
    "\n",
    "\n",
    "machines = [parse_lines(d) for d in data]\n",
    "CRAZY_NUMBER = 10_000_000_000_000"
   ],
   "id": "e10b758f9c8c5fd3",
   "outputs": [],
   "execution_count": 253
  },
  {
   "metadata": {
    "ExecuteTime": {
     "end_time": "2024-12-13T06:25:33.498317Z",
     "start_time": "2024-12-13T06:25:33.496267Z"
    }
   },
   "cell_type": "code",
   "source": [
    "def solve_machine(a, b, prize):\n",
    "    sols = []\n",
    "    for a_c in range(100):\n",
    "        for b_c in range(100):\n",
    "            if np.all((a_c*a + b_c*b) == prize):\n",
    "                sols.append(3*a_c + b_c)\n",
    "\n",
    "\n",
    "    return min(sols) if sols else 0"
   ],
   "id": "5f27283d4ee3a049",
   "outputs": [],
   "execution_count": 254
  },
  {
   "metadata": {
    "ExecuteTime": {
     "end_time": "2024-12-13T06:25:43.097163Z",
     "start_time": "2024-12-13T06:25:33.846283Z"
    }
   },
   "cell_type": "code",
   "source": [
    "ans1 = sum([solve_machine(a, b, prize) for a, b, prize in machines])\n",
    "submit(ans1, part=\"a\", year=year, day=day)"
   ],
   "id": "9e0e744a390c5746",
   "outputs": [
    {
     "name": "stdout",
     "output_type": "stream",
     "text": [
      "Part a already solved with same answer: 35729\n"
     ]
    }
   ],
   "execution_count": 255
  },
  {
   "metadata": {
    "ExecuteTime": {
     "end_time": "2024-12-13T06:28:53.706048Z",
     "start_time": "2024-12-13T06:28:53.301451Z"
    }
   },
   "cell_type": "code",
   "source": [
    "# ASSUMPTION: THERE WILL BE ONLY ONE SOLUTION\n",
    "costs = []\n",
    "\n",
    "for a, b, prize in machines:\n",
    "    SEARCH_RANGE = 10\n",
    "    prize = prize.copy()\n",
    "    prize += CRAZY_NUMBER\n",
    "\n",
    "    p = np.expand_dims(prize, axis=1)\n",
    "    A = np.array([\n",
    "        [a[0], b[0]],\n",
    "        [a[1], b[1]]\n",
    "    ])\n",
    "    inverse = np.linalg.inv(A)\n",
    "    s = np.dot(inverse, p)\n",
    "\n",
    "    a_c, b_c = int(s[0][0]), int(s[1][0])\n",
    "    solutions = 0\n",
    "    for i in range(-SEARCH_RANGE, SEARCH_RANGE):\n",
    "        for j in range(-SEARCH_RANGE, SEARCH_RANGE):\n",
    "            claw = (a_c+i)*a + (b_c+j)*b\n",
    "            if np.all(claw == prize):\n",
    "                solutions += 1\n",
    "                cost = (a_c+i)*3 + (b_c+j)\n",
    "                costs.append(cost)\n",
    "    assert solutions < 2\n"
   ],
   "id": "485028e99ec0f7c2",
   "outputs": [],
   "execution_count": 276
  },
  {
   "metadata": {
    "ExecuteTime": {
     "end_time": "2024-12-13T06:28:53.715459Z",
     "start_time": "2024-12-13T06:28:53.713062Z"
    }
   },
   "cell_type": "code",
   "source": [
    "ans2 = sum(costs)\n",
    "submit(ans2, part=\"b\", year=year, day=day)"
   ],
   "id": "36612fabfda5f7a0",
   "outputs": [
    {
     "name": "stdout",
     "output_type": "stream",
     "text": [
      "Part b already solved with same answer: 88584689879723\n"
     ]
    }
   ],
   "execution_count": 277
  }
 ],
 "metadata": {
  "kernelspec": {
   "display_name": "aoc",
   "language": "python",
   "name": "aoc"
  },
  "language_info": {
   "codemirror_mode": {
    "name": "ipython",
    "version": 2
   },
   "file_extension": ".py",
   "mimetype": "text/x-python",
   "name": "python",
   "nbconvert_exporter": "python",
   "pygments_lexer": "ipython2",
   "version": "2.7.6"
  }
 },
 "nbformat": 4,
 "nbformat_minor": 5
}
