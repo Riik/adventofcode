{
 "cells": [
  {
   "metadata": {
    "ExecuteTime": {
     "end_time": "2024-12-11T10:24:51.271638Z",
     "start_time": "2024-12-11T10:24:51.268472Z"
    }
   },
   "cell_type": "code",
   "source": [
    "from collections import Counter, defaultdict\n",
    "year = 2024; day = 11"
   ],
   "id": "14097d859b17d8da",
   "outputs": [],
   "execution_count": 26
  },
  {
   "metadata": {
    "ExecuteTime": {
     "end_time": "2024-12-11T10:25:29.622556Z",
     "start_time": "2024-12-11T10:25:29.616261Z"
    }
   },
   "cell_type": "code",
   "source": [
    "from aocd import get_data, submit\n",
    "\n",
    "data = get_data(year=year, day=day)\n",
    "data = data.strip()\n",
    "data = [int(d) for d in data.split()]"
   ],
   "id": "e10b758f9c8c5fd3",
   "outputs": [],
   "execution_count": 34
  },
  {
   "metadata": {
    "ExecuteTime": {
     "end_time": "2024-12-11T10:24:51.554941Z",
     "start_time": "2024-12-11T10:24:51.551714Z"
    }
   },
   "cell_type": "code",
   "source": [
    "def split_stones(data, N=75):\n",
    "    stones = defaultdict(int, Counter(data))\n",
    "    for _ in range(N):\n",
    "        new_dict = defaultdict(int)\n",
    "        for v, count in stones.items():\n",
    "            if v == 0:\n",
    "                new_dict[1] += count\n",
    "            elif len(c := str(v)) % 2 == 0:\n",
    "                new_dict[int(c[:len(c)//2])] += count\n",
    "                new_dict[int(c[len(c)//2:])] += count\n",
    "            else:\n",
    "                new_dict[v*2024] += count\n",
    "        stones = new_dict.copy()\n",
    "\n",
    "    return sum(stones.values())"
   ],
   "id": "31201ae550b69f61",
   "outputs": [],
   "execution_count": 28
  },
  {
   "metadata": {
    "ExecuteTime": {
     "end_time": "2024-12-11T10:24:53.127202Z",
     "start_time": "2024-12-11T10:24:52.731541Z"
    }
   },
   "cell_type": "code",
   "source": "submit(split_stones(data, 25), part=\"a\", year=year, day=day)",
   "id": "4f3df03fb9c6b157",
   "outputs": [
    {
     "name": "stdout",
     "output_type": "stream",
     "text": [
      "Part a already solved with same answer: 200446\n"
     ]
    }
   ],
   "execution_count": 29
  },
  {
   "metadata": {
    "ExecuteTime": {
     "end_time": "2024-12-11T10:24:58.913865Z",
     "start_time": "2024-12-11T10:24:58.843682Z"
    }
   },
   "cell_type": "code",
   "source": "submit(split_stones(data, 75), part=\"b\", year=year, day=day)",
   "id": "19eba5db0a71f802",
   "outputs": [
    {
     "name": "stdout",
     "output_type": "stream",
     "text": [
      "Part b already solved with same answer: 238317474993392\n"
     ]
    }
   ],
   "execution_count": 31
  },
  {
   "metadata": {
    "ExecuteTime": {
     "end_time": "2024-12-11T10:25:12.607940Z",
     "start_time": "2024-12-11T10:25:00.778280Z"
    }
   },
   "cell_type": "code",
   "source": "%timeit split_stones(data, 25)",
   "id": "39066c20fed1beb1",
   "outputs": [
    {
     "name": "stdout",
     "output_type": "stream",
     "text": [
      "1.45 ms ± 12.5 μs per loop (mean ± std. dev. of 7 runs, 1,000 loops each)\n"
     ]
    }
   ],
   "execution_count": 32
  },
  {
   "metadata": {
    "ExecuteTime": {
     "end_time": "2024-12-11T10:25:16.922052Z",
     "start_time": "2024-12-11T10:25:12.675265Z"
    }
   },
   "cell_type": "code",
   "source": "%timeit split_stones(data, 75)",
   "id": "a457cef9fdbdc49",
   "outputs": [
    {
     "name": "stdout",
     "output_type": "stream",
     "text": [
      "52.4 ms ± 613 μs per loop (mean ± std. dev. of 7 runs, 10 loops each)\n"
     ]
    }
   ],
   "execution_count": 33
  }
 ],
 "metadata": {
  "kernelspec": {
   "display_name": "aoc",
   "language": "python",
   "name": "aoc"
  },
  "language_info": {
   "codemirror_mode": {
    "name": "ipython",
    "version": 2
   },
   "file_extension": ".py",
   "mimetype": "text/x-python",
   "name": "python",
   "nbconvert_exporter": "python",
   "pygments_lexer": "ipython2",
   "version": "2.7.6"
  }
 },
 "nbformat": 4,
 "nbformat_minor": 5
}
