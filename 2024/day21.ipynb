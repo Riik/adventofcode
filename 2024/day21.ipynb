{
 "cells": [
  {
   "metadata": {
    "ExecuteTime": {
     "end_time": "2024-12-22T18:47:13.306883Z",
     "start_time": "2024-12-22T18:47:13.304145Z"
    }
   },
   "cell_type": "code",
   "source": "year = 2024; day = 21",
   "id": "14097d859b17d8da",
   "outputs": [],
   "execution_count": 14
  },
  {
   "metadata": {
    "ExecuteTime": {
     "end_time": "2024-12-22T18:47:13.668212Z",
     "start_time": "2024-12-22T18:47:13.663100Z"
    }
   },
   "cell_type": "code",
   "source": [
    "from aocd import get_data, submit\n",
    "\n",
    "data = get_data(year=year, day=day)\n",
    "\n",
    "data = data.strip()\n",
    "data = data.split(\"\\n\")"
   ],
   "id": "e10b758f9c8c5fd3",
   "outputs": [],
   "execution_count": 15
  },
  {
   "metadata": {
    "ExecuteTime": {
     "end_time": "2024-12-22T18:58:47.761629Z",
     "start_time": "2024-12-22T18:58:47.756749Z"
    }
   },
   "cell_type": "code",
   "source": [
    "from itertools import pairwise\n",
    "\n",
    "# hand-crafted, but should be generic\n",
    "# assuming that <<^ and ^<< are options but not <^<\n",
    "paths = {\n",
    "    ('<', '<'): ['A'],\n",
    "    ('<', 'v'): ['>A'],\n",
    "    ('<', '^'): ['>^A'],\n",
    "    ('<', '>'): ['>>A'],\n",
    "    ('<', 'A'): ['>^>A', '>>^A'],\n",
    "    ('v', '<'): ['<A'],\n",
    "    ('v', 'v'): ['A'],\n",
    "    ('v', '^'): ['^A'],\n",
    "    ('v', '>'): ['>A'],\n",
    "    ('v', 'A'): ['>^A', '^>A'],\n",
    "    ('^', '<'): ['v<A'],\n",
    "    ('^', 'v'): ['vA'],\n",
    "    ('^', '^'): ['A'],\n",
    "    ('^', '>'): ['v>A', '>vA'],\n",
    "    ('^', 'A'): ['>A'],\n",
    "    ('>', '<'): ['<<A'],\n",
    "    ('>', 'v'): ['<A'],\n",
    "    ('>', '^'): ['<^A', '^<A'],\n",
    "    ('>', '>'): ['A'],\n",
    "    ('>', 'A'): ['^A'],\n",
    "    ('A', '<'): ['<v<A', 'v<<A'],\n",
    "    ('A', 'v'): ['v<A', '<vA'],\n",
    "    ('A', '^'): ['<A'],\n",
    "    ('A', '>'): ['vA'],\n",
    "    ('A', 'A'): ['A'],\n",
    "}\n",
    "\n",
    "# hand-crafted derivative from my input. Didn't feel like pathfinding this\n",
    "data_patterns = [\n",
    "    [\n",
    "        '^<AvA^^^A>vvvA',\n",
    "        '<^AvA^^^A>vvvA',\n",
    "        '^<AvA^^^Avvv>A',\n",
    "        '<^AvA^^^Avvv>A',\n",
    "    ],\n",
    "    [\n",
    "        '^^<A<A>vvA>A',\n",
    "        '<^^A<A>vvA>A',\n",
    "    ],\n",
    "    [\n",
    "        '^^A<^AvAvv>A',\n",
    "        '^^A^<AvAvv>A',\n",
    "        '^^A<^AvA>vvA',\n",
    "        '^^A^<AvA>vvA',\n",
    "    ],\n",
    "    [\n",
    "        '^^^<A<A>>AvvvA',\n",
    "        '<^^^A<A>>AvvvA',\n",
    "    ],\n",
    "    [\n",
    "        '^^^<AvvA>^AvvA',\n",
    "        '<^^^AvvA>^AvvA',\n",
    "        '^^^<AvvA^>AvvA',\n",
    "        '<^^^AvvA^>AvvA',\n",
    "    ],\n",
    "]\n",
    "\n",
    "def compute_dict(N):\n",
    "    cost_dict = {\n",
    "        (0, c): min(len(x) for x in v) for c, v in paths.items()\n",
    "    }\n",
    "    for lvl in range(1, N+1):\n",
    "        for key in paths:\n",
    "            costs = []\n",
    "            for p in paths[key]:\n",
    "                p = 'A' + p\n",
    "                new_cost = 0\n",
    "                for t in pairwise(p):\n",
    "                    new_cost += cost_dict[(lvl-1, t)]\n",
    "                costs.append(new_cost)\n",
    "            cost_dict[(lvl, key)] = min(costs)\n",
    "    return cost_dict"
   ],
   "id": "2ec37f1376c637b3",
   "outputs": [],
   "execution_count": 36
  },
  {
   "metadata": {
    "ExecuteTime": {
     "end_time": "2024-12-22T18:59:33.793808Z",
     "start_time": "2024-12-22T18:59:33.790958Z"
    }
   },
   "cell_type": "code",
   "source": [
    "def input_len_for_keyboards(lvl):\n",
    "    cost_dict = compute_dict(lvl)\n",
    "    count = 0\n",
    "    for idx, data_input in enumerate(data_patterns):\n",
    "        options = []\n",
    "        for combos in data_input:\n",
    "            combos = ['A' + combos]\n",
    "            new_cost = 0\n",
    "            for t in pairwise(combos[0]):\n",
    "                new_cost += cost_dict[(lvl, t)]\n",
    "            l = new_cost\n",
    "            n = int(data[idx][:3])\n",
    "            options.append(n*l)\n",
    "        count += min(options)\n",
    "    return count"
   ],
   "id": "d09da67bee55690e",
   "outputs": [],
   "execution_count": 43
  },
  {
   "metadata": {
    "ExecuteTime": {
     "end_time": "2024-12-22T18:59:34.632945Z",
     "start_time": "2024-12-22T18:59:34.631023Z"
    }
   },
   "cell_type": "code",
   "source": "ans1 = input_len_for_keyboards(1)",
   "id": "bb6771a5655ce070",
   "outputs": [],
   "execution_count": 44
  },
  {
   "metadata": {
    "ExecuteTime": {
     "end_time": "2024-12-22T18:59:35.694445Z",
     "start_time": "2024-12-22T18:59:35.691896Z"
    }
   },
   "cell_type": "code",
   "source": "ans2 = input_len_for_keyboards(24)",
   "id": "6547cb9ab1f7a96a",
   "outputs": [],
   "execution_count": 45
  },
  {
   "metadata": {
    "ExecuteTime": {
     "end_time": "2024-12-22T18:59:37.040023Z",
     "start_time": "2024-12-22T18:59:37.037672Z"
    }
   },
   "cell_type": "code",
   "source": "submit(ans1, part=\"a\", year=year, day=day)",
   "id": "4504f4e773c0ac8f",
   "outputs": [
    {
     "name": "stdout",
     "output_type": "stream",
     "text": [
      "Part a already solved with same answer: 224326\n"
     ]
    }
   ],
   "execution_count": 46
  },
  {
   "metadata": {
    "ExecuteTime": {
     "end_time": "2024-12-22T18:59:38.103414Z",
     "start_time": "2024-12-22T18:59:38.100734Z"
    }
   },
   "cell_type": "code",
   "source": "submit(ans2, part=\"b\", year=year, day=day)",
   "id": "b383cb3455ca480",
   "outputs": [
    {
     "name": "stdout",
     "output_type": "stream",
     "text": [
      "Part b already solved with same answer: 279638326609472\n"
     ]
    }
   ],
   "execution_count": 47
  },
  {
   "metadata": {
    "ExecuteTime": {
     "end_time": "2024-12-22T18:59:43.735202Z",
     "start_time": "2024-12-22T18:59:39.353778Z"
    }
   },
   "cell_type": "code",
   "source": "%timeit input_len_for_keyboards(1)",
   "id": "944009098bebb1d3",
   "outputs": [
    {
     "name": "stdout",
     "output_type": "stream",
     "text": [
      "54 μs ± 310 ns per loop (mean ± std. dev. of 7 runs, 10,000 loops each)\n"
     ]
    }
   ],
   "execution_count": 48
  },
  {
   "metadata": {
    "ExecuteTime": {
     "end_time": "2024-12-22T18:59:51.136572Z",
     "start_time": "2024-12-22T18:59:46.905841Z"
    }
   },
   "cell_type": "code",
   "source": "%timeit input_len_for_keyboards(24)",
   "id": "acacd9daf6ec045d",
   "outputs": [
    {
     "name": "stdout",
     "output_type": "stream",
     "text": [
      "521 μs ± 1.8 μs per loop (mean ± std. dev. of 7 runs, 1,000 loops each)\n"
     ]
    }
   ],
   "execution_count": 49
  }
 ],
 "metadata": {
  "kernelspec": {
   "display_name": "aoc",
   "language": "python",
   "name": "aoc"
  },
  "language_info": {
   "codemirror_mode": {
    "name": "ipython",
    "version": 2
   },
   "file_extension": ".py",
   "mimetype": "text/x-python",
   "name": "python",
   "nbconvert_exporter": "python",
   "pygments_lexer": "ipython2",
   "version": "2.7.6"
  }
 },
 "nbformat": 4,
 "nbformat_minor": 5
}
