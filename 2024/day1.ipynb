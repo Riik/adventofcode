{
 "cells": [
  {
   "cell_type": "code",
   "id": "initial_id",
   "metadata": {
    "collapsed": true,
    "ExecuteTime": {
     "end_time": "2024-12-01T04:59:23.131956Z",
     "start_time": "2024-12-01T04:59:23.128649Z"
    }
   },
   "source": [
    "year = 2024; day = 1\n",
    "\n",
    "# data = data.split(\"\\n\")\n",
    "# data = [list(d) for d in data]\n",
    "# data = np.array(data)\n",
    "\n",
    "# parse_int_list\n"
   ],
   "outputs": [],
   "execution_count": 3
  },
  {
   "cell_type": "code",
   "id": "9cd4a89e30634e9e",
   "metadata": {
    "ExecuteTime": {
     "end_time": "2024-12-01T05:12:54.391798Z",
     "start_time": "2024-12-01T05:12:54.381020Z"
    }
   },
   "source": [
    "from aocd import get_data, submit\n",
    "import numpy as np\n",
    "data = get_data(year=year, day=day)\n",
    "data = data.strip()\n",
    "data = data.split(\"\\n\")\n",
    "\n",
    "data = [[int(d) for d in line.split()] for line in data]\n",
    "left = [d[0] for d in data]\n",
    "right = [d[1] for d in data]\n",
    "\n",
    "left = sorted(left)\n",
    "right = sorted(right)\n",
    "\n",
    "dist = 0\n",
    "for l, r in zip(left, right):\n",
    "    dist += abs(l - r)\n",
    "dist"
   ],
   "outputs": [
    {
     "data": {
      "text/plain": [
       "1579939"
      ]
     },
     "execution_count": 26,
     "metadata": {},
     "output_type": "execute_result"
    }
   ],
   "execution_count": 26
  },
  {
   "cell_type": "code",
   "id": "175191452029266f",
   "metadata": {
    "ExecuteTime": {
     "end_time": "2024-12-01T05:12:54.658626Z",
     "start_time": "2024-12-01T05:12:54.654347Z"
    }
   },
   "source": "submit(dist, part=\"a\", year=year, day=day)",
   "outputs": [
    {
     "name": "stdout",
     "output_type": "stream",
     "text": [
      "aocd will not submit that answer again. At 2024-12-01 00:04:54.345440-05:00 you've previously submitted 1579939 and the server responded with:\n",
      "\u001B[32mThat's the right answer!  You are one gold star closer to finding the Chief Historian. [Continue to Part Two]\u001B[0m\n"
     ]
    }
   ],
   "execution_count": 27
  },
  {
   "metadata": {
    "ExecuteTime": {
     "end_time": "2024-12-01T05:12:55.300938Z",
     "start_time": "2024-12-01T05:12:55.296776Z"
    }
   },
   "cell_type": "code",
   "source": [
    "from collections import Counter\n",
    "tot = 0\n",
    "occ = Counter(right)\n",
    "for i in left:\n",
    "    tot += occ[i]*i"
   ],
   "id": "ea8ac01d8a559b66",
   "outputs": [],
   "execution_count": 28
  },
  {
   "metadata": {
    "ExecuteTime": {
     "end_time": "2024-12-01T05:12:56.153067Z",
     "start_time": "2024-12-01T05:12:56.148200Z"
    }
   },
   "cell_type": "code",
   "source": "submit(tot, part=\"b\", year=year, day=day)",
   "id": "2f2b4635cffee567",
   "outputs": [
    {
     "name": "stdout",
     "output_type": "stream",
     "text": [
      "aocd will not submit that answer again. At 2024-12-01 00:06:03.705892-05:00 you've previously submitted 20351745 and the server responded with:\n",
      "\u001B[32mThat's the right answer!  You are one gold star closer to finding the Chief Historian.You have completed Day 1! You can [Shareon\n",
      "  Bluesky\n",
      "Twitter\n",
      "Mastodon] this victory or [Return to Your Advent Calendar].\u001B[0m\n"
     ]
    }
   ],
   "execution_count": 29
  }
 ],
 "metadata": {
  "kernelspec": {
   "display_name": "aoc",
   "language": "python",
   "name": "aoc"
  },
  "language_info": {
   "codemirror_mode": {
    "name": "ipython",
    "version": 3
   },
   "file_extension": ".py",
   "mimetype": "text/x-python",
   "name": "python",
   "nbconvert_exporter": "python",
   "pygments_lexer": "ipython3",
   "version": "3.11.9"
  }
 },
 "nbformat": 4,
 "nbformat_minor": 5
}
