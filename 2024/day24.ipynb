{
 "cells": [
  {
   "metadata": {
    "ExecuteTime": {
     "end_time": "2024-12-24T09:50:28.233672Z",
     "start_time": "2024-12-24T09:50:28.230803Z"
    }
   },
   "cell_type": "code",
   "source": "year = 2024; day = 24",
   "id": "14097d859b17d8da",
   "outputs": [],
   "execution_count": 1
  },
  {
   "metadata": {
    "ExecuteTime": {
     "end_time": "2024-12-24T09:50:28.505541Z",
     "start_time": "2024-12-24T09:50:28.238859Z"
    }
   },
   "cell_type": "code",
   "source": [
    "from aocd import get_data, submit\n",
    "data = get_data(year=year, day=day)\n",
    "\n",
    "data = data.strip()\n",
    "initial_state, circuit = data.split(\"\\n\\n\")\n",
    "\n",
    "state = {}\n",
    "for line in initial_state.split(\"\\n\"):\n",
    "    line = line.split(\":\")\n",
    "    state[line[0]] = int(line[1])\n",
    "\n",
    "circ = []\n",
    "for line in circuit.split(\"\\n\"):\n",
    "    line = line.split()\n",
    "    circ.append((line[0], line[2], line[1], line[4]))"
   ],
   "id": "e10b758f9c8c5fd3",
   "outputs": [],
   "execution_count": 2
  },
  {
   "metadata": {
    "ExecuteTime": {
     "end_time": "2024-12-24T09:50:28.606267Z",
     "start_time": "2024-12-24T09:50:28.603138Z"
    }
   },
   "cell_type": "code",
   "source": [
    "def parse_circuit(state, circ):\n",
    "    parsed = set()\n",
    "    for _ in range(100):\n",
    "        for instr in circ:\n",
    "            if instr in parsed:\n",
    "                continue\n",
    "            a, b, op, res = instr\n",
    "            if not (a in state and b in state):\n",
    "                continue\n",
    "            parsed.add(instr)\n",
    "            if op == \"AND\":\n",
    "                state[res] = state[a] & state[b]\n",
    "            elif op == \"OR\":\n",
    "                state[res] = state[a] | state[b]\n",
    "            elif op == \"XOR\":\n",
    "                state[res] = state[a] ^ state[b]\n",
    "        if len(parsed) == len(circ):\n",
    "            break\n",
    "    else:\n",
    "        raise ValueError(\"max iterations exceeded\")\n",
    "    return state"
   ],
   "id": "8b3bc3750e2df98",
   "outputs": [],
   "execution_count": 3
  },
  {
   "metadata": {
    "ExecuteTime": {
     "end_time": "2024-12-24T09:50:42.910907Z",
     "start_time": "2024-12-24T09:50:42.906296Z"
    }
   },
   "cell_type": "code",
   "source": [
    "s = parse_circuit(state, circ)\n",
    "\n",
    "output_size = max(int(k[1:])+1 for k in s.keys() if k.startswith('z'))\n",
    "output = [s[f\"z{i:02d}\"] for i in range(output_size)]\n",
    "out_str = \"\".join(map(str, reversed(output)))\n",
    "ans1 = int(out_str, 2)"
   ],
   "id": "460bf86726058e3",
   "outputs": [],
   "execution_count": 5
  },
  {
   "metadata": {
    "ExecuteTime": {
     "end_time": "2024-12-24T09:50:44.218719Z",
     "start_time": "2024-12-24T09:50:44.178986Z"
    }
   },
   "cell_type": "code",
   "source": "submit(ans1, part=\"a\", year=year, day=day)",
   "id": "bd596d8e46fa88d4",
   "outputs": [
    {
     "name": "stdout",
     "output_type": "stream",
     "text": [
      "Part a already solved with same answer: 42883464055378\n"
     ]
    }
   ],
   "execution_count": 6
  },
  {
   "metadata": {
    "ExecuteTime": {
     "end_time": "2024-12-24T09:50:45.024417Z",
     "start_time": "2024-12-24T09:50:45.020824Z"
    }
   },
   "cell_type": "code",
   "source": [
    "# BINARY ADDER\n",
    "# interim_bit = a XOR b -- where a,b should startwith [x,y]\n",
    "# and_bit = a AND b -- where a,b should startwith [x,y]\n",
    "# sum_bit = interim_bit XOR carry\n",
    "# interim_carry = carry_in AND interim_bit\n",
    "# carry = and_bit OR interim_carry\n",
    "\n",
    "#inputs: 45\n",
    "#outputs: 46\n",
    "#carries: 44\n",
    "\n",
    "def is_input(a):\n",
    "    return a.startswith('x') or a.startswith('y')"
   ],
   "id": "99e326b520091910",
   "outputs": [],
   "execution_count": 7
  },
  {
   "metadata": {
    "ExecuteTime": {
     "end_time": "2024-12-24T09:50:45.336261Z",
     "start_time": "2024-12-24T09:50:45.331090Z"
    }
   },
   "cell_type": "code",
   "source": [
    "interim_bits = set()\n",
    "output_bits = set()\n",
    "and_bits = set()\n",
    "interim_carry_bits = set()\n",
    "carry_bits = set()\n",
    "for instr in circ:\n",
    "    a, b, op, res = instr\n",
    "    if op == \"XOR\":\n",
    "        if is_input(a) and is_input(b) and not res == \"z00\":\n",
    "            #input bits should not have been swapped\n",
    "            assert a[1:] == b[1:]\n",
    "            interim_bits.add(res)\n",
    "        else:\n",
    "            output_bits.add(res)\n",
    "    if op == \"AND\":\n",
    "        if is_input(a) and is_input(b):\n",
    "            assert a[1:] == b[1:]\n",
    "            if a[1:] == \"00\":\n",
    "                carry_bits.add(res)\n",
    "            else:\n",
    "                and_bits.add(res)\n",
    "        else:\n",
    "            interim_carry_bits.add(res)\n",
    "    if op == \"OR\":\n",
    "        carry_bits.add(res)\n",
    "\n",
    "print(\n",
    "    f\"interim_bits: {len(interim_bits)}\",\n",
    "    f\"output_bits: {len(output_bits)}\",\n",
    "    f\"and_bits: {len(and_bits)}\",\n",
    "    f\"interim_carry_bits: {len(interim_carry_bits)}\",\n",
    "    f\"carry_bits: {len(carry_bits)}\",\n",
    ")"
   ],
   "id": "5eaa4bfed7495318",
   "outputs": [
    {
     "name": "stdout",
     "output_type": "stream",
     "text": [
      "interim_bits: 44 output_bits: 45 and_bits: 44 interim_carry_bits: 44 carry_bits: 45\n"
     ]
    }
   ],
   "execution_count": 8
  },
  {
   "metadata": {
    "ExecuteTime": {
     "end_time": "2024-12-24T09:50:46.217099Z",
     "start_time": "2024-12-24T09:50:46.213920Z"
    }
   },
   "cell_type": "code",
   "source": "to_swap = set()",
   "id": "57e5e269fc9f66cf",
   "outputs": [],
   "execution_count": 9
  },
  {
   "metadata": {
    "ExecuteTime": {
     "end_time": "2024-12-24T09:50:46.730009Z",
     "start_time": "2024-12-24T09:50:46.726310Z"
    }
   },
   "cell_type": "code",
   "source": [
    "to_swap.update([a for a in output_bits if not a.startswith('z')])\n",
    "to_swap.update([a for a in interim_bits if a.startswith('z')])\n",
    "to_swap.update([a for a in interim_carry_bits if a.startswith('z')])\n",
    "to_swap.update([a for a in and_bits if a.startswith('z')])\n",
    "to_swap.update([a for a in carry_bits if a.startswith('z') and a != 'z45'])"
   ],
   "id": "4dd0bcf4335a7d6b",
   "outputs": [],
   "execution_count": 10
  },
  {
   "metadata": {
    "ExecuteTime": {
     "end_time": "2024-12-24T09:50:47.284426Z",
     "start_time": "2024-12-24T09:50:47.276336Z"
    }
   },
   "cell_type": "code",
   "source": [
    "for instr in circ:\n",
    "    a, b, op, res = instr\n",
    "    if res in output_bits:\n",
    "        if res == \"z00\":\n",
    "            continue\n",
    "        if not (a in interim_bits or b in interim_bits) or not (a in carry_bits or b in carry_bits):\n",
    "            if a in carry_bits or a in interim_bits:\n",
    "                to_swap.add(b)\n",
    "            else:\n",
    "                to_swap.add(a)\n",
    "for instr in circ:\n",
    "    a, b, op, res = instr\n",
    "    if res in carry_bits:\n",
    "        if not (a in interim_carry_bits or b in interim_carry_bits) or not (a in and_bits or b in and_bits):\n",
    "            if a == \"x00\" or b == \"x00\":\n",
    "                continue\n",
    "            if a in and_bits or a in interim_carry_bits:\n",
    "                to_swap.add(b)\n",
    "            else:\n",
    "                to_swap.add(a)\n"
   ],
   "id": "6e98d4af6ddf072a",
   "outputs": [],
   "execution_count": 11
  },
  {
   "metadata": {
    "ExecuteTime": {
     "end_time": "2024-12-24T09:50:48.074721Z",
     "start_time": "2024-12-24T09:50:48.071332Z"
    }
   },
   "cell_type": "code",
   "source": "ans2 = \",\".join(sorted(list(to_swap)))",
   "id": "acc095b522541cde",
   "outputs": [],
   "execution_count": 12
  },
  {
   "metadata": {
    "ExecuteTime": {
     "end_time": "2024-12-24T09:50:48.417705Z",
     "start_time": "2024-12-24T09:50:48.415086Z"
    }
   },
   "cell_type": "code",
   "source": "submit(ans2, part=\"b\", day=day, year=year)",
   "id": "3b7614eb1d699168",
   "outputs": [
    {
     "name": "stdout",
     "output_type": "stream",
     "text": [
      "Part b already solved with same answer: dqr,dtk,pfw,shh,vgs,z21,z33,z39\n"
     ]
    }
   ],
   "execution_count": 13
  },
  {
   "metadata": {},
   "cell_type": "code",
   "outputs": [],
   "execution_count": null,
   "source": [
    "to_number = lambda bits:int(\"\".join(map(str, reversed(bits))), 2)\n",
    "\n",
    "input_x = to_number([s[f\"x{i:02d}\"] for i in range(45)])\n",
    "input_y = to_number([s[f\"y{i:02d}\"] for i in range(45)])\n",
    "output = to_number([s[f\"z{i:02d}\"] for i in range(46)])\n",
    "\n",
    "expected = input_x + input_y"
   ],
   "id": "c10b0bf1feda1e25"
  },
  {
   "metadata": {
    "ExecuteTime": {
     "end_time": "2024-12-24T10:07:15.891716Z",
     "start_time": "2024-12-24T10:07:15.887704Z"
    }
   },
   "cell_type": "code",
   "source": [
    "def update_circ(pairs, circ):\n",
    "    new_circ = []\n",
    "    for instr in circ:\n",
    "        instr = \",\".join(instr)\n",
    "        for a1, a2 in pairs:\n",
    "            instr = instr.replace(a1, \"TMP\")\n",
    "            instr = instr.replace(a2, a1)\n",
    "            instr = instr.replace(\"TMP\", a2)\n",
    "        new_circ.append(tuple(instr.split(\",\")))\n",
    "    return new_circ\n"
   ],
   "id": "7ad9aa15438aa4c7",
   "outputs": [],
   "execution_count": 35
  },
  {
   "metadata": {
    "ExecuteTime": {
     "end_time": "2024-12-24T10:09:46.156699Z",
     "start_time": "2024-12-24T10:09:45.961436Z"
    }
   },
   "cell_type": "code",
   "source": [
    "from itertools import combinations, permutations\n",
    "count = 0\n",
    "found = False\n",
    "for a1, b1, c1, d1 in combinations(to_swap, 4):\n",
    "    others = to_swap - {a1, b1, c1, d1}\n",
    "    for a2, b2, c2, d2 in permutations(others, 4):\n",
    "        count += 1\n",
    "        pairs = ((a1, a2), (b1, b2), (c1, c2), (d1, d2))\n",
    "        c = update_circ(pairs, circ)\n",
    "        s = parse_circuit(state, c)\n",
    "        output = to_number([s[f\"z{i:02d}\"] for i in range(46)])\n",
    "        if output == expected:\n",
    "            print(pairs)\n",
    "            found = True\n",
    "        if found:\n",
    "            break\n",
    "    if found: break\n",
    "count"
   ],
   "id": "13d9c70d148e12a5",
   "outputs": [
    {
     "name": "stdout",
     "output_type": "stream",
     "text": [
      "(('z33', 'dqr'), ('vgs', 'z21'), ('dtk', 'pfw'), ('z39', 'shh'))\n"
     ]
    },
    {
     "data": {
      "text/plain": [
       "865"
      ]
     },
     "execution_count": 45,
     "metadata": {},
     "output_type": "execute_result"
    }
   ],
   "execution_count": 45
  },
  {
   "metadata": {},
   "cell_type": "code",
   "outputs": [],
   "execution_count": null,
   "source": "",
   "id": "712dc6b176b19008"
  }
 ],
 "metadata": {
  "kernelspec": {
   "display_name": "aoc",
   "language": "python",
   "name": "aoc"
  },
  "language_info": {
   "codemirror_mode": {
    "name": "ipython",
    "version": 2
   },
   "file_extension": ".py",
   "mimetype": "text/x-python",
   "name": "python",
   "nbconvert_exporter": "python",
   "pygments_lexer": "ipython2",
   "version": "2.7.6"
  }
 },
 "nbformat": 4,
 "nbformat_minor": 5
}
