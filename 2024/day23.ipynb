{
 "cells": [
  {
   "metadata": {
    "ExecuteTime": {
     "end_time": "2024-12-23T15:37:16.852599Z",
     "start_time": "2024-12-23T15:37:16.848977Z"
    }
   },
   "cell_type": "code",
   "source": "year = 2024; day = 23",
   "id": "14097d859b17d8da",
   "outputs": [],
   "execution_count": 103
  },
  {
   "metadata": {
    "ExecuteTime": {
     "end_time": "2024-12-23T15:37:17.332266Z",
     "start_time": "2024-12-23T15:37:17.324580Z"
    }
   },
   "cell_type": "code",
   "source": [
    "from aocd import get_data, submit\n",
    "from collections import defaultdict\n",
    "data = get_data(year=year, day=day)\n",
    "\n",
    "data = data.strip()\n",
    "data = data.split(\"\\n\")\n",
    "\n",
    "conn = defaultdict(set)\n",
    "def parse_line(line):\n",
    "    line = line.split(\"-\")\n",
    "    conn[line[1]].add(line[0])\n",
    "    conn[line[0]].add(line[1])\n",
    "for line in data:\n",
    "    parse_line(line)"
   ],
   "id": "e10b758f9c8c5fd3",
   "outputs": [],
   "execution_count": 104
  },
  {
   "metadata": {
    "ExecuteTime": {
     "end_time": "2024-12-23T15:37:17.991134Z",
     "start_time": "2024-12-23T15:37:17.920776Z"
    }
   },
   "cell_type": "code",
   "source": [
    "from itertools import combinations\n",
    "\n",
    "set_3 = set()\n",
    "for curr in conn:\n",
    "    neigh = conn[curr]\n",
    "    if len(neigh) < 2:\n",
    "        continue\n",
    "    for a, b in combinations(neigh, 2):\n",
    "        if(\n",
    "            all(curr in conn[x] for x in [a, b]) and\n",
    "            all(a in conn[x] for x in [curr, b]) and\n",
    "            all(b in conn[x] for x in [a, curr])\n",
    "        ):\n",
    "            set_3.add(tuple(sorted([curr, a, b])))\n"
   ],
   "id": "bb0ee1fef8c98598",
   "outputs": [],
   "execution_count": 105
  },
  {
   "metadata": {
    "ExecuteTime": {
     "end_time": "2024-12-23T15:37:18.979947Z",
     "start_time": "2024-12-23T15:37:18.969557Z"
    }
   },
   "cell_type": "code",
   "source": [
    "count = 0\n",
    "for s in set_3:\n",
    "    if any(x.startswith('t') for x in s):\n",
    "        count += 1\n",
    "ans1 = count\n",
    "ans1"
   ],
   "id": "b94881e345ae6a30",
   "outputs": [
    {
     "data": {
      "text/plain": [
       "1062"
      ]
     },
     "execution_count": 106,
     "metadata": {},
     "output_type": "execute_result"
    }
   ],
   "execution_count": 106
  },
  {
   "metadata": {
    "ExecuteTime": {
     "end_time": "2024-12-23T15:37:19.749184Z",
     "start_time": "2024-12-23T15:37:19.744884Z"
    }
   },
   "cell_type": "code",
   "source": "submit(ans1, part=\"a\", year=year, day=day)",
   "id": "1922b30e11dd926e",
   "outputs": [
    {
     "name": "stdout",
     "output_type": "stream",
     "text": [
      "Part a already solved with same answer: 1062\n"
     ]
    }
   ],
   "execution_count": 107
  },
  {
   "metadata": {
    "ExecuteTime": {
     "end_time": "2024-12-23T15:37:20.364565Z",
     "start_time": "2024-12-23T15:37:20.352815Z"
    }
   },
   "cell_type": "code",
   "source": [
    "from collections import Counter\n",
    "\n",
    "counters = {}\n",
    "max_common = 0\n",
    "for curr in conn:\n",
    "    common = conn[curr] | {curr}\n",
    "    common_count = [len(common & conn[a]) for a in conn[curr]]\n",
    "    counters[curr] = Counter(common_count)\n",
    "\n",
    "max_common = max([max(list(c.keys())) for _, c in counters.items()])"
   ],
   "id": "75aa838537278d81",
   "outputs": [],
   "execution_count": 108
  },
  {
   "metadata": {
    "ExecuteTime": {
     "end_time": "2024-12-23T15:37:20.965882Z",
     "start_time": "2024-12-23T15:37:20.962936Z"
    }
   },
   "cell_type": "code",
   "source": [
    "pswd = []\n",
    "for curr, c in counters.items():\n",
    "    if c[max_common] == max_common:\n",
    "        pswd.append(curr)"
   ],
   "id": "1ed4caf59ed400d1",
   "outputs": [],
   "execution_count": 109
  },
  {
   "metadata": {
    "ExecuteTime": {
     "end_time": "2024-12-23T15:37:21.305340Z",
     "start_time": "2024-12-23T15:37:21.302826Z"
    }
   },
   "cell_type": "code",
   "source": "ans2 = \",\".join(sorted(pswd))",
   "id": "f923a12fab76dd82",
   "outputs": [],
   "execution_count": 110
  },
  {
   "metadata": {
    "ExecuteTime": {
     "end_time": "2024-12-23T15:37:21.775091Z",
     "start_time": "2024-12-23T15:37:21.772269Z"
    }
   },
   "cell_type": "code",
   "source": "submit(ans2, part=\"b\", year=year, day=day)",
   "id": "9526768785b06fae",
   "outputs": [
    {
     "name": "stdout",
     "output_type": "stream",
     "text": [
      "Part b already solved with same answer: bz,cs,fx,ms,oz,po,sy,uh,uv,vw,xu,zj,zm\n"
     ]
    }
   ],
   "execution_count": 111
  },
  {
   "metadata": {},
   "cell_type": "code",
   "outputs": [],
   "execution_count": null,
   "source": "",
   "id": "fc3489b2e2423bfb"
  }
 ],
 "metadata": {
  "kernelspec": {
   "display_name": "aoc",
   "language": "python",
   "name": "aoc"
  },
  "language_info": {
   "codemirror_mode": {
    "name": "ipython",
    "version": 2
   },
   "file_extension": ".py",
   "mimetype": "text/x-python",
   "name": "python",
   "nbconvert_exporter": "python",
   "pygments_lexer": "ipython2",
   "version": "2.7.6"
  }
 },
 "nbformat": 4,
 "nbformat_minor": 5
}
