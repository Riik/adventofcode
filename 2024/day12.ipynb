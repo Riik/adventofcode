{
 "cells": [
  {
   "metadata": {
    "ExecuteTime": {
     "end_time": "2024-12-12T07:29:03.235495Z",
     "start_time": "2024-12-12T07:29:03.230474Z"
    }
   },
   "cell_type": "code",
   "source": [
    "year = 2024; day = 12\n",
    "\n",
    "directions_map = {\n",
    "    \"W\": (0, -1),\n",
    "    \"NW\": (-1, -1),\n",
    "    \"N\": (-1, 0),\n",
    "    \"NE\": (-1, 1),\n",
    "    \"E\": (0, 1),\n",
    "    \"SE\": (1, 1),\n",
    "    \"S\": (1, 0),\n",
    "    \"SW\": (1, -1)\n",
    "}\n",
    "\n",
    "def in_bounds(y, x):\n",
    "    return 0 <= y < H and 0 <= x < W\n",
    "\n",
    "def get_rel_coords(y, x, dir):\n",
    "    dy, dx = directions_map[dir]\n",
    "    return y+dy, x+dx\n",
    "\n",
    "def loc_data(y, x):\n",
    "    return data[y][x] if in_bounds(y, x) else \"\"\n",
    "\n",
    "def loc_data_rel(y, x, dir):\n",
    "    return loc_data(*get_rel_coords(y, x, dir))"
   ],
   "id": "14097d859b17d8da",
   "outputs": [],
   "execution_count": 1
  },
  {
   "metadata": {
    "ExecuteTime": {
     "end_time": "2024-12-12T07:29:03.478593Z",
     "start_time": "2024-12-12T07:29:03.239098Z"
    }
   },
   "cell_type": "code",
   "source": [
    "from aocd import get_data, submit\n",
    "\n",
    "data = get_data(year=year, day=day)\n",
    "\n",
    "data = data.strip()\n",
    "data = [d for d in data.split()]\n",
    "W = len(data[0])\n",
    "H = len(data)\n",
    "assert W == H"
   ],
   "id": "e10b758f9c8c5fd3",
   "outputs": [],
   "execution_count": 2
  },
  {
   "metadata": {
    "ExecuteTime": {
     "end_time": "2024-12-12T07:29:03.549971Z",
     "start_time": "2024-12-12T07:29:03.546694Z"
    }
   },
   "cell_type": "code",
   "source": [
    "from collections import defaultdict\n",
    "directions = [\"W\", \"N\", \"E\", \"S\"]\n",
    "\n",
    "area = defaultdict(int)\n",
    "edges = defaultdict(int)\n",
    "\n",
    "def flood_fill(y, x, C):\n",
    "    edges = 0\n",
    "    area = set()\n",
    "    positions = [(y, x)]\n",
    "    visited = set()\n",
    "\n",
    "    for _ in range(1000):\n",
    "        new_positions = set()\n",
    "        for p in positions:\n",
    "            y, x = p\n",
    "            if p in visited:\n",
    "                continue\n",
    "            visited.add(p)\n",
    "            if loc_data(y, x) == C:\n",
    "                area.add(p)\n",
    "\n",
    "            for dir in directions:\n",
    "                new_p = get_rel_coords(y, x, dir)\n",
    "                val = loc_data(*new_p)\n",
    "                if val == C:\n",
    "                    new_positions.add(new_p)\n",
    "                else:\n",
    "                    edges += 1\n",
    "\n",
    "        if not new_positions:\n",
    "            return edges, area\n",
    "\n",
    "        positions = list(new_positions.copy())\n",
    "    raise ValueError(\"Too many iterations\")"
   ],
   "id": "d78381b2dc1cb6aa",
   "outputs": [],
   "execution_count": 3
  },
  {
   "metadata": {
    "ExecuteTime": {
     "end_time": "2024-12-12T07:29:03.593522Z",
     "start_time": "2024-12-12T07:29:03.554787Z"
    }
   },
   "cell_type": "code",
   "source": [
    "visited = set()\n",
    "all_fields = []\n",
    "for y in range(H):\n",
    "    for x in range(W):\n",
    "        c = data[y][x]\n",
    "        if (y, x) in visited:\n",
    "            continue\n",
    "        edges, members = flood_fill(y, x, c)\n",
    "        visited.update(members)\n",
    "\n",
    "        all_fields.append((c, edges, members))"
   ],
   "id": "b430acf0cfbfe05c",
   "outputs": [],
   "execution_count": 4
  },
  {
   "metadata": {
    "ExecuteTime": {
     "end_time": "2024-12-12T07:29:03.606651Z",
     "start_time": "2024-12-12T07:29:03.603690Z"
    }
   },
   "cell_type": "code",
   "source": [
    "corners_dirs = [\n",
    "    [\"W\", \"NW\", \"N\"],\n",
    "    [\"N\", \"NE\", \"E\"],\n",
    "    [\"E\", \"SE\", \"S\"],\n",
    "    [\"S\", \"SW\", \"W\"]\n",
    "]\n",
    "\n",
    "def count_corners(members):\n",
    "    corners = 0\n",
    "    members = sorted(list(members))\n",
    "    for y, x in members:\n",
    "        C = data[y][x]\n",
    "\n",
    "        for corner_dir in corners_dirs:\n",
    "            corner_neigh = [\n",
    "                loc_data_rel(y, x, dir) == C\n",
    "                for dir in corner_dir\n",
    "            ]\n",
    "            # . C\n",
    "            # C C\n",
    "            # interior corner, W NW N example\n",
    "            if corner_neigh == [True, False, True]:\n",
    "                corners += 1\n",
    "            # . .\n",
    "            # . C\n",
    "            # exterior corner, W NW N example\n",
    "            if corner_neigh == [False, False, False]:\n",
    "                corners += 1\n",
    "            # C .\n",
    "            # . C\n",
    "            # exterior corner touching another field, W NW N example\n",
    "            if corner_neigh == [False, True, False]:\n",
    "                corners += 1\n",
    "\n",
    "    return corners\n"
   ],
   "id": "2ce38fe8ee25ddd0",
   "outputs": [],
   "execution_count": 5
  },
  {
   "metadata": {
    "ExecuteTime": {
     "end_time": "2024-12-12T07:29:03.650541Z",
     "start_time": "2024-12-12T07:29:03.617618Z"
    }
   },
   "cell_type": "code",
   "source": [
    "ans1 = 0\n",
    "for c, e, m in all_fields:\n",
    "    ans1 += e * len(m)\n",
    "submit(ans1, part=\"a\", year=year, day=day)"
   ],
   "id": "b6e9088254a2a9ac",
   "outputs": [
    {
     "name": "stdout",
     "output_type": "stream",
     "text": [
      "Part a already solved with same answer: 1344578\n"
     ]
    }
   ],
   "execution_count": 6
  },
  {
   "metadata": {
    "ExecuteTime": {
     "end_time": "2024-12-12T07:29:03.798745Z",
     "start_time": "2024-12-12T07:29:03.717730Z"
    }
   },
   "cell_type": "code",
   "source": [
    "ans2 = 0\n",
    "for C, edges, members in all_fields:\n",
    "    ans2 += len(members) * count_corners(members)\n",
    "submit(ans2, part=\"b\", year=year, day=day)"
   ],
   "id": "649c0e14e0b64b3f",
   "outputs": [
    {
     "name": "stdout",
     "output_type": "stream",
     "text": [
      "Part b already solved with same answer: 814302\n"
     ]
    }
   ],
   "execution_count": 7
  }
 ],
 "metadata": {
  "kernelspec": {
   "display_name": "aoc",
   "language": "python",
   "name": "aoc"
  },
  "language_info": {
   "codemirror_mode": {
    "name": "ipython",
    "version": 2
   },
   "file_extension": ".py",
   "mimetype": "text/x-python",
   "name": "python",
   "nbconvert_exporter": "python",
   "pygments_lexer": "ipython2",
   "version": "2.7.6"
  }
 },
 "nbformat": 4,
 "nbformat_minor": 5
}
