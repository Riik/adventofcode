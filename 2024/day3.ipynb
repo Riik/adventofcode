{
 "cells": [
  {
   "metadata": {
    "ExecuteTime": {
     "end_time": "2024-12-03T05:16:13.106735Z",
     "start_time": "2024-12-03T05:16:13.104122Z"
    }
   },
   "cell_type": "code",
   "source": "year = 2024; day = 3",
   "id": "14097d859b17d8da",
   "outputs": [],
   "execution_count": 1
  },
  {
   "metadata": {
    "collapsed": true,
    "ExecuteTime": {
     "end_time": "2024-12-03T05:16:13.304926Z",
     "start_time": "2024-12-03T05:16:13.111505Z"
    }
   },
   "cell_type": "code",
   "source": [
    "from aocd import get_data, submit\n",
    "\n",
    "data = get_data(year=year, day=day)\n",
    "data = data.strip()\n",
    "\n",
    "data[:5]"
   ],
   "id": "initial_id",
   "outputs": [
    {
     "data": {
      "text/plain": [
       "'@why('"
      ]
     },
     "execution_count": 2,
     "metadata": {},
     "output_type": "execute_result"
    }
   ],
   "execution_count": 2
  },
  {
   "metadata": {
    "ExecuteTime": {
     "end_time": "2024-12-03T05:16:13.361948Z",
     "start_time": "2024-12-03T05:16:13.359358Z"
    }
   },
   "cell_type": "code",
   "outputs": [
    {
     "data": {
      "text/plain": [
       "[('247', '89'), ('980', '958'), ('529', '895'), ('519', '986'), ('710', '934')]"
      ]
     },
     "execution_count": 3,
     "metadata": {},
     "output_type": "execute_result"
    }
   ],
   "execution_count": 3,
   "source": [
    "# data = \"xmul(2,4)%&mul[3,7]!@^do_not_mul(5,5)+mul(32,64]then(mul(11,8)mul(8,5))\"\n",
    "# goal: find mul(d,d)\n",
    "import re\n",
    "regex_string = r\"mul\\((\\d+),(\\d+)\\)\"\n",
    "matches = re.findall(regex_string, data)\n",
    "matches[:5]"
   ],
   "id": "a646e4f0b9356b2a"
  },
  {
   "metadata": {
    "ExecuteTime": {
     "end_time": "2024-12-03T05:16:13.368507Z",
     "start_time": "2024-12-03T05:16:13.366480Z"
    }
   },
   "cell_type": "code",
   "source": "ans = sum([int(a)*int(b) for a, b in matches])",
   "id": "8406c14ef29a47cb",
   "outputs": [],
   "execution_count": 4
  },
  {
   "metadata": {
    "ExecuteTime": {
     "end_time": "2024-12-03T05:16:13.406840Z",
     "start_time": "2024-12-03T05:16:13.380361Z"
    }
   },
   "cell_type": "code",
   "source": "submit(ans, part=\"a\", year=year, day=day)",
   "id": "3634fa9acc3c3c39",
   "outputs": [
    {
     "name": "stdout",
     "output_type": "stream",
     "text": [
      "Part a already solved with same answer: 173731097\n"
     ]
    }
   ],
   "execution_count": 5
  },
  {
   "metadata": {
    "ExecuteTime": {
     "end_time": "2024-12-03T05:16:13.487542Z",
     "start_time": "2024-12-03T05:16:13.411690Z"
    }
   },
   "cell_type": "code",
   "source": [
    "pairs = []\n",
    "\n",
    "matches = [m.start() for m in re.finditer(regex_string, data)]\n",
    "dos = r\"do\\(\\)\"\n",
    "donts = r\"don't\\(\\)\"\n",
    "\n",
    "do_ids = [m.start() for m in re.finditer(dos, data)]\n",
    "dont_ids = [m.start() for m in re.finditer(donts, data)]\n",
    "\n",
    "enabled = True\n",
    "for i in range(len(data)):\n",
    "    if i in do_ids:\n",
    "        enabled = True\n",
    "    if i in dont_ids:\n",
    "        enabled = False\n",
    "    if i in matches and enabled:\n",
    "        new_pair = re.search(regex_string, data[i:i+15]).groups()\n",
    "        pairs.append(new_pair)\n",
    "\n",
    "pairs[:5]"
   ],
   "id": "95f83d5841fdd52d",
   "outputs": [
    {
     "data": {
      "text/plain": [
       "[('247', '89'), ('980', '958'), ('529', '895'), ('519', '986'), ('710', '934')]"
      ]
     },
     "execution_count": 6,
     "metadata": {},
     "output_type": "execute_result"
    }
   ],
   "execution_count": 6
  },
  {
   "metadata": {
    "ExecuteTime": {
     "end_time": "2024-12-03T05:16:13.505454Z",
     "start_time": "2024-12-03T05:16:13.503610Z"
    }
   },
   "cell_type": "code",
   "source": "ans = sum([int(a)*int(b) for a, b in pairs])",
   "id": "246bc3a779454e36",
   "outputs": [],
   "execution_count": 7
  },
  {
   "metadata": {
    "ExecuteTime": {
     "end_time": "2024-12-03T05:16:13.516813Z",
     "start_time": "2024-12-03T05:16:13.514361Z"
    }
   },
   "cell_type": "code",
   "source": "submit(ans, part=\"b\", year=year, day=day)",
   "id": "2fd2dea5436b80e3",
   "outputs": [
    {
     "name": "stdout",
     "output_type": "stream",
     "text": [
      "Part b already solved with same answer: 93729253\n"
     ]
    }
   ],
   "execution_count": 8
  }
 ],
 "metadata": {
  "kernelspec": {
   "display_name": "aoc",
   "language": "python",
   "name": "aoc"
  },
  "language_info": {
   "codemirror_mode": {
    "name": "ipython",
    "version": 2
   },
   "file_extension": ".py",
   "mimetype": "text/x-python",
   "name": "python",
   "nbconvert_exporter": "python",
   "pygments_lexer": "ipython2",
   "version": "2.7.6"
  }
 },
 "nbformat": 4,
 "nbformat_minor": 5
}
