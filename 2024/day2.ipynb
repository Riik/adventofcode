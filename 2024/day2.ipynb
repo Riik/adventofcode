{
 "cells": [
  {
   "metadata": {
    "ExecuteTime": {
     "end_time": "2024-12-02T17:43:41.038994Z",
     "start_time": "2024-12-02T17:43:41.036226Z"
    }
   },
   "cell_type": "code",
   "source": "year = 2024; day = 2",
   "id": "14097d859b17d8da",
   "outputs": [],
   "execution_count": 1
  },
  {
   "metadata": {
    "collapsed": true,
    "ExecuteTime": {
     "end_time": "2024-12-02T17:43:47.526601Z",
     "start_time": "2024-12-02T17:43:47.512073Z"
    }
   },
   "cell_type": "code",
   "source": [
    "from aocd import get_data, submit\n",
    "import numpy as np\n",
    "data = get_data(year=year, day=day)\n",
    "data = data.strip()\n",
    "data = data.split(\"\\n\")\n",
    "data = [np.array([int(d) for d in line.split()]) for line in data]\n",
    "data[:5]\n",
    "\n",
    "diff = [np.diff(l) for l in data]\n",
    "\n",
    "diff[:5]"
   ],
   "id": "initial_id",
   "outputs": [
    {
     "data": {
      "text/plain": [
       "[array([ 2,  1,  2,  1,  1,  2, -3]),\n",
       " array([3, 1, 3, 0]),\n",
       " array([1, 3, 3, 2, 2, 4]),\n",
       " array([3, 3, 1, 7]),\n",
       " array([ 3,  2,  1, -1,  1])]"
      ]
     },
     "execution_count": 7,
     "metadata": {},
     "output_type": "execute_result"
    }
   ],
   "execution_count": 7
  },
  {
   "metadata": {
    "ExecuteTime": {
     "end_time": "2024-12-02T17:43:41.551778Z",
     "start_time": "2024-12-02T17:43:41.543593Z"
    }
   },
   "cell_type": "code",
   "source": [
    "\n",
    "# [int(np.abs(np.sum(np.sign(np.diff(l))))) for l in data]\n",
    "def is_valid(d):\n",
    "    return (\n",
    "    (np.all(d >=  1) or np.all(d <=  -1)) and\n",
    "    (np.all(np.abs(d) <= 3))\n",
    "    )\n",
    "\n",
    "valid = [is_valid(d) for d in diff]"
   ],
   "id": "494caad1b2ca635e",
   "outputs": [],
   "execution_count": 3
  },
  {
   "metadata": {
    "ExecuteTime": {
     "end_time": "2024-12-02T17:43:41.563789Z",
     "start_time": "2024-12-02T17:43:41.559982Z"
    }
   },
   "cell_type": "code",
   "source": "submit(sum(valid), part=\"a\", year=year, day=day)",
   "id": "93eb3033bd9a2c4c",
   "outputs": [
    {
     "name": "stderr",
     "output_type": "stream",
     "text": [
      "coerced int64 value np.int64(663) for 2024/02 to '663'\n"
     ]
    },
    {
     "name": "stdout",
     "output_type": "stream",
     "text": [
      "Part a already solved with same answer: 663\n"
     ]
    }
   ],
   "execution_count": 4
  },
  {
   "metadata": {
    "ExecuteTime": {
     "end_time": "2024-12-02T17:43:41.611943Z",
     "start_time": "2024-12-02T17:43:41.581636Z"
    }
   },
   "cell_type": "code",
   "source": [
    "valid_count = 0\n",
    "for d in data:\n",
    "    # remove one element from d\n",
    "    for i in range(0, len(d)):\n",
    "        x = np.delete(d, i)\n",
    "        x = np.diff(x)\n",
    "        if is_valid(x):\n",
    "            valid_count += 1\n",
    "            break\n",
    "valid_count"
   ],
   "id": "ae6590cdb19427f1",
   "outputs": [
    {
     "data": {
      "text/plain": [
       "692"
      ]
     },
     "execution_count": 5,
     "metadata": {},
     "output_type": "execute_result"
    }
   ],
   "execution_count": 5
  },
  {
   "metadata": {
    "ExecuteTime": {
     "end_time": "2024-12-02T17:43:41.619646Z",
     "start_time": "2024-12-02T17:43:41.616634Z"
    }
   },
   "cell_type": "code",
   "source": "submit(valid_count, part=\"b\", year=year, day=day)",
   "id": "4bbf4acd20cf9e97",
   "outputs": [
    {
     "name": "stdout",
     "output_type": "stream",
     "text": [
      "aocd will not submit that answer again. At 2024-12-02 00:26:38.767568-05:00 you've previously submitted 692 and the server responded with:\n",
      "\u001B[32mThat's the right answer!  You are one gold star closer to finding the Chief Historian.You have completed Day 2! You can [Shareon\n",
      "  Bluesky\n",
      "Twitter\n",
      "Mastodon] this victory or [Return to Your Advent Calendar].\u001B[0m\n"
     ]
    }
   ],
   "execution_count": 6
  }
 ],
 "metadata": {
  "kernelspec": {
   "display_name": "aoc",
   "language": "python",
   "name": "aoc"
  },
  "language_info": {
   "codemirror_mode": {
    "name": "ipython",
    "version": 2
   },
   "file_extension": ".py",
   "mimetype": "text/x-python",
   "name": "python",
   "nbconvert_exporter": "python",
   "pygments_lexer": "ipython2",
   "version": "2.7.6"
  }
 },
 "nbformat": 4,
 "nbformat_minor": 5
}
