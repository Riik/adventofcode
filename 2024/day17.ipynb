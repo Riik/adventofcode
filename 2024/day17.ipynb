{
 "cells": [
  {
   "metadata": {
    "ExecuteTime": {
     "end_time": "2024-12-17T11:13:06.309752Z",
     "start_time": "2024-12-17T11:13:06.306767Z"
    }
   },
   "cell_type": "code",
   "source": "year = 2024; day = 17",
   "id": "14097d859b17d8da",
   "outputs": [],
   "execution_count": 1
  },
  {
   "metadata": {
    "ExecuteTime": {
     "end_time": "2024-12-17T11:13:06.606317Z",
     "start_time": "2024-12-17T11:13:06.314611Z"
    }
   },
   "cell_type": "code",
   "source": [
    "\n",
    "from aocd import get_data, submit\n",
    "\n",
    "data = get_data(year=year, day=day)\n",
    "data = data.strip()\n",
    "starting_registers, program = data.split(\"\\n\\n\")\n",
    "\n",
    "starting_registers = starting_registers.split(\"\\n\")\n",
    "starting_registers = [int(r.split(\":\")[-1]) for r in starting_registers]\n",
    "\n",
    "program = list(map(int, program.split(\" \")[-1].strip().split(\",\")))\n",
    "starting_registers"
   ],
   "id": "e10b758f9c8c5fd3",
   "outputs": [
    {
     "data": {
      "text/plain": [
       "[55593699, 0, 0]"
      ]
     },
     "execution_count": 2,
     "metadata": {},
     "output_type": "execute_result"
    }
   ],
   "execution_count": 2
  },
  {
   "metadata": {
    "ExecuteTime": {
     "end_time": "2024-12-17T11:13:06.704174Z",
     "start_time": "2024-12-17T11:13:06.701935Z"
    }
   },
   "cell_type": "code",
   "source": [
    "A = 0; B = 1; C = 2\n",
    "\n",
    "instructions = {0: \"ADV\", 1: \"BXL\", 2: \"BST\", 3: \"JNZ\", 4: \"BXC\", 5: \"OUT\", 6: \"BDV\", 7: \"CDV\"}\n",
    "\n",
    "combo_op = {\n",
    "    0: lambda reg: 0,\n",
    "    1: lambda reg: 1,\n",
    "    2: lambda reg: 2,\n",
    "    3: lambda reg: 3,\n",
    "    4: lambda reg: reg[A],\n",
    "    5: lambda reg: reg[B],\n",
    "    6: lambda reg: reg[C],\n",
    "    7: lambda reg: -1,\n",
    "}"
   ],
   "id": "c1c8641dbc2f43b8",
   "outputs": [],
   "execution_count": 3
  },
  {
   "metadata": {
    "ExecuteTime": {
     "end_time": "2024-12-17T11:13:06.716781Z",
     "start_time": "2024-12-17T11:13:06.712481Z"
    }
   },
   "cell_type": "code",
   "source": [
    "def single_cycle(pc, reg, program, print_debug=True):\n",
    "    instr = program[pc]\n",
    "    operand = program[pc + 1]\n",
    "    assert instr < 8\n",
    "    assert operand < 8\n",
    "    out = None; ret = None; jumped = False; op = None\n",
    "    match instr:\n",
    "        case 0:\n",
    "            op = combo_op[operand](reg)\n",
    "            ret = reg[A] // (2 ** op)\n",
    "            reg[A] = ret\n",
    "        case 1:\n",
    "            op = int(operand)\n",
    "            ret = reg[B] ^ op\n",
    "            reg[B] = ret\n",
    "        case 2:\n",
    "            op = combo_op[operand](reg)\n",
    "            ret = op % 8\n",
    "            reg[B] = ret\n",
    "        case 3:\n",
    "            op = int(operand)\n",
    "            if reg[A] != 0:\n",
    "                pc = op\n",
    "                jumped = True\n",
    "        case 4:\n",
    "            op = operand  # ignored\n",
    "            ret = reg[B] ^ reg[C]\n",
    "            reg[B] = ret\n",
    "        case 5:\n",
    "            op = combo_op[operand](reg)\n",
    "            out = op % 8\n",
    "        case 6:\n",
    "            op = combo_op[operand](reg)\n",
    "            ret = reg[A] // (2 ** op)\n",
    "            reg[B] = ret\n",
    "        case 7:\n",
    "            op = combo_op[operand](reg)\n",
    "            ret = reg[A] // (2 ** op)\n",
    "            reg[C] = ret\n",
    "    instr_str = instructions[instr]\n",
    "    ret = -1 if (ret is None) else ret\n",
    "    out = -1 if (out is None) else out\n",
    "    assert op is not None\n",
    "    if print_debug:\n",
    "        print(\n",
    "            f\"{instr_str}: {op:14d} -> {ret:14d} ({out:14d}) REG A: {reg[A]:14d}, REG B: {reg[B]:14d}, REG C: {reg[C]:14d}\")\n",
    "        if jumped: print()\n",
    "    if not jumped:\n",
    "        pc += 2\n",
    "    return pc, reg, out\n",
    "\n",
    "\n",
    "def run_program(reg_A, print_debug=True):\n",
    "    reg = starting_registers.copy()\n",
    "    reg[A] = reg_A\n",
    "    prog = program.copy()\n",
    "    outputs = []\n",
    "    pc = 0\n",
    "    while pc < len(prog):\n",
    "        pc, reg, out = single_cycle(pc, reg, prog, print_debug)\n",
    "        if out != -1: outputs.append(out)\n",
    "    return outputs"
   ],
   "id": "78c41d3475ac7dbb",
   "outputs": [],
   "execution_count": 4
  },
  {
   "metadata": {
    "ExecuteTime": {
     "end_time": "2024-12-17T11:13:06.727709Z",
     "start_time": "2024-12-17T11:13:06.724754Z"
    }
   },
   "cell_type": "code",
   "source": [
    "output = run_program(starting_registers[A])\n",
    "ans1 = \",\".join(map(str, output))\n",
    "submit(ans1, part=\"a\", year=year, day=day)"
   ],
   "id": "b075c73bd420af00",
   "outputs": [
    {
     "name": "stdout",
     "output_type": "stream",
     "text": [
      "BST:       55593699 ->              3 (            -1) REG A:       55593699, REG B:              3, REG C:              0\n",
      "BXL:              3 ->              0 (            -1) REG A:       55593699, REG B:              0, REG C:              0\n",
      "CDV:              0 ->       55593699 (            -1) REG A:       55593699, REG B:              0, REG C:       55593699\n",
      "ADV:              3 ->        6949212 (            -1) REG A:        6949212, REG B:              0, REG C:       55593699\n",
      "BXL:              5 ->              5 (            -1) REG A:        6949212, REG B:              5, REG C:       55593699\n",
      "BXC:              4 ->       55593702 (            -1) REG A:        6949212, REG B:       55593702, REG C:       55593699\n",
      "OUT:       55593702 ->             -1 (             6) REG A:        6949212, REG B:       55593702, REG C:       55593699\n",
      "JNZ:              0 ->             -1 (            -1) REG A:        6949212, REG B:       55593702, REG C:       55593699\n",
      "\n",
      "BST:        6949212 ->              4 (            -1) REG A:        6949212, REG B:              4, REG C:       55593699\n",
      "BXL:              3 ->              7 (            -1) REG A:        6949212, REG B:              7, REG C:       55593699\n",
      "CDV:              7 ->          54290 (            -1) REG A:        6949212, REG B:              7, REG C:          54290\n",
      "ADV:              3 ->         868651 (            -1) REG A:         868651, REG B:              7, REG C:          54290\n",
      "BXL:              5 ->              2 (            -1) REG A:         868651, REG B:              2, REG C:          54290\n",
      "BXC:              4 ->          54288 (            -1) REG A:         868651, REG B:          54288, REG C:          54290\n",
      "OUT:          54288 ->             -1 (             0) REG A:         868651, REG B:          54288, REG C:          54290\n",
      "JNZ:              0 ->             -1 (            -1) REG A:         868651, REG B:          54288, REG C:          54290\n",
      "\n",
      "BST:         868651 ->              3 (            -1) REG A:         868651, REG B:              3, REG C:          54290\n",
      "BXL:              3 ->              0 (            -1) REG A:         868651, REG B:              0, REG C:          54290\n",
      "CDV:              0 ->         868651 (            -1) REG A:         868651, REG B:              0, REG C:         868651\n",
      "ADV:              3 ->         108581 (            -1) REG A:         108581, REG B:              0, REG C:         868651\n",
      "BXL:              5 ->              5 (            -1) REG A:         108581, REG B:              5, REG C:         868651\n",
      "BXC:              4 ->         868654 (            -1) REG A:         108581, REG B:         868654, REG C:         868651\n",
      "OUT:         868654 ->             -1 (             6) REG A:         108581, REG B:         868654, REG C:         868651\n",
      "JNZ:              0 ->             -1 (            -1) REG A:         108581, REG B:         868654, REG C:         868651\n",
      "\n",
      "BST:         108581 ->              5 (            -1) REG A:         108581, REG B:              5, REG C:         868651\n",
      "BXL:              3 ->              6 (            -1) REG A:         108581, REG B:              6, REG C:         868651\n",
      "CDV:              6 ->           1696 (            -1) REG A:         108581, REG B:              6, REG C:           1696\n",
      "ADV:              3 ->          13572 (            -1) REG A:          13572, REG B:              6, REG C:           1696\n",
      "BXL:              5 ->              3 (            -1) REG A:          13572, REG B:              3, REG C:           1696\n",
      "BXC:              4 ->           1699 (            -1) REG A:          13572, REG B:           1699, REG C:           1696\n",
      "OUT:           1699 ->             -1 (             3) REG A:          13572, REG B:           1699, REG C:           1696\n",
      "JNZ:              0 ->             -1 (            -1) REG A:          13572, REG B:           1699, REG C:           1696\n",
      "\n",
      "BST:          13572 ->              4 (            -1) REG A:          13572, REG B:              4, REG C:           1696\n",
      "BXL:              3 ->              7 (            -1) REG A:          13572, REG B:              7, REG C:           1696\n",
      "CDV:              7 ->            106 (            -1) REG A:          13572, REG B:              7, REG C:            106\n",
      "ADV:              3 ->           1696 (            -1) REG A:           1696, REG B:              7, REG C:            106\n",
      "BXL:              5 ->              2 (            -1) REG A:           1696, REG B:              2, REG C:            106\n",
      "BXC:              4 ->            104 (            -1) REG A:           1696, REG B:            104, REG C:            106\n",
      "OUT:            104 ->             -1 (             0) REG A:           1696, REG B:            104, REG C:            106\n",
      "JNZ:              0 ->             -1 (            -1) REG A:           1696, REG B:            104, REG C:            106\n",
      "\n",
      "BST:           1696 ->              0 (            -1) REG A:           1696, REG B:              0, REG C:            106\n",
      "BXL:              3 ->              3 (            -1) REG A:           1696, REG B:              3, REG C:            106\n",
      "CDV:              3 ->            212 (            -1) REG A:           1696, REG B:              3, REG C:            212\n",
      "ADV:              3 ->            212 (            -1) REG A:            212, REG B:              3, REG C:            212\n",
      "BXL:              5 ->              6 (            -1) REG A:            212, REG B:              6, REG C:            212\n",
      "BXC:              4 ->            210 (            -1) REG A:            212, REG B:            210, REG C:            212\n",
      "OUT:            210 ->             -1 (             2) REG A:            212, REG B:            210, REG C:            212\n",
      "JNZ:              0 ->             -1 (            -1) REG A:            212, REG B:            210, REG C:            212\n",
      "\n",
      "BST:            212 ->              4 (            -1) REG A:            212, REG B:              4, REG C:            212\n",
      "BXL:              3 ->              7 (            -1) REG A:            212, REG B:              7, REG C:            212\n",
      "CDV:              7 ->              1 (            -1) REG A:            212, REG B:              7, REG C:              1\n",
      "ADV:              3 ->             26 (            -1) REG A:             26, REG B:              7, REG C:              1\n",
      "BXL:              5 ->              2 (            -1) REG A:             26, REG B:              2, REG C:              1\n",
      "BXC:              4 ->              3 (            -1) REG A:             26, REG B:              3, REG C:              1\n",
      "OUT:              3 ->             -1 (             3) REG A:             26, REG B:              3, REG C:              1\n",
      "JNZ:              0 ->             -1 (            -1) REG A:             26, REG B:              3, REG C:              1\n",
      "\n",
      "BST:             26 ->              2 (            -1) REG A:             26, REG B:              2, REG C:              1\n",
      "BXL:              3 ->              1 (            -1) REG A:             26, REG B:              1, REG C:              1\n",
      "CDV:              1 ->             13 (            -1) REG A:             26, REG B:              1, REG C:             13\n",
      "ADV:              3 ->              3 (            -1) REG A:              3, REG B:              1, REG C:             13\n",
      "BXL:              5 ->              4 (            -1) REG A:              3, REG B:              4, REG C:             13\n",
      "BXC:              4 ->              9 (            -1) REG A:              3, REG B:              9, REG C:             13\n",
      "OUT:              9 ->             -1 (             1) REG A:              3, REG B:              9, REG C:             13\n",
      "JNZ:              0 ->             -1 (            -1) REG A:              3, REG B:              9, REG C:             13\n",
      "\n",
      "BST:              3 ->              3 (            -1) REG A:              3, REG B:              3, REG C:             13\n",
      "BXL:              3 ->              0 (            -1) REG A:              3, REG B:              0, REG C:             13\n",
      "CDV:              0 ->              3 (            -1) REG A:              3, REG B:              0, REG C:              3\n",
      "ADV:              3 ->              0 (            -1) REG A:              0, REG B:              0, REG C:              3\n",
      "BXL:              5 ->              5 (            -1) REG A:              0, REG B:              5, REG C:              3\n",
      "BXC:              4 ->              6 (            -1) REG A:              0, REG B:              6, REG C:              3\n",
      "OUT:              6 ->             -1 (             6) REG A:              0, REG B:              6, REG C:              3\n",
      "JNZ:              0 ->             -1 (            -1) REG A:              0, REG B:              6, REG C:              3\n",
      "Part a already solved with same answer: 6,0,6,3,0,2,3,1,6\n"
     ]
    }
   ],
   "execution_count": 5
  },
  {
   "metadata": {
    "ExecuteTime": {
     "end_time": "2024-12-17T11:13:07.106999Z",
     "start_time": "2024-12-17T11:13:06.794964Z"
    }
   },
   "cell_type": "code",
   "source": [
    "sols = set()\n",
    "# init possible bits with all combos of first 3 bits\n",
    "possible_bits = list(range(8))\n",
    "# we loop 16 times, each time adding 3 bits to the input\n",
    "for N in range(16):\n",
    "    new_possible_bits = set()\n",
    "    # loop over all successful bit strings so far\n",
    "    for offset in possible_bits:\n",
    "        # search 6 extra bids\n",
    "        for i in range(1 << 6):\n",
    "            val = offset + (i << (3 * N))\n",
    "            res = run_program(val, print_debug=False)\n",
    "            # check that result of program matches on first N outputs\n",
    "            if len(res) >= N:\n",
    "                if all(r == p for r, p in zip(res[:N], program[:N])):\n",
    "                    mask = (1 << (3 * (N + 1))) - 1\n",
    "                    # keep the part that was (partially) responsible for those N outputs\n",
    "                    new_possible_bits.add(val & mask)\n",
    "            # if exact match we found a solution\n",
    "            if len(res) == len(program):\n",
    "                if all(r == p for r, p in zip(res, program)):\n",
    "                    sols.add(val)\n",
    "    possible_bits = list(new_possible_bits)"
   ],
   "id": "a92606ad823e19ee",
   "outputs": [],
   "execution_count": 6
  },
  {
   "metadata": {
    "ExecuteTime": {
     "end_time": "2024-12-17T11:13:07.113778Z",
     "start_time": "2024-12-17T11:13:07.112096Z"
    }
   },
   "cell_type": "code",
   "source": "ans2 = min(list(sols))",
   "id": "a74446cc5d90214c",
   "outputs": [],
   "execution_count": 7
  },
  {
   "metadata": {
    "ExecuteTime": {
     "end_time": "2024-12-17T11:13:07.121794Z",
     "start_time": "2024-12-17T11:13:07.119137Z"
    }
   },
   "cell_type": "code",
   "source": "program",
   "id": "93f4f22ba1883e76",
   "outputs": [
    {
     "data": {
      "text/plain": [
       "[2, 4, 1, 3, 7, 5, 0, 3, 1, 5, 4, 4, 5, 5, 3, 0]"
      ]
     },
     "execution_count": 8,
     "metadata": {},
     "output_type": "execute_result"
    }
   ],
   "execution_count": 8
  },
  {
   "metadata": {
    "ExecuteTime": {
     "end_time": "2024-12-17T11:13:07.195453Z",
     "start_time": "2024-12-17T11:13:07.192940Z"
    }
   },
   "cell_type": "code",
   "source": "run_program(ans2, print_debug=False)",
   "id": "e0b927a673c28896",
   "outputs": [
    {
     "data": {
      "text/plain": [
       "[2, 4, 1, 3, 7, 5, 0, 3, 1, 5, 4, 4, 5, 5, 3, 0]"
      ]
     },
     "execution_count": 9,
     "metadata": {},
     "output_type": "execute_result"
    }
   ],
   "execution_count": 9
  },
  {
   "metadata": {
    "ExecuteTime": {
     "end_time": "2024-12-17T11:13:07.320951Z",
     "start_time": "2024-12-17T11:13:07.277245Z"
    }
   },
   "cell_type": "code",
   "source": "submit(ans2, part=\"b\", year=year, day=day)",
   "id": "d63b77a0f14aa160",
   "outputs": [
    {
     "name": "stdout",
     "output_type": "stream",
     "text": [
      "Part b already solved with same answer: 236539226447469\n"
     ]
    }
   ],
   "execution_count": 10
  }
 ],
 "metadata": {
  "kernelspec": {
   "display_name": "aoc",
   "language": "python",
   "name": "aoc"
  },
  "language_info": {
   "codemirror_mode": {
    "name": "ipython",
    "version": 2
   },
   "file_extension": ".py",
   "mimetype": "text/x-python",
   "name": "python",
   "nbconvert_exporter": "python",
   "pygments_lexer": "ipython2",
   "version": "2.7.6"
  }
 },
 "nbformat": 4,
 "nbformat_minor": 5
}
