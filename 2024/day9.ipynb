{
 "cells": [
  {
   "metadata": {
    "ExecuteTime": {
     "end_time": "2024-12-22T19:24:28.911427Z",
     "start_time": "2024-12-22T19:24:28.908270Z"
    }
   },
   "cell_type": "code",
   "source": "year = 2024; day = 9",
   "id": "14097d859b17d8da",
   "outputs": [],
   "execution_count": 1
  },
  {
   "metadata": {
    "ExecuteTime": {
     "end_time": "2024-12-22T19:24:29.173192Z",
     "start_time": "2024-12-22T19:24:28.914355Z"
    }
   },
   "cell_type": "code",
   "source": [
    "from aocd import get_data, submit\n",
    "\n",
    "data = get_data(year=year, day=day)\n",
    "\n",
    "data = data.strip()\n",
    "data = [int(d) for d in data]"
   ],
   "id": "e10b758f9c8c5fd3",
   "outputs": [],
   "execution_count": 2
  },
  {
   "metadata": {
    "ExecuteTime": {
     "end_time": "2024-12-22T19:24:29.247503Z",
     "start_time": "2024-12-22T19:24:29.244711Z"
    }
   },
   "cell_type": "code",
   "source": [
    "from collections import deque\n",
    "\n",
    "def read_disk(data):\n",
    "    disk = deque(\"\")\n",
    "    free_spaces = deque()\n",
    "    files = deque()\n",
    "    idx = 0\n",
    "\n",
    "    for i in range(len(data)):\n",
    "        length = data[i]\n",
    "\n",
    "        if i % 2 == 0:\n",
    "            file_id = str(i//2)\n",
    "            for j in range(length):\n",
    "                disk.append(file_id)\n",
    "            files.append((file_id, idx, length))\n",
    "\n",
    "        else:\n",
    "            for j in range(length):\n",
    "                disk.append(\".\")\n",
    "            free_spaces.append((idx, length))\n",
    "\n",
    "        idx += length\n",
    "\n",
    "    return disk, free_spaces, files\n"
   ],
   "id": "3eccbf86a1d5",
   "outputs": [],
   "execution_count": 3
  },
  {
   "metadata": {
    "ExecuteTime": {
     "end_time": "2024-12-22T19:24:29.257128Z",
     "start_time": "2024-12-22T19:24:29.253380Z"
    }
   },
   "cell_type": "code",
   "source": [
    "\n",
    "def seek(free_spaces, needed_length, must_fit = False):\n",
    "    for i, f in enumerate(free_spaces):\n",
    "        idx, free_len = f\n",
    "\n",
    "        if free_len < needed_length:\n",
    "            if must_fit:\n",
    "                continue\n",
    "            return idx, free_spaces, free_len\n",
    "\n",
    "        if free_len == needed_length:\n",
    "            del free_spaces[i]\n",
    "            return idx, free_spaces, free_len\n",
    "\n",
    "        if free_len > needed_length:\n",
    "            new_len = free_len - needed_length\n",
    "            new_idx = idx + needed_length\n",
    "            free_spaces[i] = (new_idx, new_len)\n",
    "            return idx, free_spaces, free_len\n",
    "\n",
    "    return None\n",
    "\n",
    "def optimize_disk(disk, free_spaces, files):\n",
    "    for file_to_move in reversed(files):\n",
    "\n",
    "        file_id, disk_idx, length = file_to_move\n",
    "        res = seek(free_spaces, length, must_fit=True)\n",
    "\n",
    "        if res:\n",
    "            free_idx, free_spaces, _ = res\n",
    "\n",
    "            if free_idx > disk_idx:\n",
    "                continue\n",
    "\n",
    "            for i in range(length):\n",
    "                assert disk[free_idx+i] == \".\"\n",
    "                disk[free_idx+i] = file_id\n",
    "                disk[disk_idx+i] = \".\"\n",
    "        else:\n",
    "            continue\n",
    "    return disk\n",
    "\n",
    "def compute_checksum(disk):\n",
    "    checksum = 0\n",
    "    for i, d in enumerate(disk):\n",
    "        if d == \".\":\n",
    "            continue\n",
    "        checksum += i*int(d)\n",
    "    return checksum\n"
   ],
   "id": "efd515527edf5637",
   "outputs": [],
   "execution_count": 4
  },
  {
   "metadata": {
    "ExecuteTime": {
     "end_time": "2024-12-22T19:24:56.406940Z",
     "start_time": "2024-12-22T19:24:55.948530Z"
    }
   },
   "cell_type": "code",
   "source": [
    "disk, free_spaces, files = read_disk(data)\n",
    "disk = optimize_disk(disk, free_spaces, files)\n",
    "ans1 = compute_checksum(disk)\n",
    "ans2"
   ],
   "id": "1b08a473b0efc229",
   "outputs": [
    {
     "data": {
      "text/plain": [
       "6448168620520"
      ]
     },
     "execution_count": 10,
     "metadata": {},
     "output_type": "execute_result"
    }
   ],
   "execution_count": 10
  },
  {
   "metadata": {
    "ExecuteTime": {
     "end_time": "2024-12-22T19:25:09.058120Z",
     "start_time": "2024-12-22T19:25:09.055194Z"
    }
   },
   "cell_type": "code",
   "source": "submit(ans2, part=\"b\", year=year, day=day)",
   "id": "8fd70f60d072cf4a",
   "outputs": [
    {
     "name": "stdout",
     "output_type": "stream",
     "text": [
      "Part b already solved with same answer: 6448168620520\n"
     ]
    }
   ],
   "execution_count": 11
  },
  {
   "metadata": {
    "ExecuteTime": {
     "end_time": "2024-12-22T19:24:29.728352Z",
     "start_time": "2024-12-22T19:24:29.726379Z"
    }
   },
   "cell_type": "code",
   "source": [
    "# first_occurrences = {}\n",
    "# i = 0\n",
    "# disk, free_spaces, _ = read_disk(data)\n",
    "# while i < len(disk):\n",
    "#     if disk[i] == \".\":\n",
    "#         count = 0\n",
    "#         d = disk.pop()\n",
    "#         while d == \".\":\n",
    "#             d = disk.pop()\n",
    "#         while d == disk[-1]:\n",
    "#             count += 1\n",
    "#             disk.pop()\n",
    "#\n",
    "#\n",
    "#\n",
    "#         if d not in first_occurrences:\n",
    "#             first_occurrences[d] = i\n",
    "#\n",
    "#         disk[i] = d\n",
    "#     i += 1\n",
    "#     # print(\"\".join(disk))"
   ],
   "id": "f79e263a795d5844",
   "outputs": [],
   "execution_count": 6
  },
  {
   "metadata": {
    "ExecuteTime": {
     "end_time": "2024-12-22T19:24:29.740434Z",
     "start_time": "2024-12-22T19:24:29.739063Z"
    }
   },
   "cell_type": "code",
   "source": "",
   "id": "bf3b18e49a4759ec",
   "outputs": [],
   "execution_count": null
  }
 ],
 "metadata": {
  "kernelspec": {
   "display_name": "aoc",
   "language": "python",
   "name": "aoc"
  },
  "language_info": {
   "codemirror_mode": {
    "name": "ipython",
    "version": 2
   },
   "file_extension": ".py",
   "mimetype": "text/x-python",
   "name": "python",
   "nbconvert_exporter": "python",
   "pygments_lexer": "ipython2",
   "version": "2.7.6"
  }
 },
 "nbformat": 4,
 "nbformat_minor": 5
}
