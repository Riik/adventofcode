{
 "cells": [
  {
   "metadata": {
    "ExecuteTime": {
     "end_time": "2024-12-08T05:36:51.837713Z",
     "start_time": "2024-12-08T05:36:51.835145Z"
    }
   },
   "cell_type": "code",
   "source": "year = 2024; day = 8",
   "id": "14097d859b17d8da",
   "outputs": [],
   "execution_count": 90
  },
  {
   "metadata": {
    "ExecuteTime": {
     "end_time": "2024-12-08T05:36:51.855159Z",
     "start_time": "2024-12-08T05:36:51.847541Z"
    }
   },
   "cell_type": "code",
   "source": [
    "from aocd import get_data, submit\n",
    "from helpers.helpers import parse_single_matrix\n",
    "\n",
    "data = get_data(year=year, day=day)\n",
    "\n",
    "data = data.strip()\n",
    "data = parse_single_matrix(data)\n",
    "\n",
    "HEIGHT, WIDTH = data.shape\n",
    "assert HEIGHT == WIDTH\n",
    "\n",
    "data[:5]"
   ],
   "id": "e10b758f9c8c5fd3",
   "outputs": [
    {
     "data": {
      "text/plain": [
       "array([['.', '.', '.', '.', '.', '.', '.', '.', '.', '.', '.', '.', '.',\n",
       "        '.', '.', '.', '.', '.', '.', '.', '.', '.', '.', '.', '.', '.',\n",
       "        '.', '.', '.', '.', '.', '.', '.', '.', 'D', '.', '.', '.', '.',\n",
       "        '.', '.', '.', '.', '.', '.', '.', '.', '.', '.', '.'],\n",
       "       ['.', '.', 'o', '.', '.', '.', '.', '.', '.', '.', '.', '.', '.',\n",
       "        '.', '.', '.', '.', '.', '.', '.', '.', '.', '.', '.', '.', '.',\n",
       "        '.', '.', '.', '.', '.', '.', 'D', '.', '.', '.', '.', '.', '.',\n",
       "        '.', '.', '.', '.', '.', '.', '.', '.', 'b', '.', '.'],\n",
       "       ['.', 'H', '.', '.', '.', '.', 'o', '.', '.', '.', '.', '.', '.',\n",
       "        '.', '.', 'z', '.', '.', '.', '.', '.', '.', '.', '.', '.', '.',\n",
       "        '.', 'D', '.', '.', '.', '.', '.', '.', '.', '.', '.', '.', '.',\n",
       "        '.', '.', '.', '.', '.', '.', '.', '.', '.', '.', '.'],\n",
       "       ['.', '.', '.', '.', '.', '.', '.', '.', '.', '.', '.', '.', '.',\n",
       "        '.', '.', '.', '.', '.', '.', '.', '.', '.', '.', 'Y', '.', '.',\n",
       "        '.', 'O', '.', '.', '.', '.', '.', '.', '.', '.', '.', '.', '.',\n",
       "        '.', '1', '.', '.', '.', '.', '.', '.', '.', '.', '.'],\n",
       "       ['.', '.', '.', '.', '.', '.', '4', '.', '.', '.', '.', '.', '.',\n",
       "        '.', '.', '.', '.', '.', '.', '.', '.', '.', 'N', '.', '.', '.',\n",
       "        '.', '.', '.', '.', '.', '.', '.', '.', '.', '.', '.', '.', '.',\n",
       "        '.', '.', '.', '.', 'd', '.', '.', '.', '.', '.', '.']],\n",
       "      dtype='<U1')"
      ]
     },
     "execution_count": 91,
     "metadata": {},
     "output_type": "execute_result"
    }
   ],
   "execution_count": 91
  },
  {
   "metadata": {
    "ExecuteTime": {
     "end_time": "2024-12-08T05:36:51.862667Z",
     "start_time": "2024-12-08T05:36:51.861177Z"
    }
   },
   "cell_type": "code",
   "source": "",
   "id": "f4afdc296db9cb21",
   "outputs": [],
   "execution_count": null
  },
  {
   "metadata": {
    "ExecuteTime": {
     "end_time": "2024-12-08T05:36:51.914242Z",
     "start_time": "2024-12-08T05:36:51.912244Z"
    }
   },
   "cell_type": "code",
   "source": [
    "import numpy as np\n",
    "characters = np.unique(data).tolist()"
   ],
   "id": "ed2eb9988daff518",
   "outputs": [],
   "execution_count": 92
  },
  {
   "metadata": {
    "ExecuteTime": {
     "end_time": "2024-12-08T05:36:51.946342Z",
     "start_time": "2024-12-08T05:36:51.941840Z"
    }
   },
   "cell_type": "code",
   "source": [
    "from itertools import combinations\n",
    "char = characters[1]\n",
    "all_nodes = set()\n",
    "for char in characters:\n",
    "    nodes = set()\n",
    "    if char == \".\":\n",
    "        continue\n",
    "    locations = [(int(y),int(x)) for y, x in zip(*np.where(data == char))]\n",
    "    for p1, p2 in combinations(locations, 2):\n",
    "        dy = p2[0] - p1[0]\n",
    "        dx = p2[1] - p1[1]\n",
    "        a1 = (p2[0] + dy, p2[1] + dx)\n",
    "        a2 = (p1[0] +- dy, p1[1] - dx)\n",
    "        if a1[0] in range(HEIGHT) and a1[1] in range(WIDTH):\n",
    "            nodes.add(a1)\n",
    "        if a2[0] in range(HEIGHT) and a2[1] in range(WIDTH):\n",
    "            nodes.add(a2)\n",
    "    all_nodes.update(nodes)\n",
    "\n",
    "list(all_nodes)[:5]"
   ],
   "id": "5eae9abbc317d2fe",
   "outputs": [
    {
     "data": {
      "text/plain": [
       "[(41, 40), (6, 18), (10, 34), (13, 33), (44, 36)]"
      ]
     },
     "execution_count": 93,
     "metadata": {},
     "output_type": "execute_result"
    }
   ],
   "execution_count": 93
  },
  {
   "metadata": {
    "ExecuteTime": {
     "end_time": "2024-12-08T05:36:52.298035Z",
     "start_time": "2024-12-08T05:36:51.967519Z"
    }
   },
   "cell_type": "code",
   "source": "submit(len(all_nodes), part=\"a\", year=year, day=day)",
   "id": "daef05bb25a91b7f",
   "outputs": [
    {
     "name": "stdout",
     "output_type": "stream",
     "text": [
      "Part a already solved with same answer: 214\n"
     ]
    }
   ],
   "execution_count": 94
  },
  {
   "metadata": {
    "ExecuteTime": {
     "end_time": "2024-12-08T05:36:52.321255Z",
     "start_time": "2024-12-08T05:36:52.312962Z"
    }
   },
   "cell_type": "code",
   "source": [
    "from math import gcd\n",
    "from itertools import combinations\n",
    "char = characters[1]\n",
    "all_nodes = set()\n",
    "for char in characters:\n",
    "    nodes = set()\n",
    "    if char == \".\":\n",
    "        continue\n",
    "    locations = [(int(y),int(x)) for y, x in zip(*np.where(data == char))]\n",
    "    for p1, p2 in combinations(locations, 2):\n",
    "        dy = p2[0] - p1[0]\n",
    "        dx = p2[1] - p1[1]\n",
    "\n",
    "        # if we want to land on integer coordinates\n",
    "        # we can divide the deltas by their greatest common divisor\n",
    "        div = gcd(dy, dx)\n",
    "        # just to make sure before integer division\n",
    "        assert dy % div == 0\n",
    "        assert dx % div == 0\n",
    "        dy = dy // div\n",
    "        dx = dx // div\n",
    "\n",
    "        steps = HEIGHT // int(min(abs(dy), abs(dx)))\n",
    "        for i in range(-steps, steps):\n",
    "            a1 = (p1[0] + dy*i, p1[1] + dx*i)\n",
    "            if a1[0] in range(HEIGHT) and a1[1] in range(WIDTH):\n",
    "                nodes.add(a1)\n",
    "\n",
    "    all_nodes.update(nodes)\n",
    "len(all_nodes)"
   ],
   "id": "9f3662948354a254",
   "outputs": [
    {
     "data": {
      "text/plain": [
       "809"
      ]
     },
     "execution_count": 95,
     "metadata": {},
     "output_type": "execute_result"
    }
   ],
   "execution_count": 95
  },
  {
   "metadata": {
    "ExecuteTime": {
     "end_time": "2024-12-08T05:36:52.336132Z",
     "start_time": "2024-12-08T05:36:52.333095Z"
    }
   },
   "cell_type": "code",
   "source": "submit(len(all_nodes), part=\"b\", year=year, day=day)",
   "id": "c023087fbc8ab0fc",
   "outputs": [
    {
     "name": "stdout",
     "output_type": "stream",
     "text": [
      "Part b already solved with same answer: 809\n"
     ]
    }
   ],
   "execution_count": 96
  }
 ],
 "metadata": {
  "kernelspec": {
   "display_name": "aoc",
   "language": "python",
   "name": "aoc"
  },
  "language_info": {
   "codemirror_mode": {
    "name": "ipython",
    "version": 2
   },
   "file_extension": ".py",
   "mimetype": "text/x-python",
   "name": "python",
   "nbconvert_exporter": "python",
   "pygments_lexer": "ipython2",
   "version": "2.7.6"
  }
 },
 "nbformat": 4,
 "nbformat_minor": 5
}
