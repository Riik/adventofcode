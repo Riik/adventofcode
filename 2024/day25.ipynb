{
 "cells": [
  {
   "metadata": {
    "ExecuteTime": {
     "end_time": "2024-12-25T06:08:09.088236Z",
     "start_time": "2024-12-25T06:08:09.085377Z"
    }
   },
   "cell_type": "code",
   "source": "year = 2024; day = 25",
   "id": "14097d859b17d8da",
   "outputs": [],
   "execution_count": 1
  },
  {
   "metadata": {
    "ExecuteTime": {
     "end_time": "2024-12-25T06:23:21.037153Z",
     "start_time": "2024-12-25T06:23:21.030468Z"
    }
   },
   "cell_type": "code",
   "source": [
    "from aocd import get_data, submit\n",
    "data = get_data(year=year, day=day)\n",
    "\n",
    "data = data.strip()\n",
    "schemas = data.split(\"\\n\\n\")\n",
    "W = 5\n",
    "\n",
    "def parse_schema(schema):\n",
    "    lines = schema.split(\"\\n\")\n",
    "    is_key = (lines[0] == \".....\")\n",
    "    c = \"#\" if is_key else \".\"\n",
    "    vals = [-1, -1, -1, -1, -1]\n",
    "    for i, l in enumerate(lines):\n",
    "        for j in range(W):\n",
    "            if l[j] == c and vals[j] == -1:\n",
    "                vals[j] = 6-i if is_key else i-1\n",
    "    return is_key, vals\n",
    "\n",
    "print(schemas[3])"
   ],
   "id": "e10b758f9c8c5fd3",
   "outputs": [
    {
     "name": "stdout",
     "output_type": "stream",
     "text": [
      "#####\n",
      ".####\n",
      "..###\n",
      "...##\n",
      "...##\n",
      "...#.\n",
      ".....\n"
     ]
    }
   ],
   "execution_count": 24
  },
  {
   "metadata": {
    "ExecuteTime": {
     "end_time": "2024-12-25T06:26:54.477865Z",
     "start_time": "2024-12-25T06:26:54.395002Z"
    }
   },
   "cell_type": "code",
   "source": [
    "all_schemas = [parse_schema(schema) for schema in schemas]\n",
    "keys = [s[1] for s in all_schemas if s[0]]\n",
    "locks = [s[1] for s in all_schemas if not s[0]]\n",
    "\n",
    "count = 0\n",
    "for k in keys:\n",
    "    for l in locks:\n",
    "        max_sum = 0\n",
    "        for i in range(W):\n",
    "            max_sum = max(max_sum, l[i]+k[i])\n",
    "        if max_sum <= 5:\n",
    "            count += 1"
   ],
   "id": "a8370dae4f4c418b",
   "outputs": [],
   "execution_count": 27
  },
  {
   "metadata": {
    "ExecuteTime": {
     "end_time": "2024-12-25T06:26:56.670083Z",
     "start_time": "2024-12-25T06:26:56.666015Z"
    }
   },
   "cell_type": "code",
   "source": "count",
   "id": "9a59f2f60ab05a3b",
   "outputs": [
    {
     "data": {
      "text/plain": [
       "3057"
      ]
     },
     "execution_count": 28,
     "metadata": {},
     "output_type": "execute_result"
    }
   ],
   "execution_count": 28
  },
  {
   "metadata": {},
   "cell_type": "code",
   "outputs": [],
   "execution_count": null,
   "source": "",
   "id": "b70484c9bd1443f3"
  }
 ],
 "metadata": {
  "kernelspec": {
   "display_name": "aoc",
   "language": "python",
   "name": "aoc"
  },
  "language_info": {
   "codemirror_mode": {
    "name": "ipython",
    "version": 2
   },
   "file_extension": ".py",
   "mimetype": "text/x-python",
   "name": "python",
   "nbconvert_exporter": "python",
   "pygments_lexer": "ipython2",
   "version": "2.7.6"
  }
 },
 "nbformat": 4,
 "nbformat_minor": 5
}
