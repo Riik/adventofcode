{
 "cells": [
  {
   "metadata": {
    "ExecuteTime": {
     "end_time": "2024-12-05T20:38:43.397604Z",
     "start_time": "2024-12-05T20:38:43.395145Z"
    }
   },
   "cell_type": "code",
   "source": "year = 2024; day = 5",
   "id": "14097d859b17d8da",
   "outputs": [],
   "execution_count": 1
  },
  {
   "metadata": {
    "ExecuteTime": {
     "end_time": "2024-12-05T20:38:43.402782Z",
     "start_time": "2024-12-05T20:38:43.400929Z"
    }
   },
   "cell_type": "code",
   "source": [
    "from collections import defaultdict\n",
    "from collections import deque"
   ],
   "id": "e10b758f9c8c5fd3",
   "outputs": [],
   "execution_count": 2
  },
  {
   "metadata": {
    "collapsed": true,
    "ExecuteTime": {
     "end_time": "2024-12-05T20:39:37.985831Z",
     "start_time": "2024-12-05T20:39:37.780996Z"
    }
   },
   "cell_type": "code",
   "source": [
    "from aocd import get_data, submit\n",
    "\n",
    "data = get_data(year=year, day=day)\n",
    "\n",
    "data = data.strip()\n",
    "depends_on, order = data.split(\"\\n\\n\")\n",
    "orders = order.split(\"\\n\")\n",
    "\n",
    "\n",
    "orders = [o.split(\",\") for o in orders]\n",
    "depends_on = [line.split(\"|\") for line in depends_on.split(\"\\n\")]\n",
    "\n",
    "d = defaultdict(list)\n",
    "for value, key in depends_on:\n",
    "    d[key].append(value)\n"
   ],
   "id": "initial_id",
   "outputs": [],
   "execution_count": 8
  },
  {
   "metadata": {
    "ExecuteTime": {
     "end_time": "2024-12-05T20:39:37.998190Z",
     "start_time": "2024-12-05T20:39:37.992196Z"
    }
   },
   "cell_type": "code",
   "source": [
    "incorrect_orders = []\n",
    "\n",
    "middle_numbers = []\n",
    "for order in orders:\n",
    "    visited = set()\n",
    "    included = set(order)\n",
    "    is_correct = True\n",
    "    for o in order:\n",
    "        for needed in d[o]:\n",
    "            if needed in included and needed not in visited:\n",
    "                # print(\"error\", f\"{needed}|{o}\", order)\n",
    "                is_correct = False\n",
    "                break\n",
    "        if not is_correct: break\n",
    "        visited.add(o)\n",
    "    if is_correct:\n",
    "        middle_numbers.append(order[len(order) // 2])\n",
    "    else:\n",
    "        incorrect_orders.append(order)"
   ],
   "id": "f757b712a44dcb80",
   "outputs": [],
   "execution_count": 9
  },
  {
   "metadata": {
    "ExecuteTime": {
     "end_time": "2024-12-05T20:39:38.049474Z",
     "start_time": "2024-12-05T20:39:38.046923Z"
    }
   },
   "cell_type": "code",
   "source": "sum(map(int, middle_numbers))",
   "id": "97abf12052bd74a6",
   "outputs": [
    {
     "data": {
      "text/plain": [
       "7365"
      ]
     },
     "execution_count": 10,
     "metadata": {},
     "output_type": "execute_result"
    }
   ],
   "execution_count": 10
  },
  {
   "metadata": {
    "ExecuteTime": {
     "end_time": "2024-12-05T20:39:39.913893Z",
     "start_time": "2024-12-05T20:39:39.552594Z"
    }
   },
   "cell_type": "code",
   "source": "submit(sum(map(int, middle_numbers)), part=\"a\", year=year, day=day)",
   "id": "4726743afabb0834",
   "outputs": [
    {
     "name": "stdout",
     "output_type": "stream",
     "text": [
      "Part a already solved with same answer: 7365\n"
     ]
    }
   ],
   "execution_count": 11
  },
  {
   "metadata": {
    "ExecuteTime": {
     "end_time": "2024-12-05T20:40:20.321535Z",
     "start_time": "2024-12-05T20:40:20.301918Z"
    }
   },
   "cell_type": "code",
   "source": [
    "# original version with terrible for / else loop\n",
    "\n",
    "middle_numbers = []\n",
    "for original in incorrect_orders:\n",
    "    sol = deque()\n",
    "    for _ in range(1_000):\n",
    "        for o in original:\n",
    "            if o in sol:\n",
    "                continue\n",
    "            for depends_on in d[o]:\n",
    "                if depends_on not in original:\n",
    "                    continue\n",
    "                if depends_on not in sol:\n",
    "                    break\n",
    "            else:\n",
    "                sol.append(o)\n",
    "        if len(sol) == len(original):\n",
    "            # print(f\"old {original}, new {sol}\")\n",
    "            middle_numbers.append(sol[len(sol) // 2])\n",
    "            break\n",
    "    else:\n",
    "        print(f\"couldn't solve {original}\")\n",
    "\n",
    "sum(map(int, middle_numbers))\n"
   ],
   "id": "1b18c1f95407af8e",
   "outputs": [
    {
     "data": {
      "text/plain": [
       "5770"
      ]
     },
     "execution_count": 14,
     "metadata": {},
     "output_type": "execute_result"
    }
   ],
   "execution_count": 14
  },
  {
   "metadata": {
    "ExecuteTime": {
     "end_time": "2024-12-05T20:40:51.155527Z",
     "start_time": "2024-12-05T20:40:51.135117Z"
    }
   },
   "cell_type": "code",
   "source": [
    "# cleaned up version\n",
    "middle_numbers = []\n",
    "for original in incorrect_orders:\n",
    "    sol = []\n",
    "    for _ in range(len(original)):\n",
    "        for o in original:\n",
    "            if o in sol:\n",
    "                continue\n",
    "            if not any(depends_on in original and depends_on not in sol for depends_on in d[o]):\n",
    "                sol.append(o)\n",
    "        if len(sol) == len(original):\n",
    "            middle_numbers.append(sol[len(sol) // 2])\n",
    "            break\n",
    "    else:\n",
    "        raise ValueError(f\"couldn't solve {original}\")\n",
    "sum(map(int, middle_numbers))\n"
   ],
   "id": "88ba8837c609f60b",
   "outputs": [
    {
     "data": {
      "text/plain": [
       "5770"
      ]
     },
     "execution_count": 15,
     "metadata": {},
     "output_type": "execute_result"
    }
   ],
   "execution_count": 15
  },
  {
   "metadata": {
    "ExecuteTime": {
     "end_time": "2024-12-05T20:40:58.745976Z",
     "start_time": "2024-12-05T20:40:58.742256Z"
    }
   },
   "cell_type": "code",
   "source": "submit(sum(map(int, middle_numbers)), part=\"b\", year=year, day=day)",
   "id": "38ffc449b2fb15de",
   "outputs": [
    {
     "name": "stdout",
     "output_type": "stream",
     "text": [
      "Part b already solved with same answer: 5770\n"
     ]
    }
   ],
   "execution_count": 16
  }
 ],
 "metadata": {
  "kernelspec": {
   "display_name": "aoc",
   "language": "python",
   "name": "aoc"
  },
  "language_info": {
   "codemirror_mode": {
    "name": "ipython",
    "version": 2
   },
   "file_extension": ".py",
   "mimetype": "text/x-python",
   "name": "python",
   "nbconvert_exporter": "python",
   "pygments_lexer": "ipython2",
   "version": "2.7.6"
  }
 },
 "nbformat": 4,
 "nbformat_minor": 5
}
