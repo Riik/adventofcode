{
 "cells": [
  {
   "metadata": {
    "ExecuteTime": {
     "end_time": "2024-12-16T17:26:51.496737Z",
     "start_time": "2024-12-16T17:26:51.493827Z"
    }
   },
   "cell_type": "code",
   "source": "year = 2024; day = 16",
   "id": "14097d859b17d8da",
   "outputs": [],
   "execution_count": 1
  },
  {
   "metadata": {
    "ExecuteTime": {
     "end_time": "2024-12-16T17:26:58.436905Z",
     "start_time": "2024-12-16T17:26:58.423133Z"
    }
   },
   "cell_type": "code",
   "source": [
    "import numpy as np\n",
    "from aocd import get_data, submit\n",
    "\n",
    "data = get_data(year=year, day=day)\n",
    "\n",
    "data = data.strip()\n",
    "\n",
    "def parse_single_matrix(data):\n",
    "    return np.array([list(d) for d in data.split(\"\\n\")])\n",
    "\n",
    "matrix = parse_single_matrix(data)\n",
    "\n",
    "# matrix[:5]\n",
    "\n",
    "start_pos = tuple([int(x) for x in np.array(np.where(matrix == 'S')).flatten()])\n",
    "end_pos = tuple([int(x) for x in np.array(np.where(matrix == 'E')).flatten()])\n",
    "matrix[*start_pos] = '.'\n",
    "#\n",
    "HEIGHT, WIDTH = matrix.shape\n",
    "start_dir = (0, 1)\n",
    "matrix[:5]"
   ],
   "id": "e10b758f9c8c5fd3",
   "outputs": [
    {
     "data": {
      "text/plain": [
       "array([['#', '#', '#', '#', '#', '#', '#', '#', '#', '#', '#', '#', '#',\n",
       "        '#', '#', '#', '#', '#', '#', '#', '#', '#', '#', '#', '#', '#',\n",
       "        '#', '#', '#', '#', '#', '#', '#', '#', '#', '#', '#', '#', '#',\n",
       "        '#', '#', '#', '#', '#', '#', '#', '#', '#', '#', '#', '#', '#',\n",
       "        '#', '#', '#', '#', '#', '#', '#', '#', '#', '#', '#', '#', '#',\n",
       "        '#', '#', '#', '#', '#', '#', '#', '#', '#', '#', '#', '#', '#',\n",
       "        '#', '#', '#', '#', '#', '#', '#', '#', '#', '#', '#', '#', '#',\n",
       "        '#', '#', '#', '#', '#', '#', '#', '#', '#', '#', '#', '#', '#',\n",
       "        '#', '#', '#', '#', '#', '#', '#', '#', '#', '#', '#', '#', '#',\n",
       "        '#', '#', '#', '#', '#', '#', '#', '#', '#', '#', '#', '#', '#',\n",
       "        '#', '#', '#', '#', '#', '#', '#', '#', '#', '#', '#'],\n",
       "       ['#', '.', '.', '.', '.', '.', '.', '.', '#', '.', '.', '.', '.',\n",
       "        '.', '.', '.', '.', '.', '#', '.', '.', '.', '.', '.', '.', '.',\n",
       "        '.', '.', '#', '.', '.', '.', '.', '.', '.', '.', '.', '.', '#',\n",
       "        '.', '.', '.', '.', '.', '.', '.', '.', '.', '#', '.', '.', '.',\n",
       "        '#', '.', '.', '.', '.', '.', '#', '.', '.', '.', '.', '.', '.',\n",
       "        '.', '.', '.', '#', '.', '.', '.', '.', '.', '.', '.', '#', '.',\n",
       "        '.', '.', '#', '.', '.', '.', '.', '.', '.', '.', '.', '.', '.',\n",
       "        '.', '.', '.', '.', '.', '.', '.', '.', '.', '.', '.', '#', '.',\n",
       "        '.', '.', '.', '.', '.', '.', '.', '.', '.', '.', '#', '.', '.',\n",
       "        '.', '#', '.', '.', '.', '.', '.', '.', '.', '.', '.', '.', '.',\n",
       "        '.', '.', '.', '.', '#', '.', '.', '.', '.', 'E', '#'],\n",
       "       ['#', '.', '#', '.', '#', '#', '#', '.', '#', '#', '#', '.', '#',\n",
       "        '.', '#', '#', '#', '.', '#', '#', '#', '.', '#', '#', '#', '#',\n",
       "        '#', '#', '#', '.', '#', '#', '#', '.', '#', '.', '#', '.', '#',\n",
       "        '.', '#', '.', '#', '#', '#', '#', '#', '#', '#', '.', '#', '.',\n",
       "        '#', '.', '#', '.', '#', '#', '#', '.', '#', '#', '#', '.', '#',\n",
       "        '#', '#', '.', '#', '.', '#', '#', '#', '.', '#', '.', '#', '#',\n",
       "        '#', '.', '#', '.', '#', '#', '#', '.', '#', '#', '#', '#', '#',\n",
       "        '.', '#', '#', '#', '#', '#', '#', '#', '#', '#', '.', '#', '#',\n",
       "        '#', '.', '#', '.', '#', '.', '#', '#', '#', '.', '#', '.', '#',\n",
       "        '.', '#', '.', '#', '#', '#', '.', '#', '#', '#', '#', '#', '#',\n",
       "        '#', '#', '#', '.', '#', '#', '#', '.', '#', '.', '#'],\n",
       "       ['#', '.', '#', '.', '.', '.', '#', '.', '.', '.', '.', '.', '#',\n",
       "        '.', '#', '.', '#', '.', '.', '.', '#', '.', '#', '.', '.', '.',\n",
       "        '#', '.', '.', '.', '.', '.', '#', '.', '.', '.', '#', '.', '.',\n",
       "        '.', '#', '.', '.', '.', '.', '.', '.', '.', '.', '.', '.', '.',\n",
       "        '.', '.', '.', '.', '.', '.', '.', '.', '#', '.', '.', '.', '.',\n",
       "        '.', '#', '.', '#', '.', '#', '.', '.', '.', '#', '.', '#', '.',\n",
       "        '.', '.', '#', '.', '.', '.', '#', '.', '.', '.', '.', '.', '#',\n",
       "        '.', '.', '.', '.', '.', '.', '.', '#', '.', '#', '.', '.', '.',\n",
       "        '#', '.', '#', '.', '#', '.', '.', '.', '#', '.', '.', '.', '#',\n",
       "        '.', '#', '.', '#', '.', '#', '.', '#', '.', '.', '.', '.', '.',\n",
       "        '.', '.', '#', '.', '#', '.', '.', '.', '#', '.', '#'],\n",
       "       ['#', '.', '#', '#', '#', '.', '#', '#', '#', '#', '#', '.', '#',\n",
       "        '.', '#', '.', '#', '#', '#', '.', '#', '.', '#', '.', '#', '.',\n",
       "        '#', '.', '#', '.', '#', '#', '#', '#', '#', '.', '#', '#', '#',\n",
       "        '#', '#', '#', '#', '.', '#', '.', '#', '.', '#', '.', '#', '.',\n",
       "        '#', '.', '#', '.', '#', '.', '#', '#', '#', '#', '#', '.', '#',\n",
       "        '.', '#', '.', '#', '.', '#', '.', '#', '.', '#', '.', '#', '.',\n",
       "        '#', '.', '#', '#', '#', '.', '#', '.', '#', '#', '#', '#', '#',\n",
       "        '#', '#', '#', '#', '#', '#', '.', '#', '.', '#', '#', '#', '.',\n",
       "        '#', '.', '#', '#', '#', '.', '#', '.', '#', '#', '#', '.', '#',\n",
       "        '#', '#', '.', '#', '.', '#', '.', '#', '#', '#', '.', '#', '#',\n",
       "        '#', '.', '#', '.', '#', '.', '#', '#', '#', '.', '#']],\n",
       "      dtype='<U1')"
      ]
     },
     "execution_count": 3,
     "metadata": {},
     "output_type": "execute_result"
    }
   ],
   "execution_count": 3
  },
  {
   "metadata": {
    "ExecuteTime": {
     "end_time": "2024-12-16T17:27:19.742219Z",
     "start_time": "2024-12-16T17:27:16.545459Z"
    }
   },
   "cell_type": "code",
   "source": [
    "from collections import defaultdict\n",
    "\n",
    "m = matrix.copy()\n",
    "best_cost = defaultdict(lambda: 1_000_000)\n",
    "best_cost[(start_pos, start_dir)] = 0\n",
    "\n",
    "dir_90_deg = {\n",
    "    (0, 1): [(1, 0), (-1, 0)],\n",
    "    (-1, 0): [(0, 1), (0, -1)],\n",
    "    (0, -1): [(-1, 0), (1, 0)],\n",
    "    (1, 0): [(0, -1), (0, 1)]\n",
    "}\n",
    "\n",
    "to_visit = [(start_pos, start_dir)]\n",
    "print(to_visit)\n",
    "for iteration in range(1_000):\n",
    "    new_to_visit = set()\n",
    "    # print(len(to_visit))\n",
    "    for pos, dir in to_visit:\n",
    "        pos = tuple(pos)\n",
    "        dir = tuple(dir)\n",
    "        assert (pos, dir) in best_cost\n",
    "        cost = best_cost[(pos, dir)]\n",
    "        for new_dir in dir_90_deg[dir]+[dir]:\n",
    "            new_pos = (pos[0]+new_dir[0], pos[1]+new_dir[1])\n",
    "#             print(new_pos, m[new_pos])\n",
    "            if m[new_pos] in \".E\":\n",
    "                new_cost = cost + (1 if dir == new_dir else 1000+1)\n",
    "#                 print(f\"pos: {pos}, cost: {cost}, new_cost: {new_cost}\")\n",
    "                if new_cost < best_cost[(new_pos, new_dir)]:\n",
    "                    new_to_visit.add((new_pos, new_dir))\n",
    "                    best_cost[(new_pos, new_dir)] = new_cost\n",
    "    if not new_to_visit:\n",
    "        print(\"DONE\")\n",
    "        break\n",
    "    to_visit = list(new_to_visit)\n",
    "#     print(to_visit)\n",
    "\n",
    "    z = m.copy()\n",
    "    for x in sorted(best_cost.keys()):\n",
    "        pos = x[0]\n",
    "        z[pos] = ' '\n",
    "\n",
    "    # print(\"\\n\".join([\"\".join(row) for row in z]))\n",
    "else:\n",
    "    raise ValueError(\"max iterations exceeded\")\n"
   ],
   "id": "96cd8ee939b3167b",
   "outputs": [
    {
     "name": "stdout",
     "output_type": "stream",
     "text": [
      "[((139, 1), (0, 1))]\n",
      "DONE\n"
     ]
    }
   ],
   "execution_count": 6
  },
  {
   "metadata": {
    "ExecuteTime": {
     "end_time": "2024-12-16T17:29:02.383083Z",
     "start_time": "2024-12-16T17:29:02.377855Z"
    }
   },
   "cell_type": "code",
   "source": [
    "end_costs = []\n",
    "for pos, dir in best_cost:\n",
    "    if pos == end_pos:\n",
    "        end_costs.append(best_cost[(pos, dir)])\n",
    "\n",
    "ans1 = min(end_costs)\n",
    "ans1"
   ],
   "id": "d925d77dd9cedd97",
   "outputs": [
    {
     "data": {
      "text/plain": [
       "79404"
      ]
     },
     "execution_count": 9,
     "metadata": {},
     "output_type": "execute_result"
    }
   ],
   "execution_count": 9
  },
  {
   "metadata": {
    "ExecuteTime": {
     "end_time": "2024-12-16T17:29:35.421192Z",
     "start_time": "2024-12-16T17:29:34.760892Z"
    }
   },
   "cell_type": "code",
   "source": "submit(ans1, part=\"a\", day=day, year=year)",
   "id": "eb8150cec844589f",
   "outputs": [
    {
     "name": "stdout",
     "output_type": "stream",
     "text": [
      "Part a already solved with same answer: 79404\n"
     ]
    }
   ],
   "execution_count": 10
  },
  {
   "metadata": {
    "ExecuteTime": {
     "end_time": "2024-12-16T17:29:58.316664Z",
     "start_time": "2024-12-16T17:29:57.520558Z"
    }
   },
   "cell_type": "code",
   "source": [
    "from collections import defaultdict\n",
    "\n",
    "m = matrix.copy()\n",
    "best_cost = defaultdict(lambda: 1_000_000)\n",
    "best_cost[(start_pos, start_dir)] = 0\n",
    "best_paths = defaultdict(set)\n",
    "best_paths[(start_pos, start_dir)].add(tuple(start_pos))\n",
    "\n",
    "dir_90_deg = {\n",
    "    (0, 1): [(1, 0), (-1, 0)],\n",
    "    (-1, 0): [(0, 1), (0, -1)],\n",
    "    (0, -1): [(-1, 0), (1, 0)],\n",
    "    (1, 0): [(0, -1), (0, 1)]\n",
    "}\n",
    "\n",
    "to_visit = [(start_pos, start_dir)]\n",
    "for iteration in range(1_000):\n",
    "    new_to_visit = set()\n",
    "    for pos, dir in to_visit:\n",
    "        pos = tuple(pos)\n",
    "        dir = tuple(dir)\n",
    "        assert (pos, dir) in best_cost\n",
    "        cost = best_cost[(pos, dir)]\n",
    "        for new_dir in dir_90_deg[dir]+[dir]:\n",
    "            new_pos = (pos[0]+new_dir[0], pos[1]+new_dir[1])\n",
    "            # print(new_pos, m[new_pos])\n",
    "            if m[new_pos] in \".E\":\n",
    "                new_cost = cost + (1 if dir == new_dir else 1000+1)\n",
    "#                 print(f\"pos: {pos}, cost: {cost}, new_cost: {new_cost}\")\n",
    "                if new_cost == best_cost[(new_pos, new_dir)]:\n",
    "                    # combine path lengths together\n",
    "                    best_paths[(new_pos, new_dir)].update(best_paths[(pos, dir)])\n",
    "                if new_cost < best_cost[(new_pos, new_dir)]:\n",
    "                    new_to_visit.add((new_pos, new_dir))\n",
    "                    best_cost[(new_pos, new_dir)] = new_cost\n",
    "                    best_paths[(new_pos, new_dir)] = best_paths[(pos, dir)].copy()\n",
    "                    best_paths[(new_pos, new_dir)].add(new_pos)\n",
    "    if not new_to_visit:\n",
    "        print(\"DONE\")\n",
    "        break\n",
    "    to_visit = list(new_to_visit)\n",
    "#     print(to_visit)\n",
    "else:\n",
    "    raise ValueError(\"max iterations exceeded\")\n"
   ],
   "id": "a640b61dde43e749",
   "outputs": [
    {
     "name": "stdout",
     "output_type": "stream",
     "text": [
      "DONE\n"
     ]
    }
   ],
   "execution_count": 11
  },
  {
   "metadata": {
    "ExecuteTime": {
     "end_time": "2024-12-16T17:31:25.899107Z",
     "start_time": "2024-12-16T17:31:25.896166Z"
    }
   },
   "cell_type": "code",
   "source": [
    "ans2 = len(best_paths[(end_pos, (-1, 0))])\n",
    "ans2"
   ],
   "id": "181997db50b60bd5",
   "outputs": [
    {
     "data": {
      "text/plain": [
       "451"
      ]
     },
     "execution_count": 15,
     "metadata": {},
     "output_type": "execute_result"
    }
   ],
   "execution_count": 15
  },
  {
   "metadata": {},
   "cell_type": "code",
   "outputs": [],
   "execution_count": null,
   "source": "submit(ans2, )",
   "id": "901e8169fdc59ed0"
  }
 ],
 "metadata": {
  "kernelspec": {
   "display_name": "aoc",
   "language": "python",
   "name": "aoc"
  },
  "language_info": {
   "codemirror_mode": {
    "name": "ipython",
    "version": 2
   },
   "file_extension": ".py",
   "mimetype": "text/x-python",
   "name": "python",
   "nbconvert_exporter": "python",
   "pygments_lexer": "ipython2",
   "version": "2.7.6"
  }
 },
 "nbformat": 4,
 "nbformat_minor": 5
}
