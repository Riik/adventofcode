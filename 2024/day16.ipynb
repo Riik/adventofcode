{
 "cells": [
  {
   "metadata": {
    "ExecuteTime": {
     "end_time": "2024-12-22T19:14:51.838278Z",
     "start_time": "2024-12-22T19:14:51.835534Z"
    }
   },
   "cell_type": "code",
   "source": "year = 2024; day = 16",
   "id": "14097d859b17d8da",
   "outputs": [],
   "execution_count": 1
  },
  {
   "metadata": {
    "ExecuteTime": {
     "end_time": "2024-12-22T19:14:56.383087Z",
     "start_time": "2024-12-22T19:14:56.374487Z"
    }
   },
   "cell_type": "code",
   "source": [
    "import numpy as np\n",
    "from aocd import get_data, submit\n",
    "\n",
    "data = get_data(year=year, day=day)\n",
    "\n",
    "data = data.strip()\n",
    "\n",
    "def parse_single_matrix(data):\n",
    "    return np.array([list(d) for d in data.split(\"\\n\")])\n",
    "\n",
    "matrix = parse_single_matrix(data)\n",
    "\n",
    "start_pos = tuple([int(x) for x in np.array(np.where(matrix == 'S')).flatten()])\n",
    "end_pos = tuple([int(x) for x in np.array(np.where(matrix == 'E')).flatten()])\n",
    "matrix[*start_pos] = '.'\n",
    "HEIGHT, WIDTH = matrix.shape\n",
    "start_dir = (0, 1)"
   ],
   "id": "e10b758f9c8c5fd3",
   "outputs": [],
   "execution_count": 3
  },
  {
   "metadata": {
    "ExecuteTime": {
     "end_time": "2024-12-22T19:15:16.379837Z",
     "start_time": "2024-12-22T19:15:13.157943Z"
    }
   },
   "cell_type": "code",
   "source": [
    "from collections import defaultdict\n",
    "\n",
    "m = matrix.copy()\n",
    "best_cost = defaultdict(lambda: 1_000_000)\n",
    "best_cost[(start_pos, start_dir)] = 0\n",
    "\n",
    "dir_90_deg = {\n",
    "    (0, 1): [(1, 0), (-1, 0)],\n",
    "    (-1, 0): [(0, 1), (0, -1)],\n",
    "    (0, -1): [(-1, 0), (1, 0)],\n",
    "    (1, 0): [(0, -1), (0, 1)]\n",
    "}\n",
    "\n",
    "to_visit = [(start_pos, start_dir)]\n",
    "print(to_visit)\n",
    "for iteration in range(1_000):\n",
    "    new_to_visit = set()\n",
    "    for pos, dir in to_visit:\n",
    "        pos = tuple(pos)\n",
    "        dir = tuple(dir)\n",
    "        assert (pos, dir) in best_cost\n",
    "        cost = best_cost[(pos, dir)]\n",
    "        for new_dir in dir_90_deg[dir]+[dir]:\n",
    "            new_pos = (pos[0]+new_dir[0], pos[1]+new_dir[1])\n",
    "            if m[new_pos] in \".E\":\n",
    "                new_cost = cost + (1 if dir == new_dir else 1000+1)\n",
    "                if new_cost < best_cost[(new_pos, new_dir)]:\n",
    "                    new_to_visit.add((new_pos, new_dir))\n",
    "                    best_cost[(new_pos, new_dir)] = new_cost\n",
    "    if not new_to_visit:\n",
    "        print(\"DONE\")\n",
    "        break\n",
    "    to_visit = list(new_to_visit)\n",
    "\n",
    "    z = m.copy()\n",
    "    for x in sorted(best_cost.keys()):\n",
    "        pos = x[0]\n",
    "        z[pos] = ' '\n",
    "else:\n",
    "    raise ValueError(\"max iterations exceeded\")\n"
   ],
   "id": "96cd8ee939b3167b",
   "outputs": [
    {
     "name": "stdout",
     "output_type": "stream",
     "text": [
      "[((139, 1), (0, 1))]\n",
      "DONE\n"
     ]
    }
   ],
   "execution_count": 4
  },
  {
   "metadata": {
    "ExecuteTime": {
     "end_time": "2024-12-22T19:15:17.775164Z",
     "start_time": "2024-12-22T19:15:17.768854Z"
    }
   },
   "cell_type": "code",
   "source": [
    "end_costs = []\n",
    "for pos, dir in best_cost:\n",
    "    if pos == end_pos:\n",
    "        end_costs.append(best_cost[(pos, dir)])\n",
    "\n",
    "ans1 = min(end_costs)\n",
    "ans1"
   ],
   "id": "d925d77dd9cedd97",
   "outputs": [
    {
     "data": {
      "text/plain": [
       "79404"
      ]
     },
     "execution_count": 5,
     "metadata": {},
     "output_type": "execute_result"
    }
   ],
   "execution_count": 5
  },
  {
   "metadata": {
    "ExecuteTime": {
     "end_time": "2024-12-22T19:15:18.558677Z",
     "start_time": "2024-12-22T19:15:18.553884Z"
    }
   },
   "cell_type": "code",
   "source": "submit(ans1, part=\"a\", day=day, year=year)",
   "id": "eb8150cec844589f",
   "outputs": [
    {
     "name": "stdout",
     "output_type": "stream",
     "text": [
      "Part a already solved with same answer: 79404\n"
     ]
    }
   ],
   "execution_count": 6
  },
  {
   "metadata": {
    "ExecuteTime": {
     "end_time": "2024-12-22T19:15:29.126219Z",
     "start_time": "2024-12-22T19:15:28.334884Z"
    }
   },
   "cell_type": "code",
   "source": [
    "from collections import defaultdict\n",
    "\n",
    "m = matrix.copy()\n",
    "best_cost = defaultdict(lambda: 1_000_000)\n",
    "best_cost[(start_pos, start_dir)] = 0\n",
    "best_paths = defaultdict(set)\n",
    "best_paths[(start_pos, start_dir)].add(tuple(start_pos))\n",
    "\n",
    "dir_90_deg = {\n",
    "    (0, 1): [(1, 0), (-1, 0)],\n",
    "    (-1, 0): [(0, 1), (0, -1)],\n",
    "    (0, -1): [(-1, 0), (1, 0)],\n",
    "    (1, 0): [(0, -1), (0, 1)]\n",
    "}\n",
    "\n",
    "to_visit = [(start_pos, start_dir)]\n",
    "for iteration in range(1_000):\n",
    "    new_to_visit = set()\n",
    "    for pos, dir in to_visit:\n",
    "        pos = tuple(pos)\n",
    "        dir = tuple(dir)\n",
    "        assert (pos, dir) in best_cost\n",
    "        cost = best_cost[(pos, dir)]\n",
    "        for new_dir in dir_90_deg[dir]+[dir]:\n",
    "            new_pos = (pos[0]+new_dir[0], pos[1]+new_dir[1])\n",
    "            if m[new_pos] in \".E\":\n",
    "                new_cost = cost + (1 if dir == new_dir else 1000+1)\n",
    "                # special case for equal cost, this means both are valid options and we combine them\n",
    "                if new_cost == best_cost[(new_pos, new_dir)]:\n",
    "                    # combine path lengths together\n",
    "                    best_paths[(new_pos, new_dir)].update(best_paths[(pos, dir)])\n",
    "                if new_cost < best_cost[(new_pos, new_dir)]:\n",
    "                    new_to_visit.add((new_pos, new_dir))\n",
    "                    best_cost[(new_pos, new_dir)] = new_cost\n",
    "                    best_paths[(new_pos, new_dir)] = best_paths[(pos, dir)].copy()\n",
    "                    best_paths[(new_pos, new_dir)].add(new_pos)\n",
    "    if not new_to_visit:\n",
    "        print(\"DONE\")\n",
    "        break\n",
    "    to_visit = list(new_to_visit)\n",
    "#     print(to_visit)\n",
    "else:\n",
    "    raise ValueError(\"max iterations exceeded\")\n"
   ],
   "id": "a640b61dde43e749",
   "outputs": [
    {
     "name": "stdout",
     "output_type": "stream",
     "text": [
      "DONE\n"
     ]
    }
   ],
   "execution_count": 7
  },
  {
   "metadata": {
    "ExecuteTime": {
     "end_time": "2024-12-22T19:15:30.545252Z",
     "start_time": "2024-12-22T19:15:30.542963Z"
    }
   },
   "cell_type": "code",
   "source": [
    "ans2 = len(best_paths[(end_pos, (-1, 0))])\n",
    "ans2"
   ],
   "id": "181997db50b60bd5",
   "outputs": [
    {
     "data": {
      "text/plain": [
       "451"
      ]
     },
     "execution_count": 8,
     "metadata": {},
     "output_type": "execute_result"
    }
   ],
   "execution_count": 8
  },
  {
   "metadata": {
    "ExecuteTime": {
     "end_time": "2024-12-22T19:15:37.968940Z",
     "start_time": "2024-12-22T19:15:37.963270Z"
    }
   },
   "cell_type": "code",
   "source": "submit(ans2, part=\"b\", day=day, year=year)",
   "id": "901e8169fdc59ed0",
   "outputs": [
    {
     "name": "stdout",
     "output_type": "stream",
     "text": [
      "Part b already solved with same answer: 451\n"
     ]
    }
   ],
   "execution_count": 9
  }
 ],
 "metadata": {
  "kernelspec": {
   "display_name": "aoc",
   "language": "python",
   "name": "aoc"
  },
  "language_info": {
   "codemirror_mode": {
    "name": "ipython",
    "version": 2
   },
   "file_extension": ".py",
   "mimetype": "text/x-python",
   "name": "python",
   "nbconvert_exporter": "python",
   "pygments_lexer": "ipython2",
   "version": "2.7.6"
  }
 },
 "nbformat": 4,
 "nbformat_minor": 5
}
