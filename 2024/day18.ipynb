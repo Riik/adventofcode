{
 "cells": [
  {
   "metadata": {
    "ExecuteTime": {
     "end_time": "2024-12-22T19:22:49.714362Z",
     "start_time": "2024-12-22T19:22:49.711827Z"
    }
   },
   "cell_type": "code",
   "source": "year = 2024; day = 18",
   "id": "14097d859b17d8da",
   "outputs": [],
   "execution_count": 1
  },
  {
   "metadata": {
    "ExecuteTime": {
     "end_time": "2024-12-22T19:22:49.969230Z",
     "start_time": "2024-12-22T19:22:49.718506Z"
    }
   },
   "cell_type": "code",
   "source": [
    "from aocd import get_data, submit\n",
    "\n",
    "data = get_data(year=year, day=day)\n",
    "data = data.strip()\n",
    "\n",
    "H, W = 71, 71\n",
    "\n",
    "def parse_single_line(line):\n",
    "    line = line.split(\",\")\n",
    "    return list(map(int, line))\n",
    "\n",
    "def in_bounds(y, x):\n",
    "    return 0 <= y < H and 0 <= x < W\n",
    "\n",
    "data = [tuple(parse_single_line(line)) for line in data.split(\"\\n\")]\n",
    "\n",
    "data[:5]"
   ],
   "id": "e10b758f9c8c5fd3",
   "outputs": [
    {
     "data": {
      "text/plain": [
       "[(13, 29), (52, 69), (2, 21), (5, 14), (56, 67)]"
      ]
     },
     "execution_count": 2,
     "metadata": {},
     "output_type": "execute_result"
    }
   ],
   "execution_count": 2
  },
  {
   "metadata": {
    "ExecuteTime": {
     "end_time": "2024-12-22T19:22:50.043855Z",
     "start_time": "2024-12-22T19:22:50.040599Z"
    }
   },
   "cell_type": "code",
   "source": [
    "def search_memory_space_untill(byte_i):\n",
    "    cost = dict()\n",
    "    initial_state = (0,0)\n",
    "    to_visit = [initial_state]\n",
    "    cost[initial_state] = 0\n",
    "    bytes = set(data[:byte_i])\n",
    "\n",
    "    directions = [(0,1), (0,-1), (1,0), (-1,0)]\n",
    "\n",
    "    for iteration in range(5_000):\n",
    "        new_to_visit = set()\n",
    "        # print(len(to_visit))\n",
    "        for s in to_visit:\n",
    "            s_cost = cost[s]\n",
    "            for new_dir in directions:\n",
    "                new_s = (s[0] + new_dir[0], s[1] + new_dir[1])\n",
    "                if not in_bounds(*new_s):\n",
    "                    continue\n",
    "                if new_s in bytes:\n",
    "                    continue\n",
    "                new_cost = s_cost + 1\n",
    "                if new_s not in cost or new_cost < cost[new_s]:\n",
    "                    cost[new_s] = new_cost\n",
    "                    new_to_visit.add(new_s)\n",
    "        if not new_to_visit:\n",
    "            break\n",
    "        to_visit = list(new_to_visit)\n",
    "\n",
    "    else:\n",
    "        raise ValueError(\"max iterations exceeded\")\n",
    "    return cost"
   ],
   "id": "d14b3a12774a9539",
   "outputs": [],
   "execution_count": 3
  },
  {
   "metadata": {
    "ExecuteTime": {
     "end_time": "2024-12-22T19:22:50.055890Z",
     "start_time": "2024-12-22T19:22:50.048852Z"
    }
   },
   "cell_type": "code",
   "source": [
    "cost = search_memory_space_untill(1024)\n",
    "ans1 = cost[(70,70)]"
   ],
   "id": "32e9da519ecf807a",
   "outputs": [],
   "execution_count": 4
  },
  {
   "metadata": {
    "ExecuteTime": {
     "end_time": "2024-12-22T19:22:50.095291Z",
     "start_time": "2024-12-22T19:22:50.061936Z"
    }
   },
   "cell_type": "code",
   "source": "submit(ans1, part=\"a\", year=year, day=day)",
   "id": "e10969cd78e94db3",
   "outputs": [
    {
     "name": "stdout",
     "output_type": "stream",
     "text": [
      "Part a already solved with same answer: 438\n"
     ]
    }
   ],
   "execution_count": 5
  },
  {
   "metadata": {
    "ExecuteTime": {
     "end_time": "2024-12-22T19:22:55.945284Z",
     "start_time": "2024-12-22T19:22:50.101611Z"
    }
   },
   "cell_type": "code",
   "source": [
    "breaking_byte = None\n",
    "for i in range(1024, len(data)):\n",
    "    cost = search_memory_space_untill(i)\n",
    "    if not (70,70) in cost:\n",
    "        breaking_byte = i-1\n",
    "        break\n",
    "breaking_byte"
   ],
   "id": "c5cc1733ea0ea79f",
   "outputs": [
    {
     "data": {
      "text/plain": [
       "2919"
      ]
     },
     "execution_count": 6,
     "metadata": {},
     "output_type": "execute_result"
    }
   ],
   "execution_count": 6
  },
  {
   "metadata": {
    "ExecuteTime": {
     "end_time": "2024-12-22T19:22:55.959640Z",
     "start_time": "2024-12-22T19:22:55.957704Z"
    }
   },
   "cell_type": "code",
   "source": "ans2 = \",\".join(map(str, (data[breaking_byte])))",
   "id": "40c99370dcf33265",
   "outputs": [],
   "execution_count": 7
  },
  {
   "metadata": {
    "ExecuteTime": {
     "end_time": "2024-12-22T19:22:55.969142Z",
     "start_time": "2024-12-22T19:22:55.965840Z"
    }
   },
   "cell_type": "code",
   "source": "submit(ans2, part=\"b\", year=year, day=day)",
   "id": "bb786e97ed86af15",
   "outputs": [
    {
     "name": "stdout",
     "output_type": "stream",
     "text": [
      "Part b already solved with same answer: 26,22\n"
     ]
    }
   ],
   "execution_count": 8
  }
 ],
 "metadata": {
  "kernelspec": {
   "display_name": "aoc",
   "language": "python",
   "name": "aoc"
  },
  "language_info": {
   "codemirror_mode": {
    "name": "ipython",
    "version": 2
   },
   "file_extension": ".py",
   "mimetype": "text/x-python",
   "name": "python",
   "nbconvert_exporter": "python",
   "pygments_lexer": "ipython2",
   "version": "2.7.6"
  }
 },
 "nbformat": 4,
 "nbformat_minor": 5
}
