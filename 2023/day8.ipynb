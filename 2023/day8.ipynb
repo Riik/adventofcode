{
 "cells": [
  {
   "cell_type": "code",
   "execution_count": 75,
   "outputs": [],
   "source": [
    "year = 2023; day = 8"
   ],
   "metadata": {
    "collapsed": false
   }
  },
  {
   "cell_type": "code",
   "execution_count": 86,
   "outputs": [],
   "source": [
    "from aocd import submit\n",
    "from aocd.models import Puzzle\n",
    "import math\n",
    "\n",
    "puzzle = Puzzle(year=year, day=day)\n",
    "data = puzzle.input_data\n",
    "\n",
    "data = data.strip()\n",
    "data = data.split(\"\\n\")"
   ],
   "metadata": {
    "collapsed": false
   }
  },
  {
   "cell_type": "code",
   "execution_count": 77,
   "outputs": [],
   "source": [
    "instructions = data[0]"
   ],
   "metadata": {
    "collapsed": false
   }
  },
  {
   "cell_type": "code",
   "execution_count": 78,
   "outputs": [],
   "source": [
    "directions = [line\n",
    "              .replace(\"=\", \"\")\n",
    "              .replace(\"(\", \"\")\n",
    "              .replace(\")\", \"\")\n",
    "              .replace(\",\", \"\")\n",
    "              .split() for line in data[2:]]\n",
    "directions = {d[0]: (d[1], d[2]) for d in directions}"
   ],
   "metadata": {
    "collapsed": false
   }
  },
  {
   "cell_type": "code",
   "execution_count": 79,
   "outputs": [],
   "source": [
    "from itertools import cycle\n",
    "\n",
    "def find_path_len(starting_node, full_match):\n",
    "    curr = starting_node\n",
    "    steps = 0\n",
    "    for inst in cycle(instructions):\n",
    "        if inst == \"L\":\n",
    "            curr = directions[curr][0]\n",
    "        else:\n",
    "            curr = directions[curr][1]\n",
    "        steps += 1\n",
    "        if curr == \"ZZZ\" and full_match:\n",
    "            break\n",
    "        if not full_match and curr[-1] == \"Z\":\n",
    "            break\n",
    "    return steps\n"
   ],
   "metadata": {
    "collapsed": false
   }
  },
  {
   "cell_type": "code",
   "execution_count": 80,
   "outputs": [
    {
     "data": {
      "text/plain": "23147"
     },
     "execution_count": 80,
     "metadata": {},
     "output_type": "execute_result"
    }
   ],
   "source": [
    "answer = find_path_len(\"AAA\", full_match=True)\n",
    "answer"
   ],
   "metadata": {
    "collapsed": false
   }
  },
  {
   "cell_type": "code",
   "execution_count": 81,
   "outputs": [
    {
     "name": "stdout",
     "output_type": "stream",
     "text": [
      "aocd will not submit that answer again. At 2023-12-08 00:10:58.003180-05:00 you've previously submitted 23147 and the server responded with:\n",
      "\u001B[32mThat's the right answer!  You are one gold star closer to restoring snow operations. [Continue to Part Two]\u001B[0m\n"
     ]
    }
   ],
   "source": [
    "submit(answer, part=\"a\", year=year, day=day)"
   ],
   "metadata": {
    "collapsed": false
   }
  },
  {
   "cell_type": "code",
   "execution_count": 87,
   "outputs": [],
   "source": [
    "starting_nodes = [n for n in directions.keys() if n[-1] == \"A\"]\n",
    "cycle_lengths = [find_path_len(n, full_match=False) for n in starting_nodes]\n",
    "answer = math.lcm(*cycle_lengths)"
   ],
   "metadata": {
    "collapsed": false
   }
  },
  {
   "cell_type": "code",
   "execution_count": 88,
   "outputs": [
    {
     "data": {
      "text/plain": "22289513667691"
     },
     "execution_count": 88,
     "metadata": {},
     "output_type": "execute_result"
    }
   ],
   "source": [
    "answer"
   ],
   "metadata": {
    "collapsed": false
   }
  },
  {
   "cell_type": "code",
   "execution_count": 85,
   "outputs": [
    {
     "name": "stdout",
     "output_type": "stream",
     "text": [
      "aocd will not submit that answer again. At 2023-12-08 00:17:46.160064-05:00 you've previously submitted 22289513667691 and the server responded with:\n",
      "\u001B[32mThat's the right answer!  You are one gold star closer to restoring snow operations. You got rank 510 on this star's leaderboard.You have completed Day 8! You can [Shareon\n",
      "  Twitter\n",
      "Mastodon] this victory or [Return to Your Advent Calendar].\u001B[0m\n"
     ]
    }
   ],
   "source": [
    "submit(answer, part=\"b\", year=year, day=day)"
   ],
   "metadata": {
    "collapsed": false
   }
  }
 ],
 "metadata": {
  "kernelspec": {
   "name": "aoc",
   "language": "python",
   "display_name": "aoc"
  },
  "language_info": {
   "codemirror_mode": {
    "name": "ipython",
    "version": 2
   },
   "file_extension": ".py",
   "mimetype": "text/x-python",
   "name": "python",
   "nbconvert_exporter": "python",
   "pygments_lexer": "ipython2",
   "version": "2.7.6"
  }
 },
 "nbformat": 4,
 "nbformat_minor": 0
}
