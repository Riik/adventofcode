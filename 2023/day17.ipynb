{
 "cells": [
  {
   "cell_type": "code",
   "execution_count": 1,
   "outputs": [],
   "source": [
    "year = 2023\n",
    "day = 17"
   ],
   "metadata": {
    "collapsed": false
   }
  },
  {
   "cell_type": "code",
   "execution_count": 148,
   "outputs": [
    {
     "data": {
      "text/plain": "array([[5, 3, 4, ..., 3, 3, 2],\n       [1, 4, 3, ..., 3, 2, 4],\n       [4, 3, 1, ..., 4, 4, 2],\n       ...,\n       [4, 3, 3, ..., 2, 3, 5],\n       [4, 2, 3, ..., 3, 3, 4],\n       [1, 2, 4, ..., 1, 1, 2]])"
     },
     "execution_count": 148,
     "metadata": {},
     "output_type": "execute_result"
    }
   ],
   "source": [
    "from aocd import submit\n",
    "from aocd.models import Puzzle\n",
    "from functools import reduce\n",
    "import numpy as np\n",
    "\n",
    "puzzle = Puzzle(year=year, day=day)\n",
    "data = puzzle.input_data\n",
    "# data = puzzle.examples[0].input_data\n",
    "\n",
    "data = data.strip()\n",
    "data = data.split(\"\\n\")\n",
    "data = [list(line) for line in data]\n",
    "data = np.array(data).astype(\"int\")\n",
    "\n",
    "\n",
    "headings = {\n",
    "    \"N\": (-1, 0),\n",
    "    \"S\": (1, 0),\n",
    "    \"E\": (0, 1),\n",
    "    \"W\": (0, -1),\n",
    "}\n",
    "\n",
    "neighbours_90_deg = {\n",
    "    \"N\": [(-1, 0), (0, -1), (0, 1)],\n",
    "    \"S\": [(1, 0), (0, -1), (0, 1)],\n",
    "    \"E\": [(0, 1), (-1, 0), (1, 0)],\n",
    "    \"W\": [(0, -1), (-1, 0), (1, 0)],\n",
    "}\n",
    "\n",
    "lookup_heading = {\n",
    "    (-1, 0): \"N\",\n",
    "    (1, 0): \"S\",\n",
    "    (0, 1): \"E\",\n",
    "    (0, -1): \"W\",\n",
    "}\n",
    "\n",
    "H, W = data.shape\n",
    "\n",
    "data"
   ],
   "metadata": {
    "collapsed": false
   }
  },
  {
   "cell_type": "code",
   "execution_count": 191,
   "outputs": [],
   "source": [
    "def get_neighbours(y, x, h, t, max_t=2, min_t=0):\n",
    "    n = []\n",
    "    for d_y, d_x in neighbours_90_deg[h]:\n",
    "        new_h = lookup_heading[(d_y, d_x)]\n",
    "        new_t = t + 1 if new_h == h else 0\n",
    "        if y + d_y < 0 or y + d_y >= H or x + d_x < 0 or x + d_x >= W:\n",
    "            continue\n",
    "        if (t+1 < min_t) and (h != new_h):\n",
    "            continue\n",
    "        if t+1 > max_t:\n",
    "            continue\n",
    "        n.append(((y + d_y, x + d_x), new_h, new_t))\n",
    "    return n"
   ],
   "metadata": {
    "collapsed": false
   }
  },
  {
   "cell_type": "code",
   "execution_count": 194,
   "outputs": [],
   "source": [
    "from collections import defaultdict\n",
    "\n",
    "\n",
    "def find_best_path(data, max_straight, min_straight=0):\n",
    "    cache = defaultdict(lambda: 1_000_000_000)\n",
    "    cache[((1,0), \"S\", 0)] = data[1,0]\n",
    "    cache[((0,1), \"E\", 0)] = data[0,1]\n",
    "    front = set(cache.keys())\n",
    "\n",
    "    for i in range(1_000):\n",
    "        new_front = set()\n",
    "        for key in front:\n",
    "            loc, h, t = key\n",
    "            y, x = loc\n",
    "            curr_loss = cache[key]\n",
    "            neigh = get_neighbours(y, x, h, t, max_straight, min_straight)\n",
    "\n",
    "            for next_key in neigh:\n",
    "                loc, _, _ = next_key\n",
    "                n_y, n_x = loc\n",
    "                new_loss = data[n_y, n_x]\n",
    "\n",
    "                if curr_loss + new_loss < cache[next_key]:\n",
    "                    cache[next_key] = curr_loss + new_loss\n",
    "                    new_front.add(next_key)\n",
    "\n",
    "        if not new_front:\n",
    "            print(\"done\", i)\n",
    "            break\n",
    "        front = new_front\n",
    "    return cache"
   ],
   "metadata": {
    "collapsed": false
   }
  },
  {
   "cell_type": "code",
   "execution_count": 195,
   "outputs": [
    {
     "name": "stderr",
     "output_type": "stream",
     "text": [
      "coerced int64 value 963 for 2023/17\n"
     ]
    },
    {
     "name": "stdout",
     "output_type": "stream",
     "text": [
      "done 365\n",
      "Part a already solved with same answer: 963\n"
     ]
    }
   ],
   "source": [
    "cache = find_best_path(data, max_straight=3)\n",
    "answer = min([value for key, value in cache.items() if key[0] == (H-1, W-1)])\n",
    "submit(answer, part=\"a\", year=year, day=day)"
   ],
   "metadata": {
    "collapsed": false
   }
  },
  {
   "cell_type": "code",
   "execution_count": 196,
   "outputs": [
    {
     "name": "stderr",
     "output_type": "stream",
     "text": [
      "coerced int64 value 1178 for 2023/17\n"
     ]
    },
    {
     "name": "stdout",
     "output_type": "stream",
     "text": [
      "done 378\n",
      "Part b already solved with same answer: 1178\n"
     ]
    }
   ],
   "source": [
    "cache = find_best_path(data, max_straight=10, min_straight=4)\n",
    "answer = min([value for key, value in cache.items() if key[0] == (H-1, W-1)])\n",
    "submit(answer, part=\"b\", year=year, day=day)"
   ],
   "metadata": {
    "collapsed": false
   }
  }
 ],
 "metadata": {
  "kernelspec": {
   "name": "aoc",
   "language": "python",
   "display_name": "aoc"
  },
  "language_info": {
   "codemirror_mode": {
    "name": "ipython",
    "version": 2
   },
   "file_extension": ".py",
   "mimetype": "text/x-python",
   "name": "python",
   "nbconvert_exporter": "python",
   "pygments_lexer": "ipython2",
   "version": "2.7.6"
  }
 },
 "nbformat": 4,
 "nbformat_minor": 0
}
