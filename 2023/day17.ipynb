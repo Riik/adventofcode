{
 "cells": [
  {
   "cell_type": "code",
   "execution_count": 1,
   "outputs": [],
   "source": [
    "year = 2023\n",
    "day = 17"
   ],
   "metadata": {
    "collapsed": false
   }
  },
  {
   "cell_type": "code",
   "execution_count": 148,
   "outputs": [
    {
     "data": {
      "text/plain": "array([[5, 3, 4, ..., 3, 3, 2],\n       [1, 4, 3, ..., 3, 2, 4],\n       [4, 3, 1, ..., 4, 4, 2],\n       ...,\n       [4, 3, 3, ..., 2, 3, 5],\n       [4, 2, 3, ..., 3, 3, 4],\n       [1, 2, 4, ..., 1, 1, 2]])"
     },
     "execution_count": 148,
     "metadata": {},
     "output_type": "execute_result"
    }
   ],
   "source": [
    "from aocd import submit\n",
    "from aocd.models import Puzzle\n",
    "from functools import reduce\n",
    "import numpy as np\n",
    "\n",
    "puzzle = Puzzle(year=year, day=day)\n",
    "data = puzzle.input_data\n",
    "# data = puzzle.examples[0].input_data\n",
    "\n",
    "data = data.strip()\n",
    "data = data.split(\"\\n\")\n",
    "data = [list(line) for line in data]\n",
    "data = np.array(data).astype(\"int\")\n",
    "\n",
    "\n",
    "headings = {\n",
    "    \"N\": (-1, 0),\n",
    "    \"S\": (1, 0),\n",
    "    \"E\": (0, 1),\n",
    "    \"W\": (0, -1),\n",
    "}\n",
    "\n",
    "neighbours_90_deg = {\n",
    "    \"N\": [(-1, 0), (0, -1), (0, 1)],\n",
    "    \"S\": [(1, 0), (0, -1), (0, 1)],\n",
    "    \"E\": [(0, 1), (-1, 0), (1, 0)],\n",
    "    \"W\": [(0, -1), (-1, 0), (1, 0)],\n",
    "}\n",
    "\n",
    "lookup_heading = {\n",
    "    (-1, 0): \"N\",\n",
    "    (1, 0): \"S\",\n",
    "    (0, 1): \"E\",\n",
    "    (0, -1): \"W\",\n",
    "}\n",
    "\n",
    "H, W = data.shape\n",
    "\n",
    "data"
   ],
   "metadata": {
    "collapsed": false
   }
  },
  {
   "cell_type": "code",
   "execution_count": 143,
   "outputs": [],
   "source": [
    "def get_neighbours(y, x, h, t):\n",
    "    n = []\n",
    "    for d_y, d_x in neighbours_90_deg[h]:\n",
    "        new_h = lookup_heading[(d_y, d_x)]\n",
    "        new_t = t + 1 if new_h == h else 0\n",
    "        # print(y, x, h, t, new_h, new_t)\n",
    "        if y + d_y < 0 or y + d_y >= H or x + d_x < 0 or x + d_x >= W:\n",
    "            continue\n",
    "        if (t < 3) and (h != new_h):\n",
    "            continue\n",
    "        if new_t > 9:\n",
    "            continue\n",
    "        n.append(((y + d_y, x + d_x), new_h, new_t))\n",
    "    return n"
   ],
   "metadata": {
    "collapsed": false
   }
  },
  {
   "cell_type": "code",
   "execution_count": 145,
   "outputs": [
    {
     "name": "stdout",
     "output_type": "stream",
     "text": [
      "done 377\n"
     ]
    }
   ],
   "source": [
    "from collections import defaultdict\n",
    "cache = defaultdict(lambda: 1_000_000_000)\n",
    "cache[((1,0), \"S\", 0)] = data[1,0]\n",
    "cache[((0,1), \"E\", 0)] = data[0,1]\n",
    "front = set(cache.keys())\n",
    "\n",
    "for i in range(1_000):\n",
    "    new_front = set()\n",
    "    for key in front:\n",
    "        loc, h, t = key\n",
    "        y, x = loc\n",
    "        curr_loss = cache[key]\n",
    "        neigh = get_neighbours(y, x, h, t)\n",
    "\n",
    "        for next_key in neigh:\n",
    "            loc, _, _ = next_key\n",
    "            n_y, n_x = loc\n",
    "            new_loss = data[n_y, n_x]\n",
    "\n",
    "            if curr_loss + new_loss < cache[next_key]:\n",
    "                cache[next_key] = curr_loss + new_loss\n",
    "                new_front.add(next_key)\n",
    "\n",
    "    if not new_front:\n",
    "        print(\"done\", i)\n",
    "        break\n",
    "    front = new_front\n",
    "\n",
    "# (0, 1) 4 4\n",
    "# (0, 2) 5 5\n",
    "# (1, 2) 6 6\n",
    "# (1, 3) 11 11\n",
    "# (1, 4) 15 15\n",
    "# (1, 5) 20 20\n",
    "# (0, 5) 23 19\n",
    "# (0, 6) 25 28\n",
    "# (0, 7) 28 31\n",
    "\n"
   ],
   "metadata": {
    "collapsed": false
   }
  },
  {
   "cell_type": "code",
   "execution_count": 87,
   "outputs": [],
   "source": [
    "example_path = \"\"\"2>>34^>>>1323\n",
    "32v>>>35v5623\n",
    "32552456v>>54\n",
    "3446585845v52\n",
    "4546657867v>6\n",
    "14385987984v4\n",
    "44578769877v6\n",
    "36378779796v>\n",
    "465496798688v\n",
    "456467998645v\n",
    "12246868655<v\n",
    "25465488877v5\n",
    "43226746555v>\"\"\"\n",
    "\n",
    "example_path = example_path.strip()\n",
    "example_path = example_path.split(\"\\n\")\n",
    "example_path = [list(line) for line in example_path]\n",
    "example_path = np.array(example_path)\n",
    "\n",
    "example_path = np.where((example_path == \">\") | (example_path == \"<\") | (example_path == \"^\") | (example_path == \"v\"))\n",
    "example_path = list(zip(*example_path))\n",
    "\n",
    "path_ordered = []\n",
    "y, x = 0, 0\n",
    "while (y, x) != (H-1, W-1):\n",
    "    if (y + 1, x) in example_path and (y+1, x) not in path_ordered:\n",
    "        y, x = y+1, x\n",
    "        path_ordered.append((y, x))\n",
    "    elif (y - 1, x) in example_path and (y-1, x) not in path_ordered:\n",
    "        y, x = y-1, x\n",
    "        path_ordered.append((y, x))\n",
    "    elif (y, x + 1) in example_path and (y, x+1) not in path_ordered:\n",
    "        y, x = y, x+1\n",
    "        path_ordered.append((y, x))\n",
    "    elif (y, x - 1) in example_path and (y, x-1) not in path_ordered:\n",
    "        y, x = y, x-1\n",
    "        path_ordered.append((y, x))\n",
    "    else:\n",
    "        print(\"error\")\n",
    "        break\n"
   ],
   "metadata": {
    "collapsed": false
   }
  },
  {
   "cell_type": "code",
   "execution_count": 88,
   "outputs": [
    {
     "data": {
      "text/plain": "<matplotlib.image.AxesImage at 0x14ac7ac50>"
     },
     "execution_count": 88,
     "metadata": {},
     "output_type": "execute_result"
    },
    {
     "data": {
      "text/plain": "<Figure size 640x480 with 1 Axes>",
      "image/png": "[encoded data removed]"
     },
     "metadata": {},
     "output_type": "display_data"
    }
   ],
   "source": [
    "vis = np.zeros(data.shape)\n",
    "for y, x in example_path:\n",
    "    vis[y, x] = 1\n",
    "import matplotlib.pyplot as plt\n",
    "\n",
    "plt.imshow(vis)"
   ],
   "metadata": {
    "collapsed": false
   }
  },
  {
   "cell_type": "code",
   "execution_count": 89,
   "outputs": [
    {
     "data": {
      "text/plain": "[(0, 1),\n (0, 2),\n (1, 2),\n (1, 3),\n (1, 4),\n (1, 5),\n (0, 5),\n (0, 6),\n (0, 7),\n (0, 8),\n (1, 8),\n (2, 8),\n (2, 9),\n (2, 10),\n (3, 10),\n (4, 10),\n (4, 11),\n (5, 11),\n (6, 11),\n (7, 11),\n (7, 12),\n (8, 12),\n (9, 12),\n (10, 12),\n (10, 11),\n (11, 11),\n (12, 11),\n (12, 12)]"
     },
     "execution_count": 89,
     "metadata": {},
     "output_type": "execute_result"
    }
   ],
   "source": [
    "path_ordered"
   ],
   "metadata": {
    "collapsed": false
   }
  },
  {
   "cell_type": "code",
   "execution_count": 90,
   "outputs": [
    {
     "name": "stdout",
     "output_type": "stream",
     "text": [
      "(0, 1) 4 4\n",
      "(0, 2) 5 5\n",
      "(1, 2) 6 6\n",
      "(1, 3) 11 11\n",
      "(1, 4) 15 15\n",
      "(1, 5) 20 20\n",
      "(0, 5) 23 19\n",
      "(0, 6) 25 28\n",
      "(0, 7) 28 31\n",
      "(0, 8) 29 37\n",
      "(1, 8) 32 35\n",
      "(2, 8) 37 40\n",
      "(2, 9) 41 44\n",
      "(2, 10) 43 46\n",
      "(3, 10) 47 50\n",
      "(4, 10) 52 55\n",
      "(4, 11) 55 58\n",
      "(5, 11) 60 63\n",
      "(6, 11) 66 69\n",
      "(7, 11) 71 74\n",
      "(7, 12) 74 76\n",
      "(8, 12) 81 83\n",
      "(9, 12) 84 87\n",
      "(10, 12) 87 90\n",
      "(10, 11) 93 101\n",
      "(11, 11) 96 109\n",
      "(12, 11) 99 109\n",
      "(12, 12) 102 104\n"
     ]
    }
   ],
   "source": [
    "values = [data[y, x] for y, x in path_ordered]\n",
    "cost_path = np.cumsum(values)\n",
    "\n",
    "for loc, cost in zip(path_ordered, cost_path):\n",
    "\n",
    "\n",
    "    k = [key for key in cache.keys() if key[0] == loc]\n",
    "    k\n",
    "    v = min([cache[key] for key in k])\n",
    "\n",
    "    print(loc, cost, v)\n",
    "\n"
   ],
   "metadata": {
    "collapsed": false
   }
  },
  {
   "cell_type": "code",
   "execution_count": null,
   "outputs": [],
   "source": [
    "# 1141 too high"
   ],
   "metadata": {
    "collapsed": false
   }
  }
 ],
 "metadata": {
  "kernelspec": {
   "name": "aoc",
   "language": "python",
   "display_name": "aoc"
  },
  "language_info": {
   "codemirror_mode": {
    "name": "ipython",
    "version": 2
   },
   "file_extension": ".py",
   "mimetype": "text/x-python",
   "name": "python",
   "nbconvert_exporter": "python",
   "pygments_lexer": "ipython2",
   "version": "2.7.6"
  }
 },
 "nbformat": 4,
 "nbformat_minor": 0
}
