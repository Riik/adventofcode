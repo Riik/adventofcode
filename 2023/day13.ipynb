{
 "cells": [
  {
   "cell_type": "code",
   "execution_count": 131,
   "outputs": [],
   "source": [
    "year = 2023\n",
    "day = 13"
   ],
   "metadata": {
    "collapsed": false
   }
  },
  {
   "cell_type": "code",
   "execution_count": 132,
   "outputs": [],
   "source": [
    "from aocd import submit\n",
    "from aocd.models import Puzzle\n",
    "import numpy as np\n",
    "\n",
    "puzzle = Puzzle(year=year, day=day)\n",
    "data = puzzle.input_data\n",
    "# data = puzzle.examples[0].input_data\n",
    "\n",
    "data = data.strip()\n",
    "data = data.split(\"\\n\\n\")\n",
    "data = [np.array([list(line) for line in d.split(\"\\n\")]) for d in data]"
   ],
   "metadata": {
    "collapsed": false
   }
  },
  {
   "cell_type": "code",
   "execution_count": 133,
   "outputs": [],
   "source": [
    "def count_diff(x):\n",
    "    return np.sum(np.sum(np.invert(x)))\n",
    "\n",
    "\n",
    "def find_reflection(d, diff_check):\n",
    "    H, W = d.shape\n",
    "\n",
    "    refl = 0\n",
    "    for i in range(1, H):\n",
    "        match_len = min(i, H - i)\n",
    "        diff = count_diff(d[i - match_len:i] == np.flipud(d[i:i + match_len]))\n",
    "        if diff == diff_check:\n",
    "            refl += i * 100\n",
    "\n",
    "    for i in range(1, W):\n",
    "        match_len = min(i, W - i)\n",
    "        diff = count_diff(d[:, i - match_len:i] == np.fliplr(d[:, i:i + match_len]))\n",
    "        if diff == diff_check:\n",
    "            refl += i\n",
    "\n",
    "    return refl"
   ],
   "metadata": {
    "collapsed": false
   }
  },
  {
   "cell_type": "code",
   "execution_count": 134,
   "outputs": [
    {
     "name": "stdout",
     "output_type": "stream",
     "text": [
      "Part a already solved with same answer: 30487\n"
     ]
    }
   ],
   "source": [
    "answer = sum(find_reflection(d, 0) for d in data)\n",
    "submit(answer, part=\"a\", year=year, day=day)"
   ],
   "metadata": {
    "collapsed": false
   }
  },
  {
   "cell_type": "code",
   "execution_count": 135,
   "outputs": [
    {
     "name": "stdout",
     "output_type": "stream",
     "text": [
      "Part b already solved with same answer: 31954\n"
     ]
    }
   ],
   "source": [
    "answer = sum(find_reflection(d, 1) for d in data)\n",
    "submit(answer, part=\"b\", year=year, day=day)"
   ],
   "metadata": {
    "collapsed": false
   }
  }
 ],
 "metadata": {
  "kernelspec": {
   "name": "aoc",
   "language": "python",
   "display_name": "aoc"
  },
  "language_info": {
   "codemirror_mode": {
    "name": "ipython",
    "version": 2
   },
   "file_extension": ".py",
   "mimetype": "text/x-python",
   "name": "python",
   "nbconvert_exporter": "python",
   "pygments_lexer": "ipython2",
   "version": "2.7.6"
  }
 },
 "nbformat": 4,
 "nbformat_minor": 0
}
