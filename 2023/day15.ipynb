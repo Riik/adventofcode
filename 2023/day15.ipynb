{
 "cells": [
  {
   "cell_type": "code",
   "execution_count": 1,
   "outputs": [],
   "source": [
    "year = 2023\n",
    "day = 15"
   ],
   "metadata": {
    "collapsed": false
   }
  },
  {
   "cell_type": "code",
   "execution_count": 74,
   "outputs": [
    {
     "data": {
      "text/plain": "['ddl=5', 'fl-', 'mvgv-', 'knb-', 'lxb-']"
     },
     "execution_count": 74,
     "metadata": {},
     "output_type": "execute_result"
    }
   ],
   "source": [
    "from aocd import submit\n",
    "from aocd.models import Puzzle\n",
    "from functools import reduce\n",
    "\n",
    "puzzle = Puzzle(year=year, day=day)\n",
    "data = puzzle.input_data\n",
    "# data = puzzle.examples[0].input_data\n",
    "\n",
    "data = data.strip()\n",
    "data = data.split(\",\")\n",
    "\n",
    "data[:5]"
   ],
   "metadata": {
    "collapsed": false
   }
  },
  {
   "cell_type": "code",
   "execution_count": 62,
   "outputs": [],
   "source": [
    "def HASH(x):\n",
    "    return reduce(lambda a, b: ((ord(b) + a) * 17) % 256, x, 0)"
   ],
   "metadata": {
    "collapsed": false
   }
  },
  {
   "cell_type": "code",
   "execution_count": 63,
   "outputs": [
    {
     "name": "stdout",
     "output_type": "stream",
     "text": [
      "aocd will not submit that answer again. At 2023-12-15 00:11:29.303208-05:00 you've previously submitted 502139 and the server responded with:\n",
      "\u001B[32mThat's the right answer!  You are one gold star closer to restoring snow operations. [Continue to Part Two]\u001B[0m\n"
     ]
    }
   ],
   "source": [
    "answer = sum(HASH(x) for x in data)\n",
    "submit(answer, part=\"a\", year=year, day=day)"
   ],
   "metadata": {
    "collapsed": false
   }
  },
  {
   "cell_type": "code",
   "execution_count": 70,
   "outputs": [],
   "source": [
    "class HASHMAP:\n",
    "    def __init__(self):\n",
    "        self.data = [[] for _ in range(256)]\n",
    "\n",
    "    def __getitem__(self, key):\n",
    "        idx = HASH(key) % 256\n",
    "        vals = self.data[idx]\n",
    "        if not vals:\n",
    "            return None\n",
    "        return [v[1] for v in vals if v[0] == key][0]\n",
    "\n",
    "    def __setitem__(self, key, value):\n",
    "        idx = HASH(key) % 256\n",
    "        vals = self.data[idx]\n",
    "        if key in [v[0] for v in vals]:\n",
    "            vals = [(key, value) if v[0] == key else v for v in vals]\n",
    "        else:\n",
    "            vals.append((key, value))\n",
    "        self.data[idx] = vals\n",
    "\n",
    "    def __delitem__(self, key):\n",
    "        idx = HASH(key) % 256\n",
    "        vals = self.data[idx]\n",
    "        if key in [v[0] for v in vals]:\n",
    "            vals = [v for v in vals if v[0] != key]\n",
    "        self.data[idx] = vals\n",
    "\n",
    "    def __str__(self):\n",
    "        return \", \".join(map(str, self.data))\n",
    "\n",
    "    def __repr__(self):\n",
    "        return \", \".join(map(str, self.data))\n",
    "\n"
   ],
   "metadata": {
    "collapsed": false
   }
  },
  {
   "cell_type": "code",
   "execution_count": 71,
   "outputs": [],
   "source": [
    "h = HASHMAP()\n",
    "for d in data:\n",
    "    if \"-\" in d:\n",
    "        del h[d[:-1]]\n",
    "    elif \"=\" in d:\n",
    "        h[d[:-2]] = int(d[-1])"
   ],
   "metadata": {
    "collapsed": false
   }
  },
  {
   "cell_type": "code",
   "execution_count": 72,
   "outputs": [
    {
     "data": {
      "text/plain": "284132"
     },
     "execution_count": 72,
     "metadata": {},
     "output_type": "execute_result"
    }
   ],
   "source": [
    "def focussing_power(h):\n",
    "    return sum(\n",
    "        sum([(box_idx + 1) * (i + 1) * v[1] for i, v in enumerate(vals)])\n",
    "        for box_idx, vals in enumerate(h.data) if vals\n",
    "    )"
   ],
   "metadata": {
    "collapsed": false
   }
  },
  {
   "cell_type": "code",
   "execution_count": 73,
   "outputs": [
    {
     "name": "stdout",
     "output_type": "stream",
     "text": [
      "Part b already solved with same answer: 284132\n"
     ]
    }
   ],
   "source": [
    "answer = focussing_power(h)\n",
    "submit(answer, part=\"b\", year=year, day=day)"
   ],
   "metadata": {
    "collapsed": false
   }
  }
 ],
 "metadata": {
  "kernelspec": {
   "name": "aoc",
   "language": "python",
   "display_name": "aoc"
  },
  "language_info": {
   "codemirror_mode": {
    "name": "ipython",
    "version": 2
   },
   "file_extension": ".py",
   "mimetype": "text/x-python",
   "name": "python",
   "nbconvert_exporter": "python",
   "pygments_lexer": "ipython2",
   "version": "2.7.6"
  }
 },
 "nbformat": 4,
 "nbformat_minor": 0
}
