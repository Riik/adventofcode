{
 "cells": [
  {
   "cell_type": "code",
   "execution_count": 19,
   "outputs": [],
   "source": [
    "year = 2023\n",
    "day = 19"
   ],
   "metadata": {
    "collapsed": false
   }
  },
  {
   "cell_type": "code",
   "execution_count": 20,
   "outputs": [],
   "source": [
    "from aocd import submit\n",
    "from aocd.models import Puzzle\n",
    "from functools import reduce\n",
    "import numpy as np\n",
    "\n",
    "puzzle = Puzzle(year=year, day=day)\n",
    "data = puzzle.input_data\n",
    "# data = puzzle.examples[0].input_data\n",
    "\n",
    "data = data.strip()\n",
    "all_rules, ranges = data.split(\"\\n\\n\")\n",
    "all_rules = all_rules.split(\"\\n\")\n",
    "ranges = ranges.split(\"\\n\")\n",
    "\n",
    "all_rules = [d.split(\"{\") for d in all_rules]\n",
    "all_rules = {d[0]: d[1].replace(\"}\", \"\").split(\",\") for d in all_rules}\n",
    "\n",
    "ranges = [d.replace(\"{\", \"\").replace(\"}\", \"\").split(\",\") for d in ranges]\n",
    "ranges = [[int(n.split(\"=\")[1]) for n in d] for d in ranges]"
   ],
   "metadata": {
    "collapsed": false
   }
  },
  {
   "cell_type": "code",
   "execution_count": 21,
   "outputs": [],
   "source": [
    "def apply_rule(rule, part):\n",
    "    x, m, a, s = part # used in eval()\n",
    "    for r in rule:\n",
    "        if \":\" in r:\n",
    "            if eval(r.split(\":\")[0]):\n",
    "                return r.split(\":\")[1]\n",
    "        else:\n",
    "            return r"
   ],
   "metadata": {
    "collapsed": false
   }
  },
  {
   "cell_type": "code",
   "execution_count": 22,
   "outputs": [],
   "source": [
    "from collections import defaultdict\n",
    "cache = defaultdict(list)\n",
    "cache[\"in\"] = ranges\n",
    "\n",
    "out = defaultdict(list)\n",
    "while cache:\n",
    "    new_cache = defaultdict(list)\n",
    "    for key, ranges in cache.items():\n",
    "        new_parts = []\n",
    "        for part in ranges:\n",
    "            new_rule = apply_rule(all_rules[key], part)\n",
    "            if new_rule in \"AR\":\n",
    "                out[new_rule].append(part)\n",
    "            else:\n",
    "                new_cache[new_rule].append(part)\n",
    "    cache = new_cache"
   ],
   "metadata": {
    "collapsed": false
   }
  },
  {
   "cell_type": "code",
   "execution_count": 23,
   "outputs": [
    {
     "name": "stdout",
     "output_type": "stream",
     "text": [
      "Part a already solved with same answer: 386787\n"
     ]
    }
   ],
   "source": [
    "answer = sum(sum(xmas) for xmas in out[\"A\"])\n",
    "submit(answer, part=\"a\", year=year, day=day)"
   ],
   "metadata": {
    "collapsed": false
   }
  },
  {
   "cell_type": "code",
   "execution_count": 24,
   "outputs": [
    {
     "name": "stdout",
     "output_type": "stream",
     "text": [
      "finished in 6 iterations\n"
     ]
    }
   ],
   "source": [
    "# idea\n",
    "# start with ranges\n",
    "# start with 'in' rule\n",
    "# split ranges based on rules\n",
    "# keep track of possible ranges for each rule\n",
    "# when a rule is resolved, add to the output\n",
    "\n",
    "c_order = {\"x\": 0, \"m\": 1, \"a\": 2, \"s\": 3}\n",
    "\n",
    "cache = defaultdict(list)\n",
    "cache[\"in\"] = [[range(1, 4001), range(1, 4001), range(1, 4001), range(1, 4001)]]\n",
    "out = defaultdict(list)\n",
    "\n",
    "MAX_ITER = 1_000\n",
    "for i in range(MAX_ITER):\n",
    "    new_cache = defaultdict(list)\n",
    "    for key, ranges in cache.items():\n",
    "        for part_range in ranges:\n",
    "            for r in all_rules[key]:\n",
    "                if \":\" in r:\n",
    "                    c, op, val, new_key = r[0], r[1], int(r.split(\":\")[0][2:]), r.split(\":\")[1]\n",
    "                    if op == \">\":\n",
    "                        val += 1\n",
    "                        new_part_range = part_range.copy()\n",
    "                        new_part_range[c_order[c]] = range(val, part_range[c_order[c]].stop)\n",
    "                        part_range[c_order[c]] = range(part_range[c_order[c]].start, val)\n",
    "                    elif op == \"<\":\n",
    "                        new_part_range = part_range.copy()\n",
    "                        new_part_range[c_order[c]] = range(part_range[c_order[c]].start, val)\n",
    "                        part_range[c_order[c]] = range(val, part_range[c_order[c]].stop)\n",
    "                    else:\n",
    "                        raise ValueError\n",
    "                    if new_key in ['A', 'R']:\n",
    "                        out[new_key].append(new_part_range)\n",
    "                    else:\n",
    "                        new_cache[new_key].append(new_part_range)\n",
    "\n",
    "                elif r in ['A', 'R']:\n",
    "                    out[r].append(part_range)\n",
    "                else:\n",
    "                    new_cache[r].append(part_range)\n",
    "    if not new_cache:\n",
    "        print(f\"finished in {i} iterations\")\n",
    "        break\n",
    "    cache = new_cache"
   ],
   "metadata": {
    "collapsed": false
   }
  },
  {
   "cell_type": "code",
   "execution_count": 25,
   "outputs": [
    {
     "name": "stdout",
     "output_type": "stream",
     "text": [
      "Part b already solved with same answer: 131029523269531\n"
     ]
    }
   ],
   "source": [
    "import math\n",
    "answer = sum(math.prod(len(r) for r in xmas_r) for xmas_r in out[\"A\"])\n",
    "submit(answer, part=\"b\", year=year, day=day)"
   ],
   "metadata": {
    "collapsed": false
   }
  }
 ],
 "metadata": {
  "kernelspec": {
   "name": "aoc",
   "language": "python",
   "display_name": "aoc"
  },
  "language_info": {
   "codemirror_mode": {
    "name": "ipython",
    "version": 2
   },
   "file_extension": ".py",
   "mimetype": "text/x-python",
   "name": "python",
   "nbconvert_exporter": "python",
   "pygments_lexer": "ipython2",
   "version": "2.7.6"
  }
 },
 "nbformat": 4,
 "nbformat_minor": 0
}
