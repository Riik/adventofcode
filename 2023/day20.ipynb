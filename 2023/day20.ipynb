{
 "cells": [
  {
   "cell_type": "code",
   "execution_count": 2,
   "outputs": [],
   "source": [
    "year = 2023\n",
    "day = 20"
   ],
   "metadata": {
    "collapsed": false
   }
  },
  {
   "cell_type": "code",
   "execution_count": 35,
   "outputs": [],
   "source": [
    "from aocd import submit\n",
    "from aocd.models import Puzzle\n",
    "from functools import reduce\n",
    "import numpy as np\n",
    "\n",
    "puzzle = Puzzle(year=year, day=day)\n",
    "data = puzzle.input_data\n",
    "\n",
    "data = data.strip()\n",
    "data = data.split(\"\\n\")\n",
    "data = {k[1:].strip(): (k[0], [i.strip() for i in v.split(\",\")]) for k, v in (d.split(\"->\") for d in data)}"
   ],
   "metadata": {
    "collapsed": false
   }
  },
  {
   "cell_type": "code",
   "execution_count": 36,
   "outputs": [],
   "source": [
    "from collections import defaultdict\n",
    "conjunction_mem = defaultdict(lambda: defaultdict(int))\n",
    "for k, v in data.items():\n",
    "    for n in v[1]:\n",
    "        if n == \"output\" or n == \"rx\":\n",
    "            continue\n",
    "        if data[n][0] == \"&\":\n",
    "            conjunction_mem[n][k] = 0"
   ],
   "metadata": {
    "collapsed": false
   }
  },
  {
   "cell_type": "code",
   "execution_count": 37,
   "outputs": [],
   "source": [
    "inv_mem = {k: 0 for k, v in data.items() if v[0] == \"%\"}"
   ],
   "metadata": {
    "collapsed": false
   }
  },
  {
   "cell_type": "code",
   "execution_count": 38,
   "outputs": [],
   "source": [
    "def reset_inv_mem():\n",
    "    for k in inv_mem:\n",
    "        inv_mem[k] = 0\n",
    "    return inv_mem\n",
    "\n",
    "def reset_conjunction_mem():\n",
    "    for k in conjunction_mem:\n",
    "        for k2 in conjunction_mem[k]:\n",
    "            conjunction_mem[k][k2] = 0\n",
    "    return conjunction_mem"
   ],
   "metadata": {
    "collapsed": false
   }
  },
  {
   "cell_type": "code",
   "execution_count": 48,
   "outputs": [
    {
     "data": {
      "text/plain": "'tj'"
     },
     "execution_count": 48,
     "metadata": {},
     "output_type": "execute_result"
    }
   ],
   "source": [
    "final_node = [k for k, v in data.items() if \"rx\" in v[1]][0]\n",
    "final_node"
   ],
   "metadata": {
    "collapsed": false
   }
  },
  {
   "cell_type": "code",
   "execution_count": 50,
   "outputs": [
    {
     "name": "stdout",
     "output_type": "stream",
     "text": [
      "3917 4 dict_values([0, 1, 0, 0])\n",
      "3931 4 dict_values([0, 0, 0, 1])\n",
      "3943 4 dict_values([1, 0, 0, 0])\n",
      "4057 4 dict_values([0, 0, 1, 0])\n"
     ]
    }
   ],
   "source": [
    "# %: flip flop\n",
    "# b: broadcast\n",
    "# &: 'and' of all inputs\n",
    "\n",
    "pulse_list = [(\"button\", \"roadcaster\", 0)]\n",
    "MAX_ITER = 10_000\n",
    "\n",
    "# def simulate(pulse_list, inv_mem, conjunction_mem):\n",
    "\n",
    "inv_mem = reset_inv_mem()\n",
    "conjunction_mem = reset_conjunction_mem()\n",
    "total_pulses_high = 0\n",
    "total_pulses_low = 0\n",
    "\n",
    "pulses_per_round = []\n",
    "cycle_values = {}\n",
    "\n",
    "# 5000 was empirically determined to be enough to see all cycles\n",
    "for round in range(1, 5_000):\n",
    "\n",
    "    pulse_list = [(\"button\", \"roadcaster\", 0)]\n",
    "\n",
    "    pulses_high = 0\n",
    "    pulses_low = 1 # initial pulse from button\n",
    "    print_round = False\n",
    "    for i in range(MAX_ITER):\n",
    "        new_pulse_list = []\n",
    "        for sender, node, val in pulse_list:\n",
    "            if node not in data:\n",
    "                continue\n",
    "            if node == \"rx\":\n",
    "                print(\"rx\", val)\n",
    "            node_type, connections = data[node]\n",
    "            if node_type == \"b\":\n",
    "                new_pulses = [(node, n, 0) for n in connections]\n",
    "            elif node_type == \"%\":\n",
    "                if not val:\n",
    "                    inv_mem[node] = 1 - inv_mem[node]\n",
    "                    new_pulses = [(node, n, inv_mem[node]) for n in connections]\n",
    "                else:\n",
    "                    new_pulses = []\n",
    "            elif node_type == \"&\":\n",
    "                conjunction_mem[node][sender] = val\n",
    "                # print(node, conjunction_mem[node], all(conjunction_mem[node].values()))\n",
    "                output = 0 if all(conjunction_mem[node].values()) else 1\n",
    "                new_pulses = [(node, n, output) for n in connections]\n",
    "            else:\n",
    "                raise ValueError\n",
    "            new_pulse_list.extend(new_pulses)\n",
    "        # for p in new_pulse_list:\n",
    "        #     print(f\"{p[0]} -{'high' if p[2] else 'low'}-> {p[1]}\")\n",
    "        pulse_list = new_pulse_list\n",
    "        pulses_high += sum(p[2] for p in pulse_list)\n",
    "        pulses_low += sum(1 - p[2] for p in pulse_list)\n",
    "        if any(conjunction_mem[final_node].values()) and not print_round:\n",
    "            print(round, i, conjunction_mem[final_node].values())\n",
    "            if conjunction_mem[final_node].values() not in cycle_values:\n",
    "                cycle_values[conjunction_mem[final_node].values()] = round\n",
    "            print_round = True\n",
    "        if not pulse_list:\n",
    "            break\n",
    "    else:\n",
    "        raise ValueError(\"Too many iterations\")\n",
    "    pulses_per_round.append((pulses_high, pulses_low))\n",
    "\n",
    "    total_pulses_high += pulses_high\n",
    "    total_pulses_low += pulses_low\n",
    "\n",
    "    if round == 1000:\n",
    "        answer = total_pulses_high*total_pulses_low"
   ],
   "metadata": {
    "collapsed": false
   }
  },
  {
   "cell_type": "code",
   "execution_count": 51,
   "outputs": [
    {
     "name": "stdout",
     "output_type": "stream",
     "text": [
      "Part a already solved with same answer: 818649769\n"
     ]
    }
   ],
   "source": [
    "submit(answer, part=\"a\", day=day, year=year)"
   ],
   "metadata": {
    "collapsed": false
   }
  },
  {
   "cell_type": "code",
   "execution_count": 57,
   "outputs": [
    {
     "name": "stdout",
     "output_type": "stream",
     "text": [
      "Part b already solved with same answer: 246313604784977\n"
     ]
    }
   ],
   "source": [
    "import math\n",
    "# empirically determined that all inputs of final_node cycle and are prime\n",
    "# so the answer is the product of the cycle values\n",
    "answer = math.prod(cycle_values.values())\n",
    "submit(answer, part=\"b\", day=day, year=year)"
   ],
   "metadata": {
    "collapsed": false
   }
  }
 ],
 "metadata": {
  "kernelspec": {
   "name": "aoc",
   "language": "python",
   "display_name": "aoc"
  },
  "language_info": {
   "codemirror_mode": {
    "name": "ipython",
    "version": 2
   },
   "file_extension": ".py",
   "mimetype": "text/x-python",
   "name": "python",
   "nbconvert_exporter": "python",
   "pygments_lexer": "ipython2",
   "version": "2.7.6"
  }
 },
 "nbformat": 4,
 "nbformat_minor": 0
}
