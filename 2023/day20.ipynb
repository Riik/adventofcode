{
 "cells": [
  {
   "cell_type": "code",
   "execution_count": 1,
   "outputs": [],
   "source": [
    "year = 2023\n",
    "day = 20"
   ],
   "metadata": {
    "collapsed": false
   }
  },
  {
   "cell_type": "code",
   "execution_count": 131,
   "outputs": [
    {
     "data": {
      "text/plain": "{'gv': ('%', ['lq', 'pm']),\n 'rv': ('%', ['jd', 'nh']),\n 'nh': ('%', ['rs', 'jd']),\n 'vt': ('&', ['tj']),\n 'zv': ('%', ['pm', 'gv']),\n 'gh': ('%', ['jd', 'vd']),\n 'hh': ('%', ['bf', 'qm']),\n 'kx': ('%', ['nf']),\n 'st': ('%', ['pm', 'zc']),\n 'bh': ('%', ['qm', 'pv']),\n 'sk': ('&', ['tj']),\n 'hl': ('%', ['nf', 'pn']),\n 'mt': ('%', ['st', 'pm']),\n 'jd': ('&', ['ts', 'gh', 'vd', 'dc', 'xc']),\n 'zm': ('%', ['hm']),\n 'pv': ('%', ['vv']),\n 'zf': ('%', ['nf', 'cz']),\n 'xc': ('&', ['tj']),\n 'bf': ('%', ['qm']),\n 'ts': ('%', ['sg']),\n 'ht': ('%', ['ch', 'nf']),\n 'pb': ('%', ['rv', 'jd']),\n 'nx': ('%', ['fc']),\n 'mb': ('%', ['mt']),\n 'mh': ('%', ['jd', 'pb']),\n 'lc': ('%', ['bh']),\n 'xg': ('%', ['mb', 'pm']),\n 'vd': ('%', ['dc']),\n 'roadcaster': ('b', ['gh', 'dl', 'xg', 'fb']),\n 'sg': ('%', ['mh', 'jd']),\n 'qq': ('%', ['ts', 'jd']),\n 'dl': ('%', ['nf', 'sv']),\n 'vv': ('%', ['sm', 'qm']),\n 'zc': ('%', ['tb']),\n 'sr': ('%', ['zv', 'pm']),\n 'dc': ('%', ['gb']),\n 'cz': ('%', ['nf', 'zm']),\n 'rs': ('%', ['jd']),\n 'hm': ('%', ['nf', 'hl']),\n 'gd': ('%', ['sr']),\n 'qm': ('&', ['lc', 'pv', 'nx', 'fb', 'kk']),\n 'tj': ('&', ['rx']),\n 'gb': ('%', ['qq', 'jd']),\n 'xf': ('%', ['zf']),\n 'tb': ('%', ['lg']),\n 'sm': ('%', ['qm', 'hh']),\n 'fb': ('%', ['dr', 'qm']),\n 'lq': ('%', ['pm']),\n 'nf': ('&', ['zm', 'dl', 'ch', 'xf', 'vt']),\n 'pm': ('&', ['sk', 'zc', 'tb', 'gd', 'mb', 'xg']),\n 'pn': ('%', ['nf', 'kx']),\n 'fc': ('%', ['xb', 'qm']),\n 'ch': ('%', ['xf']),\n 'kk': ('&', ['tj']),\n 'lg': ('%', ['pm', 'gd']),\n 'sv': ('%', ['nf', 'ht']),\n 'xb': ('%', ['qm', 'lc']),\n 'dr': ('%', ['nx', 'qm'])}"
     },
     "execution_count": 131,
     "metadata": {},
     "output_type": "execute_result"
    }
   ],
   "source": [
    "from aocd import submit\n",
    "from aocd.models import Puzzle\n",
    "from functools import reduce\n",
    "import numpy as np\n",
    "\n",
    "puzzle = Puzzle(year=year, day=day)\n",
    "data = puzzle.input_data\n",
    "# data = puzzle.examples[0].input_data\n",
    "\n",
    "# data = \"\"\"broadcaster -> a, b, c\n",
    "# %a -> b\n",
    "# %b -> c\n",
    "# %c -> inv\n",
    "# &inv -> a\"\"\"\n",
    "\n",
    "# data = \"\"\"broadcaster -> a\n",
    "# %a -> inv, con\n",
    "# &inv -> b\n",
    "# %b -> con\n",
    "# &con -> output\"\"\"\n",
    "\n",
    "\n",
    "\n",
    "data = data.strip()\n",
    "\n",
    "data = data.split(\"\\n\")\n",
    "\n",
    "data = {k[1:].strip(): (k[0], [i.strip() for i in v.split(\",\")]) for k, v in (d.split(\"->\") for d in data)}\n",
    "\n",
    "data"
   ],
   "metadata": {
    "collapsed": false
   }
  },
  {
   "cell_type": "code",
   "execution_count": 132,
   "outputs": [
    {
     "ename": "KeyError",
     "evalue": "'rx'",
     "output_type": "error",
     "traceback": [
      "\u001B[0;31m---------------------------------------------------------------------------\u001B[0m",
      "\u001B[0;31mKeyError\u001B[0m                                  Traceback (most recent call last)",
      "Cell \u001B[0;32mIn[132], line 7\u001B[0m\n\u001B[1;32m      5\u001B[0m         \u001B[38;5;28;01mif\u001B[39;00m n \u001B[38;5;241m==\u001B[39m \u001B[38;5;124m\"\u001B[39m\u001B[38;5;124moutput\u001B[39m\u001B[38;5;124m\"\u001B[39m:\n\u001B[1;32m      6\u001B[0m             \u001B[38;5;28;01mcontinue\u001B[39;00m\n\u001B[0;32m----> 7\u001B[0m         \u001B[38;5;28;01mif\u001B[39;00m \u001B[43mdata\u001B[49m\u001B[43m[\u001B[49m\u001B[43mn\u001B[49m\u001B[43m]\u001B[49m[\u001B[38;5;241m0\u001B[39m] \u001B[38;5;241m==\u001B[39m \u001B[38;5;124m\"\u001B[39m\u001B[38;5;124m&\u001B[39m\u001B[38;5;124m\"\u001B[39m:\n\u001B[1;32m      8\u001B[0m             conjunction_mem[n][k] \u001B[38;5;241m=\u001B[39m \u001B[38;5;241m0\u001B[39m\n\u001B[1;32m     10\u001B[0m conjunction_mem\n",
      "\u001B[0;31mKeyError\u001B[0m: 'rx'"
     ]
    }
   ],
   "source": [
    "from collections import defaultdict\n",
    "conjunction_mem = defaultdict(lambda: defaultdict(int))\n",
    "for k, v in data.items():\n",
    "    for n in v[1]:\n",
    "        if n == \"output\":\n",
    "            continue\n",
    "        if data[n][0] == \"&\":\n",
    "            conjunction_mem[n][k] = 0\n",
    "\n",
    "conjunction_mem"
   ],
   "metadata": {
    "collapsed": false
   }
  },
  {
   "cell_type": "code",
   "execution_count": 133,
   "outputs": [
    {
     "data": {
      "text/plain": "{'gv': 0,\n 'rv': 0,\n 'nh': 0,\n 'zv': 0,\n 'gh': 0,\n 'hh': 0,\n 'kx': 0,\n 'st': 0,\n 'bh': 0,\n 'hl': 0,\n 'mt': 0,\n 'zm': 0,\n 'pv': 0,\n 'zf': 0,\n 'bf': 0,\n 'ts': 0,\n 'ht': 0,\n 'pb': 0,\n 'nx': 0,\n 'mb': 0,\n 'mh': 0,\n 'lc': 0,\n 'xg': 0,\n 'vd': 0,\n 'sg': 0,\n 'qq': 0,\n 'dl': 0,\n 'vv': 0,\n 'zc': 0,\n 'sr': 0,\n 'dc': 0,\n 'cz': 0,\n 'rs': 0,\n 'hm': 0,\n 'gd': 0,\n 'gb': 0,\n 'xf': 0,\n 'tb': 0,\n 'sm': 0,\n 'fb': 0,\n 'lq': 0,\n 'pn': 0,\n 'fc': 0,\n 'ch': 0,\n 'lg': 0,\n 'sv': 0,\n 'xb': 0,\n 'dr': 0}"
     },
     "execution_count": 133,
     "metadata": {},
     "output_type": "execute_result"
    }
   ],
   "source": [
    "inv_mem = {k: 0 for k, v in data.items() if v[0] == \"%\"}\n",
    "inv_mem"
   ],
   "metadata": {
    "collapsed": false
   }
  },
  {
   "cell_type": "code",
   "execution_count": 138,
   "outputs": [],
   "source": [
    "def reset_inv_mem():\n",
    "    for k in inv_mem:\n",
    "        inv_mem[k] = 0\n",
    "    return inv_mem\n",
    "\n",
    "def reset_conjunction_mem():\n",
    "    for k in conjunction_mem:\n",
    "        for k2 in conjunction_mem[k]:\n",
    "            conjunction_mem[k][k2] = 0\n",
    "    return conjunction_mem"
   ],
   "metadata": {
    "collapsed": false
   }
  },
  {
   "cell_type": "code",
   "execution_count": 155,
   "outputs": [
    {
     "name": "stdout",
     "output_type": "stream",
     "text": [
      "3917 4 dict_values([0, 1, 0, 0])\n",
      "3931 4 dict_values([0, 0, 0, 1])\n",
      "3943 4 dict_values([1, 0, 0, 0])\n",
      "4057 4 dict_values([0, 0, 1, 0])\n",
      "7834 4 dict_values([0, 1, 0, 0])\n",
      "7862 4 dict_values([0, 0, 0, 1])\n",
      "7886 4 dict_values([1, 0, 0, 0])\n",
      "8114 4 dict_values([0, 0, 1, 0])\n"
     ]
    },
    {
     "data": {
      "text/plain": "82365929720"
     },
     "execution_count": 155,
     "metadata": {},
     "output_type": "execute_result"
    }
   ],
   "source": [
    "# %: flip flop\n",
    "# b: broadcast\n",
    "# &: 'and' of all inputs\n",
    "\n",
    "pulse_list = [(\"button\", \"roadcaster\", 0)]\n",
    "MAX_ITER = 10_000\n",
    "\n",
    "# def simulate(pulse_list, inv_mem, conjunction_mem):\n",
    "\n",
    "inv_mem = reset_inv_mem()\n",
    "conjunction_mem = reset_conjunction_mem()\n",
    "total_pulses_high = 0\n",
    "total_pulses_low = 0\n",
    "\n",
    "pulses_per_round = []\n",
    "\n",
    "for round in range(1, 10_000):\n",
    "\n",
    "    pulse_list = [(\"button\", \"roadcaster\", 0)]\n",
    "\n",
    "    pulses_high = 0\n",
    "    pulses_low = 1 # initial pulse from button\n",
    "    print_round = False\n",
    "    for i in range(MAX_ITER):\n",
    "        new_pulse_list = []\n",
    "        for sender, node, val in pulse_list:\n",
    "            if node not in data:\n",
    "                continue\n",
    "            if node == \"rx\":\n",
    "                print(\"rx\", val)\n",
    "            node_type, connections = data[node]\n",
    "            if node_type == \"b\":\n",
    "                new_pulses = [(node, n, 0) for n in connections]\n",
    "            elif node_type == \"%\":\n",
    "                if not val:\n",
    "                    inv_mem[node] = 1 - inv_mem[node]\n",
    "                    new_pulses = [(node, n, inv_mem[node]) for n in connections]\n",
    "                else:\n",
    "                    new_pulses = []\n",
    "            elif node_type == \"&\":\n",
    "                conjunction_mem[node][sender] = val\n",
    "                # print(node, conjunction_mem[node], all(conjunction_mem[node].values()))\n",
    "                output = 0 if all(conjunction_mem[node].values()) else 1\n",
    "                new_pulses = [(node, n, output) for n in connections]\n",
    "            else:\n",
    "                raise ValueError\n",
    "            new_pulse_list.extend(new_pulses)\n",
    "        # for p in new_pulse_list:\n",
    "        #     print(f\"{p[0]} -{'high' if p[2] else 'low'}-> {p[1]}\")\n",
    "        pulse_list = new_pulse_list\n",
    "        pulses_high += sum(p[2] for p in pulse_list)\n",
    "        pulses_low += sum(1 - p[2] for p in pulse_list)\n",
    "        if any(conjunction_mem[\"tj\"].values()) and not print_round:\n",
    "            print(round, i, conjunction_mem[\"tj\"].values())\n",
    "            print_round = True\n",
    "        if not pulse_list:\n",
    "            # print(\"ran in {} iterations\".format(i))\n",
    "            break\n",
    "    else:\n",
    "        raise ValueError(\"Too many iterations\")\n",
    "    pulses_per_round.append((pulses_high, pulses_low))\n",
    "\n",
    "    total_pulses_high += pulses_high\n",
    "    total_pulses_low += pulses_low\n",
    "\n",
    "total_pulses_high*total_pulses_low"
   ],
   "metadata": {
    "collapsed": false
   }
  },
  {
   "cell_type": "code",
   "execution_count": 157,
   "outputs": [
    {
     "data": {
      "text/plain": "{(32, 11),\n (32, 12),\n (33, 9),\n (37, 16),\n (38, 14),\n (38, 15),\n (39, 14),\n (40, 13),\n (43, 19),\n (43, 20),\n (44, 17),\n (44, 18),\n (44, 19),\n (45, 17),\n (46, 16),\n (46, 18),\n (47, 16),\n (47, 26),\n (47, 27),\n (48, 24),\n (48, 25),\n (49, 23),\n (50, 22),\n (51, 20),\n (51, 21),\n (51, 23),\n (51, 24),\n (52, 19),\n (52, 20),\n (52, 21),\n (53, 19),\n (54, 29),\n (55, 26),\n (55, 27),\n (56, 24),\n (56, 27),\n (57, 23),\n (57, 24),\n (57, 27),\n (57, 28),\n (58, 23),\n (58, 24),\n (58, 25),\n (59, 22),\n (59, 34),\n (60, 31),\n (60, 32),\n (61, 29),\n (61, 30),\n (62, 27),\n (62, 29),\n (62, 30),\n (62, 32),\n (63, 27),\n (63, 29),\n (63, 30),\n (64, 27),\n (64, 32),\n (65, 29),\n (65, 30),\n (66, 27),\n (66, 35),\n (66, 36),\n (67, 33),\n (67, 36),\n (68, 31),\n (68, 33),\n (68, 34),\n (69, 31),\n (69, 34),\n (69, 35),\n (70, 31),\n (70, 34),\n (71, 32),\n (72, 34),\n (72, 39),\n (73, 37),\n (73, 40),\n (74, 36),\n (74, 37),\n (74, 38),\n (74, 39),\n (75, 35),\n (75, 36),\n (75, 37),\n (76, 34),\n (76, 35),\n (76, 36),\n (76, 39),\n (77, 37),\n (78, 36),\n (78, 42),\n (79, 37),\n (79, 40),\n (80, 42),\n (81, 41),\n (82, 37),\n (82, 39),\n (83, 45),\n (84, 41),\n (85, 43),\n (85, 44),\n (86, 40),\n (86, 45),\n (87, 44),\n (87, 45),\n (88, 40),\n (88, 41),\n (88, 42),\n (90, 46),\n (90, 49),\n (91, 44),\n (92, 43),\n (92, 48),\n (92, 52),\n (93, 46),\n (93, 47),\n (94, 43),\n (94, 45),\n (97, 51),\n (98, 47),\n (98, 50),\n (99, 46),\n (100, 48),\n (104, 50),\n (105, 52),\n (105, 53),\n (106, 51),\n (117, 60),\n (120, 61),\n (123, 70),\n (151, 79),\n (176, 91),\n (201, 103),\n (222, 115)}"
     },
     "execution_count": 157,
     "metadata": {},
     "output_type": "execute_result"
    }
   ],
   "source": [
    "set(pulses_per_round)"
   ],
   "metadata": {
    "collapsed": false
   }
  },
  {
   "cell_type": "code",
   "execution_count": 154,
   "outputs": [
    {
     "data": {
      "text/plain": "246313604784977"
     },
     "execution_count": 154,
     "metadata": {},
     "output_type": "execute_result"
    }
   ],
   "source": [
    "# inputs to tj cycle every x rounds\n",
    "# 3917 4 dict_values([0, 1, 0, 0])\n",
    "# 3931 4 dict_values([0, 0, 0, 1])\n",
    "# 3943 4 dict_values([1, 0, 0, 0])\n",
    "# 4057 4 dict_values([0, 0, 1, 0])\n",
    "import math\n",
    "# this round will trigger tj\n",
    "math.lcm(3917, 3931, 3943, 4057)"
   ],
   "metadata": {
    "collapsed": false
   }
  },
  {
   "cell_type": "code",
   "execution_count": 158,
   "outputs": [
    {
     "data": {
      "text/plain": "246313604784977"
     },
     "execution_count": 158,
     "metadata": {},
     "output_type": "execute_result"
    }
   ],
   "source": [
    "3917* 3931* 3943* 4057"
   ],
   "metadata": {
    "collapsed": false
   }
  },
  {
   "cell_type": "code",
   "execution_count": null,
   "outputs": [],
   "source": [],
   "metadata": {
    "collapsed": false
   }
  },
  {
   "cell_type": "code",
   "execution_count": 137,
   "outputs": [
    {
     "name": "stdout",
     "output_type": "stream",
     "text": [
      "0 1000\n"
     ]
    }
   ],
   "source": [
    "\n",
    "total_pulses_high = 0\n",
    "total_pulses_low = 0\n",
    "for i in range(1000):\n",
    "    # if any(conjunction_mem[\"tj\"].values()):\n",
    "    #     print(i, conjunction_mem[\"tj\"])\n",
    "    # if i % 100 == 0:\n",
    "    # print({k: dict(v) for k, v in conjunction_mem.items()})\n",
    "    # print(dict(conjunction_mem[\"tj\"]))\n",
    "    # for k in conjunction_mem[\"tj\"]:\n",
    "    #     print(k, dict(conjunction_mem[k]))\n",
    "    # print()\n",
    "    inv_mem, conjunction_mem, pulses_high, pulses_low = simulate(pulse_list, inv_mem, conjunction_mem)\n",
    "    total_pulses_high += pulses_high\n",
    "    total_pulses_low += pulses_low\n",
    "\n",
    "print(total_pulses_high, total_pulses_low)"
   ],
   "metadata": {
    "collapsed": false
   }
  },
  {
   "cell_type": "code",
   "execution_count": 115,
   "outputs": [
    {
     "data": {
      "text/plain": "defaultdict(int, {'vt': 0, 'sk': 0, 'xc': 0, 'kk': 0})"
     },
     "execution_count": 115,
     "metadata": {},
     "output_type": "execute_result"
    }
   ],
   "source": [
    "conjunction_mem[\"tj\"]"
   ],
   "metadata": {
    "collapsed": false
   }
  },
  {
   "cell_type": "code",
   "execution_count": 105,
   "outputs": [],
   "source": [
    "inv_mem = reset_inv_mem()\n",
    "conjunction_mem = reset_conjunction_mem()\n",
    "\n",
    "inv_mem, conjunction_mem, pulses_high, pulses_low = simulate(pulse_list, inv_mem, conjunction_mem)"
   ],
   "metadata": {
    "collapsed": false
   }
  },
  {
   "cell_type": "code",
   "execution_count": 108,
   "outputs": [
    {
     "data": {
      "text/plain": "818649769"
     },
     "execution_count": 108,
     "metadata": {},
     "output_type": "execute_result"
    }
   ],
   "source": [
    "45137*18137"
   ],
   "metadata": {
    "collapsed": false
   }
  },
  {
   "cell_type": "code",
   "execution_count": null,
   "outputs": [],
   "source": [],
   "metadata": {
    "collapsed": false
   }
  }
 ],
 "metadata": {
  "kernelspec": {
   "name": "aoc",
   "language": "python",
   "display_name": "aoc"
  },
  "language_info": {
   "codemirror_mode": {
    "name": "ipython",
    "version": 2
   },
   "file_extension": ".py",
   "mimetype": "text/x-python",
   "name": "python",
   "nbconvert_exporter": "python",
   "pygments_lexer": "ipython2",
   "version": "2.7.6"
  }
 },
 "nbformat": 4,
 "nbformat_minor": 0
}
