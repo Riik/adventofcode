{
 "cells": [
  {
   "cell_type": "code",
   "execution_count": 1,
   "outputs": [],
   "source": [
    "year = 2023\n",
    "day = 23"
   ],
   "metadata": {
    "collapsed": false
   }
  },
  {
   "cell_type": "code",
   "execution_count": 2,
   "outputs": [],
   "source": [
    "from aocd import submit\n",
    "from aocd.models import Puzzle\n",
    "from functools import reduce\n",
    "import numpy as np\n",
    "\n",
    "puzzle = Puzzle(year=year, day=day)\n",
    "data = puzzle.input_data\n",
    "# data = puzzle.examples[0].input_data\n",
    "\n",
    "data = data.strip()\n",
    "data = data.split(\"\\n\")\n",
    "data = [list(d) for d in data]\n",
    "data = np.array(data)\n",
    "\n",
    "printnp = lambda x: print(np.array2string(x, separator=' ', formatter={'str_kind': lambda x: x}))"
   ],
   "metadata": {
    "collapsed": false
   }
  },
  {
   "cell_type": "code",
   "execution_count": 3,
   "outputs": [],
   "source": [
    "import numpy as np\n",
    "\n",
    "np.set_printoptions(edgeitems=30, linewidth=100000,\n",
    "                    formatter=dict(float=lambda x: \"%s\" % x))"
   ],
   "metadata": {
    "collapsed": false
   }
  },
  {
   "cell_type": "code",
   "execution_count": 4,
   "outputs": [],
   "source": [
    "directions = [(0, 1), (0, -1), (1, 0), (-1, 0)]\n",
    "\n",
    "def can_traverse(dy, dx, c):\n",
    "    if c == \".\": return True\n",
    "    if c == \">\" and (dy, dx) == (0, 1): return True\n",
    "    if c == \"<\" and (dy, dx) == (0, -1): return True\n",
    "    if c == \"^\" and (dy, dx) == (-1, 0): return True\n",
    "    if c == \"v\" and (dy, dx) == (1, 0): return True\n",
    "    return False"
   ],
   "metadata": {
    "collapsed": false
   }
  },
  {
   "cell_type": "code",
   "execution_count": 6,
   "outputs": [
    {
     "name": "stdout",
     "output_type": "stream",
     "text": [
      "Possible paths: 2, completed: 0, dead ends: 0\n",
      "Possible paths: 2, completed: 0, dead ends: 0\n",
      "Possible paths: 4, completed: 0, dead ends: 0\n",
      "Possible paths: 6, completed: 0, dead ends: 0\n",
      "Possible paths: 9, completed: 0, dead ends: 0\n",
      "Possible paths: 17, completed: 0, dead ends: 0\n",
      "Possible paths: 30, completed: 0, dead ends: 0\n",
      "Possible paths: 46, completed: 0, dead ends: 0\n",
      "Possible paths: 84, completed: 0, dead ends: 0\n",
      "Possible paths: 129, completed: 0, dead ends: 0\n",
      "Possible paths: 176, completed: 0, dead ends: 0\n",
      "Possible paths: 215, completed: 0, dead ends: 0\n",
      "Possible paths: 229, completed: 7, dead ends: 0\n",
      "Possible paths: 218, completed: 26, dead ends: 0\n",
      "Possible paths: 184, completed: 64, dead ends: 0\n",
      "Possible paths: 128, completed: 123, dead ends: 0\n",
      "Possible paths: 76, completed: 176, dead ends: 0\n",
      "Possible paths: 46, completed: 206, dead ends: 0\n",
      "Possible paths: 21, completed: 231, dead ends: 0\n",
      "Possible paths: 13, completed: 239, dead ends: 0\n",
      "Possible paths: 7, completed: 245, dead ends: 0\n",
      "Possible paths: 3, completed: 249, dead ends: 0\n"
     ]
    }
   ],
   "source": [
    "H, W = data.shape\n",
    "\n",
    "goal = (H-1, W-2)\n",
    "start = (0, 1)\n",
    "\n",
    "out_of_bounds = lambda y, x: y < 0 or y >= H or x < 0 or x >= W\n",
    "split_points = set()\n",
    "dead_ends = 0\n",
    "completed = []\n",
    "\n",
    "# prev, curr, all\n",
    "possible_paths = [(None, start, {start})]\n",
    "for i in range(1, 5001):\n",
    "    new_possible_paths = []\n",
    "    for prev, curr, all in possible_paths:\n",
    "        y,x = curr\n",
    "        new_locs = []\n",
    "        for dy, dx in directions:\n",
    "            y_, x_ = (y + dy), (x + dx)\n",
    "            if (y_, x_) == prev:\n",
    "                continue\n",
    "            if out_of_bounds(y_, x_):\n",
    "                continue\n",
    "            if (y_, x_) in all:\n",
    "                continue\n",
    "            if not can_traverse(dy, dx, data[y_, x_]):\n",
    "                continue\n",
    "            new_locs.append((y_, x_))\n",
    "\n",
    "        if len(new_locs) == 1:\n",
    "            if new_locs[0] == goal:\n",
    "                completed.append((curr, all | {new_locs[0]}))\n",
    "            else:\n",
    "                new_possible_paths.append((curr, new_locs[0], all | {new_locs[0]}))\n",
    "        elif len(new_locs) > 1:\n",
    "            split_points.add(curr)\n",
    "            for new_loc in new_locs:\n",
    "                new_possible_paths.append((curr, new_loc, all | {new_loc}))\n",
    "        elif len(new_locs) == 0:\n",
    "            dead_ends += 1\n",
    "    if i % 100 == 0:\n",
    "        print(f\"Possible paths: {len(possible_paths)}, completed: {len(completed)}, dead ends: {dead_ends}\")\n",
    "    possible_paths = new_possible_paths\n",
    "    if len(possible_paths) == 0:\n",
    "        break"
   ],
   "metadata": {
    "collapsed": false
   }
  },
  {
   "cell_type": "code",
   "execution_count": 7,
   "outputs": [
    {
     "name": "stdout",
     "output_type": "stream",
     "text": [
      "Part a already solved with same answer: 2294\n"
     ]
    }
   ],
   "source": [
    "answer = max([len(p[1])-1 for p in completed])\n",
    "submit(answer, part=\"a\", day=day, year=year)"
   ],
   "metadata": {
    "collapsed": false
   }
  },
  {
   "cell_type": "code",
   "execution_count": 8,
   "outputs": [],
   "source": [
    "new_data = data.copy()\n",
    "new_data[np.where(new_data == \"<\")] = \".\"\n",
    "new_data[np.where(new_data == \">\")] = \".\"\n",
    "new_data[np.where(new_data == \"^\")] = \".\"\n",
    "new_data[np.where(new_data == \"v\")] = \".\""
   ],
   "metadata": {
    "collapsed": false
   }
  },
  {
   "cell_type": "code",
   "execution_count": 9,
   "outputs": [],
   "source": [
    "get_neighbours = lambda y, x: [(y + dy, x + dx) for dy, dx in directions if not out_of_bounds(y+dy, x+dx) and can_traverse(dy, dx, new_data[y + dy, x + dx])]\n",
    "\n",
    "split_points = []\n",
    "for y in range(H):\n",
    "    for x in range(W):\n",
    "        if new_data[y, x] != \"#\":\n",
    "            if len(get_neighbours(y, x)) > 2:\n",
    "                split_points.append((y, x))\n",
    "\n",
    "split_points.append(start)\n",
    "split_points.append(goal)"
   ],
   "metadata": {
    "collapsed": false
   }
  },
  {
   "cell_type": "code",
   "execution_count": 12,
   "outputs": [],
   "source": [
    "from collections import defaultdict\n",
    "split_point_connections = defaultdict(lambda: defaultdict(int))\n",
    "for sp in split_points:\n",
    "    neighbours = get_neighbours(*sp)\n",
    "    for n in neighbours:\n",
    "        possible_paths = [(sp, n, [n])]\n",
    "        for i in range(1, 5001):\n",
    "            new_possible_paths = []\n",
    "            for prev, curr, all in possible_paths:\n",
    "                y,x = curr\n",
    "                new_locs = []\n",
    "                for dy, dx in directions:\n",
    "                    y_, x_ = (y + dy), (x + dx)\n",
    "                    if (y_, x_) == prev:\n",
    "                        continue\n",
    "                    if out_of_bounds(y_, x_):\n",
    "                        continue\n",
    "                    if (y_, x_) in all:\n",
    "                        continue\n",
    "                    if not can_traverse(dy, dx, new_data[y_, x_]):\n",
    "                        continue\n",
    "                    new_locs.append((y_, x_))\n",
    "\n",
    "                if len(new_locs) == 1:\n",
    "                    new_loc = new_locs[0]\n",
    "                    if new_loc == goal or new_loc in split_points or new_loc == start:\n",
    "                        split_point_connections[sp][new_loc] = len(all) + 1\n",
    "                    else:\n",
    "                        new_possible_paths.append((curr, new_loc, all + [new_loc]))\n",
    "                elif len(new_locs) > 1:\n",
    "                    raise ValueError(f\"More than one neighbour {curr} {all}\")\n",
    "            possible_paths = new_possible_paths\n",
    "            if len(possible_paths) == 0:\n",
    "                break\n",
    "        else:\n",
    "            raise ValueError(\"No path found\")\n",
    "\n",
    "split_point_connections = {k: dict(v) for k, v in split_point_connections.items()}"
   ],
   "metadata": {
    "collapsed": false
   }
  },
  {
   "cell_type": "code",
   "execution_count": 13,
   "outputs": [
    {
     "name": "stdout",
     "output_type": "stream",
     "text": [
      "0 Possible paths: 1\n",
      "1 Possible paths: 1\n",
      "2 Possible paths: 2\n",
      "3 Possible paths: 4\n",
      "4 Possible paths: 10\n",
      "5 Possible paths: 24\n",
      "6 Possible paths: 60\n",
      "7 Possible paths: 146\n",
      "8 Possible paths: 352\n",
      "9 Possible paths: 816\n",
      "10 Possible paths: 1812\n",
      "11 Possible paths: 3812\n",
      "12 Possible paths: 7834\n",
      "13 Possible paths: 15068\n",
      "14 Possible paths: 29306\n",
      "15 Possible paths: 53692\n",
      "16 Possible paths: 98656\n",
      "17 Possible paths: 172462\n",
      "18 Possible paths: 296710\n",
      "19 Possible paths: 488322\n",
      "20 Possible paths: 775104\n",
      "21 Possible paths: 1175472\n",
      "22 Possible paths: 1679102\n",
      "23 Possible paths: 2291644\n",
      "24 Possible paths: 2878738\n",
      "25 Possible paths: 3452098\n",
      "26 Possible paths: 3715688\n",
      "27 Possible paths: 3761602\n",
      "28 Possible paths: 3336758\n",
      "29 Possible paths: 2683280\n",
      "30 Possible paths: 1853774\n",
      "31 Possible paths: 1074756\n",
      "32 Possible paths: 521976\n",
      "33 Possible paths: 166908\n",
      "34 Possible paths: 43004\n",
      "35 Possible paths: 1300\n"
     ]
    }
   ],
   "source": [
    "curr = start\n",
    "curr_cost = 0\n",
    "path = [start]\n",
    "possible_paths = [(curr, curr_cost, path)]\n",
    "new_possible_paths = []\n",
    "total_costs = []\n",
    "for i in range(1000):\n",
    "    print(i, f\"Possible paths: {len(possible_paths)}\")\n",
    "    new_possible_paths = []\n",
    "    for curr, curr_cost, path in possible_paths:\n",
    "        if curr == goal:\n",
    "            # print(f\"Found path: {curr_cost} {path}\")\n",
    "            total_costs.append(curr_cost)\n",
    "        for next, cost in split_point_connections[curr].items():\n",
    "            if next in path:\n",
    "                continue\n",
    "            new_possible_paths.append((next, curr_cost + cost, path + [next]))\n",
    "    possible_paths = new_possible_paths\n",
    "    if len(possible_paths) == 0:\n",
    "        break"
   ],
   "metadata": {
    "collapsed": false
   }
  },
  {
   "cell_type": "code",
   "execution_count": 14,
   "outputs": [
    {
     "name": "stdout",
     "output_type": "stream",
     "text": [
      "Part b already solved with same answer: 6418\n"
     ]
    }
   ],
   "source": [
    "answer = max(total_costs)\n",
    "submit(answer, part=\"b\", day=day, year=year)"
   ],
   "metadata": {
    "collapsed": false
   }
  }
 ],
 "metadata": {
  "kernelspec": {
   "name": "aoc",
   "language": "python",
   "display_name": "aoc"
  },
  "language_info": {
   "codemirror_mode": {
    "name": "ipython",
    "version": 2
   },
   "file_extension": ".py",
   "mimetype": "text/x-python",
   "name": "python",
   "nbconvert_exporter": "python",
   "pygments_lexer": "ipython2",
   "version": "2.7.6"
  }
 },
 "nbformat": 4,
 "nbformat_minor": 0
}
