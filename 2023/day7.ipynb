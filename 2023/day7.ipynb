{
 "cells": [
  {
   "cell_type": "code",
   "execution_count": 13,
   "outputs": [],
   "source": [
    "year = 2023; day = 7"
   ],
   "metadata": {
    "collapsed": false
   }
  },
  {
   "cell_type": "code",
   "execution_count": 14,
   "outputs": [],
   "source": [
    "from aocd import submit\n",
    "from aocd.models import Puzzle\n",
    "\n",
    "puzzle = Puzzle(year=year, day=day)\n",
    "data = puzzle.input_data\n",
    "# data = puzzle.examples[0].input_data\n",
    "\n",
    "data = data.strip()\n",
    "data = data.split(\"\\n\")\n",
    "data = [d.split() for d in data]"
   ],
   "metadata": {
    "collapsed": false
   }
  },
  {
   "cell_type": "code",
   "execution_count": 15,
   "outputs": [],
   "source": [
    "ranking = {'A': 1, 'K': 2, 'Q': 3, 'J': 4, 'T': 5, '9': 6, '8': 7, '7': 8, '6': 9, '5': 10, '4': 11, '3': 12, '2': 13}\n",
    "hand_sort = [[ranking[c] for c in h] for h, _ in data]"
   ],
   "metadata": {
    "collapsed": false
   }
  },
  {
   "cell_type": "code",
   "execution_count": 26,
   "outputs": [],
   "source": [
    "from collections import Counter\n",
    "\n",
    "counts = [Counter(d[0]) for d in data]\n",
    "combo = [max(c.values()) for c in counts]\n",
    "full_house = [(2 in c.values() and 3 in c.values()) for c in counts]\n",
    "double_pair = [Counter(c.values())[2] == 2 for c in counts]\n",
    "\n",
    "def find_best_hand(combo, full_house, double_pair):\n",
    "    if combo == 5: return 1\n",
    "    if combo == 4: return 2\n",
    "    if full_house: return 3\n",
    "    if combo == 3: return 4\n",
    "    if double_pair: return 5\n",
    "    if combo == 2: return 6\n",
    "    return 7\n",
    "\n",
    "best_hand = [find_best_hand(c, f, d) for c, f, d in zip(combo, full_house, double_pair)]"
   ],
   "metadata": {
    "collapsed": false
   }
  },
  {
   "cell_type": "code",
   "execution_count": 27,
   "outputs": [
    {
     "data": {
      "text/plain": "253525504"
     },
     "execution_count": 27,
     "metadata": {},
     "output_type": "execute_result"
    }
   ],
   "source": [
    "data_with_hand = sorted(list(zip(best_hand, hand_sort, data)))\n",
    "ranks = list(zip(data_with_hand, range(len(data_with_hand), 0, -1)))\n",
    "answer = sum(int(t[2][1])*i for t,i in ranks)\n",
    "answer"
   ],
   "metadata": {
    "collapsed": false
   }
  },
  {
   "cell_type": "code",
   "execution_count": 18,
   "outputs": [
    {
     "name": "stdout",
     "output_type": "stream",
     "text": [
      "aocd will not submit that answer again. At 2023-12-07 00:59:25.527232-05:00 you've previously submitted 253638586 and the server responded with:\n",
      "\u001B[32mThat's the right answer!  You are one gold star closer to restoring snow operations. [Continue to Part Two]\u001B[0m\n"
     ]
    }
   ],
   "source": [
    "submit(answer, part=\"a\", year=year, day=day)"
   ],
   "metadata": {
    "collapsed": false
   }
  },
  {
   "cell_type": "code",
   "execution_count": 19,
   "outputs": [],
   "source": [
    "ranking = {'A': 1, 'K': 2, 'Q': 3, 'T': 4, '9': 5, '8': 6, '7': 7, '6': 8, '5': 9, '4': 10, '3': 11, '2': 12, 'J': 13}\n",
    "hand_sort = [[ranking[c] for c in h] for h, _ in data]"
   ],
   "metadata": {
    "collapsed": false
   }
  },
  {
   "cell_type": "code",
   "execution_count": 20,
   "outputs": [],
   "source": [
    "from collections import Counter\n",
    "\n",
    "counts_no_joker = [Counter(a for a in d[0] if a != 'J') for d in data]\n",
    "jokers = [c['J'] for c in counts]\n",
    "\n",
    "def find_best_hand(counts_no_joker, full_house, jokers, double_pair):\n",
    "    if not counts_no_joker: return 1\n",
    "    if max(counts_no_joker.values()) + jokers >= 5: return 1\n",
    "    if max(counts_no_joker.values()) + jokers >= 4: return 2\n",
    "    if (\n",
    "            # (jokers >= 3) or\n",
    "            # ((2 in counts_no_joker.values()) and (jokers >= 2)) or\n",
    "            # ((3 in counts_no_joker.values()) and (jokers >= 1)) or\n",
    "            (double_pair and jokers >= 1) or\n",
    "            full_house\n",
    "    ):  return 3\n",
    "    if max(counts_no_joker.values()) + jokers >= 3: return 4\n",
    "    if double_pair: return 5\n",
    "    if jokers or max(counts_no_joker.values()) >= 2: return 6\n",
    "    return 7\n",
    "\n",
    "best_hand = [find_best_hand(c, f, j, d) for c, f, j, d in zip(counts_no_joker, full_house, jokers, double_pair)]"
   ],
   "metadata": {
    "collapsed": false
   }
  },
  {
   "cell_type": "code",
   "execution_count": 21,
   "outputs": [],
   "source": [
    "data_with_hand = sorted(list(zip(best_hand, hand_sort, data)))\n",
    "ranks = list(zip(data_with_hand, range(len(data_with_hand), 0, -1)))"
   ],
   "metadata": {
    "collapsed": false
   }
  },
  {
   "cell_type": "code",
   "execution_count": 22,
   "outputs": [
    {
     "data": {
      "text/plain": "253253225"
     },
     "execution_count": 22,
     "metadata": {},
     "output_type": "execute_result"
    }
   ],
   "source": [
    "answer = sum(int(t[2][1])*i for t,i in ranks)\n",
    "answer # 253273139"
   ],
   "metadata": {
    "collapsed": false
   }
  },
  {
   "cell_type": "code",
   "execution_count": 23,
   "outputs": [
    {
     "name": "stdout",
     "output_type": "stream",
     "text": [
      "aocd will not submit that answer again. At 2023-12-07 01:43:42.262923-05:00 you've previously submitted 253253225 and the server responded with:\n",
      "\u001B[32mThat's the right answer!  You are one gold star closer to restoring snow operations.You have completed Day 7! You can [Shareon\n",
      "  Twitter\n",
      "Mastodon] this victory or [Return to Your Advent Calendar].\u001B[0m\n"
     ]
    }
   ],
   "source": [
    "submit(answer, part=\"b\", year=year, day=day)"
   ],
   "metadata": {
    "collapsed": false
   }
  }
 ],
 "metadata": {
  "kernelspec": {
   "name": "aoc",
   "language": "python",
   "display_name": "aoc"
  },
  "language_info": {
   "codemirror_mode": {
    "name": "ipython",
    "version": 2
   },
   "file_extension": ".py",
   "mimetype": "text/x-python",
   "name": "python",
   "nbconvert_exporter": "python",
   "pygments_lexer": "ipython2",
   "version": "2.7.6"
  }
 },
 "nbformat": 4,
 "nbformat_minor": 0
}
