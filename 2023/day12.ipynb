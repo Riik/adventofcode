{
 "cells": [
  {
   "cell_type": "code",
   "execution_count": 2,
   "outputs": [],
   "source": [
    "year = 2023\n",
    "day = 12"
   ],
   "metadata": {
    "collapsed": false
   }
  },
  {
   "cell_type": "code",
   "execution_count": 60,
   "outputs": [],
   "source": [
    "from aocd import submit\n",
    "from aocd.models import Puzzle\n",
    "import numpy as np\n",
    "puzzle = Puzzle(year=year, day=day)\n",
    "data = puzzle.input_data\n",
    "\n",
    "data = data.strip()\n",
    "data = data.split(\"\\n\")\n",
    "data = [line.split() for line in data]\n",
    "data = [(line[0], tuple(map(int, line[1].split(\",\")))) for line in data]"
   ],
   "metadata": {
    "collapsed": false
   }
  },
  {
   "cell_type": "code",
   "execution_count": 64,
   "outputs": [],
   "source": [
    "from collections import defaultdict\n",
    "def fit_combinations(slots, to_fit):\n",
    "    output = 0\n",
    "    cache = {(slots, to_fit): 1}\n",
    "\n",
    "    while True:\n",
    "        new_cache = defaultdict(int)\n",
    "\n",
    "        for key, paths in cache.items():\n",
    "            slots_left, to_fit = key\n",
    "            if sum(to_fit) > len(slots_left):\n",
    "                break\n",
    "            if slots_left[0] != \"#\":\n",
    "                new_cache[(slots_left[1:], to_fit)] += paths\n",
    "\n",
    "            if all(c in [\"#\", \"?\"] for c in slots_left[:to_fit[0]]):\n",
    "                if len(to_fit) == 1:\n",
    "                    # check if no '#' left after last fit\n",
    "                    if all(c != \"#\" for c in slots_left[to_fit[0]:]):\n",
    "                        output += paths\n",
    "\n",
    "                 # check for '.' directly after fit\n",
    "                elif slots_left[to_fit[0]] in [\".\", \"?\"]:\n",
    "                    # add + 1 index here for the '.' after match\n",
    "                    new_cache[(slots_left[to_fit[0] + 1:], to_fit[1:])] += paths\n",
    "\n",
    "        if not new_cache:\n",
    "            break\n",
    "        cache = new_cache\n",
    "    return output"
   ],
   "metadata": {
    "collapsed": false
   }
  },
  {
   "cell_type": "code",
   "execution_count": 65,
   "outputs": [
    {
     "name": "stdout",
     "output_type": "stream",
     "text": [
      "Part a already solved with same answer: 7163\n"
     ]
    }
   ],
   "source": [
    "answer = sum(fit_combinations(*d) for d in data)\n",
    "submit(answer, part=\"a\", year=year, day=day)"
   ],
   "metadata": {
    "collapsed": false
   }
  },
  {
   "cell_type": "code",
   "execution_count": 66,
   "outputs": [
    {
     "name": "stdout",
     "output_type": "stream",
     "text": [
      "Part b already solved with same answer: 17788038834112\n"
     ]
    }
   ],
   "source": [
    "answer = sum(fit_combinations(\"?\".join(d[0] for _ in range(5)), d[1]*5) for d in data)\n",
    "submit(answer, part=\"b\", year=year, day=day)"
   ],
   "metadata": {
    "collapsed": false
   }
  },
  {
   "cell_type": "code",
   "execution_count": 67,
   "outputs": [
    {
     "name": "stdout",
     "output_type": "stream",
     "text": [
      "238 ms ± 898 µs per loop (mean ± std. dev. of 7 runs, 1 loop each)\n"
     ]
    }
   ],
   "source": [
    "%timeit sum(fit_combinations(\"?\".join(d[0] for _ in range(5)), d[1]*5) for d in data)"
   ],
   "metadata": {
    "collapsed": false
   }
  },
  {
   "cell_type": "markdown",
   "source": [],
   "metadata": {
    "collapsed": false
   }
  }
 ],
 "metadata": {
  "kernelspec": {
   "name": "aoc",
   "language": "python",
   "display_name": "aoc"
  },
  "language_info": {
   "codemirror_mode": {
    "name": "ipython",
    "version": 2
   },
   "file_extension": ".py",
   "mimetype": "text/x-python",
   "name": "python",
   "nbconvert_exporter": "python",
   "pygments_lexer": "ipython2",
   "version": "2.7.6"
  }
 },
 "nbformat": 4,
 "nbformat_minor": 0
}
