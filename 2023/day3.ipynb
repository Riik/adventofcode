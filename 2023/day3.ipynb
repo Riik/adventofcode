{
 "cells": [
  {
   "cell_type": "code",
   "execution_count": 12,
   "outputs": [],
   "source": [
    "year = 2023; day = 3"
   ],
   "metadata": {
    "collapsed": false
   }
  },
  {
   "cell_type": "code",
   "execution_count": 116,
   "outputs": [
    {
     "data": {
      "text/plain": "array([['.', '.', '.', ..., '.', '.', '.'],\n       ['.', '.', '.', ..., '.', '.', '.'],\n       ['.', '.', '.', ..., '.', '.', '.'],\n       ...,\n       ['.', '.', '.', ..., '.', '.', '.'],\n       ['.', '.', '.', ..., '5', '5', '.'],\n       ['.', '.', '.', ..., '.', '.', '.']], dtype='<U1')"
     },
     "execution_count": 116,
     "metadata": {},
     "output_type": "execute_result"
    }
   ],
   "source": [
    "from aocd import submit\n",
    "from aocd.models import Puzzle\n",
    "import numpy as np; import pandas as pd\n",
    "\n",
    "puzzle = Puzzle(year=year, day=day)\n",
    "data = puzzle.input_data\n",
    "# data = puzzle.examples[0].input_data\n",
    "\n",
    "data = data.strip()\n",
    "data = data.split(\"\\n\")\n",
    "data = [list(d) for d in data]\n",
    "data = np.array(data)\n",
    "\n",
    "data"
   ],
   "metadata": {
    "collapsed": false
   }
  },
  {
   "cell_type": "code",
   "execution_count": 117,
   "outputs": [],
   "source": [
    "W, H = data.shape\n",
    "symbols = ['#', '$', '%', '&', '*', '+', '-', '/', '=', '@']"
   ],
   "metadata": {
    "collapsed": false
   }
  },
  {
   "cell_type": "code",
   "execution_count": 118,
   "outputs": [],
   "source": [
    "def get_neighbours(y, x):\n",
    "    neighbours = []\n",
    "    for i in range(-1, 2):\n",
    "        for j in range(-1, 2):\n",
    "            if i == j == 0:\n",
    "                continue\n",
    "            if 0 <= x + i < W and 0 <= y + j < H:\n",
    "                neighbours.append((y + j, x + i))\n",
    "    return neighbours\n",
    "\n",
    "def adjacent_symbols(y, x, data):\n",
    "    n = get_neighbours(y, x)\n",
    "    return set((data[y, x], (y, x)) for y, x in n if data[y, x] in symbols)"
   ],
   "metadata": {
    "collapsed": false
   }
  },
  {
   "cell_type": "code",
   "execution_count": 119,
   "outputs": [],
   "source": [
    "digits = [str(i) for i in range(10)]\n",
    "def is_number(char):\n",
    "    return char in digits"
   ],
   "metadata": {
    "collapsed": false
   }
  },
  {
   "cell_type": "code",
   "execution_count": 132,
   "outputs": [],
   "source": [
    "numbers = []\n",
    "\n",
    "was_in_number = False\n",
    "number = \"\"\n",
    "markers = set()\n",
    "number_start = None\n",
    "\n",
    "for y in range(W):\n",
    "    for x in range(H):\n",
    "        d = data[y, x]\n",
    "        if is_number(d):\n",
    "            if not was_in_number:\n",
    "                number_start = (y, x)\n",
    "                number = \"\"\n",
    "                markers = set()\n",
    "                was_in_number = True\n",
    "            number += d\n",
    "            markers |= adjacent_symbols(y, x, data)\n",
    "        else:\n",
    "            if was_in_number:\n",
    "                numbers.append((number_start, int(number), markers))\n",
    "            was_in_number = False\n",
    "    if was_in_number:\n",
    "        numbers.append((number_start, int(number), markers))\n",
    "    was_in_number = False"
   ],
   "metadata": {
    "collapsed": false
   }
  },
  {
   "cell_type": "code",
   "execution_count": 122,
   "outputs": [
    {
     "data": {
      "text/plain": "522726"
     },
     "execution_count": 122,
     "metadata": {},
     "output_type": "execute_result"
    }
   ],
   "source": [
    "answer = sum(int(number) for loc, number, markers in numbers if markers)\n",
    "answer"
   ],
   "metadata": {
    "collapsed": false
   }
  },
  {
   "cell_type": "code",
   "execution_count": 76,
   "outputs": [
    {
     "name": "stdout",
     "output_type": "stream",
     "text": [
      "\u001B[32mThat's the right answer!  You are one gold star closer to restoring snow operations. [Continue to Part Two]\u001B[0m\n"
     ]
    },
    {
     "data": {
      "text/plain": "<urllib3.response.HTTPResponse at 0x13258a2f0>"
     },
     "execution_count": 76,
     "metadata": {},
     "output_type": "execute_result"
    }
   ],
   "source": [
    "submit(answer, part=\"a\", year=year, day=day)"
   ],
   "metadata": {
    "collapsed": false
   }
  },
  {
   "cell_type": "code",
   "execution_count": 130,
   "outputs": [],
   "source": [
    "from collections import defaultdict\n",
    "gear_numbers = defaultdict(list)\n",
    "for loc, val, markers in numbers:\n",
    "    markers = [(m, loc) for m, loc in markers if m == '*']\n",
    "    for m, loc in markers:\n",
    "        gear_numbers[loc] += [val]"
   ],
   "metadata": {
    "collapsed": false
   }
  },
  {
   "cell_type": "code",
   "execution_count": 131,
   "outputs": [
    {
     "data": {
      "text/plain": "81721933"
     },
     "execution_count": 131,
     "metadata": {},
     "output_type": "execute_result"
    }
   ],
   "source": [
    "answer = sum(np.prod(vals) for vals in gear_numbers.values() if len(vals) == 2)\n",
    "answer"
   ],
   "metadata": {
    "collapsed": false
   }
  },
  {
   "cell_type": "code",
   "execution_count": 128,
   "outputs": [
    {
     "name": "stderr",
     "output_type": "stream",
     "text": [
      "coerced int64 value 81721933 for 2023/03\n"
     ]
    },
    {
     "name": "stdout",
     "output_type": "stream",
     "text": [
      "\u001B[32mThat's the right answer!  You are one gold star closer to restoring snow operations.You have completed Day 3! You can [Shareon\n",
      "  Twitter\n",
      "Mastodon] this victory or [Return to Your Advent Calendar].\u001B[0m\n"
     ]
    },
    {
     "data": {
      "text/plain": "<urllib3.response.HTTPResponse at 0x15439e470>"
     },
     "execution_count": 128,
     "metadata": {},
     "output_type": "execute_result"
    }
   ],
   "source": [
    "submit(answer, part=\"b\", year=year, day=day)"
   ],
   "metadata": {
    "collapsed": false
   }
  }
 ],
 "metadata": {
  "kernelspec": {
   "name": "aoc",
   "language": "python",
   "display_name": "aoc"
  },
  "language_info": {
   "codemirror_mode": {
    "name": "ipython",
    "version": 2
   },
   "file_extension": ".py",
   "mimetype": "text/x-python",
   "name": "python",
   "nbconvert_exporter": "python",
   "pygments_lexer": "ipython2",
   "version": "2.7.6"
  }
 },
 "nbformat": 4,
 "nbformat_minor": 0
}
