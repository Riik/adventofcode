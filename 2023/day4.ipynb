{
 "cells": [
  {
   "cell_type": "code",
   "execution_count": 2,
   "outputs": [],
   "source": [
    "year = 2023; day = 4"
   ],
   "metadata": {
    "collapsed": false
   }
  },
  {
   "cell_type": "code",
   "execution_count": 3,
   "outputs": [],
   "source": [
    "from aocd import submit\n",
    "from aocd.models import Puzzle\n",
    "import numpy as np; import pandas as pd\n",
    "\n",
    "puzzle = Puzzle(year=year, day=day)\n",
    "data = puzzle.input_data\n",
    "# data = puzzle.examples[0].input_data\n",
    "\n",
    "data = data.strip()\n",
    "data = data.split(\"\\n\")\n",
    "data = [d.split(\":\") for d in data]\n",
    "data = [(idx.strip()[-1], numbers.strip().split(\"|\")) for idx, numbers in data]"
   ],
   "metadata": {
    "collapsed": false
   }
  },
  {
   "cell_type": "code",
   "execution_count": 4,
   "outputs": [],
   "source": [
    "def parse_numbers (numbers):\n",
    "    numbers = numbers.strip().split(\" \")\n",
    "    numbers = [int(n.strip()) for n in numbers if n]\n",
    "    return numbers"
   ],
   "metadata": {
    "collapsed": false
   }
  },
  {
   "cell_type": "code",
   "execution_count": 5,
   "outputs": [],
   "source": [
    "matching = []\n",
    "for idx, numbers in data:\n",
    "    win, nums = [set(parse_numbers(n)) for n in numbers]\n",
    "    matching.append(win & nums)"
   ],
   "metadata": {
    "collapsed": false
   }
  },
  {
   "cell_type": "code",
   "execution_count": 6,
   "outputs": [],
   "source": [
    "values = {\n",
    "    idx: 2**(len(m)-1) if m else 0 for idx, m in enumerate(matching)\n",
    "}"
   ],
   "metadata": {
    "collapsed": false
   }
  },
  {
   "cell_type": "code",
   "execution_count": 7,
   "outputs": [
    {
     "data": {
      "text/plain": "17782"
     },
     "execution_count": 7,
     "metadata": {},
     "output_type": "execute_result"
    }
   ],
   "source": [
    "answer = sum(values.values())\n",
    "answer"
   ],
   "metadata": {
    "collapsed": false
   }
  },
  {
   "cell_type": "code",
   "execution_count": 40,
   "outputs": [
    {
     "name": "stdout",
     "output_type": "stream",
     "text": [
      "\u001B[32mThat's the right answer!  You are one gold star closer to restoring snow operations. [Continue to Part Two]\u001B[0m\n"
     ]
    },
    {
     "data": {
      "text/plain": "<urllib3.response.HTTPResponse at 0x152525b70>"
     },
     "execution_count": 40,
     "metadata": {},
     "output_type": "execute_result"
    }
   ],
   "source": [
    "submit(answer, part=\"a\", year=year, day=day)"
   ],
   "metadata": {
    "collapsed": false
   }
  },
  {
   "cell_type": "code",
   "execution_count": 8,
   "outputs": [],
   "source": [
    "num_cards = [1]*len(values)\n",
    "\n",
    "for i in range(len(num_cards)):\n",
    "    matches = len(matching[i])\n",
    "    n_cards = num_cards[i]\n",
    "    for j in range(matches):\n",
    "        num_cards[i+j+1] += n_cards"
   ],
   "metadata": {
    "collapsed": false
   }
  },
  {
   "cell_type": "code",
   "execution_count": 9,
   "outputs": [
    {
     "data": {
      "text/plain": "8477787"
     },
     "execution_count": 9,
     "metadata": {},
     "output_type": "execute_result"
    }
   ],
   "source": [
    "answer = sum(num_cards)\n",
    "answer"
   ],
   "metadata": {
    "collapsed": false
   }
  },
  {
   "cell_type": "code",
   "execution_count": 75,
   "outputs": [
    {
     "name": "stdout",
     "output_type": "stream",
     "text": [
      "\u001B[32mThat's the right answer!  You are one gold star closer to restoring snow operations.You have completed Day 4! You can [Shareon\n",
      "  Twitter\n",
      "Mastodon] this victory or [Return to Your Advent Calendar].\u001B[0m\n"
     ]
    },
    {
     "data": {
      "text/plain": "<urllib3.response.HTTPResponse at 0x1525241c0>"
     },
     "execution_count": 75,
     "metadata": {},
     "output_type": "execute_result"
    }
   ],
   "source": [
    "submit(answer, part=\"b\", year=year, day=day)"
   ],
   "metadata": {
    "collapsed": false
   }
  }
 ],
 "metadata": {
  "kernelspec": {
   "name": "aoc",
   "language": "python",
   "display_name": "aoc"
  },
  "language_info": {
   "codemirror_mode": {
    "name": "ipython",
    "version": 2
   },
   "file_extension": ".py",
   "mimetype": "text/x-python",
   "name": "python",
   "nbconvert_exporter": "python",
   "pygments_lexer": "ipython2",
   "version": "2.7.6"
  }
 },
 "nbformat": 4,
 "nbformat_minor": 0
}
