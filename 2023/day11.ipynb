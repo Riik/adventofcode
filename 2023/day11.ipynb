{
 "cells": [
  {
   "cell_type": "code",
   "execution_count": 2,
   "outputs": [],
   "source": [
    "year = 2023\n",
    "day = 11"
   ],
   "metadata": {
    "collapsed": false
   }
  },
  {
   "cell_type": "code",
   "execution_count": 119,
   "outputs": [],
   "source": [
    "from aocd import submit\n",
    "from aocd.models import Puzzle\n",
    "import numpy as np\n",
    "puzzle = Puzzle(year=year, day=day)\n",
    "data = puzzle.input_data\n",
    "\n",
    "data = data.strip()\n",
    "data = data.split(\"\\n\")\n",
    "data = [list(line) for line in data]\n",
    "data = np.array(data)"
   ],
   "metadata": {
    "collapsed": false
   }
  },
  {
   "cell_type": "code",
   "execution_count": 120,
   "outputs": [],
   "source": [
    "from itertools import combinations\n",
    "\n",
    "def galaxies_between(a, x1, x2):\n",
    "    return np.sum(np.ma.masked_inside(a, x1, x2).mask)\n",
    "\n",
    "def find_sum_distances(data, galaxy_expansion=1):\n",
    "    g = np.where(data == \"#\")\n",
    "    g = list(zip(*g))\n",
    "\n",
    "    rows_empty = np.where(np.all(data == \".\", axis=1))[0]\n",
    "    cols_empty =  np.where(np.all(data == \".\", axis=0))[0]\n",
    "\n",
    "    dists = []\n",
    "    for a, b in combinations(g, r=2):\n",
    "        if a == b:\n",
    "            continue\n",
    "        x = abs(a[1] - b[1]) + galaxies_between(cols_empty, a[1], b[1])*galaxy_expansion\n",
    "        y = abs(a[0] - b[0]) + galaxies_between(rows_empty, a[0], b[0])*galaxy_expansion\n",
    "        dists.append(x+y)\n",
    "    return sum(dists)"
   ],
   "metadata": {
    "collapsed": false
   }
  },
  {
   "cell_type": "code",
   "execution_count": 124,
   "outputs": [],
   "source": [
    "answer = find_sum_distances(data)"
   ],
   "metadata": {
    "collapsed": false
   }
  },
  {
   "cell_type": "code",
   "execution_count": 125,
   "outputs": [
    {
     "name": "stderr",
     "output_type": "stream",
     "text": [
      "coerced int64 value 9693756 for 2023/11\n"
     ]
    },
    {
     "name": "stdout",
     "output_type": "stream",
     "text": [
      "aocd will not submit that answer again. At 2023-12-11 00:21:43.342682-05:00 you've previously submitted 9693756 and the server responded with:\n",
      "\u001B[32mThat's the right answer!  You are one gold star closer to restoring snow operations. [Continue to Part Two]\u001B[0m\n"
     ]
    }
   ],
   "source": [
    "submit(answer, part=\"a\", year=year, day=day)"
   ],
   "metadata": {
    "collapsed": false
   }
  },
  {
   "cell_type": "code",
   "execution_count": 122,
   "outputs": [],
   "source": [
    "answer = find_sum_distances(data, 1_000_000-1)"
   ],
   "metadata": {
    "collapsed": false
   }
  },
  {
   "cell_type": "code",
   "execution_count": 123,
   "outputs": [
    {
     "name": "stderr",
     "output_type": "stream",
     "text": [
      "coerced int64 value 717878258016 for 2023/11\n"
     ]
    },
    {
     "name": "stdout",
     "output_type": "stream",
     "text": [
      "Part b already solved with same answer: 717878258016\n"
     ]
    }
   ],
   "source": [
    "submit(answer, part=\"b\", year=year, day=day)"
   ],
   "metadata": {
    "collapsed": false
   }
  },
  {
   "cell_type": "markdown",
   "source": [],
   "metadata": {
    "collapsed": false
   }
  }
 ],
 "metadata": {
  "kernelspec": {
   "name": "aoc",
   "language": "python",
   "display_name": "aoc"
  },
  "language_info": {
   "codemirror_mode": {
    "name": "ipython",
    "version": 2
   },
   "file_extension": ".py",
   "mimetype": "text/x-python",
   "name": "python",
   "nbconvert_exporter": "python",
   "pygments_lexer": "ipython2",
   "version": "2.7.6"
  }
 },
 "nbformat": 4,
 "nbformat_minor": 0
}
