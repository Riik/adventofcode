{
 "cells": [
  {
   "cell_type": "code",
   "execution_count": 263,
   "outputs": [],
   "source": [
    "year = 2023\n",
    "day = 24"
   ],
   "metadata": {
    "collapsed": false
   }
  },
  {
   "cell_type": "code",
   "execution_count": 264,
   "outputs": [
    {
     "name": "stdout",
     "output_type": "stream",
     "text": [
      "Requirement already satisfied: sympy in /Users/rikvandervlist/git/personal/adventofcode/venv/lib/python3.11/site-packages (1.12)\r\n",
      "Requirement already satisfied: mpmath>=0.19 in /Users/rikvandervlist/git/personal/adventofcode/venv/lib/python3.11/site-packages (from sympy) (1.3.0)\r\n",
      "\r\n",
      "\u001B[1m[\u001B[0m\u001B[34;49mnotice\u001B[0m\u001B[1;39;49m]\u001B[0m\u001B[39;49m A new release of pip is available: \u001B[0m\u001B[31;49m23.2.1\u001B[0m\u001B[39;49m -> \u001B[0m\u001B[32;49m23.3.2\u001B[0m\r\n",
      "\u001B[1m[\u001B[0m\u001B[34;49mnotice\u001B[0m\u001B[1;39;49m]\u001B[0m\u001B[39;49m To update, run: \u001B[0m\u001B[32;49mpip install --upgrade pip\u001B[0m\r\n",
      "Note: you may need to restart the kernel to use updated packages.\n"
     ]
    }
   ],
   "source": [
    "%pip install sympy"
   ],
   "metadata": {
    "collapsed": false
   }
  },
  {
   "cell_type": "code",
   "execution_count": 265,
   "outputs": [
    {
     "data": {
      "text/plain": "[[291493672529314, 259618209733833, 379287136024123, -9, 119, -272],\n [308409248682955, 156803514643857, 424989308414284, -78, 236, -255],\n [195379943194796, 213851381371727, 355270583377422, 25, 14, -15],\n [297329579961934, 122004770593749, 344090716183747, -87, 185, -36],\n [295385164557865, 339802914312939, 293784344149228, 64, 10, -211]]"
     },
     "execution_count": 265,
     "metadata": {},
     "output_type": "execute_result"
    }
   ],
   "source": [
    "from aocd import submit\n",
    "from aocd.models import Puzzle\n",
    "from functools import reduce\n",
    "import numpy as np\n",
    "\n",
    "np.set_printoptions(edgeitems=30, linewidth=100000,\n",
    "                    formatter=dict(float=lambda x: \"%s\" % x))\n",
    "\n",
    "puzzle = Puzzle(year=year, day=day)\n",
    "data = puzzle.input_data\n",
    "left_bound = 200_000_000_000_000\n",
    "right_bound = 400_000_000_000_000\n",
    "# data = puzzle.examples[0].input_data\n",
    "# left_bound = 7\n",
    "# right_bound = 27\n",
    "\n",
    "data = data.strip()\n",
    "data = data.split(\"\\n\")\n",
    "data = [list(map(int, d.replace(\"@\", \"\").replace(\",\", \"\").split())) for d in data]\n",
    "data[:5]"
   ],
   "metadata": {
    "collapsed": false
   }
  },
  {
   "cell_type": "code",
   "execution_count": 266,
   "outputs": [],
   "source": [
    "def solve(left, right):\n",
    "    a, b, c, d = left[3], left[0], right[3], right[0]\n",
    "    e, f, g, h = left[4], left[1], right[4], right[1]\n",
    "    try:\n",
    "        t2 = (a * (h - f) + e * (b - d)) / (c * e - g * a)\n",
    "        t1 = (t2 * c + d - b) / a\n",
    "    except ZeroDivisionError:\n",
    "        # parallel lines\n",
    "        return None, None, None, None\n",
    "\n",
    "    xl = t1 * a + b\n",
    "    xb = t2 * c + d\n",
    "    yl = t1 * e + f\n",
    "    yb = t2 * g + h\n",
    "\n",
    "    return xl, yl, t1, t2"
   ],
   "metadata": {
    "collapsed": false
   }
  },
  {
   "cell_type": "code",
   "execution_count": 267,
   "outputs": [],
   "source": [
    "def check(l, r):\n",
    "    x, y, t1, t2 = solve(l, r)\n",
    "    if not x:\n",
    "        return False\n",
    "    return (left_bound <= x <= right_bound) and (left_bound <= y <= right_bound) and (t1 >= 0) and (t2 >= 0)"
   ],
   "metadata": {
    "collapsed": false
   }
  },
  {
   "cell_type": "code",
   "execution_count": 268,
   "outputs": [
    {
     "data": {
      "text/plain": "17776"
     },
     "execution_count": 268,
     "metadata": {},
     "output_type": "execute_result"
    }
   ],
   "source": [
    "from itertools import combinations\n",
    "\n",
    "sum([check(l, r) for l, r in combinations(data, 2)])"
   ],
   "metadata": {
    "collapsed": false
   }
  },
  {
   "cell_type": "code",
   "execution_count": 269,
   "outputs": [
    {
     "data": {
      "text/plain": "{t1: (-b*g + c*f - c*h + d*g)/(a*g - c*e),\n t2: (a*f - a*h - b*e + d*e)/(a*g - c*e)}"
     },
     "execution_count": 269,
     "metadata": {},
     "output_type": "execute_result"
    }
   ],
   "source": [
    "from sympy import solve, Symbol\n",
    "\n",
    "t1 = Symbol(\"t1\")\n",
    "t2 = Symbol(\"t2\")\n",
    "a = Symbol(\"a\")\n",
    "b = Symbol(\"b\")\n",
    "c = Symbol(\"c\")\n",
    "d = Symbol(\"d\")\n",
    "e = Symbol(\"e\")\n",
    "f = Symbol(\"f\")\n",
    "g = Symbol(\"g\")\n",
    "h = Symbol(\"h\")\n",
    "\n",
    "solve([t1 * a + b - (t2 * c + d), t1 * e + f - (t2 * g + h)], [t1, t2])"
   ],
   "metadata": {
    "collapsed": false
   }
  },
  {
   "cell_type": "code",
   "execution_count": 270,
   "outputs": [
    {
     "data": {
      "text/plain": "{delta: (a1*b2*d1 - a1*beta*d1 - a2*b1*d2 + a2*beta*d2 + alpha*b1*d2 - alpha*b2*d1 + alpha*beta*d1 - alpha*beta*d2 - b1*b2*c1 + b1*b2*c2 + b1*beta*c1 - b1*beta*c2 + b2*beta*c1 - b2*beta*c2 - beta**2*c1 + beta**2*c2)/(a1*b2 - a1*beta - a2*b1 + a2*beta + alpha*b1 - alpha*b2),\n t1: (a2*d1 - a2*d2 - alpha*d1 + alpha*d2 - b2*c1 + b2*c2 + beta*c1 - beta*c2)/(a1*b2 - a1*beta - a2*b1 + a2*beta + alpha*b1 - alpha*b2),\n t2: (a1*d1 - a1*d2 - alpha*d1 + alpha*d2 - b1*c1 + b1*c2 + beta*c1 - beta*c2)/(a1*b2 - a1*beta - a2*b1 + a2*beta + alpha*b1 - alpha*b2),\n upsilon: (a1*a2*d1 - a1*a2*d2 - a1*alpha*d1 + a1*alpha*d2 + a1*b2*c2 - a1*beta*c2 - a2*alpha*d1 + a2*alpha*d2 - a2*b1*c1 + a2*beta*c1 + alpha**2*d1 - alpha**2*d2 + alpha*b1*c1 - alpha*b2*c2 - alpha*beta*c1 + alpha*beta*c2)/(a1*b2 - a1*beta - a2*b1 + a2*beta + alpha*b1 - alpha*b2)}"
     },
     "execution_count": 270,
     "metadata": {},
     "output_type": "execute_result"
    }
   ],
   "source": [
    "from sympy import solve, Symbol\n",
    "\n",
    "t1 = Symbol(\"t1\")\n",
    "t2 = Symbol(\"t2\")\n",
    "a1 = Symbol(\"a1\")\n",
    "b1 = Symbol(\"b1\")\n",
    "c1 = Symbol(\"c1\")\n",
    "d1 = Symbol(\"d1\")\n",
    "a2 = Symbol(\"a2\")\n",
    "b2 = Symbol(\"b2\")\n",
    "c2 = Symbol(\"c2\")\n",
    "d2 = Symbol(\"d2\")\n",
    "\n",
    "alpha = Symbol(\"alpha\")\n",
    "beta = Symbol(\"beta\")\n",
    "upsilon = Symbol(\"upsilon\")\n",
    "delta = Symbol(\"delta\")\n",
    "\n",
    "sol = solve([a1 * t1 + c1 - (alpha * t1 + upsilon),\n",
    "             b1 * t1 + d1 - (beta * t1 + delta),\n",
    "             a2 * t2 + c2 - (alpha * t2 + upsilon),\n",
    "             b2 * t2 + d2 - (beta * t2 + delta)],\n",
    "            [t1,\n",
    "             t2,\n",
    "             delta,\n",
    "             upsilon])\n",
    "sol"
   ],
   "metadata": {
    "collapsed": false
   }
  },
  {
   "cell_type": "code",
   "execution_count": 271,
   "outputs": [],
   "source": [
    "compute_delta = lambdify([a1, a2, b1, b2, c1, c2, d1, d2, alpha, beta], sol[delta])\n",
    "compute_upsilon = lambdify([a1, a2, b1, b2, c1, c2, d1, d2, alpha, beta], sol[upsilon])\n",
    "compute_t1 = lambdify([a1, a2, b1, b2, c1, c2, d1, d2, alpha, beta], sol[t1])\n",
    "compute_t2 = lambdify([a1, a2, b1, b2, c1, c2, d1, d2, alpha, beta], sol[t2])"
   ],
   "metadata": {
    "collapsed": false
   }
  },
  {
   "cell_type": "code",
   "execution_count": 272,
   "outputs": [],
   "source": [
    "compute_delta = lambda a1, a2, b1, b2, c1, c2, d1, d2, alpha, beta: (\n",
    "                                                                            a1 * b2 * d1 - a1 * beta * d1 - a2 * b1 * d2 + a2 * beta * d2 + alpha * b1 * d2 - alpha * b2 * d1 + alpha * beta * d1 - alpha * beta * d2 - b1 * b2 * c1 + b1 * b2 * c2 + b1 * beta * c1 - b1 * beta * c2 + b2 * beta * c1 - b2 * beta * c2 - beta ** 2 * c1 + beta ** 2 * c2) / (\n",
    "                                                                            a1 * b2 - a1 * beta - a2 * b1 + a2 * beta + alpha * b1 - alpha * b2)\n",
    "\n",
    "compute_t1 = lambda a1, a2, b1, b2, c1, c2, d1, d2, alpha, beta: (\n",
    "                                                                         a2 * d1 - a2 * d2 - alpha * d1 + alpha * d2 - b2 * c1 + b2 * c2 + beta * c1 - beta * c2) / (\n",
    "                                                                         a1 * b2 - a1 * beta - a2 * b1 + a2 * beta + alpha * b1 - alpha * b2)\n",
    "\n",
    "compute_t2 = lambda a1, a2, b1, b2, c1, c2, d1, d2, alpha, beta: (\n",
    "                                                                         a1 * d1 - a1 * d2 - alpha * d1 + alpha * d2 - b1 * c1 + b1 * c2 + beta * c1 - beta * c2) / (\n",
    "                                                                         a1 * b2 - a1 * beta - a2 * b1 + a2 * beta + alpha * b1 - alpha * b2)\n",
    "\n",
    "compute_upsilon = lambda a1, a2, b1, b2, c1, c2, d1, d2, alpha, beta: (\n",
    "                                                                              a1 * a2 * d1 - a1 * a2 * d2 - a1 * alpha * d1 + a1 * alpha * d2 + a1 * b2 * c2 - a1 * beta * c2 - a2 * alpha * d1 + a2 * alpha * d2 - a2 * b1 * c1 + a2 * beta * c1 + alpha ** 2 * d1 - alpha ** 2 * d2 + alpha * b1 * c1 - alpha * b2 * c2 - alpha * beta * c1 + alpha * beta * c2) / (\n",
    "                                                                              a1 * b2 - a1 * beta - a2 * b1 + a2 * beta + alpha * b1 - alpha * b2)"
   ],
   "metadata": {
    "collapsed": false
   }
  },
  {
   "cell_type": "code",
   "execution_count": 273,
   "outputs": [
    {
     "name": "stdout",
     "output_type": "stream",
     "text": [
      "alpha: -193, beta: -230 upsilon: 370994826025810 delta: 410411158485339 t1: 805572857023.0 t2: 694955151546.0\n"
     ]
    }
   ],
   "source": [
    "SEARCH_RANGE = 300\n",
    "for alpha in range(-SEARCH_RANGE, SEARCH_RANGE):\n",
    "    for beta in range(-SEARCH_RANGE, SEARCH_RANGE):\n",
    "\n",
    "        deltas = []\n",
    "        upsilons = []\n",
    "\n",
    "        N = 3\n",
    "\n",
    "        for i in range(N):\n",
    "\n",
    "            l, r = data[i], data[i + 1]\n",
    "            a1, b1, c1, d1, e1, f1 = l[3], l[4], l[0], l[1], l[5], l[2]\n",
    "            a2, b2, c2, d2, e2, f2 = r[3], r[4], r[0], r[1], r[5], r[2]\n",
    "\n",
    "            try:\n",
    "                delta = compute_delta(a1, a2, b1, b2, c1, c2, d1, d2, alpha, beta)\n",
    "                upsilon = compute_upsilon(a1, a2, b1, b2, c1, c2, d1, d2, alpha, beta)\n",
    "            except ZeroDivisionError:\n",
    "                continue\n",
    "\n",
    "            deltas.append(delta)\n",
    "            upsilons.append(upsilon)\n",
    "\n",
    "        if np.ptp(deltas) < 0.001 and np.ptp(upsilons) < 0.001 and len(deltas) == N:\n",
    "            t1 = compute_t1(a1, a2, b1, b2, c1, c2, d1, d2, alpha, beta)\n",
    "            t2 = compute_t2(a1, a2, b1, b2, c1, c2, d1, d2, alpha, beta)\n",
    "            print(f\"alpha: {alpha}, beta: {beta} upsilon: {int(upsilon)} delta: {int(delta)} t1: {t1} t2: {t2}\")\n",
    "            sol_variables = {\n",
    "                \"alpha\": alpha,\n",
    "                \"beta\": beta,\n",
    "                \"upsilon\": upsilon,\n",
    "                \"delta\": delta,\n",
    "                \"t1\": t1,\n",
    "                \"t2\": t2,\n",
    "                \"a1\": a1,\n",
    "                \"b1\": b1,\n",
    "                \"c1\": c1,\n",
    "                \"d1\": d1,\n",
    "                \"e1\": e1,\n",
    "                \"f1\": f1,\n",
    "                \"a2\": a2,\n",
    "                \"b2\": b2,\n",
    "                \"c2\": c2,\n",
    "                \"d2\": d2,\n",
    "                \"e2\": e2,\n",
    "                \"f2\": f2,\n",
    "\n",
    "            }\n",
    "\n",
    "        # print(alpha, beta, deltas, upsilons)"
   ],
   "metadata": {
    "collapsed": false
   }
  },
  {
   "cell_type": "code",
   "execution_count": 274,
   "outputs": [
    {
     "data": {
      "text/plain": "{'alpha': -193,\n 'beta': -230,\n 'upsilon': 370994826025810.0,\n 'delta': 410411158485339.0,\n 't1': 805572857023.0,\n 't2': 694955151546.0,\n 'a1': 25,\n 'b1': 14,\n 'c1': 195379943194796,\n 'd1': 213851381371727,\n 'e1': -15,\n 'f1': 355270583377422,\n 'a2': -87,\n 'b2': 185,\n 'c2': 297329579961934,\n 'd2': 122004770593749,\n 'e2': -36,\n 'f2': 344090716183747}"
     },
     "execution_count": 274,
     "metadata": {},
     "output_type": "execute_result"
    }
   ],
   "source": [
    "sol_variables"
   ],
   "metadata": {
    "collapsed": false
   }
  },
  {
   "cell_type": "code",
   "execution_count": 275,
   "outputs": [
    {
     "data": {
      "text/plain": "{epsilon: (-e1*t1*t2 + e2*t1*t2 - f1*t2 + f2*t1)/(t1 - t2),\n gamma: (e1*t1 - e2*t2 + f1 - f2)/(t1 - t2)}"
     },
     "execution_count": 275,
     "metadata": {},
     "output_type": "execute_result"
    }
   ],
   "source": [
    "from sympy import solve, Symbol\n",
    "\n",
    "t1 = Symbol(\"t1\")\n",
    "t2 = Symbol(\"t2\")\n",
    "a1 = Symbol(\"a1\")\n",
    "b1 = Symbol(\"b1\")\n",
    "c1 = Symbol(\"c1\")\n",
    "d1 = Symbol(\"d1\")\n",
    "e1 = Symbol(\"e1\")\n",
    "f1 = Symbol(\"f1\")\n",
    "a2 = Symbol(\"a2\")\n",
    "b2 = Symbol(\"b2\")\n",
    "c2 = Symbol(\"c2\")\n",
    "d2 = Symbol(\"d2\")\n",
    "e2 = Symbol(\"e2\")\n",
    "f2 = Symbol(\"f2\")\n",
    "\n",
    "alpha = Symbol(\"alpha\")\n",
    "beta = Symbol(\"beta\")\n",
    "upsilon = Symbol(\"upsilon\")\n",
    "delta = Symbol(\"delta\")\n",
    "gamma = Symbol(\"gamma\")\n",
    "epsilon = Symbol(\"epsilon\")\n",
    "\n",
    "sol = solve([a1 * t1 + c1 - (alpha * t1 + upsilon),\n",
    "             b1 * t1 + d1 - (beta * t1 + delta),\n",
    "             e1 * t1 + f1 - (gamma * t1 + epsilon),\n",
    "             a2 * t2 + c2 - (alpha * t2 + upsilon),\n",
    "             b2 * t2 + d2 - (beta * t2 + delta),\n",
    "             e2 * t2 + f2 - (gamma * t2 + epsilon)\n",
    "             ],\n",
    "            [gamma, epsilon])\n",
    "sol"
   ],
   "metadata": {
    "collapsed": false
   }
  },
  {
   "cell_type": "code",
   "execution_count": 276,
   "outputs": [],
   "source": [
    "compute_epsilon = lambda e1, f1, e2, f2, t1, t2: (-e1 * t1 * t2 + e2 * t1 * t2 - f1 * t2 + f2 * t1) / (t1 - t2)\n",
    "compute_gamma = lambda e1, f1, e2, f2, t1, t2: (e1 * t1 - e2 * t2 + f1 - f2) / (t1 - t2)"
   ],
   "metadata": {
    "collapsed": false
   }
  },
  {
   "cell_type": "code",
   "execution_count": 277,
   "outputs": [],
   "source": [
    "sol_variables[\"epsilon\"] = compute_epsilon(sol_variables[\"e1\"], sol_variables[\"f1\"], sol_variables[\"e2\"], sol_variables[\"f2\"], sol_variables[\"t1\"], sol_variables[\"t2\"])"
   ],
   "metadata": {
    "collapsed": false
   }
  },
  {
   "cell_type": "code",
   "execution_count": 278,
   "outputs": [],
   "source": [
    "sol_variables[\"gamma\"] = compute_gamma(sol_variables[\"e1\"], sol_variables[\"f1\"], sol_variables[\"e2\"], sol_variables[\"f2\"], sol_variables[\"t1\"], sol_variables[\"t2\"])"
   ],
   "metadata": {
    "collapsed": false
   }
  },
  {
   "cell_type": "code",
   "execution_count": 279,
   "outputs": [
    {
     "name": "stdout",
     "output_type": "stream",
     "text": [
      "alpha: -193, beta: -230, upsilon: 370994826025810, delta: 410411158485339, gamma: 218, epsilon: 167572107691063, t1: 805572857023.0, t2: 694955151546.0\n"
     ]
    }
   ],
   "source": [
    "print(f\"alpha: {sol_variables['alpha']}, beta: {sol_variables['beta']}, upsilon: {int(sol_variables['upsilon'])}, delta: {int(sol_variables['delta'])}, gamma: {int(sol_variables['gamma'])}, epsilon: {int(sol_variables['epsilon'])}, t1: {sol_variables['t1']}, t2: {sol_variables['t2']}\")"
   ],
   "metadata": {
    "collapsed": false
   }
  },
  {
   "cell_type": "code",
   "execution_count": 280,
   "outputs": [
    {
     "data": {
      "text/plain": "948978092202212"
     },
     "execution_count": 280,
     "metadata": {},
     "output_type": "execute_result"
    }
   ],
   "source": [
    "int(sol_variables[\"upsilon\"] + sol_variables[\"delta\"] + sol_variables[\"epsilon\"])"
   ],
   "metadata": {
    "collapsed": false
   }
  },
  {
   "cell_type": "code",
   "execution_count": 281,
   "outputs": [],
   "source": [
    "from sympy.utilities.lambdify import lambdify"
   ],
   "metadata": {
    "collapsed": false
   }
  },
  {
   "cell_type": "code",
   "execution_count": 282,
   "outputs": [],
   "source": [
    "r = lambdify([e1, f1, e2, f2, t1, t2], sol[epsilon])"
   ],
   "metadata": {
    "collapsed": false
   }
  },
  {
   "cell_type": "code",
   "execution_count": 283,
   "outputs": [
    {
     "data": {
      "text/plain": "167572107691063.22"
     },
     "execution_count": 283,
     "metadata": {},
     "output_type": "execute_result"
    }
   ],
   "source": [
    "r(sol_variables[\"e1\"], sol_variables[\"f1\"], sol_variables[\"e2\"], sol_variables[\"f2\"], sol_variables[\"t1\"], sol_variables[\"t2\"])"
   ],
   "metadata": {
    "collapsed": false
   }
  },
  {
   "cell_type": "code",
   "execution_count": 284,
   "outputs": [
    {
     "data": {
      "text/plain": "167572107691063.22"
     },
     "execution_count": 284,
     "metadata": {},
     "output_type": "execute_result"
    }
   ],
   "source": [
    "compute_epsilon(sol_variables[\"e1\"], sol_variables[\"f1\"], sol_variables[\"e2\"], sol_variables[\"f2\"], sol_variables[\"t1\"], sol_variables[\"t2\"])"
   ],
   "metadata": {
    "collapsed": false
   }
  },
  {
   "cell_type": "code",
   "execution_count": 284,
   "outputs": [],
   "source": [],
   "metadata": {
    "collapsed": false
   }
  }
 ],
 "metadata": {
  "kernelspec": {
   "name": "aoc",
   "language": "python",
   "display_name": "aoc"
  },
  "language_info": {
   "codemirror_mode": {
    "name": "ipython",
    "version": 2
   },
   "file_extension": ".py",
   "mimetype": "text/x-python",
   "name": "python",
   "nbconvert_exporter": "python",
   "pygments_lexer": "ipython2",
   "version": "2.7.6"
  }
 },
 "nbformat": 4,
 "nbformat_minor": 0
}
