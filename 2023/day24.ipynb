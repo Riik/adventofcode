{
 "cells": [
  {
   "cell_type": "code",
   "execution_count": 8,
   "outputs": [],
   "source": [
    "year = 2023\n",
    "day = 24"
   ],
   "metadata": {
    "collapsed": false
   }
  },
  {
   "cell_type": "code",
   "execution_count": 9,
   "outputs": [
    {
     "name": "stdout",
     "output_type": "stream",
     "text": [
      "Requirement already satisfied: sympy in /Users/rikvandervlist/git/personal/adventofcode/venv/lib/python3.11/site-packages (1.12)\r\n",
      "Requirement already satisfied: mpmath>=0.19 in /Users/rikvandervlist/git/personal/adventofcode/venv/lib/python3.11/site-packages (from sympy) (1.3.0)\r\n",
      "\r\n",
      "\u001B[1m[\u001B[0m\u001B[34;49mnotice\u001B[0m\u001B[1;39;49m]\u001B[0m\u001B[39;49m A new release of pip is available: \u001B[0m\u001B[31;49m23.2.1\u001B[0m\u001B[39;49m -> \u001B[0m\u001B[32;49m23.3.2\u001B[0m\r\n",
      "\u001B[1m[\u001B[0m\u001B[34;49mnotice\u001B[0m\u001B[1;39;49m]\u001B[0m\u001B[39;49m To update, run: \u001B[0m\u001B[32;49mpip install --upgrade pip\u001B[0m\r\n",
      "Note: you may need to restart the kernel to use updated packages.\n"
     ]
    }
   ],
   "source": [
    "%pip install sympy"
   ],
   "metadata": {
    "collapsed": false
   }
  },
  {
   "cell_type": "code",
   "execution_count": 10,
   "outputs": [
    {
     "data": {
      "text/plain": "[291493672529314, 259618209733833, 379287136024123, -9, 119, -272]"
     },
     "execution_count": 10,
     "metadata": {},
     "output_type": "execute_result"
    }
   ],
   "source": [
    "from aocd import submit\n",
    "from aocd.models import Puzzle\n",
    "from functools import reduce\n",
    "import numpy as np\n",
    "\n",
    "np.set_printoptions(edgeitems=30, linewidth=100000,\n",
    "                    formatter=dict(float=lambda x: \"%s\" % x))\n",
    "\n",
    "puzzle = Puzzle(year=year, day=day)\n",
    "data = puzzle.input_data\n",
    "left_bound = 200_000_000_000_000\n",
    "right_bound = 400_000_000_000_000\n",
    "# data = puzzle.examples[0].input_data\n",
    "# left_bound = 7\n",
    "# right_bound = 27\n",
    "\n",
    "data = data.strip()\n",
    "data = data.split(\"\\n\")\n",
    "data = [list(map(int, d.replace(\"@\", \"\").replace(\",\", \"\").split())) for d in data]\n",
    "data[0]"
   ],
   "metadata": {
    "collapsed": false
   }
  },
  {
   "cell_type": "code",
   "execution_count": 33,
   "outputs": [],
   "source": [
    "def solve_lines(left, right):\n",
    "    a1, b1, c1, d1, = left[3], left[0], left[4], left[1]\n",
    "    a2, b2, c2, d2, = right[3], right[0], right[4], right[1]\n",
    "    try:\n",
    "        t2 = (a1 * (d2 - d1) + c1 * (b1 - b2)) / (a2 * c1 - c2 * a1)\n",
    "        t1 = (t2 * a2 + b2 - b1) / a1\n",
    "    except ZeroDivisionError:\n",
    "        # parallel lines\n",
    "        return None, None, None, None\n",
    "\n",
    "    xl = t1 * a1 + b1\n",
    "    xb = t2 * a2 + b2\n",
    "    yl = t1 * c1 + d1\n",
    "    yb = t2 * c2 + d2\n",
    "\n",
    "    return xl, yl, t1, t2"
   ],
   "metadata": {
    "collapsed": false
   }
  },
  {
   "cell_type": "code",
   "execution_count": 34,
   "outputs": [],
   "source": [
    "def check(l, r):\n",
    "    x, y, t1, t2 = solve_lines(l, r)\n",
    "    if not x:\n",
    "        return False\n",
    "    return (left_bound <= x <= right_bound) and (left_bound <= y <= right_bound) and (t1 >= 0) and (t2 >= 0)"
   ],
   "metadata": {
    "collapsed": false
   }
  },
  {
   "cell_type": "code",
   "execution_count": 35,
   "outputs": [
    {
     "name": "stdout",
     "output_type": "stream",
     "text": [
      "Part a already solved with same answer: 17776\n"
     ]
    }
   ],
   "source": [
    "from itertools import combinations\n",
    "\n",
    "answer = sum([check(l, r) for l, r in combinations(data, 2)])\n",
    "submit(answer, part=\"a\", year=year, day=day)"
   ],
   "metadata": {
    "collapsed": false
   }
  },
  {
   "cell_type": "code",
   "execution_count": 18,
   "outputs": [],
   "source": [
    "from sympy import solve, Symbol\n",
    "from sympy.utilities.lambdify import lambdify\n",
    "\n",
    "t1 = Symbol(\"t1\")\n",
    "t2 = Symbol(\"t2\")\n",
    "a1 = Symbol(\"a1\")\n",
    "b1 = Symbol(\"b1\")\n",
    "c1 = Symbol(\"c1\")\n",
    "d1 = Symbol(\"d1\")\n",
    "e1 = Symbol(\"e1\")\n",
    "f1 = Symbol(\"f1\")\n",
    "a2 = Symbol(\"a2\")\n",
    "b2 = Symbol(\"b2\")\n",
    "c2 = Symbol(\"c2\")\n",
    "d2 = Symbol(\"d2\")\n",
    "e2 = Symbol(\"e2\")\n",
    "f2 = Symbol(\"f2\")\n",
    "\n",
    "rock_vx = Symbol(\"rock_vx\")\n",
    "rock_vy = Symbol(\"rock_vy\")\n",
    "rock_x = Symbol(\"rock_x\")\n",
    "rock_y = Symbol(\"rock_y\")\n",
    "rock_vz = Symbol(\"rock_vz\")\n",
    "rock_z = Symbol(\"rock_z\")\n",
    "\n",
    "sol = solve([a1 * t1 + b1 - (rock_vx * t1 + rock_x),\n",
    "             c1 * t1 + d1 - (rock_vy * t1 + rock_y),\n",
    "             a2 * t2 + b2 - (rock_vx * t2 + rock_x),\n",
    "             c2 * t2 + d2 - (rock_vy * t2 + rock_y)],\n",
    "            [t1,\n",
    "             t2,\n",
    "             rock_y,\n",
    "             rock_x])\n",
    "\n",
    "compute_rock_y = lambdify([a1, b1, c1, d1, a2, b2, c2, d2, rock_vx, rock_vy], sol[rock_y])\n",
    "compute_rock_x = lambdify([a1, b1, c1, d1, a2, b2, c2, d2, rock_vx, rock_vy], sol[rock_x])\n",
    "compute_t1 = lambdify([a1, b1, c1, d1, a2, b2, c2, d2, rock_vx, rock_vy], sol[t1])\n",
    "compute_t2 = lambdify([a1, b1, c1, d1, a2, b2, c2, d2, rock_vx, rock_vy], sol[t2])"
   ],
   "metadata": {
    "collapsed": false
   }
  },
  {
   "cell_type": "code",
   "execution_count": 19,
   "outputs": [],
   "source": [
    "sol2 = solve([a1 * t1 + b1 - (rock_vx * t1 + rock_x),\n",
    "             c1 * t1 + d1 - (rock_vy * t1 + rock_y),\n",
    "             e1 * t1 + f1 - (rock_vz * t1 + rock_z),\n",
    "             a2 * t2 + d2 - (rock_vx * t2 + rock_x),\n",
    "             c2 * t2 + d2 - (rock_vy * t2 + rock_y),\n",
    "             e2 * t2 + f2 - (rock_vz * t2 + rock_z)\n",
    "             ],\n",
    "            [rock_vz, rock_z])\n",
    "compute_rock_vz = lambdify([e1, f1, e2, f2, t1, t2], sol2[rock_vz])\n",
    "compute_rock_z = lambdify([e1, f1, e2, f2, t1, t2], sol2[rock_z])"
   ],
   "metadata": {
    "collapsed": false
   }
  },
  {
   "cell_type": "code",
   "execution_count": 21,
   "outputs": [
    {
     "name": "stdout",
     "output_type": "stream",
     "text": [
      "rock_vx: -193, rock_vy: -230 rock_x: 370994826025810 rock_y: 410411158485339 rock_vz: 218 rock_z: 167572107691063\n"
     ]
    }
   ],
   "source": [
    "from itertools import product\n",
    "SEARCH_RANGE = 300\n",
    "for rock_vx, rock_vy in product(range(-SEARCH_RANGE, SEARCH_RANGE), range(-SEARCH_RANGE, SEARCH_RANGE)):\n",
    "    rock_ys = []\n",
    "    rock_xs = []\n",
    "    N = 3\n",
    "    for i in range(N):\n",
    "        l, r = data[i], data[i + 1]\n",
    "        a1, b1, c1, d1, e1, f1 = l[3], l[0], l[4], l[1], l[5], l[2]\n",
    "        a2, b2, c2, d2, e2, f2 = r[3], r[0], r[4], r[1], r[5], r[2]\n",
    "\n",
    "        try:\n",
    "            rock_x = compute_rock_x(a1, b1, c1, d1, a2, b2, c2, d2, rock_vx, rock_vy)\n",
    "            rock_y = compute_rock_y(a1, b1, c1, d1, a2, b2, c2, d2, rock_vx, rock_vy)\n",
    "        except ZeroDivisionError:\n",
    "            continue\n",
    "\n",
    "        rock_ys.append(rock_y)\n",
    "        rock_xs.append(rock_x)\n",
    "\n",
    "    if np.ptp(rock_ys) < 0.001 and np.ptp(rock_xs) < 0.001 and len(rock_ys) == N:\n",
    "        t1 = compute_t1(a1, b1, c1, d1, a2, b2, c2, d2, rock_vx, rock_vy)\n",
    "        t2 = compute_t2(a1, b1, c1, d1, a2, b2, c2, d2, rock_vx, rock_vy)\n",
    "\n",
    "        rock_vz = compute_rock_vz(e1, f1, e2, f2, t1, t2)\n",
    "        rock_z = compute_rock_z(e1, f1, e2, f2, t1, t2)\n",
    "\n",
    "        print(f\"rock_vx: {rock_vx}, rock_vy: {rock_vy} rock_x: {int(rock_x)} rock_y: {int(rock_y)} rock_vz: {int(rock_vz)} rock_z: {int(rock_z)}\")\n",
    "\n",
    "        break\n",
    "else:\n",
    "    print(f\"No solution found\")\n",
    "\n",
    "answer = int(rock_x + rock_y + rock_z)"
   ],
   "metadata": {
    "collapsed": false
   }
  },
  {
   "cell_type": "code",
   "execution_count": 22,
   "outputs": [
    {
     "name": "stdout",
     "output_type": "stream",
     "text": [
      "Part b already solved with same answer: 948978092202212\n"
     ]
    }
   ],
   "source": [
    "submit(answer, part=\"b\", year=year, day=day)"
   ],
   "metadata": {
    "collapsed": false
   }
  }
 ],
 "metadata": {
  "kernelspec": {
   "name": "aoc",
   "language": "python",
   "display_name": "aoc"
  },
  "language_info": {
   "codemirror_mode": {
    "name": "ipython",
    "version": 2
   },
   "file_extension": ".py",
   "mimetype": "text/x-python",
   "name": "python",
   "nbconvert_exporter": "python",
   "pygments_lexer": "ipython2",
   "version": "2.7.6"
  }
 },
 "nbformat": 4,
 "nbformat_minor": 0
}
