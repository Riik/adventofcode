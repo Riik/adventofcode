{
 "cells": [
  {
   "cell_type": "code",
   "execution_count": 1,
   "outputs": [],
   "source": [
    "year = 2023\n",
    "day = 24"
   ],
   "metadata": {
    "collapsed": false
   }
  },
  {
   "cell_type": "code",
   "execution_count": 2,
   "outputs": [
    {
     "name": "stdout",
     "output_type": "stream",
     "text": [
      "Requirement already satisfied: sympy in /Users/rikvandervlist/git/personal/adventofcode/venv/lib/python3.11/site-packages (1.12)\r\n",
      "Requirement already satisfied: mpmath>=0.19 in /Users/rikvandervlist/git/personal/adventofcode/venv/lib/python3.11/site-packages (from sympy) (1.3.0)\r\n",
      "\r\n",
      "\u001B[1m[\u001B[0m\u001B[34;49mnotice\u001B[0m\u001B[1;39;49m]\u001B[0m\u001B[39;49m A new release of pip is available: \u001B[0m\u001B[31;49m23.2.1\u001B[0m\u001B[39;49m -> \u001B[0m\u001B[32;49m23.3.2\u001B[0m\r\n",
      "\u001B[1m[\u001B[0m\u001B[34;49mnotice\u001B[0m\u001B[1;39;49m]\u001B[0m\u001B[39;49m To update, run: \u001B[0m\u001B[32;49mpip install --upgrade pip\u001B[0m\r\n",
      "Note: you may need to restart the kernel to use updated packages.\n"
     ]
    }
   ],
   "source": [
    "%pip install sympy"
   ],
   "metadata": {
    "collapsed": false
   }
  },
  {
   "cell_type": "code",
   "execution_count": 23,
   "outputs": [
    {
     "data": {
      "text/plain": "[291493672529314, 259618209733833, 379287136024123, -9, 119, -272]"
     },
     "execution_count": 23,
     "metadata": {},
     "output_type": "execute_result"
    }
   ],
   "source": [
    "from aocd import submit\n",
    "from aocd.models import Puzzle\n",
    "from functools import reduce\n",
    "import numpy as np\n",
    "\n",
    "np.set_printoptions(edgeitems=30, linewidth=100000,\n",
    "                    formatter=dict(float=lambda x: \"%s\" % x))\n",
    "\n",
    "puzzle = Puzzle(year=year, day=day)\n",
    "data = puzzle.input_data\n",
    "left_bound = 200_000_000_000_000\n",
    "right_bound = 400_000_000_000_000\n",
    "# data = puzzle.examples[0].input_data\n",
    "# left_bound = 7\n",
    "# right_bound = 27\n",
    "\n",
    "data = data.strip()\n",
    "data = data.split(\"\\n\")\n",
    "data = [list(map(int, d.replace(\"@\", \"\").replace(\",\", \"\").split())) for d in data]\n",
    "data[0]"
   ],
   "metadata": {
    "collapsed": false
   }
  },
  {
   "cell_type": "code",
   "execution_count": 27,
   "outputs": [],
   "source": [
    "def solve_lines(left, right):\n",
    "    a, b, c, d = left[3], left[0], right[3], right[0]\n",
    "    e, f, g, h = left[4], left[1], right[4], right[1]\n",
    "    try:\n",
    "        t2 = (a * (h - f) + e * (b - d)) / (c * e - g * a)\n",
    "        t1 = (t2 * c + d - b) / a\n",
    "    except ZeroDivisionError:\n",
    "        # parallel lines\n",
    "        return None, None, None, None\n",
    "\n",
    "    xl = t1 * a + b\n",
    "    xb = t2 * c + d\n",
    "    yl = t1 * e + f\n",
    "    yb = t2 * g + h\n",
    "\n",
    "    return xl, yl, t1, t2"
   ],
   "metadata": {
    "collapsed": false
   }
  },
  {
   "cell_type": "code",
   "execution_count": 28,
   "outputs": [],
   "source": [
    "def check(l, r):\n",
    "    x, y, t1, t2 = solve_lines(l, r)\n",
    "    if not x:\n",
    "        return False\n",
    "    return (left_bound <= x <= right_bound) and (left_bound <= y <= right_bound) and (t1 >= 0) and (t2 >= 0)"
   ],
   "metadata": {
    "collapsed": false
   }
  },
  {
   "cell_type": "code",
   "execution_count": 29,
   "outputs": [
    {
     "name": "stdout",
     "output_type": "stream",
     "text": [
      "Part a already solved with same answer: 17776\n"
     ]
    }
   ],
   "source": [
    "from itertools import combinations\n",
    "\n",
    "answer = sum([check(l, r) for l, r in combinations(data, 2)])\n",
    "submit(answer, part=\"a\", year=year, day=day)"
   ],
   "metadata": {
    "collapsed": false
   }
  },
  {
   "cell_type": "code",
   "execution_count": 30,
   "outputs": [],
   "source": [
    "from sympy import solve, Symbol\n",
    "from sympy.utilities.lambdify import lambdify\n",
    "\n",
    "t1 = Symbol(\"t1\")\n",
    "t2 = Symbol(\"t2\")\n",
    "a1 = Symbol(\"a1\")\n",
    "b1 = Symbol(\"b1\")\n",
    "c1 = Symbol(\"c1\")\n",
    "d1 = Symbol(\"d1\")\n",
    "e1 = Symbol(\"e1\")\n",
    "f1 = Symbol(\"f1\")\n",
    "a2 = Symbol(\"a2\")\n",
    "b2 = Symbol(\"b2\")\n",
    "c2 = Symbol(\"c2\")\n",
    "d2 = Symbol(\"d2\")\n",
    "e2 = Symbol(\"e2\")\n",
    "f2 = Symbol(\"f2\")\n",
    "\n",
    "alpha = Symbol(\"alpha\")\n",
    "beta = Symbol(\"beta\")\n",
    "upsilon = Symbol(\"upsilon\")\n",
    "delta = Symbol(\"delta\")\n",
    "gamma = Symbol(\"gamma\")\n",
    "epsilon = Symbol(\"epsilon\")\n",
    "\n",
    "sol = solve([a1 * t1 + c1 - (alpha * t1 + upsilon),\n",
    "             b1 * t1 + d1 - (beta * t1 + delta),\n",
    "             a2 * t2 + c2 - (alpha * t2 + upsilon),\n",
    "             b2 * t2 + d2 - (beta * t2 + delta)],\n",
    "            [t1,\n",
    "             t2,\n",
    "             delta,\n",
    "             upsilon])\n",
    "\n",
    "compute_delta = lambdify([a1, a2, b1, b2, c1, c2, d1, d2, alpha, beta], sol[delta])\n",
    "compute_upsilon = lambdify([a1, a2, b1, b2, c1, c2, d1, d2, alpha, beta], sol[upsilon])\n",
    "compute_t1 = lambdify([a1, a2, b1, b2, c1, c2, d1, d2, alpha, beta], sol[t1])\n",
    "compute_t2 = lambdify([a1, a2, b1, b2, c1, c2, d1, d2, alpha, beta], sol[t2])"
   ],
   "metadata": {
    "collapsed": false
   }
  },
  {
   "cell_type": "code",
   "execution_count": 31,
   "outputs": [],
   "source": [
    "sol2 = solve([a1 * t1 + c1 - (alpha * t1 + upsilon),\n",
    "             b1 * t1 + d1 - (beta * t1 + delta),\n",
    "             e1 * t1 + f1 - (gamma * t1 + epsilon),\n",
    "             a2 * t2 + c2 - (alpha * t2 + upsilon),\n",
    "             b2 * t2 + d2 - (beta * t2 + delta),\n",
    "             e2 * t2 + f2 - (gamma * t2 + epsilon)\n",
    "             ],\n",
    "            [gamma, epsilon])\n",
    "compute_gamma = lambdify([e1, f1, e2, f2, t1, t2], sol2[gamma])\n",
    "compute_epsilon = lambdify([e1, f1, e2, f2, t1, t2], sol2[epsilon])"
   ],
   "metadata": {
    "collapsed": false
   }
  },
  {
   "cell_type": "code",
   "execution_count": 32,
   "outputs": [
    {
     "name": "stdout",
     "output_type": "stream",
     "text": [
      "alpha: -193, beta: -230 upsilon: 370994826025810 delta: 410411158485339 t1: 805572857023.0 t2: 694955151546.0 gamma: 218 epsilon: 167572107691063\n"
     ]
    }
   ],
   "source": [
    "from itertools import product\n",
    "SEARCH_RANGE = 300\n",
    "for alpha, beta in product(range(-SEARCH_RANGE, SEARCH_RANGE), range(-SEARCH_RANGE, SEARCH_RANGE)):\n",
    "    # for beta in :\n",
    "\n",
    "    deltas = []\n",
    "    upsilons = []\n",
    "\n",
    "    N = 3\n",
    "\n",
    "    for i in range(N):\n",
    "\n",
    "        l, r = data[i], data[i + 1]\n",
    "        a1, b1, c1, d1, e1, f1 = l[3], l[4], l[0], l[1], l[5], l[2]\n",
    "        a2, b2, c2, d2, e2, f2 = r[3], r[4], r[0], r[1], r[5], r[2]\n",
    "\n",
    "        try:\n",
    "            delta = compute_delta(a1, a2, b1, b2, c1, c2, d1, d2, alpha, beta)\n",
    "            upsilon = compute_upsilon(a1, a2, b1, b2, c1, c2, d1, d2, alpha, beta)\n",
    "        except ZeroDivisionError:\n",
    "            continue\n",
    "\n",
    "        deltas.append(delta)\n",
    "        upsilons.append(upsilon)\n",
    "\n",
    "    if np.ptp(deltas) < 0.001 and np.ptp(upsilons) < 0.001 and len(deltas) == N:\n",
    "        t1 = compute_t1(a1, a2, b1, b2, c1, c2, d1, d2, alpha, beta)\n",
    "        t2 = compute_t2(a1, a2, b1, b2, c1, c2, d1, d2, alpha, beta)\n",
    "\n",
    "        gamma = compute_gamma(e1, f1, e2, f2, t1, t2)\n",
    "        epsilon = compute_epsilon(e1, f1, e2, f2, t1, t2)\n",
    "\n",
    "        print(f\"alpha: {alpha}, beta: {beta} upsilon: {int(upsilon)} delta: {int(delta)} t1: {t1} t2: {t2} gamma: {int(gamma)} epsilon: {int(epsilon)}\")\n",
    "\n",
    "        break\n",
    "else:\n",
    "    print(f\"No solution found\")\n",
    "\n",
    "answer = int(upsilon + delta + epsilon)"
   ],
   "metadata": {
    "collapsed": false
   }
  },
  {
   "cell_type": "code",
   "execution_count": 33,
   "outputs": [
    {
     "name": "stdout",
     "output_type": "stream",
     "text": [
      "Part b already solved with same answer: 948978092202212\n"
     ]
    }
   ],
   "source": [
    "submit(answer, part=\"b\", year=year, day=day)"
   ],
   "metadata": {
    "collapsed": false
   }
  }
 ],
 "metadata": {
  "kernelspec": {
   "name": "aoc",
   "language": "python",
   "display_name": "aoc"
  },
  "language_info": {
   "codemirror_mode": {
    "name": "ipython",
    "version": 2
   },
   "file_extension": ".py",
   "mimetype": "text/x-python",
   "name": "python",
   "nbconvert_exporter": "python",
   "pygments_lexer": "ipython2",
   "version": "2.7.6"
  }
 },
 "nbformat": 4,
 "nbformat_minor": 0
}
