{
 "cells": [
  {
   "cell_type": "code",
   "execution_count": 402,
   "outputs": [],
   "source": [
    "year = 2023\n",
    "day = 22"
   ],
   "metadata": {
    "collapsed": false
   }
  },
  {
   "cell_type": "code",
   "execution_count": 441,
   "outputs": [
    {
     "data": {
      "text/plain": "[[4, 6, 74, 4, 6, 76],\n [0, 3, 277, 0, 4, 277],\n [7, 4, 124, 7, 6, 124],\n [5, 1, 268, 5, 1, 269],\n [6, 8, 273, 6, 8, 274],\n [8, 0, 268, 8, 0, 270],\n [5, 5, 84, 5, 7, 84],\n [1, 9, 196, 3, 9, 196],\n [7, 3, 214, 9, 3, 214],\n [6, 2, 171, 8, 2, 171],\n [6, 4, 122, 7, 4, 122],\n [1, 2, 177, 1, 5, 177],\n [5, 1, 31, 5, 2, 31],\n [1, 3, 196, 1, 6, 196],\n [0, 7, 93, 0, 8, 93],\n [0, 5, 267, 0, 6, 267],\n [7, 2, 256, 9, 2, 256],\n [3, 8, 40, 4, 8, 40],\n [3, 7, 289, 6, 7, 289],\n [7, 5, 269, 7, 7, 269],\n [8, 1, 191, 8, 3, 191],\n [3, 0, 190, 5, 0, 190],\n [4, 8, 278, 6, 8, 278],\n [8, 6, 25, 8, 9, 25],\n [1, 1, 109, 1, 4, 109],\n [4, 6, 270, 4, 7, 270],\n [7, 3, 302, 7, 3, 304],\n [6, 0, 108, 8, 0, 108],\n [8, 1, 87, 8, 1, 88],\n [6, 6, 94, 6, 8, 94],\n [4, 6, 137, 7, 6, 137],\n [3, 4, 20, 3, 7, 20],\n [6, 8, 206, 9, 8, 206],\n [6, 9, 266, 8, 9, 266],\n [3, 0, 9, 3, 1, 9],\n [9, 0, 82, 9, 3, 82],\n [0, 5, 210, 0, 5, 213],\n [5, 5, 303, 7, 5, 303],\n [5, 9, 202, 7, 9, 202],\n [8, 3, 256, 8, 6, 256],\n [4, 1, 273, 4, 4, 273],\n [6, 6, 1, 6, 7, 1],\n [4, 5, 42, 4, 7, 42],\n [5, 6, 183, 7, 6, 183],\n [4, 0, 261, 4, 2, 261],\n [3, 3, 271, 5, 3, 271],\n [6, 1, 76, 7, 1, 76],\n [5, 2, 59, 7, 2, 59],\n [6, 5, 203, 8, 5, 203],\n [4, 6, 278, 6, 6, 278],\n [1, 8, 271, 4, 8, 271],\n [6, 4, 279, 7, 4, 279],\n [2, 6, 78, 5, 6, 78],\n [9, 7, 112, 9, 9, 112],\n [9, 7, 110, 9, 8, 110],\n [6, 2, 208, 9, 2, 208],\n [4, 3, 89, 4, 6, 89],\n [2, 7, 93, 2, 9, 93],\n [1, 3, 259, 1, 3, 261],\n [5, 3, 45, 7, 3, 45],\n [0, 6, 41, 2, 6, 41],\n [3, 8, 42, 5, 8, 42],\n [1, 0, 179, 1, 2, 179],\n [1, 1, 283, 3, 1, 283],\n [1, 3, 178, 3, 3, 178],\n [3, 5, 182, 3, 7, 182],\n [6, 6, 111, 6, 8, 111],\n [1, 0, 106, 1, 2, 106],\n [7, 2, 299, 7, 4, 299],\n [8, 7, 88, 8, 9, 88],\n [2, 5, 184, 5, 5, 184],\n [1, 0, 2, 2, 0, 2],\n [4, 4, 165, 4, 4, 167],\n [1, 9, 116, 2, 9, 116],\n [3, 4, 195, 4, 4, 195],\n [8, 5, 150, 8, 7, 150],\n [9, 7, 90, 9, 9, 90],\n [1, 7, 31, 1, 9, 31],\n [4, 2, 63, 4, 5, 63],\n [5, 0, 271, 5, 0, 274],\n [3, 2, 158, 3, 3, 158],\n [4, 4, 150, 4, 5, 150],\n [2, 1, 188, 5, 1, 188],\n [2, 2, 35, 2, 4, 35],\n [1, 0, 219, 1, 2, 219],\n [1, 6, 98, 3, 6, 98],\n [5, 4, 213, 5, 5, 213],\n [7, 1, 120, 7, 3, 120],\n [4, 0, 222, 6, 0, 222],\n [7, 2, 112, 9, 2, 112],\n [1, 2, 200, 4, 2, 200],\n [2, 3, 165, 2, 4, 165],\n [1, 3, 112, 2, 3, 112],\n [0, 3, 189, 2, 3, 189],\n [6, 5, 103, 8, 5, 103],\n [2, 6, 176, 3, 6, 176],\n [0, 6, 32, 2, 6, 32],\n [2, 2, 297, 2, 4, 297],\n [6, 3, 73, 7, 3, 73],\n [8, 4, 231, 8, 6, 231],\n [5, 2, 57, 7, 2, 57],\n [8, 6, 180, 8, 9, 180],\n [6, 9, 282, 7, 9, 282],\n [0, 0, 65, 0, 2, 65],\n [2, 7, 276, 2, 8, 276],\n [1, 8, 191, 2, 8, 191],\n [4, 0, 187, 4, 2, 187],\n [5, 6, 214, 8, 6, 214],\n [8, 7, 267, 8, 8, 267],\n [2, 1, 246, 4, 1, 246],\n [7, 6, 40, 7, 8, 40],\n [6, 2, 248, 6, 4, 248],\n [3, 6, 23, 4, 6, 23],\n [9, 6, 181, 9, 8, 181],\n [0, 7, 112, 2, 7, 112],\n [3, 4, 147, 4, 4, 147],\n [1, 0, 89, 3, 0, 89],\n [5, 2, 172, 7, 2, 172],\n [6, 6, 110, 8, 6, 110],\n [6, 5, 133, 6, 7, 133],\n [3, 3, 84, 5, 3, 84],\n [9, 4, 128, 9, 6, 128],\n [6, 6, 206, 6, 7, 206],\n [7, 2, 131, 7, 3, 131],\n [7, 8, 267, 7, 9, 267],\n [7, 1, 12, 7, 3, 12],\n [0, 6, 102, 0, 9, 102],\n [2, 8, 96, 4, 8, 96],\n [3, 9, 75, 3, 9, 77],\n [3, 0, 70, 3, 3, 70],\n [8, 5, 107, 8, 7, 107],\n [4, 7, 173, 5, 7, 173],\n [5, 7, 136, 7, 7, 136],\n [1, 1, 57, 2, 1, 57],\n [8, 9, 216, 8, 9, 219],\n [3, 4, 267, 3, 6, 267],\n [4, 6, 185, 5, 6, 185],\n [2, 2, 16, 2, 5, 16],\n [6, 4, 289, 6, 6, 289],\n [1, 5, 255, 3, 5, 255],\n [0, 7, 189, 2, 7, 189],\n [7, 4, 234, 7, 7, 234],\n [0, 7, 5, 0, 9, 5],\n [0, 5, 214, 0, 5, 217],\n [5, 3, 61, 5, 5, 61],\n [1, 9, 193, 3, 9, 193],\n [3, 2, 262, 6, 2, 262],\n [5, 4, 291, 5, 5, 291],\n [4, 8, 17, 7, 8, 17],\n [9, 6, 45, 9, 7, 45],\n [1, 5, 279, 3, 5, 279],\n [0, 1, 7, 0, 2, 7],\n [6, 4, 208, 9, 4, 208],\n [0, 3, 49, 0, 6, 49],\n [3, 6, 58, 3, 6, 60],\n [6, 1, 55, 8, 1, 55],\n [3, 6, 25, 4, 6, 25],\n [3, 6, 57, 5, 6, 57],\n [0, 1, 188, 0, 4, 188],\n [0, 0, 262, 0, 1, 262],\n [7, 9, 214, 9, 9, 214],\n [9, 6, 70, 9, 7, 70],\n [3, 4, 131, 5, 4, 131],\n [5, 7, 224, 5, 9, 224],\n [1, 9, 33, 3, 9, 33],\n [5, 1, 185, 5, 4, 185],\n [9, 2, 191, 9, 4, 191],\n [2, 5, 201, 5, 5, 201],\n [2, 6, 61, 4, 6, 61],\n [8, 7, 215, 9, 7, 215],\n [9, 0, 217, 9, 1, 217],\n [3, 2, 56, 3, 4, 56],\n [0, 1, 215, 0, 3, 215],\n [1, 4, 45, 1, 6, 45],\n [2, 0, 32, 4, 0, 32],\n [5, 9, 173, 7, 9, 173],\n [8, 1, 168, 8, 3, 168],\n [5, 5, 167, 6, 5, 167],\n [1, 6, 35, 4, 6, 35],\n [2, 6, 54, 4, 6, 54],\n [9, 4, 254, 9, 7, 254],\n [7, 0, 80, 8, 0, 80],\n [0, 1, 57, 0, 2, 57],\n [5, 9, 276, 5, 9, 278],\n [3, 0, 193, 5, 0, 193],\n [0, 6, 202, 3, 6, 202],\n [5, 6, 288, 7, 6, 288],\n [0, 7, 218, 0, 7, 219],\n [3, 1, 115, 6, 1, 115],\n [0, 3, 276, 2, 3, 276],\n [6, 6, 227, 6, 8, 227],\n [8, 4, 224, 8, 7, 224],\n [5, 3, 161, 5, 5, 161],\n [4, 3, 26, 6, 3, 26],\n [7, 5, 315, 9, 5, 315],\n [6, 6, 41, 9, 6, 41],\n [6, 2, 54, 6, 4, 54],\n [6, 9, 279, 7, 9, 279],\n [2, 2, 270, 2, 4, 270],\n [3, 7, 84, 3, 8, 84],\n [0, 6, 266, 1, 6, 266],\n [2, 4, 164, 4, 4, 164],\n [7, 5, 212, 7, 7, 212],\n [6, 2, 75, 6, 2, 76],\n [1, 7, 284, 2, 7, 284],\n [6, 7, 300, 7, 7, 300],\n [8, 3, 258, 8, 5, 258],\n [7, 8, 205, 9, 8, 205],\n [5, 4, 251, 5, 5, 251],\n [1, 2, 205, 1, 4, 205],\n [6, 0, 137, 6, 1, 137],\n [1, 7, 102, 2, 7, 102],\n [5, 5, 202, 5, 7, 202],\n [7, 7, 179, 7, 9, 179],\n [4, 5, 174, 4, 7, 174],\n [7, 6, 13, 7, 8, 13],\n [4, 6, 212, 4, 8, 212],\n [0, 7, 222, 0, 8, 222],\n [6, 7, 21, 8, 7, 21],\n [7, 5, 17, 9, 5, 17],\n [4, 0, 29, 4, 2, 29],\n [1, 7, 253, 1, 7, 254],\n [2, 6, 169, 2, 6, 171],\n [1, 5, 164, 4, 5, 164],\n [3, 2, 247, 6, 2, 247],\n [3, 3, 295, 3, 3, 296],\n [8, 2, 15, 9, 2, 15],\n [2, 4, 34, 2, 6, 34],\n [7, 2, 128, 7, 5, 128],\n [0, 4, 189, 3, 4, 189],\n [0, 2, 56, 0, 5, 56],\n [1, 7, 114, 1, 9, 114],\n [1, 4, 102, 3, 4, 102],\n [3, 2, 272, 3, 4, 272],\n [6, 5, 294, 7, 5, 294],\n [2, 3, 81, 4, 3, 81],\n [9, 2, 253, 9, 3, 253],\n [5, 2, 43, 5, 4, 43],\n [7, 2, 301, 7, 3, 301],\n [6, 5, 320, 8, 5, 320],\n [3, 7, 22, 3, 9, 22],\n [2, 8, 35, 5, 8, 35],\n [8, 5, 295, 9, 5, 295],\n [6, 9, 68, 7, 9, 68],\n [6, 1, 234, 6, 3, 234],\n [5, 8, 67, 7, 8, 67],\n [5, 0, 243, 7, 0, 243],\n [5, 0, 118, 5, 2, 118],\n [3, 6, 9, 5, 6, 9],\n [4, 3, 275, 4, 6, 275],\n [3, 2, 127, 4, 2, 127],\n [6, 6, 247, 6, 8, 247],\n [3, 4, 124, 6, 4, 124],\n [4, 3, 274, 5, 3, 274],\n [1, 3, 91, 1, 5, 91],\n [4, 6, 64, 4, 8, 64],\n [0, 5, 270, 0, 8, 270],\n [4, 4, 103, 6, 4, 103],\n [5, 5, 249, 7, 5, 249],\n [2, 0, 52, 5, 0, 52],\n [4, 2, 189, 4, 5, 189],\n [8, 1, 241, 8, 2, 241],\n [1, 3, 294, 3, 3, 294],\n [8, 0, 1, 8, 0, 2],\n [6, 5, 165, 6, 9, 165],\n [3, 5, 41, 3, 7, 41],\n [3, 3, 254, 3, 5, 254],\n [2, 6, 105, 2, 7, 105],\n [3, 3, 106, 4, 3, 106],\n [7, 9, 268, 9, 9, 268],\n [2, 5, 81, 2, 8, 81],\n [0, 6, 199, 0, 8, 199],\n [3, 1, 212, 3, 4, 212],\n [5, 5, 63, 5, 6, 63],\n [5, 2, 49, 6, 2, 49],\n [6, 8, 39, 6, 9, 39],\n [8, 9, 7, 8, 9, 9],\n [7, 7, 24, 7, 9, 24],\n [5, 8, 47, 8, 8, 47],\n [5, 5, 187, 5, 5, 189],\n [8, 6, 273, 8, 9, 273],\n [8, 9, 185, 9, 9, 185],\n [4, 6, 171, 4, 8, 171],\n [2, 7, 191, 4, 7, 191],\n [2, 0, 168, 2, 3, 168],\n [5, 1, 68, 5, 3, 68],\n [7, 6, 91, 7, 9, 91],\n [8, 1, 13, 8, 3, 13],\n [6, 2, 202, 6, 3, 202],\n [6, 0, 200, 6, 1, 200],\n [4, 3, 252, 4, 4, 252],\n [5, 0, 93, 5, 2, 93],\n [7, 6, 237, 7, 8, 237],\n [0, 8, 33, 2, 8, 33],\n [0, 0, 86, 0, 2, 86],\n [8, 6, 226, 8, 6, 229],\n [0, 4, 1, 2, 4, 1],\n [2, 0, 122, 2, 3, 122],\n [5, 3, 69, 8, 3, 69],\n [2, 8, 46, 4, 8, 46],\n [6, 5, 66, 9, 5, 66],\n [7, 6, 294, 9, 6, 294],\n [8, 6, 113, 8, 8, 113],\n [5, 1, 163, 5, 4, 163],\n [1, 6, 269, 4, 6, 269],\n [8, 6, 207, 8, 7, 207],\n [7, 4, 213, 9, 4, 213],\n [2, 6, 22, 2, 8, 22],\n [0, 5, 83, 0, 8, 83],\n [0, 2, 210, 0, 4, 210],\n [6, 6, 167, 6, 8, 167],\n [5, 4, 171, 7, 4, 171],\n [0, 0, 281, 4, 0, 281],\n [5, 0, 270, 5, 2, 270],\n [6, 2, 118, 9, 2, 118],\n [5, 0, 53, 6, 0, 53],\n [4, 2, 13, 4, 4, 13],\n [2, 6, 52, 5, 6, 52],\n [1, 5, 203, 4, 5, 203],\n [7, 5, 14, 7, 7, 14],\n [7, 2, 258, 7, 2, 260],\n [6, 2, 193, 6, 3, 193],\n [7, 9, 180, 7, 9, 181],\n [6, 3, 307, 6, 5, 307],\n [8, 4, 281, 8, 6, 281],\n [4, 2, 107, 7, 2, 107],\n [6, 6, 205, 8, 6, 205],\n [6, 7, 51, 6, 8, 51],\n [8, 5, 5, 8, 8, 5],\n [9, 6, 295, 9, 7, 295],\n [8, 2, 85, 8, 4, 85],\n [0, 2, 268, 0, 5, 268],\n [3, 3, 173, 5, 3, 173],\n [8, 3, 285, 8, 5, 285],\n [5, 9, 175, 7, 9, 175],\n [3, 7, 194, 5, 7, 194],\n [9, 3, 256, 9, 5, 256],\n [9, 1, 80, 9, 4, 80],\n [6, 1, 100, 6, 3, 100],\n [6, 6, 88, 8, 6, 88],\n [2, 7, 15, 5, 7, 15],\n [2, 2, 180, 2, 5, 180],\n [0, 8, 70, 0, 9, 70],\n [0, 2, 221, 0, 3, 221],\n [7, 7, 16, 9, 7, 16],\n [3, 1, 101, 5, 1, 101],\n [8, 8, 29, 9, 8, 29],\n [3, 0, 80, 5, 0, 80],\n [2, 3, 291, 4, 3, 291],\n [4, 6, 243, 7, 6, 243],\n [1, 0, 118, 4, 0, 118],\n [4, 2, 78, 4, 5, 78],\n [5, 9, 67, 7, 9, 67],\n [1, 8, 192, 4, 8, 192],\n [5, 3, 259, 5, 5, 259],\n [6, 4, 5, 8, 4, 5],\n [5, 4, 132, 5, 5, 132],\n [0, 7, 85, 0, 9, 85],\n [1, 9, 201, 4, 9, 201],\n [8, 6, 24, 8, 7, 24],\n [2, 1, 249, 3, 1, 249],\n [0, 5, 209, 0, 8, 209],\n [7, 4, 317, 7, 6, 317],\n [0, 5, 37, 2, 5, 37],\n [3, 5, 185, 5, 5, 185],\n [7, 5, 292, 7, 7, 292],\n [6, 2, 266, 6, 3, 266],\n [1, 3, 42, 1, 3, 44],\n [4, 6, 245, 4, 8, 245],\n [1, 3, 45, 2, 3, 45],\n [7, 5, 167, 7, 6, 167],\n [4, 8, 3, 4, 8, 3],\n [5, 4, 205, 7, 4, 205],\n [4, 5, 308, 7, 5, 308],\n [2, 0, 77, 5, 0, 77],\n [5, 1, 47, 5, 3, 47],\n [9, 2, 193, 9, 4, 193],\n [1, 9, 194, 4, 9, 194],\n [4, 7, 12, 4, 9, 12],\n [3, 2, 211, 3, 5, 211],\n [4, 7, 182, 6, 7, 182],\n [7, 1, 14, 9, 1, 14],\n [0, 6, 99, 0, 7, 99],\n [8, 0, 273, 8, 1, 273],\n [2, 4, 268, 4, 4, 268],\n [5, 2, 28, 5, 2, 28],\n [6, 9, 19, 8, 9, 19],\n [1, 3, 55, 1, 5, 55],\n [6, 1, 245, 6, 4, 245],\n [4, 8, 214, 4, 8, 216],\n [3, 2, 188, 3, 2, 190],\n [5, 9, 17, 7, 9, 17],\n [1, 8, 284, 1, 9, 284],\n [9, 7, 269, 9, 9, 269],\n [4, 7, 200, 4, 9, 200],\n [0, 4, 184, 0, 7, 184],\n [5, 2, 50, 5, 4, 50],\n [9, 6, 108, 9, 9, 108],\n [4, 0, 277, 4, 1, 277],\n [6, 6, 220, 6, 8, 220],\n [6, 3, 251, 6, 5, 251],\n [1, 0, 240, 1, 4, 240],\n [0, 0, 199, 0, 4, 199],\n [4, 1, 139, 5, 1, 139],\n [2, 4, 291, 4, 4, 291],\n [2, 4, 294, 2, 6, 294],\n [5, 6, 73, 8, 6, 73],\n [0, 6, 62, 0, 8, 62],\n [5, 6, 167, 5, 8, 167],\n [5, 5, 135, 5, 5, 138],\n [0, 8, 282, 0, 9, 282],\n [7, 4, 274, 7, 6, 274],\n [7, 2, 185, 9, 2, 185],\n [4, 3, 269, 5, 3, 269],\n [6, 4, 262, 6, 4, 265],\n [0, 9, 104, 0, 9, 106],\n [3, 5, 128, 3, 5, 129],\n [5, 5, 205, 8, 5, 205],\n [8, 3, 147, 8, 5, 147],\n [2, 5, 168, 2, 6, 168],\n [6, 4, 126, 6, 4, 128],\n [4, 0, 311, 8, 0, 311],\n [6, 0, 211, 6, 3, 211],\n [6, 1, 185, 6, 2, 185],\n [6, 3, 290, 7, 3, 290],\n [6, 9, 233, 6, 9, 234],\n [5, 1, 244, 5, 1, 247],\n [4, 2, 249, 4, 3, 249],\n [0, 0, 123, 2, 0, 123],\n [1, 2, 182, 1, 3, 182],\n [7, 0, 140, 7, 2, 140],\n [8, 8, 85, 8, 9, 85],\n [6, 0, 14, 6, 3, 14],\n [0, 4, 181, 0, 7, 181],\n [1, 4, 197, 1, 7, 197],\n [3, 0, 76, 3, 2, 76],\n [7, 5, 131, 8, 5, 131],\n [7, 4, 77, 7, 7, 77],\n [0, 7, 283, 1, 7, 283],\n [5, 0, 205, 8, 0, 205],\n [3, 6, 155, 3, 8, 155],\n [8, 6, 68, 8, 6, 70],\n [6, 0, 254, 7, 0, 254],\n [7, 3, 126, 9, 3, 126],\n [1, 7, 94, 4, 7, 94],\n [8, 3, 11, 8, 6, 11],\n [5, 6, 45, 5, 8, 45],\n [8, 4, 86, 8, 7, 86],\n [7, 8, 292, 9, 8, 292],\n [2, 9, 227, 5, 9, 227],\n [1, 7, 108, 4, 7, 108],\n [7, 0, 253, 7, 2, 253],\n [2, 4, 167, 2, 7, 167],\n [3, 6, 135, 6, 6, 135],\n [3, 7, 287, 6, 7, 287],\n [4, 2, 291, 5, 2, 291],\n [5, 5, 269, 6, 5, 269],\n [7, 2, 141, 7, 4, 141],\n [4, 9, 21, 6, 9, 21],\n [1, 5, 22, 1, 5, 25],\n [3, 8, 296, 3, 8, 298],\n [1, 7, 111, 1, 8, 111],\n [0, 9, 217, 1, 9, 217],\n [7, 4, 79, 9, 4, 79],\n [0, 6, 207, 0, 8, 207],\n [3, 4, 209, 3, 5, 209],\n [3, 4, 152, 3, 6, 152],\n [2, 5, 20, 2, 7, 20],\n [7, 0, 187, 7, 3, 187],\n [5, 4, 129, 5, 6, 129],\n [8, 1, 254, 8, 1, 257],\n [2, 0, 106, 3, 0, 106],\n [6, 5, 248, 8, 5, 248],\n [5, 8, 92, 7, 8, 92],\n [9, 6, 274, 9, 8, 274],\n [6, 2, 121, 6, 4, 121],\n [4, 0, 112, 4, 2, 112],\n [3, 0, 63, 3, 2, 63],\n [1, 5, 239, 1, 6, 239],\n [0, 6, 7, 0, 8, 7],\n [6, 7, 135, 8, 7, 135],\n [6, 7, 67, 9, 7, 67],\n [1, 2, 83, 1, 5, 83],\n [6, 7, 240, 7, 7, 240],\n [7, 5, 8, 9, 5, 8],\n [4, 1, 23, 4, 4, 23],\n [3, 2, 277, 3, 2, 279],\n [4, 0, 219, 4, 2, 219],\n [4, 1, 237, 6, 1, 237],\n [1, 6, 280, 1, 7, 280],\n [2, 4, 197, 2, 5, 197],\n [6, 9, 237, 9, 9, 237],\n [7, 8, 70, 8, 8, 70],\n [0, 4, 180, 1, 4, 180],\n [4, 6, 180, 5, 6, 180],\n [0, 5, 259, 4, 5, 259],\n [5, 2, 236, 7, 2, 236],\n [7, 9, 98, 8, 9, 98],\n [0, 8, 88, 1, 8, 88],\n [1, 0, 80, 2, 0, 80],\n [9, 2, 129, 9, 3, 129],\n [6, 5, 282, 8, 5, 282],\n [9, 5, 282, 9, 5, 285],\n [6, 6, 223, 8, 6, 223],\n [6, 6, 268, 6, 8, 268],\n [7, 9, 65, 9, 9, 65],\n [6, 0, 150, 6, 0, 152],\n [5, 3, 231, 6, 3, 231],\n [2, 1, 99, 4, 1, 99],\n [7, 0, 298, 7, 3, 298],\n [2, 8, 198, 2, 8, 199],\n [5, 1, 95, 5, 3, 95],\n [8, 4, 13, 8, 4, 15],\n [2, 0, 195, 3, 0, 195],\n [5, 8, 2, 8, 8, 2],\n [7, 2, 1, 7, 4, 1],\n [1, 6, 101, 3, 6, 101],\n [9, 3, 235, 9, 5, 235],\n [9, 5, 105, 9, 8, 105],\n [1, 5, 126, 3, 5, 126],\n [4, 7, 279, 7, 7, 279],\n [6, 2, 252, 6, 3, 252],\n [7, 4, 32, 7, 6, 32],\n [2, 8, 114, 4, 8, 114],\n [4, 2, 309, 4, 4, 309],\n [8, 2, 50, 8, 2, 50],\n [0, 0, 64, 3, 0, 64],\n [2, 0, 213, 2, 1, 213],\n [7, 5, 79, 7, 7, 79],\n [9, 3, 9, 9, 3, 12],\n [9, 6, 42, 9, 7, 42],\n [0, 3, 82, 2, 3, 82],\n [7, 5, 313, 7, 6, 313],\n [4, 3, 60, 4, 5, 60],\n [0, 8, 203, 2, 8, 203],\n [6, 1, 1, 8, 1, 1],\n [6, 1, 52, 8, 1, 52],\n [3, 2, 87, 3, 5, 87],\n [6, 7, 282, 8, 7, 282],\n [1, 2, 88, 3, 2, 88],\n [3, 7, 264, 3, 8, 264],\n [1, 0, 217, 1, 2, 217],\n [5, 7, 284, 7, 7, 284],\n [7, 2, 269, 7, 2, 271],\n [7, 4, 278, 9, 4, 278],\n [0, 9, 2, 2, 9, 2],\n [2, 2, 272, 2, 4, 272],\n [2, 2, 260, 5, 2, 260],\n [1, 6, 278, 1, 8, 278],\n [1, 3, 48, 1, 4, 48],\n [2, 2, 52, 4, 2, 52],\n [5, 6, 300, 6, 6, 300],\n [6, 7, 33, 8, 7, 33],\n [2, 5, 75, 4, 5, 75],\n [1, 8, 277, 1, 9, 277],\n [1, 5, 270, 1, 6, 270],\n [7, 3, 60, 7, 4, 60],\n [7, 8, 203, 7, 9, 203],\n [5, 7, 208, 5, 9, 208],\n [3, 1, 240, 4, 1, 240],\n [4, 7, 86, 4, 7, 90],\n [8, 2, 49, 8, 4, 49],\n [9, 3, 127, 9, 4, 127],\n [1, 0, 216, 4, 0, 216],\n [5, 1, 311, 7, 1, 311],\n [4, 1, 243, 6, 1, 243],\n [9, 2, 55, 9, 4, 55],\n [5, 0, 143, 8, 0, 143],\n [0, 3, 212, 0, 4, 212],\n [5, 6, 239, 5, 6, 241],\n [0, 4, 135, 2, 4, 135],\n [1, 7, 251, 3, 7, 251],\n [0, 0, 218, 0, 2, 218],\n [5, 8, 271, 6, 8, 271],\n [1, 5, 199, 3, 5, 199],\n [9, 1, 195, 9, 2, 195],\n [3, 0, 11, 3, 0, 13],\n [2, 3, 171, 4, 3, 171],\n [2, 7, 5, 4, 7, 5],\n [7, 7, 289, 7, 8, 289],\n [6, 6, 235, 6, 7, 235],\n [6, 4, 57, 9, 4, 57],\n [2, 3, 124, 2, 5, 124],\n [0, 7, 100, 3, 7, 100],\n [2, 9, 34, 5, 9, 34],\n [5, 2, 256, 5, 2, 258],\n [0, 6, 203, 3, 6, 203],\n [5, 1, 208, 5, 4, 208],\n [0, 3, 271, 0, 4, 271],\n [6, 0, 310, 6, 3, 310],\n [2, 2, 109, 4, 2, 109],\n [3, 4, 192, 3, 4, 192],\n [9, 0, 215, 9, 2, 215],\n [4, 0, 136, 4, 3, 136],\n [4, 4, 41, 6, 4, 41],\n [4, 7, 83, 7, 7, 83],\n [2, 3, 22, 4, 3, 22],\n [5, 7, 175, 7, 7, 175],\n [6, 6, 170, 6, 9, 170],\n [3, 5, 46, 3, 7, 46],\n [7, 4, 48, 7, 6, 48],\n [9, 0, 286, 9, 1, 286],\n [2, 2, 278, 2, 2, 280],\n [4, 2, 125, 4, 4, 125],\n [5, 3, 301, 5, 6, 301],\n [0, 8, 67, 2, 8, 67],\n [3, 1, 72, 3, 1, 74],\n [0, 3, 174, 2, 3, 174],\n [8, 0, 146, 9, 0, 146],\n [7, 0, 189, 7, 2, 189],\n [5, 2, 209, 7, 2, 209],\n [6, 6, 84, 6, 8, 84],\n [2, 6, 190, 2, 9, 190],\n [4, 7, 99, 4, 9, 99],\n [1, 7, 43, 3, 7, 43],\n [8, 5, 267, 8, 6, 267],\n [5, 7, 281, 8, 7, 281],\n [5, 0, 210, 5, 2, 210],\n [3, 9, 268, 3, 9, 270],\n [8, 5, 134, 8, 5, 136],\n [6, 1, 214, 8, 1, 214],\n [8, 1, 70, 8, 3, 70],\n [2, 1, 21, 2, 4, 21],\n [8, 8, 4, 8, 9, 4],\n [8, 5, 249, 9, 5, 249],\n [3, 0, 208, 3, 2, 208],\n [4, 7, 41, 4, 9, 41],\n [5, 3, 97, 6, 3, 97],\n [8, 3, 312, 8, 5, 312],\n [2, 0, 33, 2, 0, 36],\n [7, 3, 192, 7, 4, 192],\n [5, 5, 66, 5, 5, 67],\n [9, 1, 211, 9, 2, 211],\n [5, 4, 294, 5, 4, 296],\n [9, 3, 279, 9, 5, 279],\n [8, 3, 82, 8, 5, 82],\n [5, 3, 65, 5, 5, 65],\n [4, 4, 11, 4, 6, 11],\n [0, 1, 66, 2, 1, 66],\n [4, 6, 186, 4, 6, 186],\n [2, 2, 183, 2, 2, 185],\n [4, 5, 294, 5, 5, 294],\n [4, 0, 105, 7, 0, 105],\n [4, 0, 270, 4, 1, 270],\n [6, 5, 77, 6, 8, 77],\n [8, 6, 264, 8, 7, 264],\n [1, 0, 115, 4, 0, 115],\n [7, 2, 194, 7, 2, 196],\n [3, 5, 77, 3, 5, 77],\n [4, 9, 265, 6, 9, 265],\n [5, 7, 263, 5, 9, 263],\n [6, 1, 216, 6, 4, 216],\n [6, 8, 49, 8, 8, 49],\n [6, 5, 297, 6, 7, 297],\n [6, 7, 178, 9, 7, 178],\n [1, 4, 26, 1, 6, 26],\n [5, 6, 60, 8, 6, 60],\n [5, 2, 103, 6, 2, 103],\n [5, 6, 170, 5, 6, 173],\n [8, 4, 270, 8, 6, 270],\n [4, 2, 26, 7, 2, 26],\n [4, 7, 167, 4, 7, 169],\n [4, 5, 59, 5, 5, 59],\n [6, 4, 45, 9, 4, 45],\n [6, 0, 51, 6, 2, 51],\n [0, 7, 89, 3, 7, 89],\n [3, 3, 28, 3, 4, 28],\n [0, 0, 128, 0, 0, 128],\n [1, 6, 231, 4, 6, 231],\n [6, 3, 284, 9, 3, 284],\n [6, 4, 202, 6, 6, 202],\n [7, 5, 113, 7, 6, 113],\n [0, 4, 54, 1, 4, 54],\n [1, 0, 228, 2, 0, 228],\n [2, 4, 156, 4, 4, 156],\n [6, 2, 2, 6, 4, 2],\n [8, 4, 141, 8, 5, 141],\n [2, 8, 86, 4, 8, 86],\n [0, 7, 9, 0, 9, 9],\n [6, 2, 223, 8, 2, 223],\n [3, 5, 253, 5, 5, 253],\n [1, 4, 235, 3, 4, 235],\n [6, 9, 198, 6, 9, 201],\n [1, 6, 241, 3, 6, 241],\n [5, 5, 101, 5, 7, 101],\n [2, 8, 14, 6, 8, 14],\n [4, 3, 124, 6, 3, 124],\n [7, 4, 144, 7, 4, 147],\n [8, 6, 138, 8, 8, 138],\n [1, 2, 210, 1, 4, 210],\n [6, 3, 190, 8, 3, 190],\n [3, 6, 92, 3, 7, 92],\n [1, 3, 93, 2, 3, 93],\n [5, 9, 230, 7, 9, 230],\n [2, 7, 42, 3, 7, 42],\n [4, 9, 230, 4, 9, 231],\n [5, 8, 274, 5, 9, 274],\n [6, 5, 179, 6, 7, 179],\n [0, 8, 281, 2, 8, 281],\n [1, 4, 199, 1, 4, 199],\n [8, 1, 313, 8, 4, 313],\n [0, 0, 1, 0, 2, 1],\n [5, 7, 205, 7, 7, 205],\n [1, 7, 198, 1, 7, 201],\n [4, 3, 260, 4, 5, 260],\n [2, 6, 111, 2, 8, 111],\n [3, 6, 291, 5, 6, 291],\n [4, 1, 89, 4, 2, 89],\n [3, 1, 86, 3, 3, 86],\n [0, 5, 57, 0, 8, 57],\n [3, 1, 62, 4, 1, 62],\n [9, 1, 5, 9, 3, 5],\n [8, 4, 47, 8, 6, 47],\n [4, 7, 206, 5, 7, 206],\n [5, 6, 236, 5, 8, 236],\n [0, 5, 186, 0, 7, 186],\n [7, 2, 193, 8, 2, 193],\n [7, 5, 286, 7, 7, 286],\n [4, 5, 58, 4, 6, 58],\n [3, 5, 22, 4, 5, 22],\n [0, 3, 36, 2, 3, 36],\n [0, 0, 125, 1, 0, 125],\n [5, 1, 70, 5, 2, 70],\n [3, 2, 54, 3, 5, 54],\n [0, 5, 1, 0, 6, 1],\n [7, 2, 227, 7, 4, 227],\n [7, 5, 5, 7, 8, 5],\n [2, 0, 226, 3, 0, 226],\n [5, 0, 246, 7, 0, 246],\n [3, 1, 43, 3, 2, 43],\n [0, 5, 206, 0, 7, 206],\n [2, 0, 225, 2, 2, 225],\n [3, 4, 233, 3, 6, 233],\n [4, 4, 36, 4, 7, 36],\n [3, 2, 275, 3, 4, 275],\n [9, 1, 63, 9, 4, 63],\n [0, 3, 88, 0, 5, 88],\n [3, 1, 225, 3, 3, 225],\n [6, 4, 291, 9, 4, 291],\n [6, 5, 226, 6, 7, 226],\n [1, 4, 296, 2, 4, 296],\n [3, 1, 96, 6, 1, 96],\n [0, 8, 198, 1, 8, 198],\n [1, 8, 230, 1, 9, 230],\n [7, 0, 220, 7, 1, 220],\n [4, 4, 304, 5, 4, 304],\n [0, 1, 282, 0, 3, 282],\n [3, 3, 149, 3, 4, 149],\n [3, 1, 34, 5, 1, 34],\n [4, 1, 207, 4, 3, 207],\n [0, 1, 124, 3, 1, 124],\n [0, 3, 208, 1, 3, 208],\n [6, 6, 75, 8, 6, 75],\n [7, 6, 62, 7, 9, 62],\n [1, 4, 237, 1, 6, 237],\n [6, 2, 239, 8, 2, 239],\n [5, 2, 310, 5, 4, 310],\n [7, 2, 114, 7, 3, 114],\n [5, 7, 18, 6, 7, 18],\n [7, 5, 250, 7, 8, 250],\n [5, 1, 3, 5, 4, 3],\n [3, 3, 155, 6, 3, 155],\n [8, 4, 277, 8, 7, 277],\n [4, 3, 132, 4, 3, 134],\n [4, 3, 263, 4, 3, 263],\n [2, 1, 315, 5, 1, 315],\n [8, 8, 28, 9, 8, 28],\n [3, 9, 100, 5, 9, 100],\n [1, 0, 105, 3, 0, 105],\n [7, 7, 64, 7, 8, 64],\n [0, 2, 40, 3, 2, 40],\n [0, 0, 104, 2, 0, 104],\n [8, 0, 207, 8, 2, 207],\n [4, 1, 133, 6, 1, 133],\n [3, 2, 183, 7, 2, 183],\n [3, 7, 2, 3, 7, 2],\n [4, 7, 70, 7, 7, 70],\n [7, 6, 252, 8, 6, 252],\n [8, 5, 165, 8, 6, 165],\n [1, 9, 236, 3, 9, 236],\n [4, 0, 50, 4, 3, 50],\n [9, 3, 215, 9, 4, 215],\n [4, 8, 37, 7, 8, 37],\n [8, 1, 10, 8, 2, 10],\n [6, 7, 183, 6, 8, 183],\n [2, 2, 114, 5, 2, 114],\n [6, 5, 104, 9, 5, 104],\n [5, 4, 51, 5, 6, 51],\n [4, 5, 165, 4, 8, 165],\n [6, 1, 264, 6, 3, 264],\n [7, 1, 255, 7, 1, 257],\n [9, 0, 7, 9, 4, 7],\n [5, 9, 94, 7, 9, 94],\n [4, 3, 262, 7, 3, 262],\n [5, 1, 201, 7, 1, 201],\n [4, 8, 238, 5, 8, 238],\n [4, 7, 267, 6, 7, 267],\n [4, 1, 55, 4, 3, 55],\n [3, 3, 154, 3, 5, 154],\n [9, 6, 213, 9, 9, 213],\n [6, 1, 167, 6, 4, 167],\n [8, 6, 209, 8, 8, 209],\n [3, 4, 25, 4, 4, 25],\n [5, 2, 225, 8, 2, 225],\n [2, 7, 248, 4, 7, 248],\n [4, 4, 72, 4, 6, 72],\n [8, 0, 289, 9, 0, 289],\n [0, 3, 257, 3, 3, 257],\n [5, 2, 62, 6, 2, 62],\n [9, 4, 86, 9, 4, 88],\n [0, 5, 257, 2, 5, 257],\n [5, 5, 211, 6, 5, 211],\n [5, 9, 231, 6, 9, 231],\n [0, 9, 213, 0, 9, 216],\n [9, 0, 218, 9, 0, 219],\n [0, 6, 52, 0, 8, 52],\n [5, 3, 289, 5, 6, 289],\n [1, 6, 43, 3, 6, 43],\n [6, 7, 237, 6, 8, 237],\n [8, 7, 80, 8, 9, 80],\n [2, 2, 222, 4, 2, 222],\n [4, 6, 7, 4, 8, 7],\n [8, 0, 264, 8, 0, 265],\n [2, 0, 101, 2, 2, 101],\n [1, 5, 79, 3, 5, 79],\n [5, 5, 262, 6, 5, 262],\n [3, 3, 73, 3, 4, 73],\n [8, 6, 63, 8, 8, 63],\n [2, 3, 19, 5, 3, 19],\n [4, 3, 286, 6, 3, 286],\n [4, 4, 161, 4, 7, 161],\n [2, 6, 225, 6, 6, 225],\n [0, 7, 212, 0, 9, 212],\n [4, 9, 197, 6, 9, 197],\n [6, 9, 71, 6, 9, 75],\n [6, 4, 52, 6, 6, 52],\n [5, 2, 294, 6, 2, 294],\n [5, 3, 165, 5, 5, 165],\n [8, 6, 116, 8, 8, 116],\n [5, 2, 253, 5, 4, 253],\n [4, 6, 136, 5, 6, 136],\n [6, 0, 203, 6, 3, 203],\n [4, 6, 233, 7, 6, 233],\n [9, 1, 212, 9, 2, 212],\n [6, 1, 247, 9, 1, 247],\n [7, 7, 277, 7, 9, 277],\n [7, 6, 255, 7, 7, 255],\n [1, 4, 179, 3, 4, 179],\n [1, 1, 222, 3, 1, 222],\n [0, 0, 201, 0, 2, 201],\n [8, 3, 36, 8, 6, 36],\n [0, 7, 272, 0, 9, 272],\n [4, 0, 56, 6, 0, 56],\n [4, 5, 45, 4, 6, 45],\n [2, 6, 270, 2, 8, 270],\n [3, 5, 43, 5, 5, 43],\n [9, 3, 316, 9, 6, 316],\n [5, 6, 164, 5, 9, 164],\n [3, 4, 228, 3, 6, 228],\n [8, 9, 239, 9, 9, 239],\n [6, 5, 4, 6, 7, 4],\n [1, 2, 135, 1, 2, 136],\n [6, 2, 13, 6, 3, 13],\n [1, 1, 60, 1, 1, 61],\n [3, 0, 187, 3, 2, 187],\n [4, 1, 8, 7, 1, 8],\n [9, 2, 282, 9, 4, 282],\n [1, 7, 17, 4, 7, 17],\n [8, 8, 64, 9, 8, 64],\n [9, 6, 272, 9, 8, 272],\n [1, 3, 297, 1, 5, 297],\n [1, 1, 6, 5, 1, 6],\n [7, 0, 240, 7, 2, 240],\n [4, 0, 33, 6, 0, 33],\n [2, 7, 25, 2, 7, 27],\n [8, 4, 9, 8, 6, 9],\n [0, 7, 96, 0, 9, 96],\n [6, 5, 209, 9, 5, 209],\n [3, 3, 307, 5, 3, 307],\n [3, 7, 211, 5, 7, 211],\n [4, 2, 87, 4, 4, 87],\n [5, 2, 73, 5, 2, 73],\n [4, 6, 241, 4, 8, 241],\n [5, 6, 270, 6, 6, 270],\n [3, 5, 23, 3, 5, 25],\n [6, 1, 299, 6, 4, 299],\n [6, 0, 4, 8, 0, 4],\n [2, 1, 204, 5, 1, 204],\n [4, 1, 75, 6, 1, 75],\n [5, 2, 165, 8, 2, 165],\n [2, 0, 229, 2, 0, 231],\n [4, 2, 307, 5, 2, 307],\n [7, 0, 97, 9, 0, 97],\n [8, 4, 16, 8, 4, 18],\n [4, 0, 272, 4, 0, 275],\n [2, 1, 223, 2, 3, 223],\n [1, 8, 274, 1, 9, 274],\n [5, 0, 130, 5, 2, 130],\n [1, 8, 195, 2, 8, 195],\n [9, 1, 9, 9, 2, 9],\n [7, 2, 7, 7, 4, 7],\n [5, 2, 250, 8, 2, 250],\n [6, 4, 285, 6, 4, 287],\n [1, 0, 170, 4, 0, 170],\n [3, 3, 309, 3, 6, 309],\n [2, 6, 264, 4, 6, 264],\n [3, 7, 109, 5, 7, 109],\n [0, 7, 98, 2, 7, 98],\n [5, 7, 239, 5, 9, 239],\n [0, 8, 115, 2, 8, 115],\n [4, 4, 222, 6, 4, 222],\n [6, 7, 110, 8, 7, 110],\n [4, 5, 237, 4, 8, 237],\n [3, 2, 180, 3, 4, 180],\n [3, 1, 312, 3, 3, 312],\n [9, 5, 183, 9, 7, 183],\n [4, 7, 72, 4, 8, 72],\n [9, 5, 258, 9, 5, 260],\n [2, 4, 159, 5, 4, 159],\n [6, 1, 72, 6, 4, 72],\n [0, 1, 261, 0, 4, 261],\n [0, 1, 175, 0, 3, 175],\n [1, 2, 46, 1, 5, 46],\n [2, 1, 224, 2, 3, 224],\n [2, 6, 273, 2, 7, 273],\n [4, 0, 186, 4, 3, 186],\n [0, 4, 51, 1, 4, 51],\n [6, 1, 312, 7, 1, 312],\n [3, 7, 266, 3, 9, 266],\n [0, 6, 80, 2, 6, 80],\n [3, 7, 262, 5, 7, 262],\n [7, 3, 288, 8, 3, 288],\n [2, 8, 200, 3, 8, 200],\n [1, 6, 29, 1, 8, 29],\n [8, 1, 297, 8, 2, 297],\n [4, 8, 217, 6, 8, 217],\n [5, 5, 35, 8, 5, 35],\n [3, 5, 234, 3, 7, 234],\n [5, 5, 3, 5, 7, 3],\n [4, 5, 16, 6, 5, 16],\n [8, 3, 293, 8, 5, 293],\n [9, 0, 188, 9, 2, 188],\n [2, 2, 206, 2, 5, 206],\n [1, 6, 47, 3, 6, 47],\n [1, 5, 1, 1, 8, 1],\n [7, 6, 138, 7, 9, 138],\n [6, 9, 14, 9, 9, 14],\n [7, 1, 139, 7, 3, 139],\n [1, 9, 118, 1, 9, 121],\n [2, 8, 82, 4, 8, 82],\n [0, 4, 197, 0, 6, 197],\n [4, 1, 142, 4, 4, 142],\n [3, 7, 295, 3, 9, 295],\n [6, 3, 230, 9, 3, 230],\n [3, 4, 261, 3, 5, 261],\n [2, 6, 214, 4, 6, 214],\n [7, 2, 230, 7, 2, 233],\n [7, 2, 211, 7, 4, 211],\n [5, 6, 5, 5, 7, 5],\n [5, 5, 164, 8, 5, 164],\n [2, 4, 183, 5, 4, 183],\n [7, 8, 82, 9, 8, 82],\n [3, 0, 90, 5, 0, 90],\n [4, 1, 293, 4, 3, 293],\n [7, 7, 85, 7, 9, 85],\n [6, 1, 220, 6, 4, 220],\n [6, 7, 276, 8, 7, 276],\n [8, 1, 243, 8, 5, 243],\n [6, 3, 101, 6, 5, 101],\n [0, 7, 217, 0, 8, 217],\n [6, 0, 110, 9, 0, 110],\n [9, 7, 89, 9, 9, 89],\n [3, 1, 2, 3, 2, 2],\n [6, 5, 304, 8, 5, 304],\n [7, 2, 28, 7, 4, 28],\n [2, 5, 14, 4, 5, 14],\n [9, 1, 238, 9, 3, 238],\n [7, 2, 61, 9, 2, 61],\n [8, 2, 210, 9, 2, 210],\n [2, 4, 100, 5, 4, 100],\n [7, 0, 78, 7, 2, 78],\n [0, 9, 10, 0, 9, 13],\n [3, 8, 193, 5, 8, 193],\n [7, 0, 219, 8, 0, 219],\n [9, 7, 296, 9, 7, 297],\n [1, 7, 101, 4, 7, 101],\n [1, 7, 39, 4, 7, 39],\n [8, 2, 1, 8, 2, 3],\n [8, 1, 86, 8, 3, 86],\n [8, 2, 262, 8, 2, 264],\n [6, 3, 196, 6, 5, 196],\n [2, 1, 282, 3, 1, 282],\n [2, 1, 277, 2, 3, 277],\n [0, 7, 90, 3, 7, 90],\n [1, 5, 92, 1, 5, 94],\n [2, 6, 62, 5, 6, 62],\n [5, 4, 284, 8, 4, 284],\n [4, 6, 177, 4, 7, 177],\n [5, 1, 136, 7, 1, 136],\n [3, 3, 187, 4, 3, 187],\n ...]"
     },
     "execution_count": 441,
     "metadata": {},
     "output_type": "execute_result"
    }
   ],
   "source": [
    "from aocd import submit\n",
    "from aocd.models import Puzzle\n",
    "from functools import reduce\n",
    "import numpy as np\n",
    "\n",
    "puzzle = Puzzle(year=year, day=day)\n",
    "data = puzzle.input_data\n",
    "# data = puzzle.examples[0].input_data\n",
    "\n",
    "data = data.strip()\n",
    "data = data.split(\"\\n\")\n",
    "# data = []\n",
    "data = [list(map(int, data.replace(\"~\", \",\").split(\",\"))) for data in data]\n",
    "# y, x, z\n",
    "blocks = [((d[1], d[0], d[2]), (d[4], d[3], d[5])) for d in data]\n",
    "\n",
    "data"
   ],
   "metadata": {
    "collapsed": false
   }
  },
  {
   "cell_type": "code",
   "execution_count": 442,
   "outputs": [],
   "source": [
    "grid = np.zeros((11, 11, 400), int)\n",
    "for start, end in blocks:\n",
    "    grid[start[0]: end[0] + 1, start[1]: end[1] + 1, start[2]: end[2] + 1] = 1"
   ],
   "metadata": {
    "collapsed": false
   }
  },
  {
   "cell_type": "code",
   "execution_count": 443,
   "outputs": [
    {
     "name": "stdout",
     "output_type": "stream",
     "text": [
      "[0 0 0 0 0 0 0 0 0 1]\n"
     ]
    }
   ],
   "source": [
    "x = np.zeros(10, int)\n",
    "x[9:10] = 1\n",
    "print(x)"
   ],
   "metadata": {
    "collapsed": false
   }
  },
  {
   "cell_type": "code",
   "execution_count": 444,
   "outputs": [
    {
     "data": {
      "text/plain": "<matplotlib.image.AxesImage at 0x145136f90>"
     },
     "execution_count": 444,
     "metadata": {},
     "output_type": "execute_result"
    },
    {
     "data": {
      "text/plain": "<Figure size 640x480 with 1 Axes>",
      "image/png": "[encoded data removed]"
     },
     "metadata": {},
     "output_type": "display_data"
    }
   ],
   "source": [
    "import matplotlib.pyplot as plt\n",
    "\n",
    "# # sum over y, x-z view\n",
    "# plt.imshow(np.sum(grid, axis=0))\n",
    "# sum over x, y-z view\n",
    "plt.imshow(np.sum(grid, axis=1))"
   ],
   "metadata": {
    "collapsed": false
   }
  },
  {
   "cell_type": "code",
   "execution_count": 445,
   "outputs": [],
   "source": [
    "get_dim = lambda block, i: (block[0][i], block[1][i])\n",
    "shift_down = lambda block: ((block[0][0], block[0][1], block[0][2] - 1), (block[1][0], block[1][1], block[1][2] - 1))\n",
    "get_bottom_z_slice = lambda block: (\n",
    "slice(block[0][0], block[1][0] + 1), slice(block[0][1], block[1][1] + 1), block[0][2])\n",
    "get_block_slice = lambda block: (\n",
    "slice(block[0][0], block[1][0] + 1), slice(block[0][1], block[1][1] + 1), slice(block[0][2], block[1][2] + 1))\n",
    "\n",
    "\n",
    "def does_overlap(a, b):\n",
    "    left = a if a[0] <= b[0] else b\n",
    "    right = b if a[0] <= b[0] else a\n",
    "    return left[1] >= right[0]\n",
    "\n",
    "\n",
    "assert not does_overlap((1, 5), (6, 8))\n",
    "assert not does_overlap((6, 8), (1, 5))\n",
    "assert does_overlap((1, 5), (3, 8))\n",
    "assert does_overlap((3, 8), (1, 5))\n",
    "assert does_overlap((0, 2), (1, 1))"
   ],
   "metadata": {
    "collapsed": false
   }
  },
  {
   "cell_type": "code",
   "execution_count": 446,
   "outputs": [
    {
     "data": {
      "text/plain": "3668"
     },
     "execution_count": 446,
     "metadata": {},
     "output_type": "execute_result"
    }
   ],
   "source": [
    "grid.sum()"
   ],
   "metadata": {
    "collapsed": false
   }
  },
  {
   "cell_type": "code",
   "execution_count": 447,
   "outputs": [
    {
     "name": "stdout",
     "output_type": "stream",
     "text": [
      "done\n"
     ]
    }
   ],
   "source": [
    "moving = True\n",
    "new_blocks = blocks.copy()\n",
    "for _ in range(1_000):\n",
    "    moving = False\n",
    "    blocks = sorted(new_blocks.copy(), key=lambda loc: loc[0][2])\n",
    "    new_blocks = []\n",
    "    for block in blocks:\n",
    "        block_shifted_down = shift_down(block)\n",
    "        # check if layer below block is empty\n",
    "        if grid[*get_bottom_z_slice(block_shifted_down)].sum() == 0 and block[0][2] > 1:\n",
    "            # print(f\"moving {start} {end}\")\n",
    "            grid[*get_block_slice(block)] = 0\n",
    "            grid[*get_block_slice(block_shifted_down)] = 1\n",
    "            moving = True\n",
    "            new_blocks.append(block_shifted_down)\n",
    "        else:\n",
    "            new_blocks.append(block)\n",
    "    if not moving:\n",
    "        print(\"done\")\n",
    "        break\n"
   ],
   "metadata": {
    "collapsed": false
   }
  },
  {
   "cell_type": "code",
   "execution_count": 448,
   "outputs": [
    {
     "data": {
      "text/plain": "defaultdict(list,\n            {0: [-1],\n             1: [-1],\n             2: [-1],\n             3: [-1],\n             4: [-1],\n             5: [-1],\n             6: [-1],\n             7: [-1],\n             8: [-1],\n             9: [-1],\n             10: [-1],\n             11: [-1],\n             12: [-1],\n             13: [-1],\n             14: [-1],\n             15: [-1],\n             16: [-1],\n             17: [-1],\n             18: [-1],\n             19: [-1],\n             20: [11],\n             21: [2],\n             22: [11],\n             23: [0],\n             24: [12],\n             25: [3, 13],\n             26: [14],\n             27: [11],\n             28: [19],\n             29: [15],\n             30: [1],\n             31: [21],\n             32: [22],\n             33: [22],\n             34: [24],\n             35: [26],\n             36: [25],\n             37: [16],\n             38: [8],\n             39: [31],\n             40: [31],\n             41: [9, 32],\n             42: [35],\n             43: [34],\n             44: [35],\n             45: [36],\n             46: [37],\n             47: [38],\n             48: [39],\n             49: [40],\n             50: [39],\n             51: [43],\n             52: [42],\n             53: [44],\n             54: [44],\n             55: [45],\n             56: [46],\n             57: [47],\n             58: [46],\n             59: [47],\n             60: [48],\n             61: [50],\n             62: [48],\n             63: [54],\n             64: [52],\n             65: [53],\n             66: [53, 54],\n             67: [52],\n             68: [53],\n             69: [57],\n             70: [61],\n             71: [63],\n             72: [60],\n             73: [65],\n             74: [67],\n             75: [67],\n             76: [66, 68],\n             77: [68],\n             78: [69],\n             79: [69],\n             80: [73],\n             81: [71],\n             82: [76],\n             83: [69, 71],\n             84: [76],\n             85: [74],\n             86: [75],\n             87: [77],\n             88: [74, 77],\n             89: [77],\n             90: [78],\n             91: [78],\n             92: [80],\n             93: [84],\n             94: [81, 84],\n             95: [85],\n             96: [85],\n             97: [87],\n             98: [88],\n             99: [89],\n             100: [87],\n             101: [87],\n             102: [90],\n             103: [56, 91],\n             104: [92],\n             105: [95],\n             106: [100],\n             107: [94],\n             108: [97],\n             109: [101],\n             110: [98],\n             111: [79],\n             112: [104],\n             113: [105],\n             114: [104],\n             115: [104, 107],\n             116: [113],\n             117: [114],\n             118: [113],\n             119: [113],\n             120: [115],\n             121: [99],\n             122: [117],\n             123: [119],\n             124: [116],\n             125: [119],\n             126: [119],\n             127: [120],\n             128: [121],\n             129: [122],\n             130: [123],\n             131: [126],\n             132: [128],\n             133: [128],\n             134: [129],\n             135: [129],\n             136: [131],\n             137: [131],\n             138: [130],\n             139: [132],\n             140: [132],\n             141: [133],\n             142: [134],\n             143: [137],\n             144: [139],\n             145: [141],\n             146: [141],\n             147: [140],\n             148: [142],\n             149: [141],\n             150: [142],\n             151: [145],\n             152: [146],\n             153: [144],\n             154: [147],\n             155: [147],\n             156: [152],\n             157: [152],\n             158: [153, 154],\n             159: [152],\n             160: [151],\n             161: [154],\n             162: [156],\n             163: [160],\n             164: [160],\n             165: [161],\n             166: [160],\n             167: [161],\n             168: [155],\n             169: [162],\n             170: [162],\n             171: [157],\n             172: [165],\n             173: [163],\n             174: [163, 164],\n             175: [168],\n             176: [170],\n             177: [171],\n             178: [169, 170],\n             179: [169],\n             180: [171],\n             181: [172],\n             182: [175],\n             183: [175],\n             184: [176],\n             185: [177],\n             186: [178],\n             187: [166],\n             188: [180],\n             189: [177],\n             190: [179],\n             191: [181],\n             192: [182],\n             193: [183],\n             194: [183],\n             195: [186, 187],\n             196: [188],\n             197: [184],\n             198: [185, 189],\n             199: [188],\n             200: [188],\n             201: [189],\n             202: [190],\n             203: [192],\n             204: [193],\n             205: [192],\n             206: [194],\n             207: [195],\n             208: [198],\n             209: [199],\n             210: [201],\n             211: [200],\n             212: [200],\n             213: [202],\n             214: [205],\n             215: [206],\n             216: [208],\n             217: [209],\n             218: [208],\n             219: [207],\n             220: [210],\n             221: [210],\n             222: [212],\n             223: [210],\n             224: [215],\n             225: [216],\n             226: [218],\n             227: [218, 220],\n             228: [218, 222],\n             229: [219],\n             230: [221],\n             231: [221, 223],\n             232: [221, 223],\n             233: [225],\n             234: [196],\n             235: [226],\n             236: [229],\n             237: [230],\n             238: [229],\n             239: [227],\n             240: [228],\n             241: [231],\n             242: [233],\n             243: [234],\n             244: [238],\n             245: [238],\n             246: [237],\n             247: [240],\n             248: [241],\n             249: [242],\n             250: [243],\n             251: [245],\n             252: [243, 247],\n             253: [247],\n             254: [249],\n             255: [249],\n             256: [249],\n             257: [250],\n             258: [251],\n             259: [250, 252],\n             260: [255],\n             261: [256],\n             262: [258],\n             263: [260],\n             264: [260],\n             265: [261],\n             266: [261],\n             267: [261],\n             268: [254],\n             269: [263],\n             270: [265],\n             271: [265],\n             272: [267],\n             273: [266],\n             274: [267],\n             275: [269],\n             276: [268],\n             277: [269],\n             278: [270],\n             279: [271],\n             280: [271],\n             281: [274],\n             282: [276],\n             283: [275],\n             284: [276],\n             285: [277],\n             286: [273],\n             287: [278],\n             288: [280],\n             289: [279],\n             290: [283],\n             291: [282],\n             292: [284],\n             293: [283],\n             294: [287],\n             295: [290],\n             296: [291],\n             297: [292],\n             298: [292],\n             299: [290],\n             300: [291],\n             301: [294],\n             302: [281],\n             303: [295],\n             304: [297],\n             305: [300],\n             306: [298],\n             307: [299],\n             308: [300],\n             309: [302],\n             310: [304],\n             311: [305],\n             312: [306],\n             313: [307],\n             314: [307],\n             315: [306],\n             316: [305],\n             317: [307],\n             318: [308],\n             319: [309],\n             320: [312],\n             321: [316],\n             322: [315],\n             323: [316],\n             324: [315],\n             325: [316],\n             326: [312],\n             327: [312],\n             328: [319],\n             329: [322],\n             330: [322],\n             331: [325],\n             332: [324],\n             333: [324],\n             334: [326],\n             335: [326],\n             336: [328],\n             337: [330],\n             338: [314],\n             339: [331],\n             340: [332],\n             341: [334],\n             342: [333],\n             343: [334],\n             344: [336],\n             345: [336],\n             346: [338],\n             347: [339],\n             348: [339],\n             349: [340],\n             350: [341],\n             351: [342],\n             352: [343],\n             353: [344],\n             354: [329],\n             355: [346],\n             356: [346],\n             357: [350],\n             358: [349],\n             359: [352],\n             360: [351],\n             361: [352],\n             362: [351],\n             363: [351],\n             364: [353],\n             365: [354],\n             366: [354],\n             367: [358],\n             368: [358],\n             369: [357],\n             370: [361],\n             371: [360],\n             372: [359],\n             373: [362],\n             374: [364],\n             375: [365],\n             376: [366],\n             377: [365],\n             378: [366],\n             379: [368],\n             380: [369],\n             381: [367],\n             382: [366],\n             383: [369],\n             384: [375, 376],\n             385: [375],\n             386: [378],\n             387: [378],\n             388: [377],\n             389: [378],\n             390: [377],\n             391: [378],\n             392: [381],\n             393: [381],\n             394: [381],\n             395: [382],\n             396: [384],\n             397: [387],\n             398: [388],\n             399: [390],\n             400: [389],\n             401: [392],\n             402: [394],\n             403: [393],\n             404: [395],\n             405: [396],\n             406: [396],\n             407: [397, 400],\n             408: [399],\n             409: [380],\n             410: [403],\n             411: [402],\n             412: [403],\n             413: [406],\n             414: [407],\n             415: [407],\n             416: [407],\n             417: [411],\n             418: [411],\n             419: [413],\n             420: [413],\n             421: [413],\n             422: [414],\n             423: [415],\n             424: [417],\n             425: [417],\n             426: [418],\n             427: [419],\n             428: [391, 419, 421],\n             429: [420],\n             430: [421],\n             431: [423],\n             432: [424],\n             433: [425],\n             434: [424, 425],\n             435: [429],\n             436: [431],\n             437: [428, 430],\n             438: [433],\n             439: [432],\n             440: [433],\n             441: [432],\n             442: [434],\n             443: [434],\n             444: [435],\n             445: [437],\n             446: [436],\n             447: [438],\n             448: [442],\n             449: [438, 442],\n             450: [441],\n             451: [439],\n             452: [427],\n             453: [444],\n             454: [445],\n             455: [448],\n             456: [451],\n             457: [450],\n             458: [451],\n             459: [451],\n             460: [453],\n             461: [452],\n             462: [455],\n             463: [457],\n             464: [457],\n             465: [455],\n             466: [458],\n             467: [456],\n             468: [459],\n             469: [459],\n             470: [460],\n             471: [460],\n             472: [462],\n             473: [462],\n             474: [463],\n             475: [465],\n             476: [465],\n             477: [467],\n             478: [465],\n             479: [469],\n             480: [468],\n             481: [470],\n             482: [471],\n             483: [472],\n             484: [475, 476],\n             485: [474],\n             486: [475, 476],\n             487: [475, 478],\n             488: [479],\n             489: [480],\n             490: [480],\n             491: [480],\n             492: [481],\n             493: [483],\n             494: [484],\n             495: [486],\n             496: [488],\n             497: [489, 490],\n             498: [491],\n             499: [492],\n             500: [494],\n             501: [496],\n             502: [498],\n             503: [499],\n             504: [499],\n             505: [499],\n             506: [501],\n             507: [501],\n             508: [502],\n             509: [504, 505],\n             510: [505],\n             511: [507],\n             512: [508],\n             513: [506],\n             514: [508],\n             515: [507],\n             516: [508],\n             517: [509],\n             518: [511],\n             519: [511],\n             520: [512],\n             521: [513],\n             522: [514],\n             523: [517],\n             524: [517],\n             525: [519],\n             526: [519],\n             527: [520],\n             528: [521],\n             529: [519],\n             530: [521],\n             531: [518, 521],\n             532: [522],\n             533: [520],\n             534: [524],\n             535: [525],\n             536: [528],\n             537: [530],\n             538: [529],\n             539: [528],\n             540: [529],\n             541: [525, 529],\n             542: [531],\n             543: [531],\n             544: [536],\n             545: [537],\n             546: [535],\n             547: [539],\n             548: [538],\n             549: [538],\n             550: [541],\n             551: [540],\n             552: [543],\n             553: [548],\n             554: [549],\n             555: [546],\n             556: [551],\n             557: [553],\n             558: [554],\n             559: [554],\n             560: [555],\n             561: [555],\n             562: [556],\n             563: [556],\n             564: [544],\n             565: [559],\n             566: [550],\n             567: [558],\n             568: [560],\n             569: [559],\n             570: [552],\n             571: [563],\n             572: [567],\n             573: [566],\n             574: [566],\n             575: [561, 568],\n             576: [571],\n             577: [570],\n             578: [572],\n             579: [574],\n             580: [573, 574],\n             581: [575],\n             582: [576],\n             583: [577],\n             584: [578],\n             585: [579],\n             586: [580],\n             587: [583],\n             588: [585],\n             589: [586],\n             590: [587],\n             591: [588],\n             592: [589],\n             593: [589],\n             594: [591],\n             595: [592],\n             596: [595],\n             597: [595],\n             598: [596],\n             599: [596],\n             600: [598],\n             601: [599],\n             602: [601],\n             603: [601],\n             604: [603],\n             605: [602],\n             606: [603],\n             607: [603],\n             608: [602],\n             609: [604],\n             610: [606],\n             611: [606],\n             612: [604, 608],\n             613: [608],\n             614: [604, 607],\n             615: [605, 608],\n             616: [605],\n             617: [608],\n             618: [612, 615],\n             619: [612],\n             620: [609],\n             621: [611],\n             622: [614],\n             623: [616],\n             624: [616],\n             625: [611],\n             626: [621],\n             627: [619],\n             628: [623],\n             629: [620],\n             630: [625],\n             631: [625],\n             632: [626],\n             633: [627],\n             634: [628],\n             635: [628],\n             636: [631],\n             637: [631],\n             638: [622],\n             639: [634],\n             640: [633],\n             641: [633],\n             642: [637],\n             643: [637],\n             644: [638],\n             645: [640],\n             646: [643],\n             647: [643],\n             648: [643],\n             649: [644],\n             650: [632],\n             651: [644],\n             652: [646],\n             653: [648],\n             654: [646, 647],\n             655: [650],\n             656: [649],\n             657: [651],\n             658: [652],\n             659: [650, 653],\n             660: [657],\n             661: [657],\n             662: [655],\n             663: [655],\n             664: [657],\n             665: [656],\n             666: [657],\n             667: [658],\n             668: [659],\n             669: [660],\n             670: [662],\n             671: [663],\n             672: [661],\n             673: [664],\n             674: [661, 665],\n             675: [666],\n             676: [667],\n             677: [667],\n             678: [668],\n             679: [667],\n             680: [667],\n             681: [670],\n             682: [672],\n             683: [670],\n             684: [670, 671],\n             685: [674],\n             686: [673],\n             687: [675],\n             688: [678],\n             689: [679],\n             690: [676],\n             691: [680],\n             692: [679],\n             693: [678],\n             694: [676],\n             695: [677],\n             696: [685],\n             697: [683],\n             698: [684],\n             699: [691],\n             700: [693],\n             701: [688],\n             702: [683, 693],\n             703: [690],\n             704: [692],\n             705: [689, 691],\n             706: [690],\n             707: [694],\n             708: [696],\n             709: [698],\n             710: [697],\n             711: [698],\n             712: [701],\n             713: [706],\n             714: [702],\n             715: [706],\n             716: [705],\n             717: [706],\n             718: [707],\n             719: [712],\n             720: [712],\n             721: [712],\n             722: [713],\n             723: [712],\n             724: [715],\n             725: [711, 714],\n             726: [716],\n             727: [718],\n             728: [717],\n             729: [719],\n             730: [720],\n             731: [721],\n             732: [722],\n             733: [723],\n             734: [726],\n             735: [699, 704, 725],\n             736: [728],\n             737: [729],\n             738: [729],\n             739: [731],\n             740: [733],\n             741: [733],\n             742: [731],\n             743: [733],\n             744: [735],\n             745: [736],\n             746: [736],\n             747: [736],\n             748: [740],\n             749: [741],\n             750: [738],\n             751: [742],\n             752: [738],\n             753: [743],\n             754: [737, 742],\n             755: [745],\n             756: [746],\n             757: [747],\n             758: [747],\n             759: [748],\n             760: [752],\n             761: [748, 749],\n             762: [748],\n             763: [753],\n             764: [754],\n             765: [753],\n             766: [755, 756],\n             767: [755],\n             768: [724],\n             769: [758],\n             770: [750],\n             771: [761],\n             772: [760],\n             773: [763],\n             774: [766],\n             775: [767],\n             776: [768],\n             777: [767, 768],\n             778: [771],\n             779: [771],\n             780: [770],\n             781: [772],\n             782: [773],\n             783: [773],\n             784: [774],\n             785: [775],\n             786: [751],\n             787: [778, 781],\n             788: [778],\n             789: [778],\n             790: [781],\n             791: [779],\n             792: [780],\n             793: [784],\n             794: [785],\n             795: [782],\n             796: [786],\n             797: [786],\n             798: [789],\n             799: [789],\n             800: [790],\n             801: [788],\n             802: [791],\n             803: [793],\n             804: [795],\n             805: [795],\n             806: [793],\n             807: [791],\n             808: [796],\n             809: [800],\n             810: [802],\n             811: [801],\n             812: [803],\n             813: [803],\n             814: [806],\n             815: [803],\n             816: [804],\n             817: [807],\n             818: [808],\n             819: [797],\n             820: [809],\n             821: [810],\n             822: [811],\n             823: [811],\n             824: [809],\n             825: [814],\n             826: [815],\n             827: [815],\n             828: [813],\n             829: [816],\n             830: [817],\n             831: [818],\n             832: [819],\n             833: [821],\n             834: [822],\n             835: [824],\n             836: [825],\n             837: [826, 827],\n             838: [828],\n             839: [830],\n             840: [828],\n             841: [829],\n             842: [830],\n             843: [831],\n             844: [832],\n             845: [831],\n             846: [836],\n             847: [839],\n             848: [840],\n             849: [838],\n             850: [840],\n             851: [841],\n             852: [842],\n             853: [833, 842],\n             854: [843],\n             855: [844],\n             856: [844],\n             857: [846],\n             858: [848],\n             859: [849],\n             860: [847],\n             861: [852],\n             862: [820],\n             863: [854],\n             864: [854],\n             865: [856],\n             866: [854],\n             867: [859],\n             868: [859],\n             869: [860],\n             870: [860],\n             871: [863],\n             872: [865],\n             873: [835],\n             874: [869],\n             875: [868],\n             876: [855],\n             877: [872],\n             878: [874],\n             879: [875],\n             880: [877],\n             881: [876],\n             882: [878],\n             883: [879],\n             884: [879],\n             885: [881],\n             886: [881],\n             887: [882],\n             888: [883],\n             889: [883],\n             890: [880],\n             891: [886],\n             892: [885],\n             893: [885],\n             894: [886],\n             895: [887],\n             896: [888],\n             897: [889],\n             898: [892],\n             899: [893],\n             900: [891],\n             901: [892],\n             902: [893],\n             903: [896],\n             904: [897],\n             905: [899],\n             906: [900],\n             907: [900],\n             908: [900],\n             909: [902],\n             910: [884],\n             911: [903],\n             912: [906],\n             913: [906],\n             914: [907],\n             915: [909],\n             916: [905, 909],\n             917: [910],\n             918: [910],\n             919: [914],\n             920: [912],\n             921: [916],\n             922: [915],\n             923: [916],\n             924: [916],\n             925: [915],\n             926: [916],\n             927: [917],\n             928: [917],\n             929: [918],\n             930: [898],\n             931: [922],\n             932: [921],\n             933: [925],\n             934: [924],\n             935: [923],\n             936: [926],\n             937: [927],\n             938: [929],\n             939: [929],\n             940: [929],\n             941: [919],\n             942: [935],\n             943: [933],\n             944: [933],\n             945: [932, 934],\n             946: [930],\n             947: [937],\n             948: [939],\n             949: [939],\n             950: [940],\n             951: [913],\n             952: [941],\n             953: [942],\n             954: [943],\n             955: [942],\n             956: [944],\n             957: [946],\n             958: [948, 949],\n             959: [946, 948],\n             960: [949],\n             961: [936, 955],\n             962: [957],\n             963: [959],\n             964: [959],\n             965: [958],\n             966: [960],\n             967: [961],\n             968: [961],\n             969: [963],\n             970: [963],\n             971: [964],\n             972: [962, 965],\n             973: [962, 965],\n             974: [968],\n             975: [967],\n             976: [968],\n             977: [970],\n             978: [971],\n             979: [969],\n             980: [969],\n             981: [971],\n             982: [972],\n             983: [973],\n             984: [972],\n             985: [974],\n             986: [975],\n             987: [976],\n             988: [979],\n             989: [978],\n             990: [978, 981],\n             991: [980],\n             992: [979, 980],\n             993: [986],\n             994: [988],\n             995: [987],\n             996: [987],\n             997: [988],\n             998: [989],\n             999: [990],\n             ...})"
     },
     "execution_count": 448,
     "metadata": {},
     "output_type": "execute_result"
    }
   ],
   "source": [
    "from collections import defaultdict\n",
    "\n",
    "supported_by_dict = defaultdict(list)\n",
    "\n",
    "blocks = sorted(blocks, key=lambda loc: loc[0][2])\n",
    "for i in range(len(blocks)):\n",
    "    block = blocks[i]\n",
    "    if block[0][2] == 1:\n",
    "        supported_by_dict[i].append(-1)\n",
    "        continue\n",
    "    for j in range(i):\n",
    "        block_below = blocks[j]\n",
    "\n",
    "        block_x = get_dim(block, 0)\n",
    "        block_y = get_dim(block, 1)\n",
    "        block_z = get_dim(block, 2)\n",
    "        block_below_x = get_dim(block_below, 0)\n",
    "        block_below_y = get_dim(block_below, 1)\n",
    "        block_below_z = get_dim(block_below, 2)\n",
    "\n",
    "        x_y_overlap = does_overlap(block_x, block_below_x) and does_overlap(block_y, block_below_y)\n",
    "\n",
    "        if x_y_overlap and block_z[0] == block_below_z[1]:\n",
    "            raise ValueError\n",
    "\n",
    "        if x_y_overlap and (block_z[0] - 1 == block_below_z[1]):\n",
    "            supported_by_dict[i].append(j)\n",
    "\n",
    "supported_by_dict"
   ],
   "metadata": {
    "collapsed": false
   }
  },
  {
   "cell_type": "code",
   "execution_count": 449,
   "outputs": [
    {
     "name": "stdout",
     "output_type": "stream",
     "text": [
      "3\n",
      "4\n",
      "5\n",
      "6\n",
      "7\n",
      "9\n",
      "10\n",
      "13\n",
      "17\n",
      "18\n",
      "20\n",
      "23\n",
      "27\n",
      "28\n",
      "29\n",
      "30\n",
      "32\n",
      "33\n",
      "41\n",
      "49\n",
      "51\n",
      "55\n",
      "56\n",
      "58\n",
      "59\n",
      "62\n",
      "64\n",
      "66\n",
      "70\n",
      "72\n",
      "81\n",
      "82\n",
      "83\n",
      "86\n",
      "91\n",
      "93\n",
      "96\n",
      "102\n",
      "103\n",
      "106\n",
      "107\n",
      "108\n",
      "109\n",
      "110\n",
      "111\n",
      "112\n",
      "118\n",
      "124\n",
      "125\n",
      "127\n",
      "135\n",
      "136\n",
      "138\n",
      "143\n",
      "148\n",
      "149\n",
      "150\n",
      "153\n",
      "158\n",
      "159\n",
      "164\n",
      "167\n",
      "173\n",
      "174\n",
      "185\n",
      "186\n",
      "187\n",
      "191\n",
      "197\n",
      "203\n",
      "204\n",
      "211\n",
      "213\n",
      "214\n",
      "217\n",
      "220\n",
      "222\n",
      "223\n",
      "224\n",
      "232\n",
      "235\n",
      "236\n",
      "239\n",
      "244\n",
      "246\n",
      "248\n",
      "252\n",
      "253\n",
      "257\n",
      "259\n",
      "262\n",
      "264\n",
      "272\n",
      "285\n",
      "286\n",
      "288\n",
      "289\n",
      "293\n",
      "296\n",
      "301\n",
      "303\n",
      "310\n",
      "311\n",
      "313\n",
      "317\n",
      "318\n",
      "320\n",
      "321\n",
      "323\n",
      "327\n",
      "335\n",
      "337\n",
      "345\n",
      "347\n",
      "348\n",
      "355\n",
      "356\n",
      "363\n",
      "370\n",
      "371\n",
      "372\n",
      "373\n",
      "374\n",
      "376\n",
      "379\n",
      "383\n",
      "385\n",
      "386\n",
      "391\n",
      "397\n",
      "398\n",
      "400\n",
      "401\n",
      "404\n",
      "405\n",
      "408\n",
      "409\n",
      "410\n",
      "412\n",
      "416\n",
      "422\n",
      "426\n",
      "428\n",
      "430\n",
      "440\n",
      "443\n",
      "446\n",
      "447\n",
      "449\n",
      "454\n",
      "461\n",
      "464\n",
      "466\n",
      "473\n",
      "475\n",
      "476\n",
      "477\n",
      "478\n",
      "482\n",
      "485\n",
      "487\n",
      "489\n",
      "490\n",
      "493\n",
      "495\n",
      "497\n",
      "500\n",
      "503\n",
      "504\n",
      "510\n",
      "515\n",
      "516\n",
      "518\n",
      "523\n",
      "526\n",
      "527\n",
      "532\n",
      "533\n",
      "534\n",
      "542\n",
      "545\n",
      "547\n",
      "557\n",
      "561\n",
      "562\n",
      "564\n",
      "565\n",
      "568\n",
      "569\n",
      "573\n",
      "581\n",
      "582\n",
      "584\n",
      "590\n",
      "593\n",
      "594\n",
      "597\n",
      "600\n",
      "607\n",
      "610\n",
      "613\n",
      "615\n",
      "617\n",
      "618\n",
      "624\n",
      "629\n",
      "630\n",
      "635\n",
      "636\n",
      "639\n",
      "641\n",
      "642\n",
      "645\n",
      "647\n",
      "653\n",
      "654\n",
      "665\n",
      "669\n",
      "671\n",
      "681\n",
      "682\n",
      "686\n",
      "687\n",
      "689\n",
      "695\n",
      "699\n",
      "700\n",
      "703\n",
      "704\n",
      "708\n",
      "709\n",
      "710\n",
      "711\n",
      "714\n",
      "725\n",
      "727\n",
      "730\n",
      "732\n",
      "734\n",
      "737\n",
      "739\n",
      "744\n",
      "749\n",
      "756\n",
      "757\n",
      "759\n",
      "762\n",
      "764\n",
      "765\n",
      "769\n",
      "776\n",
      "777\n",
      "783\n",
      "787\n",
      "792\n",
      "794\n",
      "798\n",
      "799\n",
      "805\n",
      "812\n",
      "823\n",
      "826\n",
      "827\n",
      "833\n",
      "834\n",
      "837\n",
      "845\n",
      "850\n",
      "851\n",
      "853\n",
      "857\n",
      "858\n",
      "861\n",
      "862\n",
      "864\n",
      "866\n",
      "867\n",
      "870\n",
      "871\n",
      "873\n",
      "890\n",
      "894\n",
      "895\n",
      "901\n",
      "904\n",
      "905\n",
      "908\n",
      "911\n",
      "920\n",
      "928\n",
      "931\n",
      "932\n",
      "934\n",
      "936\n",
      "938\n",
      "945\n",
      "947\n",
      "948\n",
      "950\n",
      "951\n",
      "952\n",
      "953\n",
      "954\n",
      "955\n",
      "956\n",
      "962\n",
      "965\n",
      "966\n",
      "977\n",
      "981\n",
      "982\n",
      "983\n",
      "984\n",
      "985\n",
      "993\n",
      "995\n",
      "998\n",
      "999\n",
      "1000\n",
      "1005\n",
      "1008\n",
      "1012\n",
      "1014\n",
      "1020\n",
      "1027\n",
      "1035\n",
      "1036\n",
      "1043\n",
      "1047\n",
      "1048\n",
      "1058\n",
      "1060\n",
      "1066\n",
      "1067\n",
      "1068\n",
      "1069\n",
      "1072\n",
      "1079\n",
      "1083\n",
      "1084\n",
      "1086\n",
      "1091\n",
      "1093\n",
      "1094\n",
      "1096\n",
      "1097\n",
      "1101\n",
      "1106\n",
      "1111\n",
      "1113\n",
      "1114\n",
      "1115\n",
      "1118\n",
      "1124\n",
      "1125\n",
      "1126\n",
      "1132\n",
      "1133\n",
      "1136\n",
      "1137\n",
      "1138\n",
      "1141\n",
      "1143\n",
      "1145\n",
      "1146\n",
      "1147\n",
      "1150\n",
      "1161\n",
      "1165\n",
      "1173\n",
      "1175\n",
      "1176\n",
      "1185\n",
      "1186\n",
      "1188\n",
      "1190\n",
      "1193\n",
      "1194\n",
      "1195\n",
      "1196\n",
      "1197\n",
      "1199\n",
      "1200\n",
      "1201\n",
      "1205\n",
      "1207\n",
      "1211\n",
      "1212\n",
      "1216\n",
      "1219\n",
      "1220\n",
      "1223\n",
      "1225\n",
      "1226\n",
      "1227\n",
      "1228\n",
      "1230\n",
      "1232\n"
     ]
    }
   ],
   "source": [
    "count = 0\n",
    "for i in range(len(blocks)):\n",
    "    if all([(len([s for s in supports if s != i])) for _, supports in supported_by_dict.items()]):\n",
    "        print(i)\n",
    "        count += 1"
   ],
   "metadata": {
    "collapsed": false
   }
  },
  {
   "cell_type": "code",
   "execution_count": 450,
   "outputs": [],
   "source": [
    "supporting_dict = defaultdict(list)\n",
    "\n",
    "for block, supported_by in supported_by_dict.items():\n",
    "    for s in supported_by:\n",
    "        supporting_dict[s].append(block)"
   ],
   "metadata": {
    "collapsed": false
   }
  },
  {
   "cell_type": "code",
   "execution_count": 451,
   "outputs": [
    {
     "data": {
      "text/plain": "398"
     },
     "execution_count": 451,
     "metadata": {},
     "output_type": "execute_result"
    }
   ],
   "source": [
    "count = 0\n",
    "for i in range(len(blocks)):\n",
    "    if all([len(supported_by_dict[s]) > 1 for s in supporting_dict[i]]):\n",
    "        count += 1\n",
    "count"
   ],
   "metadata": {
    "collapsed": false
   }
  },
  {
   "cell_type": "code",
   "execution_count": 478,
   "outputs": [
    {
     "name": "stderr",
     "output_type": "stream",
     "text": [
      "IOPub data rate exceeded.\n",
      "The Jupyter server will temporarily stop sending output\n",
      "to the client in order to avoid crashing it.\n",
      "To change this limit, set the config variable\n",
      "`--ServerApp.iopub_data_rate_limit`.\n",
      "\n",
      "Current values:\n",
      "ServerApp.iopub_data_rate_limit=1000000.0 (bytes/sec)\n",
      "ServerApp.rate_limit_window=3.0 (secs)\n",
      "\n"
     ]
    },
    {
     "data": {
      "text/plain": "1166"
     },
     "execution_count": 478,
     "metadata": {},
     "output_type": "execute_result"
    }
   ],
   "source": [
    "chains = []\n",
    "for i in range(len(blocks)):\n",
    "# for i in [2]:\n",
    "    disintegrated = {i}\n",
    "    to_check = set(supporting_dict[i])\n",
    "    while to_check:\n",
    "        print(to_check)\n",
    "        new_to_check = set()\n",
    "        for candidate in to_check:\n",
    "            print(f\"Candidate: {candidate}, supports: {supporting_dict[candidate]}\")\n",
    "            if all(support in disintegrated for support in supported_by_dict[candidate]):\n",
    "                disintegrated.add(candidate)\n",
    "                new_to_check.update(supporting_dict[candidate])\n",
    "        to_check = new_to_check\n",
    "    print(disintegrated)\n",
    "    chains.append(len(disintegrated) - 1)\n",
    "max(chains)"
   ],
   "metadata": {
    "collapsed": false
   }
  },
  {
   "cell_type": "code",
   "execution_count": 479,
   "outputs": [
    {
     "data": {
      "text/plain": "70727"
     },
     "execution_count": 479,
     "metadata": {},
     "output_type": "execute_result"
    }
   ],
   "source": [
    "sum(chains)"
   ],
   "metadata": {
    "collapsed": false
   }
  },
  {
   "cell_type": "code",
   "execution_count": 476,
   "outputs": [
    {
     "data": {
      "text/plain": "[49]"
     },
     "execution_count": 476,
     "metadata": {},
     "output_type": "execute_result"
    }
   ],
   "source": [
    "supporting_dict[40]"
   ],
   "metadata": {
    "collapsed": false
   }
  },
  {
   "cell_type": "code",
   "execution_count": 459,
   "outputs": [
    {
     "data": {
      "text/plain": "[((6, 6, 1), (7, 6, 1)),\n ((0, 8, 1), (0, 8, 2)),\n ((4, 0, 1), (4, 2, 1)),\n ((2, 7, 1), (4, 7, 1)),\n ((1, 6, 1), (1, 8, 1)),\n ((0, 0, 1), (2, 0, 1)),\n ((5, 0, 1), (6, 0, 1)),\n ((5, 1, 1), (8, 1, 1)),\n ((2, 8, 1), (2, 8, 3)),\n ((5, 9, 1), (5, 9, 3))]"
     },
     "execution_count": 459,
     "metadata": {},
     "output_type": "execute_result"
    }
   ],
   "source": [
    "blocks[:10]"
   ],
   "metadata": {
    "collapsed": false
   }
  },
  {
   "cell_type": "code",
   "execution_count": null,
   "outputs": [],
   "source": [
    "# 70849\n",
    "# 1168 too low\n",
    "# 1166 too low\n",
    "# 1081 too low"
   ],
   "metadata": {
    "collapsed": false
   }
  }
 ],
 "metadata": {
  "kernelspec": {
   "name": "aoc",
   "language": "python",
   "display_name": "aoc"
  },
  "language_info": {
   "codemirror_mode": {
    "name": "ipython",
    "version": 2
   },
   "file_extension": ".py",
   "mimetype": "text/x-python",
   "name": "python",
   "nbconvert_exporter": "python",
   "pygments_lexer": "ipython2",
   "version": "2.7.6"
  }
 },
 "nbformat": 4,
 "nbformat_minor": 0
}
