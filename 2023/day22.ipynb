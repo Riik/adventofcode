{
 "cells": [
  {
   "cell_type": "code",
   "execution_count": 1,
   "outputs": [],
   "source": [
    "year = 2023\n",
    "day = 22"
   ],
   "metadata": {
    "collapsed": false
   }
  },
  {
   "cell_type": "code",
   "execution_count": 18,
   "outputs": [],
   "source": [
    "from aocd import submit\n",
    "from aocd.models import Puzzle\n",
    "from functools import reduce\n",
    "import numpy as np\n",
    "\n",
    "puzzle = Puzzle(year=year, day=day)\n",
    "data = puzzle.input_data\n",
    "# data = puzzle.examples[0].input_data\n",
    "\n",
    "data = data.strip()\n",
    "data = data.split(\"\\n\")\n",
    "# data = []\n",
    "data = [list(map(int, data.replace(\"~\", \",\").split(\",\"))) for data in data]\n",
    "# y, x, z\n",
    "blocks = [((d[1], d[0], d[2]), (d[4], d[3], d[5])) for d in data]"
   ],
   "metadata": {
    "collapsed": false
   }
  },
  {
   "cell_type": "code",
   "execution_count": 19,
   "outputs": [],
   "source": [
    "grid = np.zeros((11, 11, 400), int)\n",
    "for start, end in blocks:\n",
    "    grid[start[0]: end[0] + 1, start[1]: end[1] + 1, start[2]: end[2] + 1] = 1"
   ],
   "metadata": {
    "collapsed": false
   }
  },
  {
   "cell_type": "code",
   "execution_count": 20,
   "outputs": [
    {
     "data": {
      "text/plain": "<matplotlib.image.AxesImage at 0x114a2ff90>"
     },
     "execution_count": 20,
     "metadata": {},
     "output_type": "execute_result"
    },
    {
     "data": {
      "text/plain": "<Figure size 640x480 with 1 Axes>",
      "image/png": "[encoded data removed]"
     },
     "metadata": {},
     "output_type": "display_data"
    }
   ],
   "source": [
    "import matplotlib.pyplot as plt\n",
    "\n",
    "plt.imshow(np.sum(grid, axis=1))"
   ],
   "metadata": {
    "collapsed": false
   }
  },
  {
   "cell_type": "code",
   "execution_count": 21,
   "outputs": [],
   "source": [
    "get_dim = lambda block, i: (block[0][i], block[1][i])\n",
    "shift_down = lambda block: ((block[0][0], block[0][1], block[0][2] - 1), (block[1][0], block[1][1], block[1][2] - 1))\n",
    "get_bottom_z_slice = lambda block: (\n",
    "slice(block[0][0], block[1][0] + 1), slice(block[0][1], block[1][1] + 1), block[0][2])\n",
    "get_block_slice = lambda block: (\n",
    "slice(block[0][0], block[1][0] + 1), slice(block[0][1], block[1][1] + 1), slice(block[0][2], block[1][2] + 1))\n",
    "\n",
    "\n",
    "def does_overlap(a, b):\n",
    "    left = a if a[0] <= b[0] else b\n",
    "    right = b if a[0] <= b[0] else a\n",
    "    return left[1] >= right[0]\n",
    "\n",
    "\n",
    "assert not does_overlap((1, 5), (6, 8))\n",
    "assert not does_overlap((6, 8), (1, 5))\n",
    "assert does_overlap((1, 5), (3, 8))\n",
    "assert does_overlap((3, 8), (1, 5))\n",
    "assert does_overlap((0, 2), (1, 1))"
   ],
   "metadata": {
    "collapsed": false
   }
  },
  {
   "cell_type": "code",
   "execution_count": 23,
   "outputs": [
    {
     "name": "stdout",
     "output_type": "stream",
     "text": [
      "done\n"
     ]
    }
   ],
   "source": [
    "moving = True\n",
    "new_blocks = blocks.copy()\n",
    "for _ in range(1_000):\n",
    "    moving = False\n",
    "    blocks = sorted(new_blocks.copy(), key=lambda loc: loc[0][2])\n",
    "    new_blocks = []\n",
    "    for block in blocks:\n",
    "        block_shifted_down = shift_down(block)\n",
    "        # check if layer below block is empty\n",
    "        if grid[*get_bottom_z_slice(block_shifted_down)].sum() == 0 and block[0][2] > 1:\n",
    "            # print(f\"moving {start} {end}\")\n",
    "            grid[*get_block_slice(block)] = 0\n",
    "            grid[*get_block_slice(block_shifted_down)] = 1\n",
    "            moving = True\n",
    "            new_blocks.append(block_shifted_down)\n",
    "        else:\n",
    "            new_blocks.append(block)\n",
    "    if not moving:\n",
    "        print(\"done\")\n",
    "        break\n"
   ],
   "metadata": {
    "collapsed": false
   }
  },
  {
   "cell_type": "code",
   "execution_count": 24,
   "outputs": [
    {
     "data": {
      "text/plain": "defaultdict(list,\n            {0: [-1],\n             1: [-1],\n             2: [-1],\n             3: [-1],\n             4: [-1],\n             5: [-1],\n             6: [-1],\n             7: [-1],\n             8: [-1],\n             9: [-1],\n             10: [-1],\n             11: [-1],\n             12: [-1],\n             13: [-1],\n             14: [-1],\n             15: [-1],\n             16: [-1],\n             17: [-1],\n             18: [-1],\n             19: [-1],\n             20: [11],\n             21: [2],\n             22: [11],\n             23: [0],\n             24: [12],\n             25: [3, 13],\n             26: [14],\n             27: [11],\n             28: [19],\n             29: [15],\n             30: [1],\n             31: [21],\n             32: [22],\n             33: [22],\n             34: [24],\n             35: [26],\n             36: [25],\n             37: [16],\n             38: [8],\n             39: [31],\n             40: [31],\n             41: [9, 32],\n             42: [35],\n             43: [34],\n             44: [35],\n             45: [36],\n             46: [37],\n             47: [38],\n             48: [39],\n             49: [40],\n             50: [39],\n             51: [43],\n             52: [42],\n             53: [44],\n             54: [44],\n             55: [45],\n             56: [46],\n             57: [47],\n             58: [46],\n             59: [47],\n             60: [48],\n             61: [50],\n             62: [48],\n             63: [54],\n             64: [52],\n             65: [53],\n             66: [53, 54],\n             67: [52],\n             68: [53],\n             69: [57],\n             70: [61],\n             71: [63],\n             72: [60],\n             73: [65],\n             74: [67],\n             75: [67],\n             76: [66, 68],\n             77: [68],\n             78: [69],\n             79: [69],\n             80: [73],\n             81: [71],\n             82: [76],\n             83: [69, 71],\n             84: [76],\n             85: [74],\n             86: [75],\n             87: [77],\n             88: [74, 77],\n             89: [77],\n             90: [78],\n             91: [78],\n             92: [80],\n             93: [84],\n             94: [81, 84],\n             95: [85],\n             96: [85],\n             97: [87],\n             98: [88],\n             99: [89],\n             100: [87],\n             101: [87],\n             102: [90],\n             103: [56, 91],\n             104: [92],\n             105: [95],\n             106: [100],\n             107: [94],\n             108: [97],\n             109: [101],\n             110: [98],\n             111: [79],\n             112: [104],\n             113: [105],\n             114: [104],\n             115: [104, 107],\n             116: [113],\n             117: [114],\n             118: [113],\n             119: [113],\n             120: [115],\n             121: [99],\n             122: [117],\n             123: [119],\n             124: [116],\n             125: [119],\n             126: [119],\n             127: [120],\n             128: [121],\n             129: [122],\n             130: [123],\n             131: [126],\n             132: [128],\n             133: [128],\n             134: [129],\n             135: [129],\n             136: [131],\n             137: [131],\n             138: [130],\n             139: [132],\n             140: [132],\n             141: [133],\n             142: [134],\n             143: [137],\n             144: [139],\n             145: [141],\n             146: [141],\n             147: [140],\n             148: [142],\n             149: [141],\n             150: [142],\n             151: [145],\n             152: [146],\n             153: [144],\n             154: [147],\n             155: [147],\n             156: [152],\n             157: [152],\n             158: [153, 154],\n             159: [152],\n             160: [151],\n             161: [154],\n             162: [156],\n             163: [160],\n             164: [160],\n             165: [161],\n             166: [160],\n             167: [161],\n             168: [155],\n             169: [162],\n             170: [162],\n             171: [157],\n             172: [165],\n             173: [163],\n             174: [163, 164],\n             175: [168],\n             176: [170],\n             177: [171],\n             178: [169, 170],\n             179: [169],\n             180: [171],\n             181: [172],\n             182: [175],\n             183: [175],\n             184: [176],\n             185: [177],\n             186: [178],\n             187: [166],\n             188: [180],\n             189: [177],\n             190: [179],\n             191: [181],\n             192: [182],\n             193: [183],\n             194: [183],\n             195: [186, 187],\n             196: [188],\n             197: [184],\n             198: [185, 189],\n             199: [188],\n             200: [188],\n             201: [189],\n             202: [190],\n             203: [192],\n             204: [193],\n             205: [192],\n             206: [194],\n             207: [195],\n             208: [198],\n             209: [199],\n             210: [201],\n             211: [200],\n             212: [200],\n             213: [202],\n             214: [205],\n             215: [206],\n             216: [208],\n             217: [209],\n             218: [208],\n             219: [207],\n             220: [210],\n             221: [210],\n             222: [212],\n             223: [210],\n             224: [215],\n             225: [216],\n             226: [218],\n             227: [218, 220],\n             228: [218, 222],\n             229: [219],\n             230: [221],\n             231: [221, 223],\n             232: [221, 223],\n             233: [225],\n             234: [196],\n             235: [226],\n             236: [229],\n             237: [230],\n             238: [229],\n             239: [227],\n             240: [228],\n             241: [231],\n             242: [233],\n             243: [234],\n             244: [238],\n             245: [238],\n             246: [237],\n             247: [240],\n             248: [241],\n             249: [242],\n             250: [243],\n             251: [245],\n             252: [243, 247],\n             253: [247],\n             254: [249],\n             255: [249],\n             256: [249],\n             257: [250],\n             258: [251],\n             259: [250, 252],\n             260: [255],\n             261: [256],\n             262: [258],\n             263: [260],\n             264: [260],\n             265: [261],\n             266: [261],\n             267: [261],\n             268: [254],\n             269: [263],\n             270: [265],\n             271: [265],\n             272: [267],\n             273: [266],\n             274: [267],\n             275: [269],\n             276: [268],\n             277: [269],\n             278: [270],\n             279: [271],\n             280: [271],\n             281: [274],\n             282: [276],\n             283: [275],\n             284: [276],\n             285: [277],\n             286: [273],\n             287: [278],\n             288: [280],\n             289: [279],\n             290: [283],\n             291: [282],\n             292: [284],\n             293: [283],\n             294: [287],\n             295: [290],\n             296: [291],\n             297: [292],\n             298: [292],\n             299: [290],\n             300: [291],\n             301: [294],\n             302: [281],\n             303: [295],\n             304: [297],\n             305: [300],\n             306: [298],\n             307: [299],\n             308: [300],\n             309: [302],\n             310: [304],\n             311: [305],\n             312: [306],\n             313: [307],\n             314: [307],\n             315: [306],\n             316: [305],\n             317: [307],\n             318: [308],\n             319: [309],\n             320: [312],\n             321: [316],\n             322: [315],\n             323: [316],\n             324: [315],\n             325: [316],\n             326: [312],\n             327: [312],\n             328: [319],\n             329: [322],\n             330: [322],\n             331: [325],\n             332: [324],\n             333: [324],\n             334: [326],\n             335: [326],\n             336: [328],\n             337: [330],\n             338: [314],\n             339: [331],\n             340: [332],\n             341: [334],\n             342: [333],\n             343: [334],\n             344: [336],\n             345: [336],\n             346: [338],\n             347: [339],\n             348: [339],\n             349: [340],\n             350: [341],\n             351: [342],\n             352: [343],\n             353: [344],\n             354: [329],\n             355: [346],\n             356: [346],\n             357: [350],\n             358: [349],\n             359: [352],\n             360: [351],\n             361: [352],\n             362: [351],\n             363: [351],\n             364: [353],\n             365: [354],\n             366: [354],\n             367: [358],\n             368: [358],\n             369: [357],\n             370: [361],\n             371: [360],\n             372: [359],\n             373: [362],\n             374: [364],\n             375: [365],\n             376: [366],\n             377: [365],\n             378: [366],\n             379: [368],\n             380: [369],\n             381: [367],\n             382: [366],\n             383: [369],\n             384: [375, 376],\n             385: [375],\n             386: [378],\n             387: [378],\n             388: [377],\n             389: [378],\n             390: [377],\n             391: [378],\n             392: [381],\n             393: [381],\n             394: [381],\n             395: [382],\n             396: [384],\n             397: [387],\n             398: [388],\n             399: [390],\n             400: [389],\n             401: [392],\n             402: [394],\n             403: [393],\n             404: [395],\n             405: [396],\n             406: [396],\n             407: [397, 400],\n             408: [399],\n             409: [380],\n             410: [403],\n             411: [402],\n             412: [403],\n             413: [406],\n             414: [407],\n             415: [407],\n             416: [407],\n             417: [411],\n             418: [411],\n             419: [413],\n             420: [413],\n             421: [413],\n             422: [414],\n             423: [415],\n             424: [417],\n             425: [417],\n             426: [418],\n             427: [419],\n             428: [391, 419, 421],\n             429: [420],\n             430: [421],\n             431: [423],\n             432: [424],\n             433: [425],\n             434: [424, 425],\n             435: [429],\n             436: [431],\n             437: [428, 430],\n             438: [433],\n             439: [432],\n             440: [433],\n             441: [432],\n             442: [434],\n             443: [434],\n             444: [435],\n             445: [437],\n             446: [436],\n             447: [438],\n             448: [442],\n             449: [438, 442],\n             450: [441],\n             451: [439],\n             452: [427],\n             453: [444],\n             454: [445],\n             455: [448],\n             456: [451],\n             457: [450],\n             458: [451],\n             459: [451],\n             460: [453],\n             461: [452],\n             462: [455],\n             463: [457],\n             464: [457],\n             465: [455],\n             466: [458],\n             467: [456],\n             468: [459],\n             469: [459],\n             470: [460],\n             471: [460],\n             472: [462],\n             473: [462],\n             474: [463],\n             475: [465],\n             476: [465],\n             477: [467],\n             478: [465],\n             479: [469],\n             480: [468],\n             481: [470],\n             482: [471],\n             483: [472],\n             484: [475, 476],\n             485: [474],\n             486: [475, 476],\n             487: [475, 478],\n             488: [479],\n             489: [480],\n             490: [480],\n             491: [480],\n             492: [481],\n             493: [483],\n             494: [484],\n             495: [486],\n             496: [488],\n             497: [489, 490],\n             498: [491],\n             499: [492],\n             500: [494],\n             501: [496],\n             502: [498],\n             503: [499],\n             504: [499],\n             505: [499],\n             506: [501],\n             507: [501],\n             508: [502],\n             509: [504, 505],\n             510: [505],\n             511: [507],\n             512: [508],\n             513: [506],\n             514: [508],\n             515: [507],\n             516: [508],\n             517: [509],\n             518: [511],\n             519: [511],\n             520: [512],\n             521: [513],\n             522: [514],\n             523: [517],\n             524: [517],\n             525: [519],\n             526: [519],\n             527: [520],\n             528: [521],\n             529: [519],\n             530: [521],\n             531: [518, 521],\n             532: [522],\n             533: [520],\n             534: [524],\n             535: [525],\n             536: [528],\n             537: [530],\n             538: [529],\n             539: [528],\n             540: [529],\n             541: [525, 529],\n             542: [531],\n             543: [531],\n             544: [536],\n             545: [537],\n             546: [535],\n             547: [539],\n             548: [538],\n             549: [538],\n             550: [541],\n             551: [540],\n             552: [543],\n             553: [548],\n             554: [549],\n             555: [546],\n             556: [551],\n             557: [553],\n             558: [554],\n             559: [554],\n             560: [555],\n             561: [555],\n             562: [556],\n             563: [556],\n             564: [544],\n             565: [559],\n             566: [550],\n             567: [558],\n             568: [560],\n             569: [559],\n             570: [552],\n             571: [563],\n             572: [567],\n             573: [566],\n             574: [566],\n             575: [561, 568],\n             576: [571],\n             577: [570],\n             578: [572],\n             579: [574],\n             580: [573, 574],\n             581: [575],\n             582: [576],\n             583: [577],\n             584: [578],\n             585: [579],\n             586: [580],\n             587: [583],\n             588: [585],\n             589: [586],\n             590: [587],\n             591: [588],\n             592: [589],\n             593: [589],\n             594: [591],\n             595: [592],\n             596: [595],\n             597: [595],\n             598: [596],\n             599: [596],\n             600: [598],\n             601: [599],\n             602: [601],\n             603: [601],\n             604: [603],\n             605: [602],\n             606: [603],\n             607: [603],\n             608: [602],\n             609: [604],\n             610: [606],\n             611: [606],\n             612: [604, 608],\n             613: [608],\n             614: [604, 607],\n             615: [605, 608],\n             616: [605],\n             617: [608],\n             618: [612, 615],\n             619: [612],\n             620: [609],\n             621: [611],\n             622: [614],\n             623: [616],\n             624: [616],\n             625: [611],\n             626: [621],\n             627: [619],\n             628: [623],\n             629: [620],\n             630: [625],\n             631: [625],\n             632: [626],\n             633: [627],\n             634: [628],\n             635: [628],\n             636: [631],\n             637: [631],\n             638: [622],\n             639: [634],\n             640: [633],\n             641: [633],\n             642: [637],\n             643: [637],\n             644: [638],\n             645: [640],\n             646: [643],\n             647: [643],\n             648: [643],\n             649: [644],\n             650: [632],\n             651: [644],\n             652: [646],\n             653: [648],\n             654: [646, 647],\n             655: [650],\n             656: [649],\n             657: [651],\n             658: [652],\n             659: [650, 653],\n             660: [657],\n             661: [657],\n             662: [655],\n             663: [655],\n             664: [657],\n             665: [656],\n             666: [657],\n             667: [658],\n             668: [659],\n             669: [660],\n             670: [662],\n             671: [663],\n             672: [661],\n             673: [664],\n             674: [661, 665],\n             675: [666],\n             676: [667],\n             677: [667],\n             678: [668],\n             679: [667],\n             680: [667],\n             681: [670],\n             682: [672],\n             683: [670],\n             684: [670, 671],\n             685: [674],\n             686: [673],\n             687: [675],\n             688: [678],\n             689: [679],\n             690: [676],\n             691: [680],\n             692: [679],\n             693: [678],\n             694: [676],\n             695: [677],\n             696: [685],\n             697: [683],\n             698: [684],\n             699: [691],\n             700: [693],\n             701: [688],\n             702: [683, 693],\n             703: [690],\n             704: [692],\n             705: [689, 691],\n             706: [690],\n             707: [694],\n             708: [696],\n             709: [698],\n             710: [697],\n             711: [698],\n             712: [701],\n             713: [706],\n             714: [702],\n             715: [706],\n             716: [705],\n             717: [706],\n             718: [707],\n             719: [712],\n             720: [712],\n             721: [712],\n             722: [713],\n             723: [712],\n             724: [715],\n             725: [711, 714],\n             726: [716],\n             727: [718],\n             728: [717],\n             729: [719],\n             730: [720],\n             731: [721],\n             732: [722],\n             733: [723],\n             734: [726],\n             735: [699, 704, 725],\n             736: [728],\n             737: [729],\n             738: [729],\n             739: [731],\n             740: [733],\n             741: [733],\n             742: [731],\n             743: [733],\n             744: [735],\n             745: [736],\n             746: [736],\n             747: [736],\n             748: [740],\n             749: [741],\n             750: [738],\n             751: [742],\n             752: [738],\n             753: [743],\n             754: [737, 742],\n             755: [745],\n             756: [746],\n             757: [747],\n             758: [747],\n             759: [748],\n             760: [752],\n             761: [748, 749],\n             762: [748],\n             763: [753],\n             764: [754],\n             765: [753],\n             766: [755, 756],\n             767: [755],\n             768: [724],\n             769: [758],\n             770: [750],\n             771: [761],\n             772: [760],\n             773: [763],\n             774: [766],\n             775: [767],\n             776: [768],\n             777: [767, 768],\n             778: [771],\n             779: [771],\n             780: [770],\n             781: [772],\n             782: [773],\n             783: [773],\n             784: [774],\n             785: [775],\n             786: [751],\n             787: [778, 781],\n             788: [778],\n             789: [778],\n             790: [781],\n             791: [779],\n             792: [780],\n             793: [784],\n             794: [785],\n             795: [782],\n             796: [786],\n             797: [786],\n             798: [789],\n             799: [789],\n             800: [790],\n             801: [788],\n             802: [791],\n             803: [793],\n             804: [795],\n             805: [795],\n             806: [793],\n             807: [791],\n             808: [796],\n             809: [800],\n             810: [802],\n             811: [801],\n             812: [803],\n             813: [803],\n             814: [806],\n             815: [803],\n             816: [804],\n             817: [807],\n             818: [808],\n             819: [797],\n             820: [809],\n             821: [810],\n             822: [811],\n             823: [811],\n             824: [809],\n             825: [814],\n             826: [815],\n             827: [815],\n             828: [813],\n             829: [816],\n             830: [817],\n             831: [818],\n             832: [819],\n             833: [821],\n             834: [822],\n             835: [824],\n             836: [825],\n             837: [826, 827],\n             838: [828],\n             839: [830],\n             840: [828],\n             841: [829],\n             842: [830],\n             843: [831],\n             844: [832],\n             845: [831],\n             846: [836],\n             847: [839],\n             848: [840],\n             849: [838],\n             850: [840],\n             851: [841],\n             852: [842],\n             853: [833, 842],\n             854: [843],\n             855: [844],\n             856: [844],\n             857: [846],\n             858: [848],\n             859: [849],\n             860: [847],\n             861: [852],\n             862: [820],\n             863: [854],\n             864: [854],\n             865: [856],\n             866: [854],\n             867: [859],\n             868: [859],\n             869: [860],\n             870: [860],\n             871: [863],\n             872: [865],\n             873: [835],\n             874: [869],\n             875: [868],\n             876: [855],\n             877: [872],\n             878: [874],\n             879: [875],\n             880: [877],\n             881: [876],\n             882: [878],\n             883: [879],\n             884: [879],\n             885: [881],\n             886: [881],\n             887: [882],\n             888: [883],\n             889: [883],\n             890: [880],\n             891: [886],\n             892: [885],\n             893: [885],\n             894: [886],\n             895: [887],\n             896: [888],\n             897: [889],\n             898: [892],\n             899: [893],\n             900: [891],\n             901: [892],\n             902: [893],\n             903: [896],\n             904: [897],\n             905: [899],\n             906: [900],\n             907: [900],\n             908: [900],\n             909: [902],\n             910: [884],\n             911: [903],\n             912: [906],\n             913: [906],\n             914: [907],\n             915: [909],\n             916: [905, 909],\n             917: [910],\n             918: [910],\n             919: [914],\n             920: [912],\n             921: [916],\n             922: [915],\n             923: [916],\n             924: [916],\n             925: [915],\n             926: [916],\n             927: [917],\n             928: [917],\n             929: [918],\n             930: [898],\n             931: [922],\n             932: [921],\n             933: [925],\n             934: [924],\n             935: [923],\n             936: [926],\n             937: [927],\n             938: [929],\n             939: [929],\n             940: [929],\n             941: [919],\n             942: [935],\n             943: [933],\n             944: [933],\n             945: [932, 934],\n             946: [930],\n             947: [937],\n             948: [939],\n             949: [939],\n             950: [940],\n             951: [913],\n             952: [941],\n             953: [942],\n             954: [943],\n             955: [942],\n             956: [944],\n             957: [946],\n             958: [948, 949],\n             959: [946, 948],\n             960: [949],\n             961: [936, 955],\n             962: [957],\n             963: [959],\n             964: [959],\n             965: [958],\n             966: [960],\n             967: [961],\n             968: [961],\n             969: [963],\n             970: [963],\n             971: [964],\n             972: [962, 965],\n             973: [962, 965],\n             974: [968],\n             975: [967],\n             976: [968],\n             977: [970],\n             978: [971],\n             979: [969],\n             980: [969],\n             981: [971],\n             982: [972],\n             983: [973],\n             984: [972],\n             985: [974],\n             986: [975],\n             987: [976],\n             988: [979],\n             989: [978],\n             990: [978, 981],\n             991: [980],\n             992: [979, 980],\n             993: [986],\n             994: [988],\n             995: [987],\n             996: [987],\n             997: [988],\n             998: [989],\n             999: [990],\n             ...})"
     },
     "execution_count": 24,
     "metadata": {},
     "output_type": "execute_result"
    }
   ],
   "source": [
    "from collections import defaultdict\n",
    "\n",
    "supported_by_dict = defaultdict(list)\n",
    "\n",
    "blocks = sorted(blocks, key=lambda loc: loc[0][2])\n",
    "for i in range(len(blocks)):\n",
    "    block = blocks[i]\n",
    "    if block[0][2] == 1:\n",
    "        supported_by_dict[i].append(-1)\n",
    "        continue\n",
    "    for j in range(i):\n",
    "        block_below = blocks[j]\n",
    "\n",
    "        block_x = get_dim(block, 0)\n",
    "        block_y = get_dim(block, 1)\n",
    "        block_z = get_dim(block, 2)\n",
    "        block_below_x = get_dim(block_below, 0)\n",
    "        block_below_y = get_dim(block_below, 1)\n",
    "        block_below_z = get_dim(block_below, 2)\n",
    "\n",
    "        x_y_overlap = does_overlap(block_x, block_below_x) and does_overlap(block_y, block_below_y)\n",
    "\n",
    "        if x_y_overlap and block_z[0] == block_below_z[1]:\n",
    "            raise ValueError\n",
    "\n",
    "        if x_y_overlap and (block_z[0] - 1 == block_below_z[1]):\n",
    "            supported_by_dict[i].append(j)\n",
    "\n",
    "supported_by_dict"
   ],
   "metadata": {
    "collapsed": false
   }
  },
  {
   "cell_type": "code",
   "execution_count": 26,
   "outputs": [
    {
     "name": "stdout",
     "output_type": "stream",
     "text": [
      "Part a already solved with same answer: 398\n"
     ]
    }
   ],
   "source": [],
   "metadata": {
    "collapsed": false
   }
  },
  {
   "cell_type": "code",
   "execution_count": 29,
   "outputs": [],
   "source": [
    "supporting_dict = defaultdict(list)\n",
    "\n",
    "for block, supported_by in supported_by_dict.items():\n",
    "    for s in supported_by:\n",
    "        supporting_dict[s].append(block)"
   ],
   "metadata": {
    "collapsed": false
   }
  },
  {
   "cell_type": "code",
   "execution_count": 30,
   "outputs": [
    {
     "data": {
      "text/plain": "398"
     },
     "execution_count": 30,
     "metadata": {},
     "output_type": "execute_result"
    }
   ],
   "source": [
    "count = 0\n",
    "for i in range(len(blocks)):\n",
    "    if all([len(supported_by_dict[s]) > 1 for s in supporting_dict[i]]):\n",
    "        count += 1\n",
    "count"
   ],
   "metadata": {
    "collapsed": false
   }
  },
  {
   "cell_type": "code",
   "execution_count": 31,
   "outputs": [
    {
     "name": "stdout",
     "output_type": "stream",
     "text": [
      "Part a already solved with same answer: 398\n"
     ]
    }
   ],
   "source": [
    "submit(count, part=\"a\", year=year, day=day)"
   ],
   "metadata": {
    "collapsed": false
   }
  },
  {
   "cell_type": "code",
   "execution_count": 41,
   "outputs": [],
   "source": [
    "chains = []\n",
    "for i in range(len(blocks)):\n",
    "# for i in [2]:\n",
    "    disintegrated = {i}\n",
    "    to_check = set(supporting_dict[i])\n",
    "    while to_check:\n",
    "        new_to_check = set()\n",
    "        for candidate in to_check:\n",
    "            if all(support in disintegrated for support in supported_by_dict[candidate]):\n",
    "                disintegrated.add(candidate)\n",
    "                new_to_check.update(supporting_dict[candidate])\n",
    "        to_check = new_to_check\n",
    "    chains.append(len(disintegrated) - 1)\n",
    "answer = sum(chains)"
   ],
   "metadata": {
    "collapsed": false
   }
  },
  {
   "cell_type": "code",
   "execution_count": 42,
   "outputs": [
    {
     "name": "stdout",
     "output_type": "stream",
     "text": [
      "Part b already solved with same answer: 70727\n"
     ]
    }
   ],
   "source": [
    "submit(answer, part=\"b\", year=year, day=day)"
   ],
   "metadata": {
    "collapsed": false
   }
  }
 ],
 "metadata": {
  "kernelspec": {
   "name": "aoc",
   "language": "python",
   "display_name": "aoc"
  },
  "language_info": {
   "codemirror_mode": {
    "name": "ipython",
    "version": 2
   },
   "file_extension": ".py",
   "mimetype": "text/x-python",
   "name": "python",
   "nbconvert_exporter": "python",
   "pygments_lexer": "ipython2",
   "version": "2.7.6"
  }
 },
 "nbformat": 4,
 "nbformat_minor": 0
}
