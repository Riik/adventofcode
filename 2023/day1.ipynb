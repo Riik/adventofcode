{
 "cells": [
  {
   "cell_type": "code",
   "execution_count": 10,
   "outputs": [],
   "source": [
    "year = 2023; day = 1"
   ],
   "metadata": {
    "collapsed": false
   }
  },
  {
   "cell_type": "code",
   "execution_count": 11,
   "outputs": [
    {
     "data": {
      "text/plain": "['qzjggk1one',\n 'two2seven7',\n 'vszthreetwo6threethree4two3',\n 'zcsvvlslqvfive11chhzmdjdgz8vbgldl',\n 'jjsmsksvbr77cfdrdseven1zd']"
     },
     "execution_count": 11,
     "metadata": {},
     "output_type": "execute_result"
    }
   ],
   "source": [
    "from aocd import get_data, submit\n",
    "data = get_data(year=year, day=day)\n",
    "data = data.strip()\n",
    "data = data.split(\"\\n\")\n",
    "\n",
    "data[:5]"
   ],
   "metadata": {
    "collapsed": false
   }
  },
  {
   "cell_type": "code",
   "execution_count": 17,
   "outputs": [],
   "source": [
    "digits = [\"1\", \"2\", \"3\", \"4\", \"5\", \"6\", \"7\", \"8\", \"9\"]\n",
    "\n",
    "def parse_line(line):\n",
    "    value = []\n",
    "    i = 0\n",
    "    for i in range(len(line)):\n",
    "        if line[i] in digits:\n",
    "            value.append(line[i])\n",
    "            continue\n",
    "    if len(value) >= 2:\n",
    "        return int(\"\".join([value[0], value[-1]]))\n",
    "    if len(value) == 1:\n",
    "        return int(str(value[0])+str(value[0]))\n",
    "    raise ValueError"
   ],
   "metadata": {
    "collapsed": false
   }
  },
  {
   "cell_type": "code",
   "execution_count": 18,
   "outputs": [
    {
     "data": {
      "text/plain": "55172"
     },
     "execution_count": 18,
     "metadata": {},
     "output_type": "execute_result"
    }
   ],
   "source": [
    "all_values = [parse_line(line) for line in data]\n",
    "answer = sum(all_values)\n",
    "answer"
   ],
   "metadata": {
    "collapsed": false
   }
  },
  {
   "cell_type": "code",
   "execution_count": null,
   "outputs": [],
   "source": [
    "submit(answer, part=\"a\", year=year, day=day)"
   ],
   "metadata": {
    "collapsed": false
   }
  },
  {
   "cell_type": "code",
   "execution_count": 14,
   "outputs": [],
   "source": [
    "digits = [\"1\", \"2\", \"3\", \"4\", \"5\", \"6\", \"7\", \"8\", \"9\"]\n",
    "\n",
    "numbers = {\n",
    "    \"one\": \"1\", \"two\": \"2\", \"three\": \"3\", \"four\": \"4\", \"five\": \"5\",\n",
    "    \"six\": \"6\", \"seven\": \"7\", \"eight\": \"8\", \"nine\": \"9\"\n",
    "}\n",
    "\n",
    "def parse_line(line):\n",
    "    value = []\n",
    "    i = 0\n",
    "    for i in range(len(line)):\n",
    "        if line[i] in digits:\n",
    "            value.append(line[i])\n",
    "            continue\n",
    "        for key, number in numbers.items():\n",
    "            if (i+len(key)) > len(line):\n",
    "                continue\n",
    "            if line[i:i+len(key)] == key:\n",
    "                value.append(number)\n",
    "                break\n",
    "    if len(value) >= 2:\n",
    "        return int(\"\".join([value[0], value[-1]]))\n",
    "    if len(value) == 1:\n",
    "        return int(str(value[0])+str(value[0]))\n",
    "    raise ValueError"
   ],
   "metadata": {
    "collapsed": false
   }
  },
  {
   "cell_type": "code",
   "execution_count": 15,
   "outputs": [
    {
     "data": {
      "text/plain": "54925"
     },
     "execution_count": 15,
     "metadata": {},
     "output_type": "execute_result"
    }
   ],
   "source": [
    "all_values = [parse_line(line) for line in data]\n",
    "answer = sum(all_values)\n",
    "answer"
   ],
   "metadata": {
    "collapsed": false
   }
  },
  {
   "cell_type": "code",
   "execution_count": 16,
   "outputs": [
    {
     "name": "stdout",
     "output_type": "stream",
     "text": [
      "Part b already solved with same answer: 54925\n"
     ]
    }
   ],
   "source": [
    "submit(answer, part=\"b\", year=year, day=day)"
   ],
   "metadata": {
    "collapsed": false
   }
  }
 ],
 "metadata": {
  "kernelspec": {
   "name": "aoc",
   "language": "python",
   "display_name": "aoc"
  },
  "language_info": {
   "codemirror_mode": {
    "name": "ipython",
    "version": 2
   },
   "file_extension": ".py",
   "mimetype": "text/x-python",
   "name": "python",
   "nbconvert_exporter": "python",
   "pygments_lexer": "ipython2",
   "version": "2.7.6"
  }
 },
 "nbformat": 4,
 "nbformat_minor": 0
}
