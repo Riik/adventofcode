{
 "cells": [
  {
   "cell_type": "code",
   "execution_count": 1,
   "outputs": [],
   "source": [
    "year = 2023\n",
    "day = 21"
   ],
   "metadata": {
    "collapsed": false,
    "ExecuteTime": {
     "end_time": "2024-01-15T21:14:33.393389Z",
     "start_time": "2024-01-15T21:14:33.383078Z"
    }
   }
  },
  {
   "cell_type": "code",
   "execution_count": 2,
   "outputs": [
    {
     "name": "stderr",
     "output_type": "stream",
     "text": [
      "current_day is only available in December (EST)\n"
     ]
    }
   ],
   "source": [
    "from aocd import submit\n",
    "from aocd.models import Puzzle\n",
    "from functools import reduce\n",
    "import numpy as np\n",
    "\n",
    "puzzle = Puzzle(year=year, day=day)\n",
    "\n",
    "\n",
    "# Z and n_steps_explore are empiracally found for true data and example data\n",
    "# real input\n",
    "data = puzzle.input_data\n",
    "Z = 1\n",
    "n_steps_explore = 400\n",
    "\n",
    "# # example input\n",
    "# data = puzzle.examples[0].input_data\n",
    "# Z = 5\n",
    "# n_steps_explore = 200\n",
    "\n",
    "data = data.strip()\n",
    "data = data.split(\"\\n\")\n",
    "data = [list(d) for d in data]\n",
    "data = np.array(data)\n",
    "start = (np.where(data == \"S\")[0][0], np.where(data == \"S\")[1][0])\n",
    "data[np.where(data == \"S\")] = \".\""
   ],
   "metadata": {
    "collapsed": false,
    "ExecuteTime": {
     "end_time": "2024-01-15T21:14:33.718106Z",
     "start_time": "2024-01-15T21:14:33.388102Z"
    }
   }
  },
  {
   "cell_type": "code",
   "execution_count": 3,
   "outputs": [],
   "source": [
    "import numpy as np\n",
    "\n",
    "np.set_printoptions(edgeitems=30, linewidth=100000,\n",
    "                    formatter=dict(float=lambda x: \"%s\" % x))"
   ],
   "metadata": {
    "collapsed": false,
    "ExecuteTime": {
     "end_time": "2024-01-15T21:14:33.723667Z",
     "start_time": "2024-01-15T21:14:33.716052Z"
    }
   }
  },
  {
   "cell_type": "code",
   "execution_count": 4,
   "outputs": [
    {
     "name": "stdout",
     "output_type": "stream",
     "text": [
      "1 4\n",
      "2 9\n",
      "3 15\n",
      "4 23\n",
      "5 33\n",
      "6 47\n",
      "7 57\n",
      "8 77\n",
      "9 86\n",
      "10 114\n",
      "11 127\n",
      "12 161\n",
      "13 177\n",
      "14 215\n",
      "15 233\n",
      "16 269\n",
      "17 293\n",
      "18 332\n",
      "19 362\n",
      "20 403\n",
      "21 437\n",
      "22 482\n",
      "23 522\n",
      "24 570\n",
      "25 613\n",
      "26 665\n",
      "27 708\n",
      "28 759\n",
      "29 810\n",
      "30 866\n",
      "31 926\n",
      "32 984\n",
      "33 1048\n",
      "34 1111\n",
      "35 1176\n",
      "36 1241\n",
      "37 1309\n",
      "38 1372\n",
      "39 1442\n",
      "40 1521\n",
      "41 1591\n",
      "42 1675\n",
      "43 1748\n",
      "44 1836\n",
      "45 1904\n",
      "46 1992\n",
      "47 2067\n",
      "48 2166\n",
      "49 2239\n",
      "50 2340\n",
      "51 2414\n",
      "52 2527\n",
      "53 2601\n",
      "54 2720\n",
      "55 2799\n",
      "56 2920\n",
      "57 2999\n",
      "58 3139\n",
      "59 3205\n",
      "60 3348\n",
      "61 3423\n",
      "62 3596\n",
      "63 3681\n",
      "64 3858\n",
      "65 3943\n",
      "66 4122\n",
      "67 4211\n",
      "68 4394\n",
      "69 4461\n",
      "70 4638\n",
      "71 4723\n",
      "72 4896\n",
      "73 4988\n",
      "74 5174\n",
      "75 5270\n",
      "76 5444\n",
      "77 5552\n",
      "78 5723\n",
      "79 5837\n",
      "80 6019\n",
      "81 6134\n",
      "82 6316\n",
      "83 6430\n",
      "84 6624\n",
      "85 6740\n",
      "86 6926\n",
      "87 7053\n",
      "88 7251\n",
      "89 7382\n",
      "90 7574\n",
      "91 7715\n",
      "92 7905\n",
      "93 8049\n",
      "94 8242\n",
      "95 8383\n",
      "96 8590\n",
      "97 8733\n",
      "98 8934\n",
      "99 9080\n",
      "100 9288\n",
      "101 9442\n",
      "102 9649\n",
      "103 9811\n",
      "104 10018\n",
      "105 10199\n",
      "106 10405\n",
      "107 10587\n",
      "108 10798\n",
      "109 10973\n",
      "110 11188\n",
      "111 11365\n",
      "112 11599\n",
      "113 11778\n",
      "114 11995\n",
      "115 12182\n",
      "116 12413\n",
      "117 12606\n",
      "118 12830\n",
      "119 13030\n",
      "120 13269\n",
      "121 13481\n",
      "122 13704\n",
      "123 13927\n",
      "124 14157\n",
      "125 14380\n",
      "126 14628\n",
      "127 14849\n",
      "128 15082\n",
      "129 15304\n",
      "130 15537\n",
      "131 15779\n",
      "132 16013\n",
      "133 16254\n",
      "134 16480\n",
      "135 16746\n",
      "136 16988\n",
      "137 17255\n",
      "138 17499\n",
      "139 17761\n",
      "140 17989\n",
      "141 18278\n",
      "142 18509\n",
      "143 18801\n",
      "144 19025\n",
      "145 19329\n",
      "146 19554\n",
      "147 19847\n",
      "148 20073\n",
      "149 20385\n",
      "150 20613\n",
      "151 20916\n",
      "152 21155\n",
      "153 21453\n",
      "154 21718\n",
      "155 22023\n",
      "156 22291\n",
      "157 22597\n",
      "158 22851\n",
      "159 23156\n",
      "160 23414\n",
      "161 23731\n",
      "162 24004\n",
      "163 24319\n",
      "164 24592\n",
      "165 24919\n",
      "166 25193\n",
      "167 25519\n",
      "168 25801\n",
      "169 26120\n",
      "170 26396\n",
      "171 26750\n",
      "172 27022\n",
      "173 27386\n",
      "174 27661\n",
      "175 28027\n",
      "176 28275\n",
      "177 28642\n",
      "178 28908\n",
      "179 29291\n",
      "180 29550\n",
      "181 29931\n",
      "182 30192\n",
      "183 30593\n",
      "184 30853\n",
      "185 31261\n",
      "186 31515\n",
      "187 31939\n",
      "188 32195\n",
      "189 32646\n",
      "190 32868\n",
      "191 33330\n",
      "192 33550\n",
      "193 34074\n",
      "194 34337\n",
      "195 34871\n",
      "196 35126\n",
      "197 35659\n",
      "198 35918\n",
      "199 36455\n",
      "200 36666\n",
      "201 37163\n",
      "202 37397\n",
      "203 37882\n",
      "204 38141\n",
      "205 38636\n",
      "206 38905\n",
      "207 39377\n",
      "208 39666\n",
      "209 40124\n",
      "210 40422\n",
      "211 40892\n",
      "212 41189\n",
      "213 41651\n",
      "214 41952\n",
      "215 42438\n",
      "216 42739\n",
      "217 43197\n",
      "218 43524\n",
      "219 44007\n",
      "220 44336\n",
      "221 44802\n",
      "222 45154\n",
      "223 45598\n",
      "224 45952\n",
      "225 46402\n",
      "226 46752\n",
      "227 47227\n",
      "228 47579\n",
      "229 48037\n",
      "230 48389\n",
      "231 48859\n",
      "232 49218\n",
      "233 49685\n",
      "234 50054\n",
      "235 50517\n",
      "236 50923\n",
      "237 51384\n",
      "238 51789\n",
      "239 52255\n",
      "240 52640\n",
      "241 53110\n",
      "242 53496\n",
      "243 54000\n",
      "244 54384\n",
      "245 54853\n",
      "246 55246\n",
      "247 55744\n",
      "248 56149\n",
      "249 56630\n",
      "250 57043\n",
      "251 57549\n",
      "252 57982\n",
      "253 58448\n",
      "254 58904\n",
      "255 59379\n",
      "256 59833\n",
      "257 60338\n",
      "258 60787\n",
      "259 61258\n",
      "260 61705\n",
      "261 62172\n",
      "262 62655\n",
      "263 63120\n",
      "264 63597\n",
      "265 64043\n",
      "266 64567\n",
      "267 65041\n",
      "268 65561\n",
      "269 66039\n",
      "270 66543\n",
      "271 66990\n",
      "272 67540\n",
      "273 67989\n",
      "274 68539\n",
      "275 68971\n",
      "276 69541\n",
      "277 69973\n",
      "278 70523\n",
      "279 70951\n",
      "280 71536\n",
      "281 71962\n",
      "282 72527\n",
      "283 72971\n",
      "284 73522\n",
      "285 74012\n",
      "286 74574\n",
      "287 75067\n",
      "288 75627\n",
      "289 76092\n",
      "290 76651\n",
      "291 77116\n",
      "292 77694\n",
      "293 78180\n",
      "294 78752\n",
      "295 79234\n",
      "296 79825\n",
      "297 80308\n",
      "298 80895\n",
      "299 81391\n",
      "300 81966\n",
      "301 82448\n",
      "302 83077\n",
      "303 83551\n",
      "304 84195\n",
      "305 84672\n",
      "306 85316\n",
      "307 85744\n",
      "308 86390\n",
      "309 86847\n",
      "310 87514\n",
      "311 87959\n",
      "312 88620\n",
      "313 89068\n",
      "314 89757\n",
      "315 90203\n",
      "316 90900\n",
      "317 91329\n",
      "318 92056\n",
      "319 92489\n",
      "320 93251\n",
      "321 93629\n",
      "322 94410\n",
      "323 94775\n",
      "324 95650\n",
      "325 96091\n",
      "326 96982\n",
      "327 97407\n",
      "328 98294\n",
      "329 98723\n",
      "330 99614\n",
      "331 99969\n",
      "332 100786\n",
      "333 101169\n",
      "334 101966\n",
      "335 102392\n",
      "336 103196\n",
      "337 103638\n",
      "338 104408\n",
      "339 104878\n",
      "340 105623\n",
      "341 106105\n",
      "342 106863\n",
      "343 107342\n",
      "344 108084\n",
      "345 108572\n",
      "346 109350\n",
      "347 109836\n",
      "348 110566\n",
      "349 111093\n",
      "350 111861\n",
      "351 112388\n",
      "352 113128\n",
      "353 113691\n",
      "354 114389\n",
      "355 114953\n",
      "356 115660\n",
      "357 116219\n",
      "358 116962\n",
      "359 117523\n",
      "360 118238\n",
      "361 118796\n",
      "362 119528\n",
      "363 120092\n",
      "364 120819\n",
      "365 121395\n",
      "366 122114\n",
      "367 122745\n",
      "368 123461\n",
      "369 124089\n",
      "370 124810\n",
      "371 125405\n",
      "372 126130\n",
      "373 126725\n",
      "374 127499\n",
      "375 128088\n",
      "376 128809\n",
      "377 129408\n",
      "378 130173\n",
      "379 130790\n",
      "380 131528\n",
      "381 132154\n",
      "382 132927\n",
      "383 133581\n",
      "384 134290\n",
      "385 134979\n",
      "386 135699\n",
      "387 136384\n",
      "388 137146\n",
      "389 137823\n",
      "390 138532\n",
      "391 139204\n",
      "392 139905\n",
      "393 140629\n",
      "394 141325\n",
      "395 142038\n",
      "396 142704\n",
      "397 143486\n",
      "398 144192\n",
      "399 144965\n"
     ]
    }
   ],
   "source": [
    "possible_spots = {start}\n",
    "\n",
    "all_possible_spots = []\n",
    "\n",
    "steps = []\n",
    "\n",
    "H, W = data.shape\n",
    "\n",
    "bbox = [0, 0, 0, 0]\n",
    "\n",
    "# brute force for part A / explore for part B\n",
    "for i in range(1, n_steps_explore):\n",
    "    new_possible_spots = set()\n",
    "    for y, x in possible_spots:\n",
    "        for dy, dx in [(0, 1), (0, -1), (1, 0), (-1, 0)]:\n",
    "            y_, x_ = (y + dy), (x + dx)\n",
    "            if data[y_ % H, x_ % W] == \".\":\n",
    "                new_possible_spots.add((y_, x_))\n",
    "    possible_spots = new_possible_spots\n",
    "    print(i, len(possible_spots))\n",
    "    steps.append(len(possible_spots))\n",
    "    all_possible_spots.append(list(possible_spots))\n"
   ],
   "metadata": {
    "collapsed": false,
    "ExecuteTime": {
     "end_time": "2024-01-15T21:15:39.210267Z",
     "start_time": "2024-01-15T21:14:33.724083Z"
    }
   }
  },
  {
   "cell_type": "code",
   "outputs": [
    {
     "name": "stdout",
     "output_type": "stream",
     "text": [
      "Part a already solved with same answer: 3858\n"
     ]
    }
   ],
   "source": [
    "submit(steps[64-1], part=\"a\", day=day, year=year)"
   ],
   "metadata": {
    "collapsed": false,
    "ExecuteTime": {
     "end_time": "2024-01-15T21:15:39.210784Z",
     "start_time": "2024-01-15T21:15:39.207875Z"
    }
   },
   "execution_count": 5
  },
  {
   "cell_type": "code",
   "outputs": [
    {
     "data": {
      "text/plain": "7780"
     },
     "execution_count": 6,
     "metadata": {},
     "output_type": "execute_result"
    }
   ],
   "source": [
    "box_filter = lambda by, bx: lambda loc: (loc[0] >= 0+by*H) and (loc[0] < H+by*H) and (loc[1] >= 0+bx*W) and (loc[1] < W+bx*W)\n",
    "\n",
    "repeat_value = np.array([len(list(filter(box_filter(0, 0), l))) for l in all_possible_spots]).max()\n",
    "# each box will repeat between two possible values (checkerboard-like) when it's satured, so we'll just take the max of the two\n",
    "repeat_value"
   ],
   "metadata": {
    "collapsed": false,
    "ExecuteTime": {
     "end_time": "2024-01-15T21:15:42.738028Z",
     "start_time": "2024-01-15T21:15:39.272712Z"
    }
   },
   "execution_count": 6
  },
  {
   "cell_type": "code",
   "execution_count": 7,
   "outputs": [
    {
     "name": "stdout",
     "output_type": "stream",
     "text": [
      "-1 -1 391\n",
      "-1 0 260\n",
      "-1 1 391\n",
      "0 -1 260\n",
      "0 0 129\n",
      "0 1 260\n",
      "1 -1 391\n",
      "1 0 260\n",
      "1 1 391\n"
     ]
    }
   ],
   "source": [
    "box_repeats = {}\n",
    "box_sequences = {}\n",
    "\n",
    "for by in range(-Z, Z+1):\n",
    "    for bx in range(-Z, Z+1):\n",
    "        # filter the known steps count on the boxes that are tiles of the input data, and find the repeat index and repeat sequence for each box.\n",
    "        # later we'll assume other boxes are just repeats of these boxes, with some offset.\n",
    "        lens = np.array([len(list(filter(box_filter(by, bx), l))) for l in all_possible_spots])\n",
    "        repeat_index = np.where(lens == repeat_value)[0][0]\n",
    "        print(by, bx, repeat_index)\n",
    "        box_repeats[(by, bx)] = repeat_index\n",
    "        box_sequences[(by, bx)] = lens\n"
   ],
   "metadata": {
    "collapsed": false,
    "ExecuteTime": {
     "end_time": "2024-01-15T21:16:12.431639Z",
     "start_time": "2024-01-15T21:15:42.769584Z"
    }
   }
  },
  {
   "cell_type": "code",
   "execution_count": 8,
   "outputs": [],
   "source": [
    "start_offset = 35\n",
    "outputs = []\n",
    "for i in range(1, 6):\n",
    "    outputs.append(list(sorted(map(lambda l: (l[0]%H, l[1]%W), filter(box_filter(i+1, i+1), all_possible_spots[start_offset+i*22])))))\n",
    "\n",
    "assert outputs[0] == outputs[1]\n",
    "assert outputs[1] == outputs[2]\n",
    "assert outputs[2] == outputs[3]\n",
    "assert outputs[3] == outputs[4]"
   ],
   "metadata": {
    "collapsed": false,
    "ExecuteTime": {
     "end_time": "2024-01-15T21:16:12.437059Z",
     "start_time": "2024-01-15T21:16:12.434253Z"
    }
   }
  },
  {
   "cell_type": "code",
   "execution_count": 9,
   "outputs": [
    {
     "data": {
      "text/plain": "(1, 1, 9, 0)"
     },
     "execution_count": 9,
     "metadata": {},
     "output_type": "execute_result"
    }
   ],
   "source": [
    "Z_ref = Z\n",
    "# for boxes further away, they will show the same pattern as the closest box, but with an offset.\n",
    "# this function finds the closest box, and the offset.\n",
    "def find_ref_box(by, bx):\n",
    "    ref_by = int(min(abs(by), Z_ref)* (by/abs(by))) if by != 0 else 0\n",
    "    ref_bx = int(min(abs(bx), Z_ref)* (bx/abs(bx))) if bx != 0 else 0\n",
    "    offset_x = abs(by) - abs(ref_by) if abs(by) > abs(ref_by) else 0\n",
    "    offset_y = abs(bx) - abs(ref_bx) if abs(bx) > abs(ref_bx) else 0\n",
    "    return ref_by, ref_bx, offset_x, offset_y\n",
    "\n",
    "find_ref_box(10, 1)"
   ],
   "metadata": {
    "collapsed": false,
    "ExecuteTime": {
     "end_time": "2024-01-15T21:16:12.597684Z",
     "start_time": "2024-01-15T21:16:12.440664Z"
    }
   }
  },
  {
   "cell_type": "code",
   "execution_count": 10,
   "outputs": [],
   "source": [
    "# finds the amount of steps after which box/tile (by, bx) will repeat\n",
    "def get_box_repeat(by, bx):\n",
    "    ref_by, ref_bx, offset_x, offset_y = find_ref_box(by, bx)\n",
    "    return box_repeats[(ref_by, ref_bx)]+H*offset_y+W*offset_x\n",
    "\n",
    "# check that it works. This only makes sense when Z > 1 (example data)\n",
    "for by in range(-Z, Z+1):\n",
    "    for bx in range(-Z, Z+1):\n",
    "        ref_by, ref_bx, offset_x, offset_y = find_ref_box(by, bx)\n",
    "        assert box_repeats[(by, bx)] == get_box_repeat(by, bx)"
   ],
   "metadata": {
    "collapsed": false,
    "ExecuteTime": {
     "end_time": "2024-01-15T21:16:12.598728Z",
     "start_time": "2024-01-15T21:16:12.444155Z"
    }
   }
  },
  {
   "cell_type": "code",
   "execution_count": 11,
   "outputs": [],
   "source": [
    "def get_box_value(by, bx, i):\n",
    "    ref_by, ref_bx, offset_x, offset_y = find_ref_box(by, bx)\n",
    "\n",
    "    box_repeat = get_box_repeat(by, bx)\n",
    "    ref_box_repeat = get_box_repeat(ref_by, ref_bx)\n",
    "    seq_idx = ref_box_repeat - box_repeat + i\n",
    "    if seq_idx < 0:\n",
    "        return 0\n",
    "    if seq_idx > ref_box_repeat:\n",
    "        return box_sequences[(ref_by, ref_bx)][ref_box_repeat + (seq_idx-ref_box_repeat) % 2]\n",
    "    else:\n",
    "        return box_sequences[(ref_by, ref_bx)][seq_idx]"
   ],
   "metadata": {
    "collapsed": false,
    "ExecuteTime": {
     "end_time": "2024-01-15T21:16:12.598980Z",
     "start_time": "2024-01-15T21:16:12.446883Z"
    }
   }
  },
  {
   "cell_type": "code",
   "execution_count": 12,
   "outputs": [
    {
     "data": {
      "text/plain": "636350496972143"
     },
     "execution_count": 12,
     "metadata": {},
     "output_type": "execute_result"
    }
   ],
   "source": [
    "new_points = []\n",
    "total_sum = 0\n",
    "\n",
    "count = 26501365-1\n",
    "N = count // H - 3\n",
    "\n",
    "# all the tiles that are not near the fringe of our expanding reach and are just oscillating between two values\n",
    "# we can just calculate the total sum of these tiles, and add the fringe tiles later\n",
    "# the (N+1)**2 and (N)**2 are the amount of tiles oscillating between the two values\n",
    "total_sum = (N+1)**2*get_box_value(N%2,0, count) + (N)**2*get_box_value((N-1)%2,0, count)\n",
    "\n",
    "# the fringe tiles are the tiles that are not oscillating between two values, but are still in the fringe of our expanding reach\n",
    "for n in range(N+1, N+10):\n",
    "    # print(n)\n",
    "    for a in range(0, n):\n",
    "        b = n-a\n",
    "        # print(a,b)\n",
    "        total_sum += get_box_value(a, b, count)\n",
    "        total_sum += get_box_value(-b, a, count)\n",
    "        total_sum += get_box_value(-a, -b, count)\n",
    "        total_sum += get_box_value(b, -a, count)\n",
    "        new_points.append((a, b))\n",
    "\n",
    "total_sum"
   ],
   "metadata": {
    "collapsed": false,
    "ExecuteTime": {
     "end_time": "2024-01-15T21:16:33.068173Z",
     "start_time": "2024-01-15T21:16:12.483474Z"
    }
   }
  },
  {
   "cell_type": "code",
   "outputs": [
    {
     "name": "stderr",
     "output_type": "stream",
     "text": [
      "coerced int64 value 636350496972143 for 2023/21\n"
     ]
    },
    {
     "name": "stdout",
     "output_type": "stream",
     "text": [
      "Part b already solved with same answer: 636350496972143\n"
     ]
    }
   ],
   "source": [
    "submit(total_sum, part=\"b\", day=day, year=year)"
   ],
   "metadata": {
    "collapsed": false,
    "ExecuteTime": {
     "end_time": "2024-01-15T21:16:33.069312Z",
     "start_time": "2024-01-15T21:16:33.066482Z"
    }
   },
   "execution_count": 13
  }
 ],
 "metadata": {
  "kernelspec": {
   "name": "aoc",
   "language": "python",
   "display_name": "aoc"
  },
  "language_info": {
   "codemirror_mode": {
    "name": "ipython",
    "version": 2
   },
   "file_extension": ".py",
   "mimetype": "text/x-python",
   "name": "python",
   "nbconvert_exporter": "python",
   "pygments_lexer": "ipython2",
   "version": "2.7.6"
  }
 },
 "nbformat": 4,
 "nbformat_minor": 0
}
