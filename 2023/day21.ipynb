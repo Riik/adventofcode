{
 "cells": [
  {
   "cell_type": "code",
   "execution_count": 1,
   "outputs": [],
   "source": [
    "year = 2023\n",
    "day = 21"
   ],
   "metadata": {
    "collapsed": false
   }
  },
  {
   "cell_type": "code",
   "execution_count": 511,
   "outputs": [
    {
     "name": "stdout",
     "output_type": "stream",
     "text": [
      "11\n"
     ]
    },
    {
     "data": {
      "text/plain": "0.6694214876033058"
     },
     "execution_count": 511,
     "metadata": {},
     "output_type": "execute_result"
    }
   ],
   "source": [
    "from aocd import submit\n",
    "from aocd.models import Puzzle\n",
    "from functools import reduce\n",
    "import numpy as np\n",
    "\n",
    "puzzle = Puzzle(year=year, day=day)\n",
    "data = puzzle.input_data\n",
    "data = puzzle.examples[0].input_data\n",
    "\n",
    "data = data.strip()\n",
    "data = data.split(\"\\n\")\n",
    "data = [list(d) for d in data]\n",
    "data = np.array(data)\n",
    "n = len(data)\n",
    "print(n)\n",
    "\n",
    "T = 1\n",
    "start = (np.where(data == \"S\")[0][0], np.where(data == \"S\")[1][0])\n",
    "data = np.tile(data, (T, T))\n",
    "\n",
    "start = (start[0] + n * (T // 2), start[1] + n * (T // 2))\n",
    "data[np.where(data == \"S\")] = \".\"\n",
    "\n",
    "ratio = np.sum(np.sum(data == \".\")) / np.prod(data.shape)\n",
    "\n",
    "ratio\n"
   ],
   "metadata": {
    "collapsed": false
   }
  },
  {
   "cell_type": "code",
   "execution_count": 512,
   "outputs": [],
   "source": [
    "import numpy as np\n",
    "\n",
    "np.set_printoptions(edgeitems=30, linewidth=100000,\n",
    "                    formatter=dict(float=lambda x: \"%s\" % x))"
   ],
   "metadata": {
    "collapsed": false
   }
  },
  {
   "cell_type": "code",
   "execution_count": 512,
   "outputs": [],
   "source": [],
   "metadata": {
    "collapsed": false
   }
  },
  {
   "cell_type": "code",
   "execution_count": 513,
   "outputs": [
    {
     "name": "stdout",
     "output_type": "stream",
     "text": [
      "1 2\n",
      "2 4\n",
      "3 6\n",
      "4 9\n",
      "5 13\n",
      "6 16\n",
      "7 22\n",
      "8 30\n",
      "9 41\n",
      "10 50\n",
      "11 63\n",
      "12 74\n",
      "13 89\n",
      "14 99\n",
      "15 115\n",
      "16 129\n",
      "17 145\n",
      "18 165\n",
      "19 192\n",
      "20 216\n",
      "21 234\n",
      "22 261\n",
      "23 294\n",
      "24 326\n",
      "25 353\n",
      "26 395\n",
      "27 427\n",
      "28 460\n",
      "29 491\n",
      "30 537\n",
      "31 574\n",
      "32 605\n",
      "33 644\n",
      "34 689\n",
      "35 740\n",
      "36 784\n",
      "37 846\n",
      "38 894\n",
      "39 944\n",
      "40 989\n",
      "41 1053\n",
      "42 1107\n",
      "43 1146\n",
      "44 1196\n",
      "45 1256\n",
      "46 1324\n",
      "47 1383\n",
      "48 1464\n",
      "49 1528\n",
      "50 1594\n",
      "51 1653\n",
      "52 1735\n",
      "53 1805\n",
      "54 1853\n",
      "55 1914\n",
      "56 1988\n",
      "57 2072\n",
      "58 2145\n",
      "59 2244\n",
      "60 2324\n",
      "61 2406\n",
      "62 2479\n",
      "63 2579\n",
      "64 2665\n",
      "65 2722\n",
      "66 2794\n",
      "67 2882\n",
      "68 2982\n",
      "69 3069\n",
      "70 3186\n",
      "71 3282\n",
      "72 3380\n",
      "73 3467\n",
      "74 3585\n",
      "75 3687\n",
      "76 3753\n",
      "77 3836\n",
      "78 3938\n",
      "79 4054\n",
      "80 4155\n",
      "81 4290\n",
      "82 4402\n",
      "83 4516\n",
      "84 4617\n",
      "85 4753\n",
      "86 4871\n",
      "87 4946\n",
      "88 5040\n",
      "89 5156\n",
      "90 5288\n",
      "91 5403\n",
      "92 5556\n",
      "93 5684\n",
      "94 5814\n",
      "95 5929\n",
      "96 6083\n",
      "97 6217\n",
      "98 6301\n",
      "99 6406\n",
      "100 6536\n",
      "101 6684\n",
      "102 6813\n",
      "103 6984\n",
      "104 7128\n",
      "105 7274\n",
      "106 7403\n",
      "107 7575\n",
      "108 7725\n",
      "109 7818\n",
      "110 7934\n",
      "111 8078\n",
      "112 8242\n",
      "113 8385\n",
      "114 8574\n",
      "115 8734\n",
      "116 8896\n",
      "117 9039\n",
      "118 9229\n",
      "119 9395\n",
      "120 9497\n",
      "121 9624\n",
      "122 9782\n",
      "123 9962\n",
      "124 10119\n",
      "125 10326\n",
      "126 10502\n",
      "127 10680\n",
      "128 10837\n",
      "129 11045\n",
      "130 11227\n",
      "131 11338\n",
      "132 11476\n",
      "133 11648\n",
      "134 11844\n",
      "135 12015\n",
      "136 12240\n",
      "137 12432\n",
      "138 12626\n",
      "139 12797\n",
      "140 13023\n",
      "141 13221\n",
      "142 13341\n",
      "143 13490\n",
      "144 13676\n",
      "145 13888\n",
      "146 14073\n",
      "147 14316\n",
      "148 14524\n",
      "149 14734\n",
      "150 14919\n",
      "151 15163\n",
      "152 15377\n",
      "153 15506\n",
      "154 15666\n",
      "155 15866\n",
      "156 16094\n",
      "157 16293\n",
      "158 16554\n",
      "159 16778\n",
      "160 17004\n",
      "161 17203\n",
      "162 17465\n",
      "163 17695\n",
      "164 17833\n",
      "165 18004\n",
      "166 18218\n",
      "167 18462\n",
      "168 18675\n",
      "169 18954\n",
      "170 19194\n",
      "171 19436\n",
      "172 19649\n",
      "173 19929\n",
      "174 20175\n",
      "175 20322\n",
      "176 20504\n",
      "177 20732\n",
      "178 20992\n",
      "179 21219\n",
      "180 21516\n",
      "181 21772\n",
      "182 22030\n",
      "183 22257\n",
      "184 22555\n",
      "185 22817\n",
      "186 22973\n",
      "187 23166\n",
      "188 23408\n",
      "189 23684\n",
      "190 23925\n",
      "191 24240\n",
      "192 24512\n",
      "193 24786\n",
      "194 25027\n",
      "195 25343\n",
      "196 25621\n",
      "197 25786\n",
      "198 25990\n",
      "199 26246\n",
      "200 26538\n",
      "201 26793\n",
      "202 27126\n",
      "203 27414\n",
      "204 27704\n",
      "205 27959\n",
      "206 28293\n",
      "207 28587\n",
      "208 28761\n",
      "209 28976\n",
      "210 29246\n",
      "211 29554\n",
      "212 29823\n",
      "213 30174\n",
      "214 30478\n",
      "215 30784\n",
      "216 31053\n",
      "217 31405\n",
      "218 31715\n",
      "219 31898\n",
      "220 32124\n",
      "221 32408\n",
      "222 32732\n",
      "223 33015\n",
      "224 33384\n",
      "225 33704\n",
      "226 34026\n",
      "227 34309\n",
      "228 34679\n",
      "229 35005\n",
      "230 35197\n",
      "231 35434\n",
      "232 35732\n",
      "233 36072\n",
      "234 36369\n",
      "235 36756\n",
      "236 37092\n",
      "237 37430\n",
      "238 37727\n",
      "239 38115\n",
      "240 38457\n",
      "241 38658\n",
      "242 38906\n",
      "243 39218\n",
      "244 39574\n",
      "245 39885\n",
      "246 40290\n",
      "247 40642\n",
      "248 40996\n",
      "249 41307\n",
      "250 41713\n",
      "251 42071\n",
      "252 42281\n",
      "253 42540\n",
      "254 42866\n",
      "255 43238\n",
      "256 43563\n",
      "257 43986\n",
      "258 44354\n",
      "259 44724\n",
      "260 45049\n",
      "261 45473\n",
      "262 45847\n",
      "263 46066\n",
      "264 46336\n",
      "265 46676\n",
      "266 47064\n",
      "267 47403\n",
      "268 47844\n",
      "269 48228\n",
      "270 48614\n",
      "271 48953\n",
      "272 49395\n",
      "273 49785\n",
      "274 50013\n",
      "275 50294\n",
      "276 50648\n",
      "277 51052\n",
      "278 51405\n",
      "279 51864\n",
      "280 52264\n",
      "281 52666\n",
      "282 53019\n",
      "283 53479\n",
      "284 53885\n",
      "285 54122\n",
      "286 54414\n",
      "287 54782\n",
      "288 55202\n",
      "289 55569\n",
      "290 56046\n",
      "291 56462\n",
      "292 56880\n",
      "293 57247\n",
      "294 57725\n",
      "295 58147\n",
      "296 58393\n",
      "297 58696\n",
      "298 59078\n",
      "299 59514\n",
      "300 59895\n",
      "301 60390\n",
      "302 60822\n",
      "303 61256\n",
      "304 61637\n",
      "305 62133\n",
      "306 62571\n",
      "307 62826\n",
      "308 63140\n",
      "309 63536\n",
      "310 63988\n",
      "311 64383\n",
      "312 64896\n",
      "313 65344\n",
      "314 65794\n",
      "315 66189\n",
      "316 66703\n",
      "317 67157\n",
      "318 67421\n",
      "319 67746\n",
      "320 68156\n",
      "321 68624\n",
      "322 69033\n",
      "323 69564\n",
      "324 70028\n",
      "325 70494\n",
      "326 70903\n",
      "327 71435\n",
      "328 71905\n",
      "329 72178\n",
      "330 72514\n",
      "331 72938\n",
      "332 73422\n",
      "333 73845\n",
      "334 74394\n",
      "335 74874\n",
      "336 75356\n",
      "337 75779\n",
      "338 76329\n",
      "339 76815\n",
      "340 77097\n",
      "341 77444\n",
      "342 77882\n",
      "343 78382\n",
      "344 78819\n",
      "345 79386\n",
      "346 79882\n",
      "347 80380\n",
      "348 80817\n",
      "349 81385\n",
      "350 81887\n",
      "351 82178\n",
      "352 82536\n",
      "353 82988\n",
      "354 83504\n",
      "355 83955\n",
      "356 84540\n",
      "357 85052\n",
      "358 85566\n",
      "359 86017\n",
      "360 86603\n",
      "361 87121\n",
      "362 87421\n",
      "363 87790\n",
      "364 88256\n",
      "365 88788\n",
      "366 89253\n",
      "367 89856\n",
      "368 90384\n",
      "369 90914\n",
      "370 91379\n",
      "371 91983\n",
      "372 92517\n",
      "373 92826\n",
      "374 93206\n",
      "375 93686\n",
      "376 94234\n",
      "377 94713\n",
      "378 95334\n",
      "379 95878\n",
      "380 96424\n",
      "381 96903\n",
      "382 97525\n",
      "383 98075\n",
      "384 98393\n",
      "385 98784\n",
      "386 99278\n",
      "387 99842\n",
      "388 100335\n",
      "389 100974\n",
      "390 101534\n",
      "391 102096\n",
      "392 102589\n",
      "393 103229\n",
      "394 103795\n",
      "395 104122\n",
      "396 104524\n",
      "397 105032\n",
      "398 105612\n",
      "399 106119\n",
      "400 106776\n",
      "401 107352\n",
      "402 107930\n",
      "403 108437\n",
      "404 109095\n",
      "405 109677\n",
      "406 110013\n",
      "407 110426\n",
      "408 110948\n",
      "409 111544\n",
      "410 112065\n",
      "411 112740\n",
      "412 113332\n",
      "413 113926\n",
      "414 114447\n",
      "415 115123\n",
      "416 115721\n",
      "417 116066\n",
      "418 116490\n",
      "419 117026\n",
      "420 117638\n",
      "421 118173\n",
      "422 118866\n",
      "423 119474\n",
      "424 120084\n",
      "425 120619\n",
      "426 121313\n",
      "427 121927\n",
      "428 122281\n",
      "429 122716\n",
      "430 123266\n",
      "431 123894\n",
      "432 124443\n",
      "433 125154\n",
      "434 125778\n",
      "435 126404\n",
      "436 126953\n",
      "437 127665\n",
      "438 128295\n",
      "439 128658\n",
      "440 129104\n",
      "441 129668\n",
      "442 130312\n",
      "443 130875\n",
      "444 131604\n",
      "445 132244\n",
      "446 132886\n",
      "447 133449\n",
      "448 134179\n",
      "449 134825\n",
      "450 135197\n",
      "451 135654\n",
      "452 136232\n",
      "453 136892\n",
      "454 137469\n",
      "455 138216\n",
      "456 138872\n",
      "457 139530\n",
      "458 140107\n",
      "459 140855\n",
      "460 141517\n",
      "461 141898\n",
      "462 142366\n",
      "463 142958\n",
      "464 143634\n",
      "465 144225\n",
      "466 144990\n",
      "467 145662\n",
      "468 146336\n",
      "469 146927\n",
      "470 147693\n",
      "471 148371\n",
      "472 148761\n",
      "473 149240\n",
      "474 149846\n",
      "475 150538\n",
      "476 151143\n",
      "477 151926\n",
      "478 152614\n",
      "479 153304\n",
      "480 153909\n",
      "481 154693\n",
      "482 155387\n",
      "483 155786\n",
      "484 156276\n",
      "485 156896\n",
      "486 157604\n",
      "487 158223\n",
      "488 159024\n",
      "489 159728\n",
      "490 160434\n",
      "491 161053\n",
      "492 161855\n",
      "493 162565\n",
      "494 162973\n",
      "495 163474\n",
      "496 164108\n",
      "497 164832\n",
      "498 165465\n",
      "499 166284\n",
      "500 167004\n"
     ]
    }
   ],
   "source": [
    "possible_spots = {start}\n",
    "\n",
    "all_possible_spots = []\n",
    "\n",
    "steps = []\n",
    "\n",
    "H, W = data.shape\n",
    "\n",
    "bbox = [0, 0, 0, 0]\n",
    "\n",
    "for i in range(1, 501):\n",
    "    new_possible_spots = set()\n",
    "    for y, x in possible_spots:\n",
    "        for dy, dx in [(0, 1), (0, -1), (1, 0), (-1, 0)]:\n",
    "            y_, x_ = (y + dy), (x + dx)\n",
    "            if data[y_ % H, x_ % W] == \".\":\n",
    "                new_possible_spots.add((y_, x_))\n",
    "    possible_spots = new_possible_spots\n",
    "    print(i, len(possible_spots))\n",
    "    steps.append(len(possible_spots))\n",
    "    all_possible_spots.append(list(possible_spots))\n",
    "    # print(possible_spots)\n"
   ],
   "metadata": {
    "collapsed": false
   }
  },
  {
   "cell_type": "code",
   "execution_count": 514,
   "outputs": [
    {
     "name": "stdout",
     "output_type": "stream",
     "text": [
      "[  2   4   4   3   3   0  -2  -2  -1  -4  -3  -7  -7 -14 -16 -21 -26 -28 -24 -25 -33 -34 -30 -28 -32 -23 -25 -28 -33 -25 -28 -38 -41 -40 -33 -36 -21 -22 -22 -29 -18 -18 -34 -41 -40 -31 -33 -14 -14 -13 -20  -6  -5 -27 -38 -37 -27 -29  -7  -6  -3 -11   6   9 -19 -34 -34 -23 -26  -1   2   6  -3  18  22 -12 -30 -31 -18 -22   6  10  15   6  30  35  -5 -26 -28 -14 -19  13  19  25  14  42  48   3 -23 -25 -10 -15  20  27  34  23  54  61  10 -19 -22  -5 -12  27  35  43  32  66  74  18 -15 -19  -1  -8  33  43  53  40  78  88  25 -11 -16   3  -5  40  51  62  49  90 101  33  -8 -13   7  -1  47  59  71  58 102 114  40  -4 -10  12   2  54  67  81  66 113 127  48   0  -7  16   6  61  75  90  75 125 140  55   3  -4  20  10  68  83 100  84 137 154  63   7  -1  24  13  74  91 109  92 149 167  70  11   2  29  17  81  99 118 101 161 180  77  15   5  33  20  88 108 128 109 173 193  85  18   8  37  24  95 116 137 118 185 206  92  22  11  42  27 102 124 146 127 197 219 100  26  14  46  31 108 132 156 135 209 233 107  30  17  50  34 115 140 165 144 221 246 115  33  20  54  38 122 148 174 153 233 259 122  37  23  59  41 129 156 184 161 244 272 130  41  26  63  45 136 164 193 170 256 285 137  44  29  67  49 143 172 203 179 268 299 145  48  32  71  52 149 180 212 187 280 312 152  52  35  76  56 156 188 221 196 292 325 159  56  38  80  59 163 197 231 204 304 338 167  59  41  84  63 170 205 240 213 316 351 174  63  44  89  66 177 213 249 222 328 364 182  67  47  93  70 183 221 259 230 340 378 189  71  50  97  73 190 229 268 239 352 391 197  74  53 101  77 197 237 277 248 364 404 204  78  56 106  80 204 245 287 256 375 417 212  82  59 110  84 211 253 296 265 387 430 219  85  62 114  88 218 261 306 274 399 444 227  89  65 118  91 224 269 315 282 411 457 234  93  68 123  95 231 277 324 291 423 470 241  97  71 127  98 238 286 334 299 435 483 249 100  74 131 102 245 294 343 308 447 496 256 104  77 136 105 252 302 352 317 459 509 264 108  80 140 109 258 310 362 325 471 523 271 112  83 144 112 265 318]\n"
     ]
    }
   ],
   "source": [
    "lens = np.array([len(p) for p in all_possible_spots])\n",
    "ref = (np.array(np.arange(len(lens))**2)*ratio).astype(\"int\")\n",
    "print(lens - ref)"
   ],
   "metadata": {
    "collapsed": false
   }
  },
  {
   "cell_type": "code",
   "execution_count": 515,
   "outputs": [
    {
     "data": {
      "text/plain": "42"
     },
     "execution_count": 515,
     "metadata": {},
     "output_type": "execute_result"
    }
   ],
   "source": [
    "box_filter = lambda by, bx: lambda loc: (loc[0] >= 0+by*H) and (loc[0] < H+by*H) and (loc[1] >= 0+bx*W) and (loc[1] < W+bx*W)\n",
    "\n",
    "box_repeats = {}\n",
    "\n",
    "Z = 5\n",
    "for by in range(-Z, Z+1):\n",
    "    for bx in range(-Z, Z+1):\n",
    "        lens = np.array([len(list(filter(box_filter(by, bx), l))) for l in all_possible_spots])\n",
    "        # print(by, bx, lens)\n",
    "        repeat_index = np.where(lens == 42)[0][0]\n",
    "        print(by, bx, repeat_index)\n",
    "        box_repeats[(by, bx)] = repeat_index\n",
    "        # check that it actually repeats as expected\n",
    "        # right = lens[repeat_index:]\n",
    "        # print(np.all(right == np.tile(np.array([42,39]), len(right)//2+1)[:len(right)]))"
   ],
   "metadata": {
    "collapsed": false
   }
  },
  {
   "cell_type": "code",
   "execution_count": 516,
   "outputs": [
    {
     "name": "stdout",
     "output_type": "stream",
     "text": [
      "-5 -5 119\n",
      "-5 -4 108\n",
      "-5 -3 97\n",
      "-5 -2 86\n",
      "-5 -1 75\n",
      "-5 0 68\n",
      "-5 1 75\n",
      "-5 2 86\n",
      "-5 3 97\n",
      "-5 4 108\n",
      "-5 5 119\n",
      "-4 -5 108\n",
      "-4 -4 97\n",
      "-4 -3 86\n",
      "-4 -2 75\n",
      "-4 -1 64\n",
      "-4 0 57\n",
      "-4 1 64\n",
      "-4 2 75\n",
      "-4 3 86\n",
      "-4 4 97\n",
      "-4 5 108\n",
      "-3 -5 97\n",
      "-3 -4 86\n",
      "-3 -3 75\n",
      "-3 -2 64\n",
      "-3 -1 53\n",
      "-3 0 46\n",
      "-3 1 53\n",
      "-3 2 64\n",
      "-3 3 75\n",
      "-3 4 86\n",
      "-3 5 97\n",
      "-2 -5 86\n",
      "-2 -4 75\n",
      "-2 -3 64\n",
      "-2 -2 53\n",
      "-2 -1 42\n",
      "-2 0 35\n",
      "-2 1 42\n",
      "-2 2 53\n",
      "-2 3 64\n",
      "-2 4 75\n",
      "-2 5 86\n",
      "-1 -5 75\n",
      "-1 -4 64\n",
      "-1 -3 53\n",
      "-1 -2 42\n",
      "-1 -1 31\n",
      "-1 0 24\n",
      "-1 1 31\n",
      "-1 2 42\n",
      "-1 3 53\n",
      "-1 4 64\n",
      "-1 5 75\n",
      "0 -5 70\n",
      "0 -4 59\n",
      "0 -3 48\n",
      "0 -2 37\n",
      "0 -1 22\n",
      "0 0 13\n",
      "0 1 26\n",
      "0 2 39\n",
      "0 3 50\n",
      "0 4 61\n",
      "0 5 72\n",
      "1 -5 75\n",
      "1 -4 64\n",
      "1 -3 53\n",
      "1 -2 42\n",
      "1 -1 31\n",
      "1 0 28\n",
      "1 1 35\n",
      "1 2 46\n",
      "1 3 57\n",
      "1 4 68\n",
      "1 5 79\n",
      "2 -5 86\n",
      "2 -4 75\n",
      "2 -3 64\n",
      "2 -2 53\n",
      "2 -1 42\n",
      "2 0 39\n",
      "2 1 46\n",
      "2 2 57\n",
      "2 3 68\n",
      "2 4 79\n",
      "2 5 90\n",
      "3 -5 97\n",
      "3 -4 86\n",
      "3 -3 75\n",
      "3 -2 64\n",
      "3 -1 53\n",
      "3 0 50\n",
      "3 1 57\n",
      "3 2 68\n",
      "3 3 79\n",
      "3 4 90\n",
      "3 5 101\n",
      "4 -5 108\n",
      "4 -4 97\n",
      "4 -3 86\n",
      "4 -2 75\n",
      "4 -1 64\n",
      "4 0 61\n",
      "4 1 68\n",
      "4 2 79\n",
      "4 3 90\n",
      "4 4 101\n",
      "4 5 112\n",
      "5 -5 119\n",
      "5 -4 108\n",
      "5 -3 97\n",
      "5 -2 86\n",
      "5 -1 75\n",
      "5 0 72\n",
      "5 1 79\n",
      "5 2 90\n",
      "5 3 101\n",
      "5 4 112\n",
      "5 5 123\n"
     ]
    }
   ],
   "source": [
    "start_offset = 35\n",
    "outputs = []\n",
    "for i in range(1, 6):\n",
    "    outputs.append(list(sorted(map(lambda l: (l[0]%H, l[1]%W), filter(box_filter(i+1, i+1), all_possible_spots[start_offset+i*22])))))"
   ],
   "metadata": {
    "collapsed": false
   }
  },
  {
   "cell_type": "code",
   "execution_count": 517,
   "outputs": [],
   "source": [
    "assert outputs[0] == outputs[1]\n",
    "assert outputs[1] == outputs[2]\n",
    "assert outputs[2] == outputs[3]\n",
    "assert outputs[3] == outputs[4]\n"
   ],
   "metadata": {
    "collapsed": false
   }
  },
  {
   "cell_type": "code",
   "execution_count": 518,
   "outputs": [],
   "source": [
    "idx = 33\n",
    "list(sorted(map(lambda l: (l[0]%H, l[1]%W), filter(box_filter(0, 2), all_possible_spots[idx]))))"
   ],
   "metadata": {
    "collapsed": false
   }
  },
  {
   "cell_type": "code",
   "execution_count": 519,
   "outputs": [
    {
     "data": {
      "text/plain": "2"
     },
     "execution_count": 519,
     "metadata": {},
     "output_type": "execute_result"
    }
   ],
   "source": [
    "from collections import defaultdict\n",
    "box_spots = defaultdict(list)\n",
    "for l in all_possible_spots:\n",
    "    curr_box_spots = {}\n",
    "\n",
    "    print(len(l))"
   ],
   "metadata": {
    "collapsed": false
   }
  },
  {
   "cell_type": "code",
   "execution_count": 523,
   "outputs": [
    {
     "name": "stdout",
     "output_type": "stream",
     "text": [
      "2409214\n",
      "2409212\n",
      "2409213\n",
      "2409214\n",
      "2409215\n",
      "2409216\n",
      "2409217\n",
      "2409218\n",
      "2409219\n",
      "2409220\n",
      "2409221\n",
      "2409222\n",
      "2409223\n"
     ]
    },
    {
     "data": {
      "text/plain": "470149643712804"
     },
     "execution_count": 523,
     "metadata": {},
     "output_type": "execute_result"
    }
   ],
   "source": [
    "for by in range(-Z, Z+1):\n",
    "    for bx in range(-Z, Z+1):\n",
    "        ref_by = (by/abs(by) + max(0, abs(by)-1))*(by/abs(by))\n",
    "        ref_bx = (bx/abs(bx) + max(0, abs(bx)-1))*(bx/abs(bx))\n",
    "        assert box_repeats[(by, bx)] == box_repeats[, bx/abs(bx))] +\n",
    "        box_repeats[(by, bx)]"
   ],
   "metadata": {
    "collapsed": false
   }
  },
  {
   "cell_type": "code",
   "execution_count": 488,
   "outputs": [
    {
     "data": {
      "text/plain": "4"
     },
     "execution_count": 488,
     "metadata": {},
     "output_type": "execute_result"
    }
   ],
   "source": [
    "np.tile(np.array([42,39]), 3)"
   ],
   "metadata": {
    "collapsed": false
   }
  },
  {
   "cell_type": "code",
   "execution_count": 494,
   "outputs": [
    {
     "name": "stdout",
     "output_type": "stream",
     "text": [
      "3\n",
      "3\n",
      "3\n",
      "3\n",
      "4\n",
      "4\n",
      "4\n",
      "4\n",
      "4\n",
      "5\n",
      "5\n",
      "5\n",
      "5\n",
      "5\n",
      "5\n",
      "6\n",
      "6\n",
      "6\n",
      "6\n",
      "6\n",
      "6\n",
      "6\n",
      "7\n",
      "7\n",
      "7\n",
      "7\n",
      "7\n",
      "7\n",
      "7\n",
      "7\n"
     ]
    },
    {
     "data": {
      "text/plain": "1060"
     },
     "execution_count": 494,
     "metadata": {},
     "output_type": "execute_result"
    }
   ],
   "source": [
    "np.where(np.array(lens) == 39)"
   ],
   "metadata": {
    "collapsed": false
   }
  },
  {
   "cell_type": "code",
   "execution_count": 409,
   "outputs": [
    {
     "data": {
      "text/plain": "set()"
     },
     "execution_count": 409,
     "metadata": {},
     "output_type": "execute_result"
    }
   ],
   "source": [
    "# box_filter = lambda by, bx: lambda loc: (loc[0] >= 0+by*H) and (loc[0] < H+by*H) and (loc[1] >= 0+bx*W) and (loc[1] < W+bx*W)\n",
    "#\n",
    "#\n",
    "# for by in range(-1, 2):\n",
    "#     for bx in range(-1, 2):\n",
    "#         prev = None\n",
    "#         prevprev = None\n",
    "#         N = None\n",
    "#         for i, l in enumerate(all_possible_spots):\n",
    "#             prevprev = prev\n",
    "#             prev = N\n",
    "#             N = len(list(filter(box_filter(by, bx), l)))\n",
    "#             if N == prevprev and N > 35:\n",
    "#                 print(by, bx, i)\n",
    "#                 break\n"
   ],
   "metadata": {
    "collapsed": false
   }
  },
  {
   "cell_type": "code",
   "execution_count": 410,
   "outputs": [
    {
     "data": {
      "text/plain": "set()"
     },
     "execution_count": 410,
     "metadata": {},
     "output_type": "execute_result"
    }
   ],
   "source": [
    "# possible_spots = np.zeros(data.shape, dtype=int)\n",
    "# possible_spots[*start] = 1\n",
    "#\n",
    "# steps = []\n",
    "#\n",
    "# H, W = data.shape\n",
    "#\n",
    "# for i in range(1, 11):\n",
    "#     new_possible_spots = np.zeros(data.shape, dtype=int)\n",
    "#     for y, x in all_coords:\n",
    "#         curr = possible_spots[y, x]\n",
    "#         for dy, dx in [(0, 1), (0, -1), (1, 0), (-1, 0)]:\n",
    "#             y_, x_ = (y + dy) % H, (x + dx) % W\n",
    "#             if data[y_, x_] == \".\":\n",
    "#                 new_possible_spots[y_, x_] += curr\n",
    "#     possible_spots = new_possible_spots\n",
    "#     print(i, int(np.sum(np.sum(possible_spots))))\n",
    "#     steps.append(len(possible_spots))\n",
    "#     print(possible_spots)\n"
   ],
   "metadata": {
    "collapsed": false
   }
  },
  {
   "cell_type": "code",
   "execution_count": 412,
   "outputs": [
    {
     "data": {
      "text/plain": "167006"
     },
     "execution_count": 412,
     "metadata": {},
     "output_type": "execute_result"
    }
   ],
   "source": [],
   "metadata": {
    "collapsed": false
   }
  },
  {
   "cell_type": "code",
   "execution_count": null,
   "outputs": [],
   "source": [
    "1, 4, 9, 16, 25, 36, 49, 64, 81, 100"
   ],
   "metadata": {
    "collapsed": false
   }
  },
  {
   "cell_type": "code",
   "execution_count": 210,
   "outputs": [
    {
     "data": {
      "text/plain": "15550"
     },
     "execution_count": 210,
     "metadata": {},
     "output_type": "execute_result"
    }
   ],
   "source": [
    "np.sum(np.sum(data == \".\"))"
   ],
   "metadata": {
    "collapsed": false
   }
  },
  {
   "cell_type": "code",
   "execution_count": 211,
   "outputs": [
    {
     "data": {
      "text/plain": "1611"
     },
     "execution_count": 211,
     "metadata": {},
     "output_type": "execute_result"
    }
   ],
   "source": [
    "np.sum(np.sum(data == \"#\"))"
   ],
   "metadata": {
    "collapsed": false
   }
  },
  {
   "cell_type": "code",
   "execution_count": 212,
   "outputs": [
    {
     "data": {
      "text/plain": "636391381255355.0"
     },
     "execution_count": 212,
     "metadata": {},
     "output_type": "execute_result"
    }
   ],
   "source": [
    "26501365**2 * (15550 / (15550+1611))"
   ],
   "metadata": {
    "collapsed": false
   }
  },
  {
   "cell_type": "code",
   "execution_count": null,
   "outputs": [],
   "source": [
    "# 636391381255355"
   ],
   "metadata": {
    "collapsed": false
   }
  }
 ],
 "metadata": {
  "kernelspec": {
   "name": "aoc",
   "language": "python",
   "display_name": "aoc"
  },
  "language_info": {
   "codemirror_mode": {
    "name": "ipython",
    "version": 2
   },
   "file_extension": ".py",
   "mimetype": "text/x-python",
   "name": "python",
   "nbconvert_exporter": "python",
   "pygments_lexer": "ipython2",
   "version": "2.7.6"
  }
 },
 "nbformat": 4,
 "nbformat_minor": 0
}
