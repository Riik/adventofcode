{
 "cells": [
  {
   "cell_type": "code",
   "execution_count": 2,
   "outputs": [],
   "source": [
    "year = 2023\n",
    "day = 16"
   ],
   "metadata": {
    "collapsed": false
   }
  },
  {
   "cell_type": "code",
   "execution_count": 117,
   "outputs": [
    {
     "data": {
      "text/plain": "array([['\\\\', '.', '.', '/', '.'],\n       ['.', '-', '.', '.', '.'],\n       ['.', '\\\\', '.', '.', '.'],\n       ['.', '.', '.', '.', '.'],\n       ['.', '.', '.', '.', '.']], dtype='<U1')"
     },
     "execution_count": 117,
     "metadata": {},
     "output_type": "execute_result"
    }
   ],
   "source": [
    "from aocd import submit\n",
    "from aocd.models import Puzzle\n",
    "from functools import reduce\n",
    "import numpy as np\n",
    "\n",
    "puzzle = Puzzle(year=year, day=day)\n",
    "data = puzzle.input_data\n",
    "# data = puzzle.examples[0].input_data\n",
    "\n",
    "data = data.strip()\n",
    "data = data.split(\"\\n\")\n",
    "data = [list(line) for line in data]\n",
    "data = np.array(data)\n",
    "\n",
    "H, W = data.shape\n",
    "\n",
    "headings = {\n",
    "    \"N\": (-1, 0),\n",
    "    \"S\": (1, 0),\n",
    "    \"E\": (0, 1),\n",
    "    \"W\": (0, -1),\n",
    "}\n",
    "\n",
    "data[:5, :5]"
   ],
   "metadata": {
    "collapsed": false
   }
  },
  {
   "cell_type": "code",
   "execution_count": 121,
   "outputs": [],
   "source": [
    "def trace(loc, h):\n",
    "    energized = [(loc, h)]\n",
    "    visited = {(loc, h)}\n",
    "    while True:\n",
    "        new = []\n",
    "        for loc, h in energized:\n",
    "            y, x = loc\n",
    "            new_headings = []\n",
    "\n",
    "            if data[y, x] == \".\":\n",
    "                new_headings.append(h)\n",
    "\n",
    "            elif data[y, x] == \"|\":\n",
    "                if h in \"EW\":\n",
    "                    new_headings.append(\"N\")\n",
    "                    new_headings.append(\"S\")\n",
    "                else:\n",
    "                    new_headings.append(h)\n",
    "\n",
    "            elif data[y, x] == \"-\":\n",
    "                if h in \"NS\":\n",
    "                    new_headings.append(\"E\")\n",
    "                    new_headings.append(\"W\")\n",
    "                else:\n",
    "                    new_headings.append(h)\n",
    "\n",
    "            elif data[y, x] == \"/\":\n",
    "                if h == \"N\":\n",
    "                    new_headings.append(\"E\")\n",
    "                elif h == \"S\":\n",
    "                    new_headings.append(\"W\")\n",
    "                elif h == \"E\":\n",
    "                    new_headings.append(\"N\")\n",
    "                elif h == \"W\":\n",
    "                    new_headings.append(\"S\")\n",
    "\n",
    "            elif data[y, x] == \"\\\\\":\n",
    "                if h == \"N\":\n",
    "                    new_headings.append(\"W\")\n",
    "                elif h == \"S\":\n",
    "                    new_headings.append(\"E\")\n",
    "                elif h == \"E\":\n",
    "                    new_headings.append(\"S\")\n",
    "                elif h == \"W\":\n",
    "                    new_headings.append(\"N\")\n",
    "\n",
    "            for h in new_headings:\n",
    "                d_y, d_x = headings[h]\n",
    "                if y + d_y < 0 or y + d_y >= H or x + d_x < 0 or x + d_x >= W:\n",
    "                    continue\n",
    "                new.append(((y + d_y, x + d_x), h))\n",
    "\n",
    "        energized = [n for n in new if n not in visited]\n",
    "        visited.update(new)\n",
    "        if not energized:\n",
    "            return visited\n"
   ],
   "metadata": {
    "collapsed": false
   }
  },
  {
   "cell_type": "code",
   "execution_count": 122,
   "outputs": [
    {
     "name": "stdout",
     "output_type": "stream",
     "text": [
      "aocd will not submit that answer again. At 2023-12-16 00:35:58.968578-05:00 you've previously submitted 7236 and the server responded with:\n",
      "\u001B[32mThat's the right answer!  You are one gold star closer to restoring snow operations. [Continue to Part Two]\u001B[0m\n"
     ]
    }
   ],
   "source": [
    "def compute_score(v):\n",
    "    return len(set(l for l, h in v))\n",
    "\n",
    "answer = compute_score(trace((0, 0), \"E\"))\n",
    "submit(answer, part=\"a\", year=year, day=day)"
   ],
   "metadata": {
    "collapsed": false
   }
  },
  {
   "cell_type": "code",
   "execution_count": 123,
   "outputs": [
    {
     "name": "stdout",
     "output_type": "stream",
     "text": [
      "Part b already solved with same answer: 7521\n"
     ]
    }
   ],
   "source": [
    "scores = []\n",
    "for y in range(H):\n",
    "    x = 0\n",
    "    h = \"E\"\n",
    "    scores.append(compute_score(trace((y, x), h)))\n",
    "    x = W - 1\n",
    "    h = \"W\"\n",
    "    scores.append(compute_score(trace((y, x), h)))\n",
    "\n",
    "for x in range(W):\n",
    "    y = 0\n",
    "    h = \"S\"\n",
    "    scores.append(compute_score(trace((y, x), h)))\n",
    "    y = H - 1\n",
    "    h = \"N\"\n",
    "    scores.append(compute_score(trace((y, x), h)))\n",
    "\n",
    "submit(max(scores), part=\"b\", year=year, day=day)"
   ],
   "metadata": {
    "collapsed": false
   }
  },
  {
   "cell_type": "code",
   "execution_count": 124,
   "outputs": [
    {
     "data": {
      "text/plain": "array([[1., 0., 1., ..., 0., 0., 0.],\n       [1., 0., 1., ..., 1., 1., 1.],\n       [1., 1., 1., ..., 0., 0., 0.],\n       ...,\n       [0., 0., 0., ..., 0., 0., 0.],\n       [0., 0., 0., ..., 0., 0., 0.],\n       [0., 0., 0., ..., 0., 0., 0.]])"
     },
     "execution_count": 124,
     "metadata": {},
     "output_type": "execute_result"
    }
   ],
   "source": [
    "vis = np.zeros(data.shape)\n",
    "for loc, h in trace((0, 0), \"E\"):\n",
    "    y, x = loc\n",
    "    if y < 0 or y >= H or x < 0 or x >= W:\n",
    "        continue\n",
    "    vis[y, x] = 1\n",
    "\n",
    "vis"
   ],
   "metadata": {
    "collapsed": false
   }
  },
  {
   "cell_type": "code",
   "execution_count": 125,
   "outputs": [
    {
     "data": {
      "text/plain": "<matplotlib.image.AxesImage at 0x1438c9650>"
     },
     "execution_count": 125,
     "metadata": {},
     "output_type": "execute_result"
    },
    {
     "data": {
      "text/plain": "<Figure size 640x480 with 1 Axes>",
      "image/png": "[encoded data removed]"
     },
     "metadata": {},
     "output_type": "display_data"
    }
   ],
   "source": [
    "from matplotlib.pyplot import imshow\n",
    "\n",
    "imshow(vis)"
   ],
   "metadata": {
    "collapsed": false
   }
  },
  {
   "cell_type": "code",
   "execution_count": null,
   "outputs": [],
   "source": [],
   "metadata": {
    "collapsed": false
   }
  }
 ],
 "metadata": {
  "kernelspec": {
   "name": "aoc",
   "language": "python",
   "display_name": "aoc"
  },
  "language_info": {
   "codemirror_mode": {
    "name": "ipython",
    "version": 2
   },
   "file_extension": ".py",
   "mimetype": "text/x-python",
   "name": "python",
   "nbconvert_exporter": "python",
   "pygments_lexer": "ipython2",
   "version": "2.7.6"
  }
 },
 "nbformat": 4,
 "nbformat_minor": 0
}
