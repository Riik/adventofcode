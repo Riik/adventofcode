{
 "cells": [
  {
   "cell_type": "code",
   "execution_count": 5,
   "outputs": [],
   "source": [
    "year = 2023\n",
    "day = 14"
   ],
   "metadata": {
    "collapsed": false
   }
  },
  {
   "cell_type": "code",
   "execution_count": 68,
   "outputs": [
    {
     "data": {
      "text/plain": "array([['.', '.', '#', ..., '#', '.', '.'],\n       ['.', 'O', '.', ..., '.', '.', '.'],\n       ['.', '.', '.', ..., 'O', '.', '.'],\n       ...,\n       ['O', '.', '.', ..., '.', 'O', 'O'],\n       ['.', '#', '.', ..., '.', 'O', '.'],\n       ['.', 'O', '.', ..., '.', 'O', '.']], dtype='<U1')"
     },
     "execution_count": 68,
     "metadata": {},
     "output_type": "execute_result"
    }
   ],
   "source": [
    "from aocd import submit\n",
    "from aocd.models import Puzzle\n",
    "import numpy as np\n",
    "\n",
    "puzzle = Puzzle(year=year, day=day)\n",
    "data = puzzle.input_data\n",
    "# data = puzzle.examples[0].input_data\n",
    "\n",
    "data = data.strip()\n",
    "data = data.split(\"\\n\")\n",
    "# data = data.split(\"\\n\\n\")\n",
    "# data = [np.array([list(line) for line in d.split(\"\\n\")]) for d in data]\n",
    "data = [list(line) for line in data]\n",
    "data = np.array(data)\n",
    "data"
   ],
   "metadata": {
    "collapsed": false
   }
  },
  {
   "cell_type": "code",
   "execution_count": 69,
   "outputs": [
    {
     "data": {
      "text/plain": "array([['.', '.', '#', ..., '#', '.', '.'],\n       ['.', 'O', '.', ..., '.', '.', '.'],\n       ['.', '.', '.', ..., 'O', '.', '.'],\n       ...,\n       ['O', '.', '.', ..., '.', 'O', 'O'],\n       ['.', '#', '.', ..., '.', 'O', '.'],\n       ['.', 'O', '.', ..., '.', 'O', '.']], dtype='<U1')"
     },
     "execution_count": 69,
     "metadata": {},
     "output_type": "execute_result"
    }
   ],
   "source": [
    "\n",
    "def tilt(data, direction):\n",
    "    H, W = data.shape\n",
    "\n",
    "    if direction == \"N\":\n",
    "        offset = (-1, 0)\n",
    "        coord_order = [(y, x) for y in range(1, H) for x in range(W)]\n",
    "    elif direction == \"S\":\n",
    "        offset = (1, 0)\n",
    "        coord_order = [(y, x) for y in range(H-2, -1, -1) for x in range(W)]\n",
    "    elif direction == \"E\":\n",
    "        offset = (0, 1)\n",
    "        coord_order = [(y, x) for x in range(W-2, -1, -1) for y in range(H)]\n",
    "    elif direction == \"W\":\n",
    "        offset = (0, -1)\n",
    "        coord_order = [(y, x) for x in range(1, W) for y in range(H)]\n",
    "    else:\n",
    "        raise ValueError(\"Invalid direction\")\n",
    "\n",
    "    moving = True\n",
    "    while moving:\n",
    "        moving = False\n",
    "        for y, x in coord_order:\n",
    "                if data[y, x] == \"O\" and data[y+offset[0], x+offset[1]] == \".\":\n",
    "                    moving = True\n",
    "                    data[y+offset[0], x+offset[1]] = \"O\"\n",
    "                    data[y, x] = \".\"\n",
    "    return data\n",
    "\n",
    "data"
   ],
   "metadata": {
    "collapsed": false
   }
  },
  {
   "cell_type": "code",
   "execution_count": 69,
   "outputs": [],
   "source": [],
   "metadata": {
    "collapsed": false
   }
  },
  {
   "cell_type": "code",
   "execution_count": 70,
   "outputs": [],
   "source": [
    "def calculate_score(data):\n",
    "    H, W = data.shape\n",
    "    total = 0\n",
    "    for x in range(W):\n",
    "        for y in range(H):\n",
    "            if data[y, x] == \"O\":\n",
    "                total += H-y\n",
    "    return total"
   ],
   "metadata": {
    "collapsed": false
   }
  },
  {
   "cell_type": "code",
   "execution_count": 71,
   "outputs": [
    {
     "name": "stdout",
     "output_type": "stream",
     "text": [
      "aocd will not submit that answer again. At 2023-12-14 00:12:34.190351-05:00 you've previously submitted 113424 and the server responded with:\n",
      "\u001B[32mThat's the right answer!  You are one gold star closer to restoring snow operations. [Continue to Part Two]\u001B[0m\n"
     ]
    }
   ],
   "source": [
    "answer = calculate_score(tilt(data.copy(), \"N\"))\n",
    "submit(answer, part=\"a\", year=year, day=day)"
   ],
   "metadata": {
    "collapsed": false
   }
  },
  {
   "cell_type": "code",
   "execution_count": 57,
   "outputs": [],
   "source": [
    "def cycle(data):\n",
    "    data = tilt(data, \"N\")\n",
    "    data = tilt(data, \"W\")\n",
    "    data = tilt(data, \"S\")\n",
    "    data = tilt(data, \"E\")\n",
    "    return data"
   ],
   "metadata": {
    "collapsed": false
   }
  },
  {
   "cell_type": "code",
   "execution_count": 58,
   "outputs": [
    {
     "data": {
      "text/plain": "array([['.', '.', '.', '.', '.', '#', '.', '.', '.', '.'],\n       ['.', '.', '.', '.', '#', '.', '.', '.', 'O', '#'],\n       ['.', '.', '.', 'O', 'O', '#', '#', '.', '.', '.'],\n       ['.', 'O', 'O', '#', '.', '.', '.', '.', '.', '.'],\n       ['.', '.', '.', '.', '.', 'O', 'O', 'O', '#', '.'],\n       ['.', 'O', '#', '.', '.', '.', 'O', '#', '.', '#'],\n       ['.', '.', '.', '.', 'O', '#', '.', '.', '.', '.'],\n       ['.', '.', '.', '.', '.', '.', 'O', 'O', 'O', 'O'],\n       ['#', '.', '.', '.', 'O', '#', '#', '#', '.', '.'],\n       ['#', '.', '.', 'O', 'O', '#', '.', '.', '.', '.']], dtype='<U1')"
     },
     "execution_count": 58,
     "metadata": {},
     "output_type": "execute_result"
    }
   ],
   "source": [
    "cycle(data.copy())"
   ],
   "metadata": {
    "collapsed": false
   }
  },
  {
   "cell_type": "code",
   "execution_count": null,
   "outputs": [],
   "source": [],
   "metadata": {
    "collapsed": false
   }
  },
  {
   "cell_type": "code",
   "execution_count": 78,
   "outputs": [],
   "source": [
    "def cycle_until_stable(data):\n",
    "    scores = []\n",
    "    for i in range(150):\n",
    "        s = calculate_score(data)\n",
    "        print(i, i%9, s)\n",
    "        data = cycle(data)\n",
    "        if s in scores:\n",
    "            return scores\n",
    "        scores.append(s)\n",
    "    return scores\n"
   ],
   "metadata": {
    "collapsed": false
   }
  },
  {
   "cell_type": "code",
   "execution_count": 79,
   "outputs": [
    {
     "name": "stdout",
     "output_type": "stream",
     "text": [
      "0 0 105314\n",
      "1 1 104345\n",
      "2 2 104167\n",
      "3 3 103875\n",
      "4 4 103585\n",
      "5 5 103442\n",
      "6 6 103254\n",
      "7 7 103071\n",
      "8 8 102834\n",
      "9 0 102569\n",
      "10 1 102275\n",
      "11 2 102022\n",
      "12 3 101737\n",
      "13 4 101517\n",
      "14 5 101336\n",
      "15 6 101159\n",
      "16 7 100999\n",
      "17 8 100857\n",
      "18 0 100681\n",
      "19 1 100541\n",
      "20 2 100341\n",
      "21 3 100177\n",
      "22 4 100002\n",
      "23 5 99835\n",
      "24 6 99657\n",
      "25 7 99495\n",
      "26 8 99299\n",
      "27 0 99138\n",
      "28 1 98971\n",
      "29 2 98821\n",
      "30 3 98651\n",
      "31 4 98491\n",
      "32 5 98291\n",
      "33 6 98128\n",
      "34 7 97958\n",
      "35 8 97819\n",
      "36 0 97662\n",
      "37 1 97540\n",
      "38 2 97391\n",
      "39 3 97267\n",
      "40 4 97129\n",
      "41 5 97037\n",
      "42 6 96934\n",
      "43 7 96858\n",
      "44 8 96773\n",
      "45 0 96736\n",
      "46 1 96663\n",
      "47 2 96626\n",
      "48 3 96573\n",
      "49 4 96580\n",
      "50 5 96583\n",
      "51 6 96622\n",
      "52 7 96647\n",
      "53 8 96681\n",
      "54 0 96704\n",
      "55 1 96760\n",
      "56 2 96807\n",
      "57 3 96864\n",
      "58 4 96888\n",
      "59 5 96899\n",
      "60 6 96898\n",
      "61 7 96859\n",
      "62 8 96813\n",
      "63 0 96776\n",
      "64 1 96765\n",
      "65 2 96770\n",
      "66 3 96849\n",
      "67 4 96963\n",
      "68 5 97051\n",
      "69 6 97150\n",
      "70 7 97218\n",
      "71 8 97277\n",
      "72 0 97277\n"
     ]
    }
   ],
   "source": [
    "stable = cycle_until_stable(data.copy())"
   ],
   "metadata": {
    "collapsed": false
   }
  },
  {
   "cell_type": "code",
   "execution_count": 76,
   "outputs": [
    {
     "name": "stdout",
     "output_type": "stream",
     "text": [
      "0 105314\n",
      "1 104345\n",
      "2 104167\n",
      "3 103875\n",
      "4 103585\n",
      "5 103442\n",
      "6 103254\n",
      "7 103071\n",
      "8 102834\n",
      "0 102569\n",
      "1 102275\n",
      "2 102022\n",
      "3 101737\n",
      "4 101517\n",
      "5 101336\n",
      "6 101159\n",
      "7 100999\n",
      "8 100857\n",
      "0 100681\n",
      "1 100541\n",
      "2 100341\n",
      "3 100177\n",
      "4 100002\n",
      "5 99835\n",
      "6 99657\n",
      "7 99495\n",
      "8 99299\n",
      "0 99138\n",
      "1 98971\n",
      "2 98821\n",
      "3 98651\n",
      "4 98491\n",
      "5 98291\n",
      "6 98128\n",
      "7 97958\n",
      "8 97819\n",
      "0 97662\n",
      "1 97540\n",
      "2 97391\n",
      "3 97267\n",
      "4 97129\n",
      "5 97037\n",
      "6 96934\n",
      "7 96858\n",
      "8 96773\n",
      "0 96736\n",
      "1 96663\n",
      "2 96626\n",
      "3 96573\n",
      "4 96580\n",
      "5 96583\n",
      "6 96622\n",
      "7 96647\n",
      "8 96681\n",
      "0 96704\n",
      "1 96760\n",
      "2 96807\n",
      "3 96864\n",
      "4 96888\n",
      "5 96899\n",
      "6 96898\n",
      "7 96859\n",
      "8 96813\n",
      "0 96776\n",
      "1 96765\n",
      "2 96770\n",
      "3 96849\n",
      "4 96963\n",
      "5 97051\n",
      "6 97150\n",
      "7 97218\n",
      "8 97277\n",
      "0 97277\n",
      "1 97257\n",
      "2 97202\n",
      "3 97170\n",
      "4 97161\n",
      "5 97153\n",
      "6 97149\n",
      "7 97156\n",
      "8 97137\n",
      "0 97121\n",
      "1 97072\n",
      "2 97042\n",
      "3 96986\n",
      "4 96921\n",
      "5 96852\n",
      "6 96780\n",
      "7 96714\n",
      "8 96643\n",
      "0 96566\n",
      "1 96500\n",
      "2 96432\n",
      "3 96359\n",
      "4 96276\n",
      "5 96215\n",
      "6 96174\n",
      "7 96121\n",
      "8 96079\n",
      "0 96044\n",
      "1 96014\n",
      "2 95990\n",
      "3 95972\n",
      "4 95962\n",
      "5 95961\n",
      "6 95981\n",
      "7 96001\n",
      "8 96020\n",
      "0 96014\n",
      "1 96003\n",
      "2 95985\n",
      "3 95971\n",
      "4 95962\n",
      "5 95961\n",
      "6 95981\n",
      "7 96001\n",
      "8 96020\n",
      "0 96014\n",
      "1 96003\n",
      "2 95985\n",
      "3 95971\n",
      "4 95962\n",
      "5 95961\n",
      "6 95981\n",
      "7 96001\n",
      "8 96020\n",
      "0 96014\n",
      "1 96003\n",
      "2 95985\n",
      "3 95971\n",
      "4 95962\n",
      "5 95961\n",
      "6 95981\n",
      "7 96001\n",
      "8 96020\n",
      "0 96014\n",
      "1 96003\n",
      "2 95985\n",
      "3 95971\n",
      "4 95962\n",
      "5 95961\n",
      "6 95981\n",
      "7 96001\n",
      "8 96020\n",
      "0 96014\n",
      "1 96003\n",
      "2 95985\n",
      "3 95971\n",
      "4 95962\n",
      "5 95961\n"
     ]
    }
   ],
   "source": [
    "for i, s in enumerate(stable):\n",
    "    print(i%9, s)"
   ],
   "metadata": {
    "collapsed": false
   }
  },
  {
   "cell_type": "code",
   "execution_count": 77,
   "outputs": [
    {
     "data": {
      "text/plain": "1"
     },
     "execution_count": 77,
     "metadata": {},
     "output_type": "execute_result"
    }
   ],
   "source": [
    "1_000_000_000 % 9\n",
    "answer = 96003"
   ],
   "metadata": {
    "collapsed": false
   }
  },
  {
   "cell_type": "code",
   "execution_count": null,
   "outputs": [],
   "source": [],
   "metadata": {
    "collapsed": false
   }
  }
 ],
 "metadata": {
  "kernelspec": {
   "name": "aoc",
   "language": "python",
   "display_name": "aoc"
  },
  "language_info": {
   "codemirror_mode": {
    "name": "ipython",
    "version": 2
   },
   "file_extension": ".py",
   "mimetype": "text/x-python",
   "name": "python",
   "nbconvert_exporter": "python",
   "pygments_lexer": "ipython2",
   "version": "2.7.6"
  }
 },
 "nbformat": 4,
 "nbformat_minor": 0
}
