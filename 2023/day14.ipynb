{
 "cells": [
  {
   "cell_type": "code",
   "execution_count": 182,
   "outputs": [],
   "source": [
    "year = 2023\n",
    "day = 14"
   ],
   "metadata": {
    "collapsed": false
   }
  },
  {
   "cell_type": "code",
   "execution_count": 183,
   "outputs": [
    {
     "data": {
      "text/plain": "array([['.', '.', '#', ..., '#', '.', '.'],\n       ['.', 'O', '.', ..., '.', '.', '.'],\n       ['.', '.', '.', ..., 'O', '.', '.'],\n       ...,\n       ['O', '.', '.', ..., '.', 'O', 'O'],\n       ['.', '#', '.', ..., '.', 'O', '.'],\n       ['.', 'O', '.', ..., '.', 'O', '.']], dtype='<U1')"
     },
     "execution_count": 183,
     "metadata": {},
     "output_type": "execute_result"
    }
   ],
   "source": [
    "from aocd import submit\n",
    "from aocd.models import Puzzle\n",
    "import numpy as np\n",
    "\n",
    "puzzle = Puzzle(year=year, day=day)\n",
    "data = puzzle.input_data\n",
    "# data = puzzle.examples[0].input_data\n",
    "\n",
    "data = data.strip()\n",
    "data = data.split(\"\\n\")\n",
    "\n",
    "data = [list(line) for line in data]\n",
    "data = np.array(data)\n",
    "data"
   ],
   "metadata": {
    "collapsed": false
   }
  },
  {
   "cell_type": "code",
   "execution_count": 192,
   "outputs": [],
   "source": [
    "def tilt(data, direction):\n",
    "    while True:\n",
    "        if direction == \"N\":\n",
    "            mask = (data[:-1] == \".\") & (data[1:, :] == \"O\")\n",
    "            move_to = np.vstack((mask, np.full((1,data.shape[1]), False)))\n",
    "            move_from = np.vstack((np.full((1,data.shape[1]), False), mask))\n",
    "        elif direction == \"S\":\n",
    "            mask = (data[1:] == \".\") & (data[:-1, :] == \"O\")\n",
    "            move_to = np.vstack((np.full((1,data.shape[1]), False), mask))\n",
    "            move_from = np.vstack((mask, np.full((1,data.shape[1]), False)))\n",
    "        elif direction == \"E\":\n",
    "            mask = (data[:, 1:] == \".\") & (data[:, :-1] == \"O\")\n",
    "            move_to = np.hstack((np.full((data.shape[0], 1), False), mask))\n",
    "            move_from = np.hstack((mask, np.full((data.shape[0], 1), False)))\n",
    "        elif direction == \"W\":\n",
    "            mask = (data[:, :-1] == \".\") & (data[:, 1:] == \"O\")\n",
    "            move_to = np.hstack((mask, np.full((data.shape[0], 1), False)))\n",
    "            move_from = np.hstack((np.full((data.shape[0], 1), False), mask))\n",
    "        else:\n",
    "            raise ValueError(f\"Unknown direction {direction}\")\n",
    "        if not np.any(mask):\n",
    "            break\n",
    "        data[move_from] = \".\"\n",
    "        data[move_to] = \"O\"\n",
    "\n",
    "    return data"
   ],
   "metadata": {
    "collapsed": false
   }
  },
  {
   "cell_type": "code",
   "execution_count": 193,
   "outputs": [],
   "source": [
    "def calculate_score(data):\n",
    "    H, W = data.shape\n",
    "    total = 0\n",
    "    for x in range(W):\n",
    "        for y in range(H):\n",
    "            if data[y, x] == \"O\":\n",
    "                total += H-y\n",
    "    return total"
   ],
   "metadata": {
    "collapsed": false
   }
  },
  {
   "cell_type": "code",
   "execution_count": 194,
   "outputs": [
    {
     "name": "stdout",
     "output_type": "stream",
     "text": [
      "aocd will not submit that answer again. At 2023-12-14 00:12:34.190351-05:00 you've previously submitted 113424 and the server responded with:\n",
      "\u001B[32mThat's the right answer!  You are one gold star closer to restoring snow operations. [Continue to Part Two]\u001B[0m\n"
     ]
    }
   ],
   "source": [
    "answer = calculate_score(tilt(data.copy(), \"N\"))\n",
    "submit(answer, part=\"a\", year=year, day=day)"
   ],
   "metadata": {
    "collapsed": false
   }
  },
  {
   "cell_type": "code",
   "execution_count": 195,
   "outputs": [],
   "source": [
    "def cycle(data):\n",
    "    data = tilt(data, \"N\")\n",
    "    data = tilt(data, \"W\")\n",
    "    data = tilt(data, \"S\")\n",
    "    data = tilt(data, \"E\")\n",
    "    return data"
   ],
   "metadata": {
    "collapsed": false
   }
  },
  {
   "cell_type": "code",
   "execution_count": 196,
   "outputs": [],
   "source": [
    "def find_repeats(seq):\n",
    "    # start from 2 to fix issue with repeating score but not repeating board\n",
    "    for i in range(2, len(seq) // 2):\n",
    "        if seq[-i:] == seq[-2*i:-i]:\n",
    "            return i\n",
    "    return None"
   ],
   "metadata": {
    "collapsed": false
   }
  },
  {
   "cell_type": "code",
   "execution_count": 197,
   "outputs": [],
   "source": [
    "# MAX_TRIES is a heuristic to prevent it looping too long\n",
    "MAX_TRIES = 200\n",
    "def cycle_until_repeats(data):\n",
    "    scores = []\n",
    "    for i in range(MAX_TRIES):\n",
    "        s = calculate_score(data)\n",
    "        print(i, s)\n",
    "        data = cycle(data)\n",
    "        # bit of an assumption here:\n",
    "        # we want to detect repeating patterns in the board positions.\n",
    "        # we do this by detection repeating patterns in board score,\n",
    "        # but board score is not a unique hash of board position.\n",
    "        if cyc := find_repeats(scores):\n",
    "            return cyc, scores\n",
    "        scores.append(s)\n",
    "    return 0, scores\n"
   ],
   "metadata": {
    "collapsed": false
   }
  },
  {
   "cell_type": "code",
   "execution_count": 198,
   "outputs": [
    {
     "name": "stdout",
     "output_type": "stream",
     "text": [
      "0 105314\n",
      "1 104345\n",
      "2 104167\n",
      "3 103875\n",
      "4 103585\n",
      "5 103442\n",
      "6 103254\n",
      "7 103071\n",
      "8 102834\n",
      "9 102569\n",
      "10 102275\n",
      "11 102022\n",
      "12 101737\n",
      "13 101517\n",
      "14 101336\n",
      "15 101159\n",
      "16 100999\n",
      "17 100857\n",
      "18 100681\n",
      "19 100541\n",
      "20 100341\n",
      "21 100177\n",
      "22 100002\n",
      "23 99835\n",
      "24 99657\n",
      "25 99495\n",
      "26 99299\n",
      "27 99138\n",
      "28 98971\n",
      "29 98821\n",
      "30 98651\n",
      "31 98491\n",
      "32 98291\n",
      "33 98128\n",
      "34 97958\n",
      "35 97819\n",
      "36 97662\n",
      "37 97540\n",
      "38 97391\n",
      "39 97267\n",
      "40 97129\n",
      "41 97037\n",
      "42 96934\n",
      "43 96858\n",
      "44 96773\n",
      "45 96736\n",
      "46 96663\n",
      "47 96626\n",
      "48 96573\n",
      "49 96580\n",
      "50 96583\n",
      "51 96622\n",
      "52 96647\n",
      "53 96681\n",
      "54 96704\n",
      "55 96760\n",
      "56 96807\n",
      "57 96864\n",
      "58 96888\n",
      "59 96899\n",
      "60 96898\n",
      "61 96859\n",
      "62 96813\n",
      "63 96776\n",
      "64 96765\n",
      "65 96770\n",
      "66 96849\n",
      "67 96963\n",
      "68 97051\n",
      "69 97150\n",
      "70 97218\n",
      "71 97277\n",
      "72 97277\n",
      "73 97257\n",
      "74 97202\n",
      "75 97170\n",
      "76 97161\n",
      "77 97153\n",
      "78 97149\n",
      "79 97156\n",
      "80 97137\n",
      "81 97121\n",
      "82 97072\n",
      "83 97042\n",
      "84 96986\n",
      "85 96921\n",
      "86 96852\n",
      "87 96780\n",
      "88 96714\n",
      "89 96643\n",
      "90 96566\n",
      "91 96500\n",
      "92 96432\n",
      "93 96359\n",
      "94 96276\n",
      "95 96215\n",
      "96 96174\n",
      "97 96121\n",
      "98 96079\n",
      "99 96044\n",
      "100 96014\n",
      "101 95990\n",
      "102 95972\n",
      "103 95962\n",
      "104 95961\n",
      "105 95981\n",
      "106 96001\n",
      "107 96020\n",
      "108 96014\n",
      "109 96003\n",
      "110 95985\n",
      "111 95971\n",
      "112 95962\n",
      "113 95961\n",
      "114 95981\n",
      "115 96001\n",
      "116 96020\n",
      "117 96014\n",
      "118 96003\n",
      "119 95985\n",
      "120 95971\n",
      "121 95962\n"
     ]
    }
   ],
   "source": [
    "cycle_len, scores = cycle_until_repeats(data.copy())"
   ],
   "metadata": {
    "collapsed": false
   }
  },
  {
   "cell_type": "code",
   "execution_count": 199,
   "outputs": [
    {
     "data": {
      "text/plain": "96003"
     },
     "execution_count": 199,
     "metadata": {},
     "output_type": "execute_result"
    }
   ],
   "source": [
    "\n",
    "offset = len(scores) % cycle_len\n",
    "answer_idx = 1_000_000_000 % cycle_len\n",
    "answer = scores[-cycle_len+(answer_idx-offset)%cycle_len]\n"
   ],
   "metadata": {
    "collapsed": false
   }
  }
 ],
 "metadata": {
  "kernelspec": {
   "name": "aoc",
   "language": "python",
   "display_name": "aoc"
  },
  "language_info": {
   "codemirror_mode": {
    "name": "ipython",
    "version": 2
   },
   "file_extension": ".py",
   "mimetype": "text/x-python",
   "name": "python",
   "nbconvert_exporter": "python",
   "pygments_lexer": "ipython2",
   "version": "2.7.6"
  }
 },
 "nbformat": 4,
 "nbformat_minor": 0
}
