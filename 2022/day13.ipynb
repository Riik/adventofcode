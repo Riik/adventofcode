{
 "cells": [
  {
   "cell_type": "code",
   "execution_count": 149,
   "id": "01c3344e",
   "metadata": {},
   "outputs": [],
   "source": [
    "from aocd import get_data, submit\n",
    "data = get_data(year=2022, day=13)\n",
    "data = data.split(\"\\n\\n\")\n",
    "data = [d.split(\"\\n\") for d in data]\n",
    "data = [(eval(left), eval(right)) for left, right in data]\n"
   ]
  },
  {
   "cell_type": "code",
   "execution_count": 150,
   "id": "b21120c6",
   "metadata": {},
   "outputs": [],
   "source": [
    "DEBUG = 0\n",
    "def print_debug(p):\n",
    "    if DEBUG:\n",
    "        print(p)\n",
    "\n",
    "def compare(left, right):\n",
    "    for l, r in zip(left, right):\n",
    "        if isinstance(l, int) and isinstance(r, int):\n",
    "            print_debug(f\"{l} and {r} are both ints\")\n",
    "            if l == r: \n",
    "                print_debug(\"Equal, continue to next item\")\n",
    "                continue\n",
    "            print_debug(f\"Returning {l-r}\")\n",
    "            return l - r\n",
    "        if isinstance(l, list) and isinstance(r, int):\n",
    "            print_debug(f\"{l} is a list, converting {r} to list\")\n",
    "            if not (c := compare(l, [r])): \n",
    "                continue\n",
    "            return c\n",
    "        if isinstance(l, int) and isinstance(r, list):\n",
    "            print_debug(f\"Convertin {l} to a list and {r} is a list\")\n",
    "            if not (c := compare([l], r)): \n",
    "                continue\n",
    "            return c\n",
    "        if isinstance(l, list) and isinstance(r, list):\n",
    "            print_debug(f\"{l} and {r} are both list\")\n",
    "            if not (c := compare(l, r)): \n",
    "                continue\n",
    "            return c\n",
    "    print_debug(f\"Ran out of elements, checking length of {left} and {right}\")\n",
    "    print_debug(f\"Returning {len(left) - len(right)}\")\n",
    "    return len(left) - len(right)"
   ]
  },
  {
   "cell_type": "code",
   "execution_count": 151,
   "id": "c1241cb7",
   "metadata": {},
   "outputs": [],
   "source": [
    "result = []\n",
    "i = 1\n",
    "for l,r in data:\n",
    "    print_debug(f\"\\n{i}\")\n",
    "    result.append(compare(l,r))\n",
    "    i += 1"
   ]
  },
  {
   "cell_type": "code",
   "execution_count": 152,
   "id": "3d9eb476",
   "metadata": {},
   "outputs": [
    {
     "data": {
      "text/plain": [
       "6568"
      ]
     },
     "execution_count": 152,
     "metadata": {},
     "output_type": "execute_result"
    }
   ],
   "source": [
    "import numpy as np\n",
    "answer = np.sum(np.where(np.array(result) < 0)[0] + 1)\n",
    "answer"
   ]
  },
  {
   "cell_type": "code",
   "execution_count": 153,
   "id": "5ca4d1b3",
   "metadata": {},
   "outputs": [
    {
     "name": "stdout",
     "output_type": "stream",
     "text": [
      "Part a already solved with same answer: 6568\n"
     ]
    }
   ],
   "source": [
    "submit(answer, year=2022, day=13, part=\"a\")"
   ]
  },
  {
   "cell_type": "code",
   "execution_count": 154,
   "id": "0535c921",
   "metadata": {},
   "outputs": [],
   "source": [
    "from functools import cmp_to_key\n",
    "compare_key = cmp_to_key(compare)\n",
    "\n",
    "dividers = [[[2]], [[6]]]\n",
    "\n",
    "flat_data = list(sum(data.copy(), ()))\n",
    "flat_data.extend(dividers)\n",
    "flat_data.sort(key=compare_key)"
   ]
  },
  {
   "cell_type": "code",
   "execution_count": 155,
   "id": "148f5557",
   "metadata": {},
   "outputs": [
    {
     "data": {
      "text/plain": [
       "19493"
      ]
     },
     "execution_count": 155,
     "metadata": {},
     "output_type": "execute_result"
    }
   ],
   "source": [
    "indices = []\n",
    "for i, d in enumerate(flat_data):\n",
    "    if d in dividers:\n",
    "        indices.append(i+1)\n",
    "answer = np.product(indices)\n",
    "answer"
   ]
  },
  {
   "cell_type": "code",
   "execution_count": 156,
   "id": "c53f7aed",
   "metadata": {},
   "outputs": [
    {
     "name": "stdout",
     "output_type": "stream",
     "text": [
      "Part b already solved with same answer: 19493\n"
     ]
    }
   ],
   "source": [
    "submit(answer, year=2022, day=13, part=\"b\")"
   ]
  }
 ],
 "metadata": {
  "kernelspec": {
   "display_name": "adventofcode",
   "language": "python",
   "name": "adventofcode"
  },
  "language_info": {
   "codemirror_mode": {
    "name": "ipython",
    "version": 3
   },
   "file_extension": ".py",
   "mimetype": "text/x-python",
   "name": "python",
   "nbconvert_exporter": "python",
   "pygments_lexer": "ipython3",
   "version": "3.10.5"
  }
 },
 "nbformat": 4,
 "nbformat_minor": 5
}
