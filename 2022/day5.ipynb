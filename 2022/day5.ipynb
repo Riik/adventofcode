{
 "cells": [
  {
   "cell_type": "code",
   "execution_count": 133,
   "id": "5e8c7200",
   "metadata": {},
   "outputs": [],
   "source": [
    "challenge_day = 5\n",
    "from aocd import get_data, submit\n",
    "data = get_data(year=2022, day=challenge_day).split(\"\\n\\n\")\n",
    "# data = \"\"\"    [D]    \n",
    "# [N] [C]    \n",
    "# [Z] [M] [P]\n",
    "#  1   2   3 \n",
    "\n",
    "# move 1 from 2 to 1\n",
    "# move 3 from 1 to 3\n",
    "# move 2 from 2 to 1\n",
    "# move 1 from 1 to 2\"\"\".split(\"\\n\\n\")"
   ]
  },
  {
   "cell_type": "code",
   "execution_count": 134,
   "id": "6d0798bb",
   "metadata": {},
   "outputs": [
    {
     "data": {
      "text/plain": [
       "[['[G]', '[G]', '[C]', '[J]', '[P]', '[P]', '[Z]', '[R]', '[H]'],\n",
       " ['[T]', '[C]', '[L]', '[H]', '[Q]', '[J]', '[B]', '[T]', '[N]'],\n",
       " ['[R]', '[H]', '[T]', '[D]', '[L]', '[D]', '[D]', '[B]', '[W]'],\n",
       " ['[W]', '[P]', '[S]', '[M]', '[H]', '[N]', '[F]', '', '[L]'],\n",
       " ['', '[M]', '[G]', '[W]', '[S]', '[F]', '[G]', '', '[C]'],\n",
       " ['', '[S]', '[M]', '[R]', '[W]', '[M]', '[C]', '', ''],\n",
       " ['', '[V]', '', '[F]', '[F]', '[S]', '[S]', '', ''],\n",
       " ['', '[W]', '', '', '[J]', '', '[J]', '', '']]"
      ]
     },
     "execution_count": 134,
     "metadata": {},
     "output_type": "execute_result"
    }
   ],
   "source": [
    "crates = data[0]\n",
    "crates= crates.split(\"\\n\")\n",
    "# parse crate locations\n",
    "crates = [[crate[i:i+4].strip() for i in range(0, len(crate)+1, 4)] for crate in crates]\n",
    "# throw out number stack \n",
    "crates = crates[:-1]\n",
    "# start from bottom\n",
    "crates = list(reversed(crates))\n",
    "crates"
   ]
  },
  {
   "cell_type": "code",
   "execution_count": 135,
   "id": "44607996",
   "metadata": {},
   "outputs": [],
   "source": [
    "def parse_crates(crates):\n",
    "    new_crates = {}\n",
    "    for layer in crates:\n",
    "        for i, item in enumerate(layer):\n",
    "            if i in new_crates:\n",
    "                new_crates[i].append(item)\n",
    "            else:\n",
    "                new_crates[i] = [item]\n",
    "    for i in new_crates:\n",
    "        while not (new_crates[i][-1]):\n",
    "            new_crates[i].pop()\n",
    "    return new_crates"
   ]
  },
  {
   "cell_type": "code",
   "execution_count": 136,
   "id": "cdc83d50",
   "metadata": {},
   "outputs": [
    {
     "data": {
      "text/plain": [
       "{0: ['[G]', '[T]', '[R]', '[W]'],\n",
       " 1: ['[G]', '[C]', '[H]', '[P]', '[M]', '[S]', '[V]', '[W]'],\n",
       " 2: ['[C]', '[L]', '[T]', '[S]', '[G]', '[M]'],\n",
       " 3: ['[J]', '[H]', '[D]', '[M]', '[W]', '[R]', '[F]'],\n",
       " 4: ['[P]', '[Q]', '[L]', '[H]', '[S]', '[W]', '[F]', '[J]'],\n",
       " 5: ['[P]', '[J]', '[D]', '[N]', '[F]', '[M]', '[S]'],\n",
       " 6: ['[Z]', '[B]', '[D]', '[F]', '[G]', '[C]', '[S]', '[J]'],\n",
       " 7: ['[R]', '[T]', '[B]'],\n",
       " 8: ['[H]', '[N]', '[W]', '[L]', '[C]']}"
      ]
     },
     "execution_count": 136,
     "metadata": {},
     "output_type": "execute_result"
    }
   ],
   "source": [
    "new_crates = parse_crates(crates)\n",
    "new_crates"
   ]
  },
  {
   "cell_type": "code",
   "execution_count": 137,
   "id": "50f484bc",
   "metadata": {},
   "outputs": [
    {
     "data": {
      "text/plain": [
       "{0: ['[C]',\n",
       "  '[G]',\n",
       "  '[D]',\n",
       "  '[J]',\n",
       "  '[S]',\n",
       "  '[T]',\n",
       "  '[W]',\n",
       "  '[H]',\n",
       "  '[S]',\n",
       "  '[F]',\n",
       "  '[B]',\n",
       "  '[P]',\n",
       "  '[P]',\n",
       "  '[J]'],\n",
       " 1: ['[D]', '[C]'],\n",
       " 2: ['[L]', '[Q]', '[J]', '[W]', '[S]', '[M]'],\n",
       " 3: ['[C]',\n",
       "  '[F]',\n",
       "  '[T]',\n",
       "  '[R]',\n",
       "  '[W]',\n",
       "  '[M]',\n",
       "  '[N]',\n",
       "  '[C]',\n",
       "  '[J]',\n",
       "  '[D]',\n",
       "  '[W]',\n",
       "  '[F]',\n",
       "  '[L]',\n",
       "  '[H]',\n",
       "  '[B]',\n",
       "  '[H]'],\n",
       " 4: ['[S]', '[N]', '[L]'],\n",
       " 5: ['[S]', '[M]', '[T]', '[Z]', '[F]', '[V]'],\n",
       " 6: ['[H]', '[W]', '[P]', '[R]', '[G]', '[R]', '[G]'],\n",
       " 7: ['[M]'],\n",
       " 8: ['[G]']}"
      ]
     },
     "execution_count": 137,
     "metadata": {},
     "output_type": "execute_result"
    }
   ],
   "source": [
    "moves = data[1]\n",
    "new_crates = parse_crates(crates)\n",
    "moves = [list(map(int, move.split(\" \")[1::2])) for move in moves.split(\"\\n\")]\n",
    "for n, a, b in moves: \n",
    "    a, b = int(a) - 1, int(b) - 1\n",
    "    for i in range(n):\n",
    "        item = new_crates[a].pop()\n",
    "        new_crates[b].append(item)\n",
    "new_crates"
   ]
  },
  {
   "cell_type": "code",
   "execution_count": 138,
   "id": "8f1a227b",
   "metadata": {},
   "outputs": [
    {
     "data": {
      "text/plain": [
       "'JCMHLVGMG'"
      ]
     },
     "execution_count": 138,
     "metadata": {},
     "output_type": "execute_result"
    }
   ],
   "source": [
    "def get_answer(crates):\n",
    "    answer = \"\"\n",
    "    for key in crates:\n",
    "        item = crates[key][-1].replace(\"[\", \"\").replace(\"]\", \"\")\n",
    "        answer += item\n",
    "    return answer\n",
    "answer = get_answer(new_crates)\n",
    "answer"
   ]
  },
  {
   "cell_type": "code",
   "execution_count": 139,
   "id": "9c655300",
   "metadata": {},
   "outputs": [
    {
     "name": "stdout",
     "output_type": "stream",
     "text": [
      "Part a already solved with same answer: JCMHLVGMG\n"
     ]
    }
   ],
   "source": [
    "submit(answer, year=2022, day=5, part=\"a\")"
   ]
  },
  {
   "cell_type": "code",
   "execution_count": 140,
   "id": "b7ed5c5c",
   "metadata": {
    "scrolled": false
   },
   "outputs": [
    {
     "data": {
      "text/plain": [
       "{0: ['[D]',\n",
       "  '[B]',\n",
       "  '[C]',\n",
       "  '[C]',\n",
       "  '[J]',\n",
       "  '[H]',\n",
       "  '[J]',\n",
       "  '[F]',\n",
       "  '[N]',\n",
       "  '[D]',\n",
       "  '[S]',\n",
       "  '[D]',\n",
       "  '[C]',\n",
       "  '[L]'],\n",
       " 1: ['[T]', '[V]'],\n",
       " 2: ['[S]', '[F]', '[R]', '[Q]', '[G]', '[M]'],\n",
       " 3: ['[L]',\n",
       "  '[S]',\n",
       "  '[N]',\n",
       "  '[G]',\n",
       "  '[J]',\n",
       "  '[P]',\n",
       "  '[G]',\n",
       "  '[M]',\n",
       "  '[C]',\n",
       "  '[W]',\n",
       "  '[H]',\n",
       "  '[W]',\n",
       "  '[W]',\n",
       "  '[G]',\n",
       "  '[H]',\n",
       "  '[R]'],\n",
       " 4: ['[J]', '[T]', '[W]'],\n",
       " 5: ['[F]', '[P]', '[T]', '[H]', '[W]', '[S]'],\n",
       " 6: ['[B]', '[M]', '[R]', '[M]', '[L]', '[F]', '[S]'],\n",
       " 7: ['[P]'],\n",
       " 8: ['[Z]']}"
      ]
     },
     "execution_count": 140,
     "metadata": {},
     "output_type": "execute_result"
    }
   ],
   "source": [
    "moves = data[1]\n",
    "new_crates = parse_crates(crates)\n",
    "moves = [list(map(int, move.split(\" \")[1::2])) for move in moves.split(\"\\n\")]\n",
    "for n, a, b in moves: \n",
    "    a, b = int(a) - 1, int(b) - 1\n",
    "    \n",
    "    items = new_crates[a][-n:]\n",
    "    new_crates[b].extend(items)\n",
    "    for i in range(n):\n",
    "        new_crates[a].pop()\n",
    "new_crates"
   ]
  },
  {
   "cell_type": "code",
   "execution_count": 141,
   "id": "dd241a6e",
   "metadata": {},
   "outputs": [
    {
     "data": {
      "text/plain": [
       "'LVMRWSSPZ'"
      ]
     },
     "execution_count": 141,
     "metadata": {},
     "output_type": "execute_result"
    }
   ],
   "source": [
    "answer = get_answer(new_crates)\n",
    "answer"
   ]
  },
  {
   "cell_type": "code",
   "execution_count": 142,
   "id": "b96ace2e",
   "metadata": {},
   "outputs": [
    {
     "name": "stdout",
     "output_type": "stream",
     "text": [
      "That's the right answer!  You are one gold star closer to collecting enough star fruit.You have completed Day 5! You can [Shareon\n",
      "  Twitter\n",
      "Mastodon] this victory or [Return to Your Advent Calendar].\n"
     ]
    },
    {
     "data": {
      "text/plain": [
       "<Response [200]>"
      ]
     },
     "execution_count": 142,
     "metadata": {},
     "output_type": "execute_result"
    }
   ],
   "source": [
    "submit(answer, year=2022, day=5, part=\"b\")"
   ]
  },
  {
   "cell_type": "code",
   "execution_count": null,
   "id": "2dc302cf",
   "metadata": {},
   "outputs": [],
   "source": []
  }
 ],
 "metadata": {
  "kernelspec": {
   "display_name": "adventofcode",
   "language": "python",
   "name": "adventofcode"
  },
  "language_info": {
   "codemirror_mode": {
    "name": "ipython",
    "version": 3
   },
   "file_extension": ".py",
   "mimetype": "text/x-python",
   "name": "python",
   "nbconvert_exporter": "python",
   "pygments_lexer": "ipython3",
   "version": "3.10.5"
  }
 },
 "nbformat": 4,
 "nbformat_minor": 5
}
