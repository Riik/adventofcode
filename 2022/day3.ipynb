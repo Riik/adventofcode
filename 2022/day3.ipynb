{
 "cells": [
  {
   "cell_type": "code",
   "execution_count": 1,
   "id": "30b640ea",
   "metadata": {},
   "outputs": [],
   "source": [
    "from aocd import get_data, submit "
   ]
  },
  {
   "cell_type": "code",
   "execution_count": 18,
   "id": "9c3ccc50",
   "metadata": {},
   "outputs": [],
   "source": [
    "data = get_data(year=2022, day=3).split(\"\\n\")\n",
    "double_elements = [list(set(d[:len(d)//2]) & set(d[len(d)//2:]))[0]  for d in data]"
   ]
  },
  {
   "cell_type": "code",
   "execution_count": 47,
   "id": "9cd23cf2",
   "metadata": {},
   "outputs": [],
   "source": [
    "def priority_mapping(c):\n",
    "    if ord(c) >= ord('a'):\n",
    "        return ord(c) - ord('a') + 1\n",
    "    else:\n",
    "        return ord(c) - ord('A') + 26 + 1"
   ]
  },
  {
   "cell_type": "code",
   "execution_count": 54,
   "id": "6f16e7e5",
   "metadata": {},
   "outputs": [],
   "source": [
    "total_prio = sum(priority_mapping(i) for i in double_elements)"
   ]
  },
  {
   "cell_type": "code",
   "execution_count": 55,
   "id": "751260d0",
   "metadata": {},
   "outputs": [
    {
     "name": "stdout",
     "output_type": "stream",
     "text": [
      "That's the right answer!  You are one gold star closer to collecting enough star fruit. [Continue to Part Two]\n"
     ]
    },
    {
     "data": {
      "text/plain": [
       "<Response [200]>"
      ]
     },
     "execution_count": 55,
     "metadata": {},
     "output_type": "execute_result"
    }
   ],
   "source": [
    "submit(total_prio, year=2022, day=3, part=\"a\")"
   ]
  },
  {
   "cell_type": "code",
   "execution_count": 68,
   "id": "e813f7da",
   "metadata": {},
   "outputs": [],
   "source": [
    "groups = list(zip(*(iter(data),) * 3))\n",
    "def get_common_element(group):\n",
    "    return list(set(group[0]) & set(group[1]) & set(group[2]))[0]\n",
    "badges = [get_common_element(g) for g in groups]\n",
    "\n",
    "total_prio = sum(priority_mapping(i) for i in badges)"
   ]
  },
  {
   "cell_type": "code",
   "execution_count": 69,
   "id": "198c5c94",
   "metadata": {},
   "outputs": [
    {
     "name": "stdout",
     "output_type": "stream",
     "text": [
      "That's the right answer!  You are one gold star closer to collecting enough star fruit.You have completed Day 3! You can [Shareon\n",
      "  Twitter\n",
      "Mastodon] this victory or [Return to Your Advent Calendar].\n"
     ]
    },
    {
     "data": {
      "text/plain": [
       "<Response [200]>"
      ]
     },
     "execution_count": 69,
     "metadata": {},
     "output_type": "execute_result"
    }
   ],
   "source": [
    "submit(total_prio, year=2022, day=3, part=\"b\")"
   ]
  },
  {
   "cell_type": "code",
   "execution_count": null,
   "id": "6aab16c7",
   "metadata": {},
   "outputs": [],
   "source": []
  }
 ],
 "metadata": {
  "kernelspec": {
   "display_name": "adventofcode",
   "language": "python",
   "name": "adventofcode"
  },
  "language_info": {
   "codemirror_mode": {
    "name": "ipython",
    "version": 3
   },
   "file_extension": ".py",
   "mimetype": "text/x-python",
   "name": "python",
   "nbconvert_exporter": "python",
   "pygments_lexer": "ipython3",
   "version": "3.10.5"
  }
 },
 "nbformat": 4,
 "nbformat_minor": 5
}
