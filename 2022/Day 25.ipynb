{
 "cells": [
  {
   "cell_type": "code",
   "execution_count": 68,
   "id": "eb37c93d",
   "metadata": {},
   "outputs": [],
   "source": [
    "from aocd import get_data, submit\n",
    "data = get_data(year=2022, day=25)\n",
    "data = data.splitlines()"
   ]
  },
  {
   "cell_type": "code",
   "execution_count": 69,
   "id": "f4270fa7",
   "metadata": {},
   "outputs": [
    {
     "data": {
      "text/plain": [
       "{2: '2', 1: '1', 0: '0', -1: '-', -2: '='}"
      ]
     },
     "execution_count": 69,
     "metadata": {},
     "output_type": "execute_result"
    }
   ],
   "source": [
    "s = {\n",
    "    \"2\": 2, \n",
    "    \"1\": 1, \n",
    "    \"0\": 0, \n",
    "    \"-\": -1,\n",
    "    \"=\": -2\n",
    "}\n",
    "s_inv = {v: k for k, v in s.items()}\n",
    "s_inv"
   ]
  },
  {
   "cell_type": "code",
   "execution_count": 70,
   "id": "93a6133e",
   "metadata": {},
   "outputs": [],
   "source": [
    "def snafu_add_single(left, right):\n",
    "    l = s[left]\n",
    "    r = s[right]\n",
    "    \n",
    "    total = l + r\n",
    "    remainder = 0\n",
    "    if total > 2:\n",
    "        total -= 5\n",
    "        remainder = 1\n",
    "    if total < -2:\n",
    "        total += 5\n",
    "        remainder = -1\n",
    "    \n",
    "    total = s_inv[total]\n",
    "    remainder = s_inv[remainder]\n",
    "    \n",
    "    return remainder, total"
   ]
  },
  {
   "cell_type": "code",
   "execution_count": 72,
   "id": "dcfcc754",
   "metadata": {},
   "outputs": [],
   "source": [
    "assert snafu_add_single(\"=\", \"-\") == (\"-\", \"2\")"
   ]
  },
  {
   "cell_type": "code",
   "execution_count": 89,
   "id": "c8daa364",
   "metadata": {},
   "outputs": [],
   "source": [
    "from itertools import zip_longest\n",
    "\n",
    "def snafu_add(a, b, verbose=False):\n",
    "    print_debug = lambda p = None: print(p) if verbose else None\n",
    "    \n",
    "    print_debug(f\"Adding {a} and {b}\")\n",
    "    remainder = \"0\"\n",
    "    answer = \"\"\n",
    "    for l, r in zip_longest(reversed(list(a)), reversed(list(b)), fillvalue=\"0\"):\n",
    "        print_debug(f\"Adding left {l} with remainder {remainder}\")\n",
    "        remainder_a, l = snafu_add_single(l, remainder)\n",
    "        print_debug(f\"Remainder a is {remainder_a}\")\n",
    "        print_debug(f\"New left is {l}\")\n",
    "        print_debug(f\"Adding right {r}\")\n",
    "        remainder_b, total = snafu_add_single(l, r)\n",
    "        print_debug(f\"Remainder b is {remainder_b}\")\n",
    "        print_debug(f\"Value is {total}\")\n",
    "        remainder_remainder, remainder = snafu_add_single(remainder_a, remainder_b)\n",
    "        print_debug(f\"Final remainder is {remainder}\")\n",
    "        print_debug(\"\\n\")\n",
    "\n",
    "        if remainder_remainder != \"0\":\n",
    "            raise ValueError\n",
    "            \n",
    "        answer += total\n",
    "\n",
    "    if remainder != \"0\":\n",
    "        answer += remainder\n",
    "        \n",
    "    answer = \"\".join(reversed(answer))\n",
    "    print_debug(f\"Answer is {answer}\")\n",
    "\n",
    "    return answer\n"
   ]
  },
  {
   "cell_type": "code",
   "execution_count": 90,
   "id": "efbdc76c",
   "metadata": {},
   "outputs": [
    {
     "name": "stdout",
     "output_type": "stream",
     "text": [
      "Adding 1=0 and 1-0\n",
      "Adding left 0 with remainder 0\n",
      "Remainder a is 0\n",
      "New left is 0\n",
      "Adding right 0\n",
      "Remainder b is 0\n",
      "Value is 0\n",
      "Final remainder is 0\n",
      "\n",
      "\n",
      "Adding left = with remainder 0\n",
      "Remainder a is 0\n",
      "New left is =\n",
      "Adding right -\n",
      "Remainder b is -\n",
      "Value is 2\n",
      "Final remainder is -\n",
      "\n",
      "\n",
      "Adding left 1 with remainder -\n",
      "Remainder a is 0\n",
      "New left is 0\n",
      "Adding right 1\n",
      "Remainder b is 0\n",
      "Value is 1\n",
      "Final remainder is 0\n",
      "\n",
      "\n",
      "Answer is 120\n"
     ]
    }
   ],
   "source": [
    "a = \"1=0\"\n",
    "b = \"1-0\"\n",
    "\n",
    "res = \"120\"\n",
    "\n",
    "assert snafu_add(a, b, verbose = True) == res"
   ]
  },
  {
   "cell_type": "code",
   "execution_count": 92,
   "id": "bc5afdc7",
   "metadata": {},
   "outputs": [],
   "source": [
    "from functools import reduce\n",
    "\n",
    "answer = reduce(snafu_add, data)"
   ]
  },
  {
   "cell_type": "code",
   "execution_count": 93,
   "id": "c0371920",
   "metadata": {},
   "outputs": [
    {
     "name": "stdout",
     "output_type": "stream",
     "text": [
      "\n",
      "You make a smoothie with all fifty stars and deliver it to the reindeer! The sleigh is already warmed up by the time they finish eating.\n",
      "Congratulations!  You've finished every puzzle in Advent of Code 2022!  I hope you had as much fun solving them as I had making them for you.  I'd love to hear about your adventure; you can get in touch with me via contact info on my website or through Twitter.\n",
      "If you'd like to see more things like this in the future, please consider supporting Advent of Code and sharing it with others.\n",
      "To hear about future projects, you can follow me on Twitter.\n",
      "I've highlighted the easter eggs in each puzzle, just in case you missed any.  Hover your mouse over them, and the easter egg will appear.\n",
      "You can [Shareon\n",
      "  Twitter\n",
      "Mastodon] this moment with your friends, or [Go Check on Your Calendar].\n",
      "\n",
      "That's the right answer!  You are one gold star closer to collecting enough star fruit. [Continue to Part Two]\n"
     ]
    },
    {
     "data": {
      "text/plain": [
       "<Response [200]>"
      ]
     },
     "execution_count": 93,
     "metadata": {},
     "output_type": "execute_result"
    }
   ],
   "source": [
    "submit(answer, year=2022, day=25, part=\"a\")"
   ]
  },
  {
   "cell_type": "code",
   "execution_count": null,
   "id": "c8bec9ee",
   "metadata": {},
   "outputs": [],
   "source": []
  }
 ],
 "metadata": {
  "kernelspec": {
   "display_name": "adventofcode",
   "language": "python",
   "name": "adventofcode"
  },
  "language_info": {
   "codemirror_mode": {
    "name": "ipython",
    "version": 3
   },
   "file_extension": ".py",
   "mimetype": "text/x-python",
   "name": "python",
   "nbconvert_exporter": "python",
   "pygments_lexer": "ipython3",
   "version": "3.10.5"
  }
 },
 "nbformat": 4,
 "nbformat_minor": 5
}
