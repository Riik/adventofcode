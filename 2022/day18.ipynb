{
 "cells": [
  {
   "cell_type": "code",
   "execution_count": 60,
   "id": "1dce31b2",
   "metadata": {},
   "outputs": [],
   "source": [
    "from aocd import get_data, submit\n",
    "data = \"\"\"2,2,2\n",
    "1,2,2\n",
    "3,2,2\n",
    "2,1,2\n",
    "2,3,2\n",
    "2,2,1\n",
    "2,2,3\n",
    "2,2,4\n",
    "2,2,6\n",
    "1,2,5\n",
    "3,2,5\n",
    "2,1,5\n",
    "2,3,5\"\"\"\n",
    "data = get_data(year=2022, day=18)\n",
    "data = data.splitlines()\n",
    "data = set(tuple(map(int, line.split(\",\"))) for line in data)"
   ]
  },
  {
   "cell_type": "code",
   "execution_count": 61,
   "id": "5a4f3fc3",
   "metadata": {},
   "outputs": [],
   "source": [
    "def get_neighbours(p):\n",
    "    return [\n",
    "        (p[0]+1, p[1], p[2]),\n",
    "        (p[0]-1, p[1], p[2]),\n",
    "        (p[0], p[1]+1, p[2]),\n",
    "        (p[0], p[1]-1, p[2]),\n",
    "        (p[0], p[1], p[2]+1),\n",
    "        (p[0], p[1], p[2]-1)]"
   ]
  },
  {
   "cell_type": "code",
   "execution_count": 62,
   "id": "f0029022",
   "metadata": {},
   "outputs": [
    {
     "data": {
      "text/plain": [
       "4474"
      ]
     },
     "execution_count": 62,
     "metadata": {},
     "output_type": "execute_result"
    }
   ],
   "source": [
    "def get_surface(p):\n",
    "    surface = 0\n",
    "    for n in get_neighbours(p):\n",
    "        if n not in data:\n",
    "            surface += 1\n",
    "    return surface\n",
    "\n",
    "surface = 0\n",
    "for p in data:\n",
    "    surface += get_surface(p)\n",
    "surface"
   ]
  },
  {
   "cell_type": "code",
   "execution_count": 63,
   "id": "0e29a75d",
   "metadata": {},
   "outputs": [
    {
     "name": "stdout",
     "output_type": "stream",
     "text": [
      "Part a already solved with same answer: 4474\n"
     ]
    }
   ],
   "source": [
    "submit(surface, year=2022, day=18, part=\"a\")"
   ]
  },
  {
   "cell_type": "code",
   "execution_count": 64,
   "id": "7334b20f",
   "metadata": {},
   "outputs": [],
   "source": [
    "import numpy as np\n",
    "coords = list(data)"
   ]
  },
  {
   "cell_type": "code",
   "execution_count": 65,
   "id": "7e2eda9e",
   "metadata": {},
   "outputs": [
    {
     "data": {
      "text/plain": [
       "22"
      ]
     },
     "execution_count": 65,
     "metadata": {},
     "output_type": "execute_result"
    }
   ],
   "source": [
    "MAX_COORDS = np.max(np.max(np.array(coords), axis=0)) + 1\n",
    "MAX_COORDS"
   ]
  },
  {
   "cell_type": "code",
   "execution_count": 72,
   "id": "a3dbd227",
   "metadata": {},
   "outputs": [],
   "source": [
    "def in_bounds(p):\n",
    "    return (min(p) >= 0) and (max(p) < MAX_COORDS)"
   ]
  },
  {
   "cell_type": "code",
   "execution_count": 73,
   "id": "e694bd93",
   "metadata": {},
   "outputs": [
    {
     "name": "stdout",
     "output_type": "stream",
     "text": [
      "CONVERGED AH YEAH\n"
     ]
    }
   ],
   "source": [
    "all_tiles = set((x,y,z) for x,y,z in product(range(MAX_COORDS), range(MAX_COORDS), range(MAX_COORDS)))\n",
    "visit_nodes = set([(0,0,0)])\n",
    "reachable = set([(0,0,0)])\n",
    "\n",
    "i = 0\n",
    "while True:\n",
    "    i += 1\n",
    "    new_visit_nodes = set()\n",
    "    for node in visit_nodes:\n",
    "        neighbours = get_neighbours(node)\n",
    "        neighbours = [n for n in neighbours if in_bounds(n)]\n",
    "        neighbours = [n for n in neighbours if n not in data]\n",
    "        neighbours = [n for n in neighbours if n not in reachable]\n",
    "        new_visit_nodes.update(neighbours)\n",
    "        reachable.update(neighbours)\n",
    "    if len(new_visit_nodes) == 0:\n",
    "        print(\"CONVERGED AH YEAH\")\n",
    "        break\n",
    "    visit_nodes = new_visit_nodes\n",
    "        \n",
    "        \n",
    "    "
   ]
  },
  {
   "cell_type": "code",
   "execution_count": 74,
   "id": "3f720416",
   "metadata": {},
   "outputs": [],
   "source": [
    "interior = all_tiles - data - reachable"
   ]
  },
  {
   "cell_type": "code",
   "execution_count": 75,
   "id": "7b84b593",
   "metadata": {},
   "outputs": [
    {
     "data": {
      "text/plain": [
       "1956"
      ]
     },
     "execution_count": 75,
     "metadata": {},
     "output_type": "execute_result"
    }
   ],
   "source": [
    "interior_surface = 0\n",
    "for p in interior:\n",
    "    interior_surface += 6 - get_surface(p)\n",
    "\n",
    "interior_surface"
   ]
  },
  {
   "cell_type": "code",
   "execution_count": 76,
   "id": "f1737e37",
   "metadata": {},
   "outputs": [
    {
     "data": {
      "text/plain": [
       "2518"
      ]
     },
     "execution_count": 76,
     "metadata": {},
     "output_type": "execute_result"
    }
   ],
   "source": [
    "exterior_surface = surface - interior_surface\n",
    "exterior_surface"
   ]
  },
  {
   "cell_type": "code",
   "execution_count": null,
   "id": "43a8e74e",
   "metadata": {},
   "outputs": [],
   "source": []
  }
 ],
 "metadata": {
  "kernelspec": {
   "display_name": "adventofcode",
   "language": "python",
   "name": "adventofcode"
  },
  "language_info": {
   "codemirror_mode": {
    "name": "ipython",
    "version": 3
   },
   "file_extension": ".py",
   "mimetype": "text/x-python",
   "name": "python",
   "nbconvert_exporter": "python",
   "pygments_lexer": "ipython3",
   "version": "3.10.5"
  }
 },
 "nbformat": 4,
 "nbformat_minor": 5
}
