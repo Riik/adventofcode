{
 "cells": [
  {
   "cell_type": "code",
   "execution_count": 153,
   "id": "b2941479",
   "metadata": {},
   "outputs": [
    {
     "data": {
      "text/plain": [
       "[('R', 4),\n",
       " ('U', 4),\n",
       " ('L', 3),\n",
       " ('D', 1),\n",
       " ('R', 4),\n",
       " ('D', 1),\n",
       " ('L', 5),\n",
       " ('R', 2)]"
      ]
     },
     "execution_count": 153,
     "metadata": {},
     "output_type": "execute_result"
    }
   ],
   "source": [
    "import numpy as np \n",
    "from aocd import get_data, submit\n",
    "data = get_data(year=2022, day=9).splitlines()\n",
    "data = \"\"\"R 4\n",
    "U 4\n",
    "L 3\n",
    "D 1\n",
    "R 4\n",
    "D 1\n",
    "L 5\n",
    "R 2\n",
    "\"\"\".splitlines()\n",
    "data = [(d.split(\" \")[0], int(d.split(\" \")[1])) for d in data]\n",
    "size_grid = max(d[1] for d in data)\n",
    "size_grid = 10\n",
    "data"
   ]
  },
  {
   "cell_type": "code",
   "execution_count": 185,
   "id": "0fadddb3",
   "metadata": {},
   "outputs": [],
   "source": [
    "def simulate_rope(data, size_grid, N):\n",
    "    visited = np.zeros((2*size_grid, 2*size_grid)).astype(\"int\")\n",
    "    dir_dict = {\n",
    "        \"D\": [-1, 0],\n",
    "        \"U\": [1, 0],\n",
    "        \"L\": [0, -1],\n",
    "        \"R\": [0, 1]\n",
    "    } \n",
    "    head = np.array([size_grid,size_grid])\n",
    "    tail =  [np.array([size_grid,size_grid]) for i in range(N)]\n",
    "    rope_history = [np.array([size_grid,size_grid]) for i in range(N+1)]\n",
    "    for direction, amount in data:\n",
    "        for i in range(amount):\n",
    "            head += dir_dict[direction]\n",
    "\n",
    "            for i in range(0, len(tail)):\n",
    "                diff = np.array([0,0])\n",
    "                if i == 0:\n",
    "                    diff = head - tail[0]\n",
    "                else: \n",
    "                    diff = tail[i-1] - tail[i]\n",
    "                if np.max(np.abs(diff)) > 1:\n",
    "                    move = np.clip(diff, -1, 1)\n",
    "                    tail[i] += move\n",
    "                if i == (N-1):\n",
    "                    visited[tail[i][0], tail[i][1]] = 1    \n",
    "                \n",
    "                rope_history.append([head] + tail)\n",
    "    return np.sum(np.sum(visited)), rope_history"
   ]
  },
  {
   "cell_type": "code",
   "execution_count": 186,
   "id": "dc7bb3a5",
   "metadata": {},
   "outputs": [
    {
     "data": {
      "text/plain": [
       "13"
      ]
     },
     "execution_count": 186,
     "metadata": {},
     "output_type": "execute_result"
    }
   ],
   "source": [
    "answer, hist = simulate_rope(data, size_grid, 1)\n",
    "answer"
   ]
  },
  {
   "cell_type": "code",
   "execution_count": 187,
   "id": "c5d179a3",
   "metadata": {},
   "outputs": [
    {
     "name": "stdout",
     "output_type": "stream",
     "text": [
      "Part a already solved with different answer: 6098\n"
     ]
    }
   ],
   "source": [
    "submit(answer, year=2022, day=9, part=\"a\")"
   ]
  },
  {
   "cell_type": "code",
   "execution_count": 188,
   "id": "ed5ecc75",
   "metadata": {},
   "outputs": [
    {
     "data": {
      "text/plain": [
       "1"
      ]
     },
     "execution_count": 188,
     "metadata": {},
     "output_type": "execute_result"
    }
   ],
   "source": [
    "answer, hist = simulate_rope(data, size_grid, 9)\n",
    "answer"
   ]
  },
  {
   "cell_type": "code",
   "execution_count": 189,
   "id": "309c978b",
   "metadata": {},
   "outputs": [
    {
     "name": "stdout",
     "output_type": "stream",
     "text": [
      "Part b already solved with different answer: 2597\n"
     ]
    }
   ],
   "source": [
    "submit(answer, year=2022, day=9, part=\"b\")"
   ]
  },
  {
   "cell_type": "code",
   "execution_count": 190,
   "id": "e6c15a77",
   "metadata": {},
   "outputs": [
    {
     "data": {
      "text/plain": [
       "array([10, 10])"
      ]
     },
     "execution_count": 190,
     "metadata": {},
     "output_type": "execute_result"
    }
   ],
   "source": [
    "hist[7]"
   ]
  },
  {
   "cell_type": "code",
   "execution_count": null,
   "id": "a8951f4c",
   "metadata": {},
   "outputs": [],
   "source": []
  }
 ],
 "metadata": {
  "kernelspec": {
   "display_name": "adventofcode",
   "language": "python",
   "name": "adventofcode"
  },
  "language_info": {
   "codemirror_mode": {
    "name": "ipython",
    "version": 3
   },
   "file_extension": ".py",
   "mimetype": "text/x-python",
   "name": "python",
   "nbconvert_exporter": "python",
   "pygments_lexer": "ipython3",
   "version": "3.10.5"
  }
 },
 "nbformat": 4,
 "nbformat_minor": 5
}
