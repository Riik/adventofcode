{
 "cells": [
  {
   "cell_type": "code",
   "execution_count": 72,
   "id": "5890daf7",
   "metadata": {},
   "outputs": [
    {
     "name": "stdout",
     "output_type": "stream",
     "text": [
      "5000\n"
     ]
    }
   ],
   "source": [
    "import numpy as np\n",
    "from aocd import get_data, submit \n",
    "\n",
    "data = \"\"\"1\n",
    "2\n",
    "-3\n",
    "3\n",
    "-2\n",
    "0\n",
    "4\"\"\"\n",
    "data = get_data(year=2022, day=20) \n",
    "print(len(data.split(\"\\n\")))\n",
    "\n",
    "data = list(map(int, data.split(\"\\n\")))\n",
    "data = np.array(data)"
   ]
  },
  {
   "cell_type": "code",
   "execution_count": 73,
   "id": "73f387f1",
   "metadata": {},
   "outputs": [
    {
     "data": {
      "text/plain": [
       "array([ 9038,  7675, -5405, ..., -5772, -9280,  7346])"
      ]
     },
     "execution_count": 73,
     "metadata": {},
     "output_type": "execute_result"
    }
   ],
   "source": [
    "data[np.abs(data) > len(data)]"
   ]
  },
  {
   "cell_type": "code",
   "execution_count": 121,
   "id": "3230728f",
   "metadata": {},
   "outputs": [],
   "source": [
    "print_debug = lambda p=None: None\n",
    "\n",
    "import numpy as np\n",
    "def encrypt(data, indices):\n",
    "    data_list = np.array(data.copy())\n",
    "    N = len(data)\n",
    "    for idx, val in enumerate(data):\n",
    "        data_idx = np.where(np.array(indices) == idx)[0][0]\n",
    "        value = data_list[data_idx]\n",
    "        print_debug(f\"input: {data_list}\")\n",
    "        print_debug(f\"Move '{value}' {value} steps\")\n",
    "        updated_idx = (data_idx + value)\n",
    "        if value == 0: \n",
    "            continue \n",
    "        updated_idx %= (N-1)\n",
    "\n",
    "        a, b = sorted([updated_idx, data_idx])\n",
    "        if updated_idx > data_idx:\n",
    "            data_list[a:b+1] = np.concatenate((data_list[a+1:b+1], [data_list[data_idx]]))\n",
    "            indices[a:b+1] = np.concatenate((indices[a+1:b+1], [indices[data_idx]]))\n",
    "        else:\n",
    "            data_list[a:b+1] = np.concatenate(([data_list[data_idx]], data_list[a:b]))\n",
    "            indices[a:b+1] = np.concatenate(([indices[data_idx]], indices[a:b]))\n",
    "        print_debug(f\"output: {data_list}\")\n",
    "        print_debug()\n",
    "\n",
    "    return data_list, indices\n"
   ]
  },
  {
   "cell_type": "code",
   "execution_count": 130,
   "id": "3c3ff3c4",
   "metadata": {},
   "outputs": [
    {
     "data": {
      "text/plain": [
       "19559"
      ]
     },
     "execution_count": 130,
     "metadata": {},
     "output_type": "execute_result"
    }
   ],
   "source": [
    "data_list, _ = encrypt(data, np.arange(len(data)))\n",
    "def get_answer(data_list):\n",
    "    N = len(data_list)\n",
    "    zero_value_idx = np.where(data_list == 0)[0][0]\n",
    "    return data_list[(1000 + zero_value_idx) % N] + data_list[(2000 + zero_value_idx) % N] + data_list[(3000 + zero_value_idx) % N]\n",
    "\n",
    "answer = get_answer(data_list)\n",
    "answer"
   ]
  },
  {
   "cell_type": "code",
   "execution_count": 131,
   "id": "845cf7dd",
   "metadata": {},
   "outputs": [
    {
     "name": "stdout",
     "output_type": "stream",
     "text": [
      "Part a already solved with same answer: 19559\n"
     ]
    }
   ],
   "source": [
    "submit(answer, year=2022, day=20, part=\"a\")"
   ]
  },
  {
   "cell_type": "code",
   "execution_count": 133,
   "id": "9f992640",
   "metadata": {},
   "outputs": [
    {
     "data": {
      "text/plain": [
       "912226207972"
      ]
     },
     "execution_count": 133,
     "metadata": {},
     "output_type": "execute_result"
    }
   ],
   "source": [
    "decryption_key = 811589153\n",
    "keyed_data = data*decryption_key\n",
    "indices = np.arange(len(keyed_data))\n",
    "for i in range(10):\n",
    "    keyed_data, indices = encrypt(keyed_data, indices)\n",
    "answer = get_answer(keyed_data)\n",
    "answer"
   ]
  },
  {
   "cell_type": "code",
   "execution_count": 134,
   "id": "517b6b13",
   "metadata": {},
   "outputs": [
    {
     "name": "stdout",
     "output_type": "stream",
     "text": [
      "That's the right answer!  You are one gold star closer to collecting enough star fruit.You have completed Day 20! You can [Shareon\n",
      "  Twitter\n",
      "Mastodon] this victory or [Return to Your Advent Calendar].\n"
     ]
    },
    {
     "data": {
      "text/plain": [
       "<Response [200]>"
      ]
     },
     "execution_count": 134,
     "metadata": {},
     "output_type": "execute_result"
    }
   ],
   "source": [
    "submit(answer, year=2022, day=20, part=\"b\")"
   ]
  },
  {
   "cell_type": "code",
   "execution_count": null,
   "id": "e4b1427a",
   "metadata": {},
   "outputs": [],
   "source": []
  }
 ],
 "metadata": {
  "kernelspec": {
   "display_name": "adventofcode",
   "language": "python",
   "name": "adventofcode"
  },
  "language_info": {
   "codemirror_mode": {
    "name": "ipython",
    "version": 3
   },
   "file_extension": ".py",
   "mimetype": "text/x-python",
   "name": "python",
   "nbconvert_exporter": "python",
   "pygments_lexer": "ipython3",
   "version": "3.10.5"
  }
 },
 "nbformat": 4,
 "nbformat_minor": 5
}
