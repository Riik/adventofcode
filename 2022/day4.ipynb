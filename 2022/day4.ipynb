{
 "cells": [
  {
   "cell_type": "code",
   "execution_count": 48,
   "id": "1bac64ba",
   "metadata": {},
   "outputs": [],
   "source": [
    "challenge_day = 4\n",
    "from aocd import get_data, submit\n",
    "data = get_data(year=2022, day=challenge_day).split(\"\\n\")\n",
    "pairs = [d.split(\",\") for d in data]\n"
   ]
  },
  {
   "cell_type": "code",
   "execution_count": 49,
   "id": "6235b371",
   "metadata": {},
   "outputs": [],
   "source": [
    "def is_contained(a, b):\n",
    "    a = list(map(int, a.split(\"-\")))\n",
    "    b = list(map(int, b.split(\"-\")))\n",
    "    if (a[0] >= b[0]) and (a[1] <= b[1]):\n",
    "        return True\n",
    "    if (b[0] >= a[0]) and (b[1] <= a[1]):\n",
    "        return True\n",
    "    return False"
   ]
  },
  {
   "cell_type": "code",
   "execution_count": 38,
   "id": "3777f954",
   "metadata": {},
   "outputs": [
    {
     "data": {
      "text/plain": [
       "False"
      ]
     },
     "execution_count": 38,
     "metadata": {},
     "output_type": "execute_result"
    }
   ],
   "source": [
    "is_contained(*pairs[0])"
   ]
  },
  {
   "cell_type": "code",
   "execution_count": 43,
   "id": "fe1fa7ac",
   "metadata": {},
   "outputs": [],
   "source": [
    "answer = sum([is_contained(*pair) for pair in pairs])"
   ]
  },
  {
   "cell_type": "code",
   "execution_count": 44,
   "id": "6d3b827c",
   "metadata": {},
   "outputs": [
    {
     "name": "stdout",
     "output_type": "stream",
     "text": [
      "That's the right answer!  You are one gold star closer to collecting enough star fruit. [Continue to Part Two]\n"
     ]
    },
    {
     "data": {
      "text/plain": [
       "<Response [200]>"
      ]
     },
     "execution_count": 44,
     "metadata": {},
     "output_type": "execute_result"
    }
   ],
   "source": [
    "submit(answer, year=2022, day=challenge_day, part=\"a\")"
   ]
  },
  {
   "cell_type": "code",
   "execution_count": 54,
   "id": "680be75c",
   "metadata": {},
   "outputs": [],
   "source": [
    "def is_overlapping(a, b):\n",
    "    a = list(map(int, a.split(\"-\")))\n",
    "    b = list(map(int, b.split(\"-\")))\n",
    "    if (a[0] <= b[1]) and (a[1] >= b[0]):\n",
    "        return True\n",
    "    if (b[0] <= a[1]) and (b[1] >= a[0]):\n",
    "        return True\n",
    "    return False"
   ]
  },
  {
   "cell_type": "code",
   "execution_count": 55,
   "id": "0c690e09",
   "metadata": {},
   "outputs": [],
   "source": [
    "answer = sum([is_overlapping(*pair) for pair in pairs])"
   ]
  },
  {
   "cell_type": "code",
   "execution_count": 56,
   "id": "2c190928",
   "metadata": {},
   "outputs": [
    {
     "name": "stdout",
     "output_type": "stream",
     "text": [
      "That's the right answer!  You are one gold star closer to collecting enough star fruit.You have completed Day 4! You can [Shareon\n",
      "  Twitter\n",
      "Mastodon] this victory or [Return to Your Advent Calendar].\n"
     ]
    },
    {
     "data": {
      "text/plain": [
       "<Response [200]>"
      ]
     },
     "execution_count": 56,
     "metadata": {},
     "output_type": "execute_result"
    }
   ],
   "source": [
    "submit(answer, year=2022, day=challenge_day, part=\"b\")"
   ]
  },
  {
   "cell_type": "code",
   "execution_count": null,
   "id": "cbb9c0df",
   "metadata": {},
   "outputs": [],
   "source": []
  }
 ],
 "metadata": {
  "kernelspec": {
   "display_name": "adventofcode",
   "language": "python",
   "name": "adventofcode"
  },
  "language_info": {
   "codemirror_mode": {
    "name": "ipython",
    "version": 3
   },
   "file_extension": ".py",
   "mimetype": "text/x-python",
   "name": "python",
   "nbconvert_exporter": "python",
   "pygments_lexer": "ipython3",
   "version": "3.10.5"
  }
 },
 "nbformat": 4,
 "nbformat_minor": 5
}
