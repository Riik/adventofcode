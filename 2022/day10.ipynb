{
 "cells": [
  {
   "cell_type": "code",
   "execution_count": null,
   "id": "5f7868ed",
   "metadata": {},
   "outputs": [],
   "source": [
    "%pip install matplotlib"
   ]
  },
  {
   "cell_type": "code",
   "execution_count": 139,
   "id": "58b7c269",
   "metadata": {},
   "outputs": [],
   "source": [
    "from aocd import get_data, submit\n",
    "data = get_data(year=2022, day=10).splitlines()\n",
    "data = [d.split(\" \") for d in data]"
   ]
  },
  {
   "cell_type": "code",
   "execution_count": 141,
   "id": "08287650",
   "metadata": {},
   "outputs": [],
   "source": [
    "x = 1\n",
    "values = []\n",
    "for d in data:\n",
    "    if d[0] == \"noop\":\n",
    "        values.append(x)\n",
    "    elif d[0] == \"addx\":\n",
    "        values.append(x)        \n",
    "        values.append(x)\n",
    "        x += int(d[1])\n",
    "    else:\n",
    "        raise ValueError(d)"
   ]
  },
  {
   "cell_type": "code",
   "execution_count": 142,
   "id": "7004eeed",
   "metadata": {},
   "outputs": [],
   "source": [
    "signal_strength = lambda values, i: i * values[i-1]\n",
    "indices = [20, 60, 100, 140, 180, 220]\n",
    "indices = [i for i in indices]"
   ]
  },
  {
   "cell_type": "code",
   "execution_count": 129,
   "id": "5478f077",
   "metadata": {},
   "outputs": [
    {
     "data": {
      "text/plain": [
       "[21, 19, 21, 19, 19, 21]"
      ]
     },
     "execution_count": 129,
     "metadata": {},
     "output_type": "execute_result"
    }
   ],
   "source": [
    "[values[i] for i in indices]"
   ]
  },
  {
   "cell_type": "code",
   "execution_count": 143,
   "id": "65f43cba",
   "metadata": {},
   "outputs": [
    {
     "data": {
      "text/plain": [
       "15680"
      ]
     },
     "execution_count": 143,
     "metadata": {},
     "output_type": "execute_result"
    }
   ],
   "source": [
    "answer = sum(signal_strength(values, i) for i in indices)\n",
    "answer"
   ]
  },
  {
   "cell_type": "code",
   "execution_count": 145,
   "id": "ff1fd6c4",
   "metadata": {},
   "outputs": [
    {
     "name": "stdout",
     "output_type": "stream",
     "text": [
      "Part a already solved with same answer: 15680\n"
     ]
    }
   ],
   "source": [
    "submit(answer, year=2022, day=10, part=\"a\")"
   ]
  },
  {
   "cell_type": "code",
   "execution_count": 146,
   "id": "d78de9f7",
   "metadata": {},
   "outputs": [],
   "source": [
    "get_pixel = lambda x,i: 1 if x-(i%40) in [-1, 0, 1] else 0"
   ]
  },
  {
   "cell_type": "code",
   "execution_count": 147,
   "id": "9d933b9c",
   "metadata": {},
   "outputs": [
    {
     "data": {
      "text/plain": [
       "<matplotlib.image.AxesImage at 0x111388040>"
      ]
     },
     "execution_count": 147,
     "metadata": {},
     "output_type": "execute_result"
    },
    {
     "data": {
      "image/png": "[encoded data removed]",
      "text/plain": [
       "<Figure size 640x480 with 1 Axes>"
      ]
     },
     "metadata": {},
     "output_type": "display_data"
    }
   ],
   "source": [
    "import numpy as np\n",
    "import matplotlib.pyplot as plt\n",
    "screen = np.array([get_pixel(x,i) for x, i in zip(values, range(len(values)))])\n",
    "screen = np.reshape(screen, (-1, 40))\n",
    "plt.imshow(screen)"
   ]
  },
  {
   "cell_type": "code",
   "execution_count": 148,
   "id": "54b0edc2",
   "metadata": {},
   "outputs": [],
   "source": [
    "answer = \"ZFBFHGUP\""
   ]
  },
  {
   "cell_type": "code",
   "execution_count": 149,
   "id": "478c0553",
   "metadata": {},
   "outputs": [
    {
     "name": "stdout",
     "output_type": "stream",
     "text": [
      "Part b already solved with same answer: ZFBFHGUP\n"
     ]
    }
   ],
   "source": [
    "submit(answer, year=2022, day=10, part=\"b\")"
   ]
  }
 ],
 "metadata": {
  "kernelspec": {
   "display_name": "adventofcode",
   "language": "python",
   "name": "adventofcode"
  },
  "language_info": {
   "codemirror_mode": {
    "name": "ipython",
    "version": 3
   },
   "file_extension": ".py",
   "mimetype": "text/x-python",
   "name": "python",
   "nbconvert_exporter": "python",
   "pygments_lexer": "ipython3",
   "version": "3.10.5"
  }
 },
 "nbformat": 4,
 "nbformat_minor": 5
}
