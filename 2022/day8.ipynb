{
 "cells": [
  {
   "cell_type": "code",
   "execution_count": 1,
   "id": "d2ad8529",
   "metadata": {},
   "outputs": [
    {
     "data": {
      "text/plain": [
       "array([[3, 0, 3, 7, 3],\n",
       "       [2, 5, 5, 1, 2],\n",
       "       [6, 5, 3, 3, 2],\n",
       "       [3, 3, 5, 4, 9],\n",
       "       [3, 5, 3, 9, 0]])"
      ]
     },
     "execution_count": 1,
     "metadata": {},
     "output_type": "execute_result"
    }
   ],
   "source": [
    "from aocd import get_data, submit\n",
    "import numpy as np \n",
    "data = get_data(year=2022, day=8).splitlines()\n",
    "data = \"\"\"30373\n",
    "25512\n",
    "65332\n",
    "33549\n",
    "35390\"\"\".splitlines()\n",
    "data = [list(d) for d in data]\n",
    "data = np.array(data).astype(\"int\")\n",
    "data"
   ]
  },
  {
   "cell_type": "code",
   "execution_count": 2,
   "id": "ef63e1bd",
   "metadata": {},
   "outputs": [
    {
     "data": {
      "text/plain": [
       "array([[3, 0, 3, 7, 3],\n",
       "       [3, 5, 5, 7, 3],\n",
       "       [6, 5, 5, 7, 3],\n",
       "       [6, 5, 5, 7, 9],\n",
       "       [6, 5, 5, 9, 9]])"
      ]
     },
     "execution_count": 2,
     "metadata": {},
     "output_type": "execute_result"
    }
   ],
   "source": [
    "up_mask = np.maximum.accumulate(data, axis=0)\n",
    "left_mask = np.maximum.accumulate(data, axis=1)\n",
    "right_mask = np.fliplr(np.maximum.accumulate(np.fliplr(data), axis=1))\n",
    "down_mask = np.flipud(np.maximum.accumulate(np.flipud(data), axis=0))\n",
    "up_mask"
   ]
  },
  {
   "cell_type": "code",
   "execution_count": 4,
   "id": "35a46b31",
   "metadata": {},
   "outputs": [
    {
     "data": {
      "text/plain": [
       "array([[1, 1, 1, 1, 1],\n",
       "       [0, 1, 1, 0, 0],\n",
       "       [1, 0, 0, 0, 0],\n",
       "       [0, 0, 0, 0, 1],\n",
       "       [0, 0, 0, 1, 0]])"
      ]
     },
     "execution_count": 4,
     "metadata": {},
     "output_type": "execute_result"
    }
   ],
   "source": [
    "visible_up = np.diff(up_mask, axis=0, prepend=-1) > 0 \n",
    "visible_right = np.fliplr(np.diff(np.fliplr(right_mask), axis=1, prepend=-1)) > 0 \n",
    "visible_left = np.diff(left_mask, axis=1, prepend=-1) > 0 \n",
    "visible_down = np.flipud(np.diff(np.flipud(down_mask), axis=0, prepend=-1)) > 0\n",
    "visible_up.astype(\"int\")"
   ]
  },
  {
   "cell_type": "code",
   "execution_count": 136,
   "id": "92af8745",
   "metadata": {},
   "outputs": [],
   "source": [
    "visible = visible_up | visible_right | visible_left | visible_down\n",
    "answer = np.sum(np.sum(visible))\n"
   ]
  },
  {
   "cell_type": "code",
   "execution_count": 137,
   "id": "abe62bfd",
   "metadata": {},
   "outputs": [
    {
     "name": "stdout",
     "output_type": "stream",
     "text": [
      "Part a already solved with same answer: 1823\n"
     ]
    }
   ],
   "source": [
    "submit(answer, year=2022, day=8, part=\"a\")"
   ]
  },
  {
   "cell_type": "code",
   "execution_count": 138,
   "id": "c45f3ac0",
   "metadata": {},
   "outputs": [
    {
     "data": {
      "text/plain": [
       "array([[2, 0, 2, ..., 1, 2, 0],\n",
       "       [1, 1, 0, ..., 0, 1, 1],\n",
       "       [0, 2, 2, ..., 1, 1, 2],\n",
       "       ...,\n",
       "       [2, 1, 1, ..., 1, 1, 0],\n",
       "       [0, 0, 1, ..., 0, 2, 0],\n",
       "       [1, 1, 0, ..., 2, 2, 0]])"
      ]
     },
     "execution_count": 138,
     "metadata": {},
     "output_type": "execute_result"
    }
   ],
   "source": [
    "data"
   ]
  },
  {
   "cell_type": "code",
   "execution_count": 6,
   "id": "b69deb14",
   "metadata": {},
   "outputs": [
    {
     "data": {
      "text/plain": [
       "array([[0, 1, 2, 3, 1],\n",
       "       [0, 1, 1, 1, 2],\n",
       "       [0, 1, 1, 2, 3],\n",
       "       [0, 1, 2, 1, 2],\n",
       "       [0, 1, 1, 2, 1]])"
      ]
     },
     "execution_count": 6,
     "metadata": {},
     "output_type": "execute_result"
    }
   ],
   "source": [
    "N = 5\n",
    "def view_count_N(data, direction, N):\n",
    "    H, W = data.shape\n",
    "    \n",
    "    if direction == \"up\":\n",
    "        rows, cols = range(H), range(W)\n",
    "    elif direction == \"down\":\n",
    "        rows = list(reversed(range(H)))\n",
    "        cols = range(W)\n",
    "    elif direction == \"left\":\n",
    "        rows, cols = range(H), range(W)\n",
    "    elif direction == \"right\":\n",
    "        rows = range(H)\n",
    "        cols = list(reversed(range(W)))\n",
    "    \n",
    "    count_view = np.zeros(data.shape).astype(\"int\")\n",
    "    if direction in [\"up\", \"down\"]:\n",
    "        for col in cols:\n",
    "            h = -1\n",
    "            count = -1\n",
    "            for row in rows:\n",
    "                count += 1\n",
    "                count_view[row, col] = count\n",
    "                if data[row, col] >= N:\n",
    "                    count = 0\n",
    "        return count_view\n",
    "    else:\n",
    "        for row in rows:\n",
    "            h = -1\n",
    "            count = -1\n",
    "            for col in cols:\n",
    "                count += 1\n",
    "                count_view[row, col] = count\n",
    "                if data[row, col] >= N:\n",
    "                    count = 0\n",
    "        return count_view\n",
    "\n",
    "view_count_N(data, \"left\", 5)"
   ]
  },
  {
   "cell_type": "code",
   "execution_count": 140,
   "id": "113ca1e8",
   "metadata": {},
   "outputs": [
    {
     "name": "stdout",
     "output_type": "stream",
     "text": [
      "1 18\n",
      "2 125\n",
      "3 480\n",
      "4 7623\n",
      "5 13260\n",
      "6 48960\n",
      "7 211680\n",
      "8 105280\n",
      "9 96228\n"
     ]
    },
    {
     "data": {
      "text/plain": [
       "211680"
      ]
     },
     "execution_count": 140,
     "metadata": {},
     "output_type": "execute_result"
    }
   ],
   "source": [
    "def get_view_count_N(data, N):\n",
    "    return (\n",
    "        view_count_N(data, \"left\", N) * \n",
    "        view_count_N(data, \"right\", N) * \n",
    "        view_count_N(data, \"down\", N) * \n",
    "        view_count_N(data, \"up\", N) * \n",
    "        (data == N)\n",
    "    )\n",
    "\n",
    "\n",
    "\n",
    "best_count = 0\n",
    "for n in range(1,10):\n",
    "    if (best_for_N := np.max(np.max(get_view_count_N(data, n)))) > best_count:\n",
    "        best_count = best_for_N\n",
    "    print(n, best_for_N)\n",
    "best_count"
   ]
  },
  {
   "cell_type": "code",
   "execution_count": null,
   "id": "f5383bd4",
   "metadata": {},
   "outputs": [],
   "source": []
  },
  {
   "cell_type": "code",
   "execution_count": null,
   "id": "68eb2271",
   "metadata": {},
   "outputs": [],
   "source": []
  }
 ],
 "metadata": {
  "kernelspec": {
   "display_name": "adventofcode",
   "language": "python",
   "name": "adventofcode"
  },
  "language_info": {
   "codemirror_mode": {
    "name": "ipython",
    "version": 3
   },
   "file_extension": ".py",
   "mimetype": "text/x-python",
   "name": "python",
   "nbconvert_exporter": "python",
   "pygments_lexer": "ipython3",
   "version": "3.10.5"
  }
 },
 "nbformat": 4,
 "nbformat_minor": 5
}
