{
 "cells": [
  {
   "cell_type": "code",
   "execution_count": 192,
   "id": "6f029c5d",
   "metadata": {},
   "outputs": [],
   "source": [
    "from aocd import get_data, submit\n",
    "import numpy as np\n",
    "np.set_printoptions(edgeitems=30)\n",
    "\n",
    "data = get_data(year=2022, day=17)\n",
    "# data = \">>><<><>><<<>><>>><<<>>><<<><<<>><>><<>>\"\n",
    "data = list(data)\n",
    "\n",
    "shapes = [\n",
    "    np.flipud(np.array([\n",
    "        [0, 0, 0, 0],        \n",
    "        [0, 0, 0, 0],\n",
    "        [0, 0, 0, 0],\n",
    "        [1, 1, 1, 1]\n",
    "    ])),\n",
    "    np.flipud(np.array([\n",
    "        [0, 0, 0],        \n",
    "        [0, 1, 0],\n",
    "        [1, 1, 1],\n",
    "        [0, 1, 0]\n",
    "    ])),\n",
    "    np.flipud(np.array([\n",
    "        [0, 0, 0],        \n",
    "        [0, 0, 1],\n",
    "        [0, 0, 1],\n",
    "        [1, 1, 1]\n",
    "    ])),\n",
    "    np.flipud(np.array([\n",
    "        [1],        \n",
    "        [1],\n",
    "        [1],\n",
    "        [1]\n",
    "    ])),\n",
    "    np.flipud(np.array([\n",
    "        [0, 0],        \n",
    "        [0, 0],\n",
    "        [1, 1],\n",
    "        [1, 1]\n",
    "    ]))]"
   ]
  },
  {
   "cell_type": "code",
   "execution_count": 193,
   "id": "054f2293",
   "metadata": {},
   "outputs": [],
   "source": [
    "def can_move(field, shape, x, y):\n",
    "    if x + shape.shape[1] > 7:\n",
    "        return False\n",
    "    if x < 0:\n",
    "        return False\n",
    "    try:\n",
    "        data = field[y:y+4, x:x+shape.shape[1]]*shape\n",
    "        return np.sum(np.sum(data)) == 0\n",
    "    except ValueError:\n",
    "        return False\n",
    "    \n",
    "\n",
    "def draw_field(field, shape, x, y):\n",
    "    f = field.copy()\n",
    "    f[y:y+4, x:x+shape.shape[1]] += shape  \n",
    "    print()\n",
    "    for row in np.flipud(f[:20,:]):\n",
    "        print(\"|\", end=\"\")\n",
    "        for c in row:\n",
    "            if c:\n",
    "                print(\"#\", end=\"\")\n",
    "            else:\n",
    "                print(\".\", end=\"\")\n",
    "        print(\"|\")\n",
    "    print(\"+-------+\")\n",
    "    "
   ]
  },
  {
   "cell_type": "code",
   "execution_count": 226,
   "id": "f54b0f55",
   "metadata": {
    "scrolled": true
   },
   "outputs": [
    {
     "data": {
      "text/plain": [
       "15710"
      ]
     },
     "execution_count": 226,
     "metadata": {},
     "output_type": "execute_result"
    }
   ],
   "source": [
    "\n",
    "field = np.zeros((20000, 7)).astype(\"int\")\n",
    "\n",
    "shape_i = 0\n",
    "shape = shapes[0]\n",
    "tower_tops = []\n",
    "tower_top = 0\n",
    "y = tower_top+3\n",
    "x = 2\n",
    "i = 0\n",
    "while shape_i < 10000:\n",
    "    move = data[i%len(data)]\n",
    "    i += 1\n",
    "    \n",
    "    try_x = x + 1 if move == '>' else x - 1\n",
    "    if can_move(field, shape, try_x, y):\n",
    "        x = try_x\n",
    "        \n",
    "    try_y = y - 1\n",
    "    if can_move(field, shape, x, try_y):\n",
    "        y = try_y\n",
    "    else:\n",
    "        field[y:y+4, x:x+shape.shape[1]] += shape  \n",
    "        while np.sum(field[tower_top, :]) > 0:\n",
    "            tower_top += 1\n",
    "        tower_tops.append(tower_top)\n",
    "        \n",
    "        y = tower_top+3\n",
    "        x = 2\n",
    "        shape_i += 1\n",
    "        shape = shapes[shape_i%len(shapes)]\n",
    "\n",
    "        \n",
    "tower_top"
   ]
  },
  {
   "cell_type": "code",
   "execution_count": 227,
   "id": "7cd6d8be",
   "metadata": {},
   "outputs": [
    {
     "data": {
      "text/plain": [
       "3181"
      ]
     },
     "execution_count": 227,
     "metadata": {},
     "output_type": "execute_result"
    }
   ],
   "source": [
    "answer = tower_tops[2022 - 1]\n",
    "answer"
   ]
  },
  {
   "cell_type": "code",
   "execution_count": 228,
   "id": "1a9a0341",
   "metadata": {},
   "outputs": [
    {
     "name": "stdout",
     "output_type": "stream",
     "text": [
      "Part a already solved with same answer: 3181\n"
     ]
    }
   ],
   "source": [
    "submit(answer, year=2022, day=17, part=\"a\")"
   ]
  },
  {
   "cell_type": "code",
   "execution_count": 229,
   "id": "9a9fc376",
   "metadata": {},
   "outputs": [],
   "source": [
    "def guess_seq_len(tower_tops):\n",
    "    guess = 1\n",
    "    max_len = len(tower_tops) // 3\n",
    "    for x in range(2, max_len):\n",
    "        if (np.all(tower_tops[x:2*x] == tower_tops[2*x:3*x])\n",
    "            and np.all(tower_tops[2*x:3*x] == tower_tops[3*x:4*x])\n",
    "           ):\n",
    "            return x\n",
    "\n",
    "    return guess"
   ]
  },
  {
   "cell_type": "code",
   "execution_count": 230,
   "id": "8844bc17",
   "metadata": {},
   "outputs": [
    {
     "data": {
      "text/plain": [
       "1725"
      ]
     },
     "execution_count": 230,
     "metadata": {},
     "output_type": "execute_result"
    }
   ],
   "source": [
    "seq_len = guess_seq_len(np.diff(tower_tops))\n",
    "seq_len"
   ]
  },
  {
   "cell_type": "code",
   "execution_count": 231,
   "id": "8053bfc1",
   "metadata": {},
   "outputs": [],
   "source": [
    "rep_inc = tower_tops[2*seq_len] - tower_tops[seq_len]"
   ]
  },
  {
   "cell_type": "code",
   "execution_count": 232,
   "id": "88fce34f",
   "metadata": {},
   "outputs": [],
   "source": [
    "N = 1_000_000_000_000 - 1 # zero indexing thingy\n",
    "remainder = N % seq_len\n",
    "n_times = N // seq_len - 1 # first part is computed separately"
   ]
  },
  {
   "cell_type": "code",
   "execution_count": 233,
   "id": "3a1ac0ea",
   "metadata": {},
   "outputs": [],
   "source": [
    "first_part = tower_tops[seq_len]\n",
    "last_part = tower_tops[seq_len+remainder] - tower_tops[seq_len]"
   ]
  },
  {
   "cell_type": "code",
   "execution_count": 235,
   "id": "b5eb29bb",
   "metadata": {},
   "outputs": [
    {
     "data": {
      "text/plain": [
       "1570434782634"
      ]
     },
     "execution_count": 235,
     "metadata": {},
     "output_type": "execute_result"
    }
   ],
   "source": [
    "answer = first_part + n_times * rep_inc + last_part\n",
    "answer"
   ]
  },
  {
   "cell_type": "code",
   "execution_count": 236,
   "id": "3d828dbd",
   "metadata": {},
   "outputs": [
    {
     "name": "stdout",
     "output_type": "stream",
     "text": [
      "Part b already solved with same answer: 1570434782634\n"
     ]
    }
   ],
   "source": [
    "submit(answer, year=2022, day=17, part=\"b\")"
   ]
  }
 ],
 "metadata": {
  "kernelspec": {
   "display_name": "adventofcode",
   "language": "python",
   "name": "adventofcode"
  },
  "language_info": {
   "codemirror_mode": {
    "name": "ipython",
    "version": 3
   },
   "file_extension": ".py",
   "mimetype": "text/x-python",
   "name": "python",
   "nbconvert_exporter": "python",
   "pygments_lexer": "ipython3",
   "version": "3.10.5"
  }
 },
 "nbformat": 4,
 "nbformat_minor": 5
}
