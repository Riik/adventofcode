{
 "cells": [
  {
   "cell_type": "code",
   "execution_count": 13,
   "id": "523aa1c4",
   "metadata": {},
   "outputs": [],
   "source": [
    "from aocd import get_data, submit \n",
    "data = get_data(year=2022, day=6)"
   ]
  },
  {
   "cell_type": "code",
   "execution_count": 14,
   "id": "9c25a949",
   "metadata": {},
   "outputs": [
    {
     "name": "stdout",
     "output_type": "stream",
     "text": [
      "1766\n"
     ]
    }
   ],
   "source": [
    "N = 4\n",
    "answer = 0\n",
    "for i in range(len(data) - N):\n",
    "    if len(set(data[i:i+N])) == N:\n",
    "        answer = i+N\n",
    "        break\n",
    "print(answer)"
   ]
  },
  {
   "cell_type": "code",
   "execution_count": 15,
   "id": "45c8a040",
   "metadata": {},
   "outputs": [
    {
     "name": "stdout",
     "output_type": "stream",
     "text": [
      "That's the right answer!  You are one gold star closer to collecting enough star fruit. [Continue to Part Two]\n"
     ]
    },
    {
     "data": {
      "text/plain": [
       "<Response [200]>"
      ]
     },
     "execution_count": 15,
     "metadata": {},
     "output_type": "execute_result"
    }
   ],
   "source": [
    "submit(answer, year=2022, day=6, part=\"a\")"
   ]
  },
  {
   "cell_type": "code",
   "execution_count": 17,
   "id": "fe1cb3d9",
   "metadata": {},
   "outputs": [
    {
     "name": "stdout",
     "output_type": "stream",
     "text": [
      "2383\n"
     ]
    }
   ],
   "source": [
    "N = 14\n",
    "answer = 0\n",
    "for i in range(len(data) - N):\n",
    "    if len(set(data[i:i+N])) == N:\n",
    "        answer = i+N\n",
    "        break\n",
    "print(answer)"
   ]
  },
  {
   "cell_type": "code",
   "execution_count": 18,
   "id": "277a3b7e",
   "metadata": {},
   "outputs": [
    {
     "name": "stdout",
     "output_type": "stream",
     "text": [
      "That's the right answer!  You are one gold star closer to collecting enough star fruit.You have completed Day 6! You can [Shareon\n",
      "  Twitter\n",
      "Mastodon] this victory or [Return to Your Advent Calendar].\n"
     ]
    },
    {
     "data": {
      "text/plain": [
       "<Response [200]>"
      ]
     },
     "execution_count": 18,
     "metadata": {},
     "output_type": "execute_result"
    }
   ],
   "source": [
    "submit(answer, year=2022, day=6, part=\"b\")"
   ]
  },
  {
   "cell_type": "code",
   "execution_count": null,
   "id": "999fe4cd",
   "metadata": {},
   "outputs": [],
   "source": []
  }
 ],
 "metadata": {
  "kernelspec": {
   "display_name": "adventofcode",
   "language": "python",
   "name": "adventofcode"
  },
  "language_info": {
   "codemirror_mode": {
    "name": "ipython",
    "version": 3
   },
   "file_extension": ".py",
   "mimetype": "text/x-python",
   "name": "python",
   "nbconvert_exporter": "python",
   "pygments_lexer": "ipython3",
   "version": "3.10.5"
  }
 },
 "nbformat": 4,
 "nbformat_minor": 5
}
