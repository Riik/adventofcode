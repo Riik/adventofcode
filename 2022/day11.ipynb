{
 "cells": [
  {
   "cell_type": "code",
   "execution_count": 195,
   "id": "745e0ab7",
   "metadata": {},
   "outputs": [
    {
     "data": {
      "text/plain": [
       "[' 0:\\n  Starting items: 71, 56, 50, 73\\n  Operation: new = old * 11\\n  Test: divisible by 13\\n    If true: throw to monkey 1\\n    If false: throw to monkey 7\\n\\n']"
      ]
     },
     "execution_count": 195,
     "metadata": {},
     "output_type": "execute_result"
    }
   ],
   "source": [
    "from aocd import get_data, submit\n",
    "data = get_data(year=2022, day=11).split(\"Monkey\")[1:]\n",
    "from dataclasses import dataclass\n",
    "d = data[0]\n",
    "d.split(\"/n\")"
   ]
  },
  {
   "cell_type": "code",
   "execution_count": 196,
   "id": "289a5ea5",
   "metadata": {},
   "outputs": [],
   "source": [
    "@dataclass \n",
    "class Monkey:\n",
    "    monkey: int\n",
    "    items: list\n",
    "    operation: str\n",
    "    test_div: int\n",
    "    if_true: int\n",
    "    if_false: int\n",
    "    handle_count: int = 0"
   ]
  },
  {
   "cell_type": "code",
   "execution_count": 197,
   "id": "5a965575",
   "metadata": {},
   "outputs": [],
   "source": [
    "def parse_monkey(d):\n",
    "    d = d.split(\"\\n\")\n",
    "    monkey = int(d[0].split(\":\")[0].strip())\n",
    "    items = list(map(int, d[1].split(\":\")[1].split(\",\")))\n",
    "    operation = d[2].split(\"=\")[-1].strip()\n",
    "    test_div = int(d[3].split(\" \")[-1])\n",
    "    if \"divisible\" not in d[3]:\n",
    "        raise ValueError(d)\n",
    "    if_true = int(d[4].split(\" \")[-1])\n",
    "    if_false = int(d[5].split(\" \")[-1])\n",
    "    return Monkey(monkey, items, operation, test_div, if_true, if_false)"
   ]
  },
  {
   "cell_type": "code",
   "execution_count": 198,
   "id": "32fd2d88",
   "metadata": {},
   "outputs": [
    {
     "data": {
      "text/plain": [
       "Monkey(monkey=0, items=[71, 56, 50, 73], operation='old * 11', test_div=13, if_true=1, if_false=7, handle_count=0)"
      ]
     },
     "execution_count": 198,
     "metadata": {},
     "output_type": "execute_result"
    }
   ],
   "source": [
    "parse_monkey(data[0])"
   ]
  },
  {
   "cell_type": "code",
   "execution_count": 199,
   "id": "1411904c",
   "metadata": {},
   "outputs": [],
   "source": [
    "def execute_operation(op_str, old):\n",
    "    a, op, b = op_str.split(\" \")\n",
    "    a = old if a == \"old\" else int(a)\n",
    "    b = old if b == \"old\" else int(b)\n",
    "    if op == \"*\":\n",
    "        return a*b\n",
    "    elif op == \"+\":\n",
    "        return a+b\n",
    "    else:\n",
    "        ValueError(\"unknown operand\")"
   ]
  },
  {
   "cell_type": "code",
   "execution_count": 207,
   "id": "82ac60c6",
   "metadata": {},
   "outputs": [],
   "source": [
    "def evaluate_monkeys(monkeys, reduce_function):\n",
    "    for m in monkeys:\n",
    "        m.handle_count += len(m.items)\n",
    "        for item in m.items:\n",
    "            item = execute_operation(m.operation, item)\n",
    "            item = reduce_function(item)\n",
    "            if item % m.test_div == 0:\n",
    "                monkeys[m.if_true].items.append(item)\n",
    "            else:\n",
    "                monkeys[m.if_false].items.append(item)\n",
    "        m.items = []\n",
    "    return monkeys"
   ]
  },
  {
   "cell_type": "code",
   "execution_count": 209,
   "id": "1dc4920d",
   "metadata": {},
   "outputs": [
    {
     "data": {
      "text/plain": [
       "[Monkey(monkey=0, items=[25, 25, 3, 3, 3, 3, 3, 3, 3, 3, 3, 3, 3], operation='old * 11', test_div=13, if_true=1, if_false=7, handle_count=221),\n",
       " Monkey(monkey=1, items=[], operation='old + 1', test_div=7, if_true=3, if_false=6, handle_count=33),\n",
       " Monkey(monkey=2, items=[], operation='old * old', test_div=3, if_true=5, if_false=4, handle_count=6),\n",
       " Monkey(monkey=3, items=[6, 6, 6, 6, 6, 6, 6, 6, 6], operation='old + 2', test_div=19, if_true=2, if_false=6, handle_count=223),\n",
       " Monkey(monkey=4, items=[70, 4, 4, 4, 4, 4, 4, 4, 4, 4, 4, 4, 4, 4], operation='old + 6', test_div=5, if_true=0, if_false=5, handle_count=254),\n",
       " Monkey(monkey=5, items=[], operation='old + 7', test_div=2, if_true=7, if_false=0, handle_count=222),\n",
       " Monkey(monkey=6, items=[], operation='old * 7', test_div=11, if_true=2, if_false=4, handle_count=263),\n",
       " Monkey(monkey=7, items=[], operation='old + 8', test_div=17, if_true=1, if_false=3, handle_count=227)]"
      ]
     },
     "execution_count": 209,
     "metadata": {},
     "output_type": "execute_result"
    }
   ],
   "source": [
    "n_rounds = 20\n",
    "reduce_function = lambda x: x // 3\n",
    "monkeys = [parse_monkey(d) for d in data]\n",
    "for i in range(n_rounds):\n",
    "    monkeys = evaluate_monkeys(monkeys, reduce_function)\n",
    "    \n",
    "monkeys"
   ]
  },
  {
   "cell_type": "code",
   "execution_count": 210,
   "id": "f16b9a0a",
   "metadata": {},
   "outputs": [
    {
     "data": {
      "text/plain": [
       "66802"
      ]
     },
     "execution_count": 210,
     "metadata": {},
     "output_type": "execute_result"
    }
   ],
   "source": [
    "def get_answer(monkeys):\n",
    "    handle_counts = [m.handle_count for m in monkeys]\n",
    "    handle_counts.sort()\n",
    "    return handle_counts[-1] * handle_counts[-2]\n",
    "\n",
    "answer = get_answer(monkeys)\n",
    "answer"
   ]
  },
  {
   "cell_type": "code",
   "execution_count": 211,
   "id": "47580d50",
   "metadata": {},
   "outputs": [
    {
     "name": "stdout",
     "output_type": "stream",
     "text": [
      "Part a already solved with same answer: 66802\n"
     ]
    }
   ],
   "source": [
    "submit(answer, year=2022, day=11, part=\"a\")"
   ]
  },
  {
   "cell_type": "code",
   "execution_count": 205,
   "id": "144f5021",
   "metadata": {},
   "outputs": [],
   "source": [
    "def evaluate_monkeys(monkeys, divisor):\n",
    "    for m in monkeys:\n",
    "        m.handle_count += len(m.items)\n",
    "        for item in m.items:\n",
    "            item = execute_operation(m.operation, item)\n",
    "            item %= divisor\n",
    "            if item % m.test_div == 0:\n",
    "                monkeys[m.if_true].items.append(item)\n",
    "            else:\n",
    "                monkeys[m.if_false].items.append(item)\n",
    "        m.items = []\n",
    "    return monkeys"
   ]
  },
  {
   "cell_type": "code",
   "execution_count": 206,
   "id": "60e49e94",
   "metadata": {},
   "outputs": [
    {
     "data": {
      "text/plain": [
       "9699690"
      ]
     },
     "execution_count": 206,
     "metadata": {},
     "output_type": "execute_result"
    }
   ],
   "source": [
    "import numpy as np \n",
    "monkeys = [parse_monkey(d) for d in data]\n",
    "divs = [m.test_div for m in monkeys]\n",
    "divisor = np.product(divs)\n",
    "divisor"
   ]
  },
  {
   "cell_type": "code",
   "execution_count": 192,
   "id": "1d8d1047",
   "metadata": {},
   "outputs": [
    {
     "name": "stdout",
     "output_type": "stream",
     "text": [
      "\n",
      "\n",
      "1\n",
      "[4, 3, 2, 5, 8, 8, 16, 16]\n",
      "\n",
      "\n",
      "20\n",
      "[155, 69, 20, 224, 291, 270, 289, 258]\n",
      "\n",
      "\n",
      "1000\n",
      "[8319, 2882, 882, 12336, 15205, 13828, 14353, 12454]\n",
      "\n",
      "\n",
      "2000\n",
      "[16683, 5792, 1881, 24697, 30480, 27647, 28621, 24817]\n"
     ]
    },
    {
     "data": {
      "text/plain": [
       "[Monkey(monkey=0, items=[2749760, 6907123, 6907123, 6287021, 3350703, 7553825, 9598319], operation='old * 11', test_div=13, if_true=1, if_false=7, handle_count=83587),\n",
       " Monkey(monkey=1, items=[], operation='old + 1', test_div=7, if_true=3, if_false=6, handle_count=29059),\n",
       " Monkey(monkey=2, items=[], operation='old * old', test_div=3, if_true=5, if_false=4, handle_count=9882),\n",
       " Monkey(monkey=3, items=[8831281, 8420871, 3167007, 3167007, 3167007, 359433, 8847957, 7644882, 4641882, 6799268, 6729506, 9362906], operation='old + 2', test_div=19, if_true=2, if_false=6, handle_count=123613),\n",
       " Monkey(monkey=4, items=[6093311, 7650097, 7650097, 2152360, 5005210, 3183908, 3183908, 3514238, 6287008, 6287008, 9408742, 7342216, 5849956, 7553812, 7553812, 1584772, 838642], operation='old + 6', test_div=5, if_true=0, if_false=5, handle_count=152660),\n",
       " Monkey(monkey=5, items=[], operation='old + 7', test_div=2, if_true=7, if_false=0, handle_count=138194),\n",
       " Monkey(monkey=6, items=[], operation='old * 7', test_div=11, if_true=2, if_false=4, handle_count=142807),\n",
       " Monkey(monkey=7, items=[], operation='old + 8', test_div=17, if_true=1, if_false=3, handle_count=123730)]"
      ]
     },
     "execution_count": 192,
     "metadata": {},
     "output_type": "execute_result"
    }
   ],
   "source": [
    "n_rounds = 10000\n",
    "monkeys = [parse_monkey(d) for d in data]\n",
    "print_i = [1, 20, 1000, 2000]\n",
    "for i in range(n_rounds):\n",
    "    if i in print_i:\n",
    "        print(\"\\n\")\n",
    "        print(i)\n",
    "        print([m.handle_count for m in monkeys])\n",
    "    monkeys = evaluate_monkeys(monkeys, divisor)\n",
    "    \n",
    "monkeys"
   ]
  },
  {
   "cell_type": "code",
   "execution_count": 193,
   "id": "3011213a",
   "metadata": {},
   "outputs": [
    {
     "data": {
      "text/plain": [
       "21800916620"
      ]
     },
     "execution_count": 193,
     "metadata": {},
     "output_type": "execute_result"
    }
   ],
   "source": [
    "answer = get_answer(monkeys)\n",
    "answer\n"
   ]
  },
  {
   "cell_type": "code",
   "execution_count": 194,
   "id": "a6edf728",
   "metadata": {},
   "outputs": [
    {
     "name": "stdout",
     "output_type": "stream",
     "text": [
      "That's the right answer!  You are one gold star closer to collecting enough star fruit.You have completed Day 11! You can [Shareon\n",
      "  Twitter\n",
      "Mastodon] this victory or [Return to Your Advent Calendar].\n"
     ]
    },
    {
     "data": {
      "text/plain": [
       "<Response [200]>"
      ]
     },
     "execution_count": 194,
     "metadata": {},
     "output_type": "execute_result"
    }
   ],
   "source": [
    "submit(answer, year=2022, day=11, part=\"b\")"
   ]
  },
  {
   "cell_type": "code",
   "execution_count": null,
   "id": "739eda26",
   "metadata": {},
   "outputs": [],
   "source": []
  }
 ],
 "metadata": {
  "kernelspec": {
   "display_name": "adventofcode",
   "language": "python",
   "name": "adventofcode"
  },
  "language_info": {
   "codemirror_mode": {
    "name": "ipython",
    "version": 3
   },
   "file_extension": ".py",
   "mimetype": "text/x-python",
   "name": "python",
   "nbconvert_exporter": "python",
   "pygments_lexer": "ipython3",
   "version": "3.10.5"
  }
 },
 "nbformat": 4,
 "nbformat_minor": 5
}
