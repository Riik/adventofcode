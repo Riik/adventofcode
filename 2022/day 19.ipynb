{
 "cells": [
  {
   "cell_type": "code",
   "execution_count": 2,
   "id": "3fba3e1a",
   "metadata": {},
   "outputs": [],
   "source": [
    "import re\n",
    "from aocd import get_data, submit \n",
    "from dataclasses import dataclass\n",
    "\n",
    "# @dataclass(frozen=True)\n",
    "# class Money:\n",
    "#     ore: int = 0\n",
    "#     clay: int = 0\n",
    "#     obsidian: int = 0\n",
    "#     geode: int = 0\n",
    "        \n",
    "#     def __add__(self, other):\n",
    "#         return Money(\n",
    "#             self.ore + other.ore,\n",
    "#             self.clay + other.clay,\n",
    "#             self.obsidian + other.obsidian,\n",
    "#             self.geode + other.geode)\n",
    "    \n",
    "#     def __mul__(self, other):\n",
    "#         return Money(\n",
    "#             self.ore * other,\n",
    "#             self.clay * other,\n",
    "#             self.obsidian * other,\n",
    "#             self.geode * other)\n",
    "    \n",
    "#     def __rmul__(self, other):\n",
    "#         return self.__mul__(other)\n",
    "    \n",
    "#     def __gt__(self, other):\n",
    "#         return (\n",
    "#             (self.ore > other) and\n",
    "#             (self.clay > other) and\n",
    "#             (self.obsidian > other) and\n",
    "#             (self.geode > other) )\n",
    "\n",
    "# @dataclass(frozen=True)\n",
    "# class Blueprint:\n",
    "#     ore_robot: Money\n",
    "#     clay_robot: Money\n",
    "#     obsidian_robot: Money\n",
    "#     geode_robot: Money\n",
    "\n",
    "# @dataclass(frozen=True)\n",
    "# class State:\n",
    "#     money: Money = Money()\n",
    "#     n_ore_bots: int = 0\n",
    "#     n_clay_bots: int = 0\n",
    "#     n_obsidian_bots: int = 0\n",
    "#     n_geode_bots: int = 0\n",
    "        \n",
    "# def produce(s: State) -> State:\n",
    "#         m = s.money + Money(\n",
    "#             s.n_ore_bots, \n",
    "#             s.n_clay_bots, \n",
    "#             s.n_obsidian_bots, \n",
    "#             s.n_geode_bots)\n",
    "#         return State(m, s.n_ore_bots, s.n_clay_bots, s.n_obsidian_bots, s.n_geode_bots)\n",
    "    \n",
    "# data = get_data(year=2022, day=19)\n",
    "# data = \"\"\"Blueprint 1: Each ore robot costs 4 ore. Each clay robot costs 2 ore. Each obsidian robot costs 3 ore and 14 clay. Each geode robot costs 2 ore and 7 obsidian.\n",
    "# Blueprint 2: Each ore robot costs 2 ore. Each clay robot costs 3 ore. Each obsidian robot costs 3 ore and 8 clay. Each geode robot costs 3 ore and 12 obsidian.\"\"\"\n",
    "# data = data.split(\"\\n\")\n",
    "# data = [list(map(int, re.findall(r\"( [\\d]* )\", line))) for line in data]\n",
    "# data = [Blueprint(\n",
    "#     Money(ore=d[0]),\n",
    "#     Money(ore=d[1]),\n",
    "#     Money(ore=d[2], clay=d[3]),\n",
    "#     Money(ore=d[4], obsidian=d[5])\n",
    "#         ) for d in data]\n",
    "\n",
    "# data"
   ]
  },
  {
   "cell_type": "code",
   "execution_count": 76,
   "id": "4c50d677",
   "metadata": {},
   "outputs": [
    {
     "data": {
      "text/plain": [
       "array([[ 4,  0,  0,  0],\n",
       "       [ 2,  0,  0,  0],\n",
       "       [ 3, 14,  0,  0],\n",
       "       [ 2,  0,  7,  0]])"
      ]
     },
     "execution_count": 76,
     "metadata": {},
     "output_type": "execute_result"
    }
   ],
   "source": [
    "import numpy as np\n",
    "data = get_data(year=2022, day=19)\n",
    "data = \"\"\"Blueprint 1: Each ore robot costs 4 ore. Each clay robot costs 2 ore. Each obsidian robot costs 3 ore and 14 clay. Each geode robot costs 2 ore and 7 obsidian.\n",
    "Blueprint 2: Each ore robot costs 2 ore. Each clay robot costs 3 ore. Each obsidian robot costs 3 ore and 8 clay. Each geode robot costs 3 ore and 12 obsidian.\"\"\"\n",
    "data = data.split(\"\\n\")\n",
    "data = [list(map(int, re.findall(r\"( [\\d]* )\", line))) for line in data]\n",
    "data = [np.array((\n",
    "    np.array((d[0], 0, 0, 0)),\n",
    "    np.array((d[1], 0, 0, 0)),\n",
    "    np.array((d[2], d[3], 0, 0)),\n",
    "    np.array((d[4], 0, d[5], 0)))) for d in data]\n",
    "\n",
    "bp = data[0]\n",
    "bp\n"
   ]
  },
  {
   "cell_type": "code",
   "execution_count": 77,
   "id": "ecde32f4",
   "metadata": {},
   "outputs": [
    {
     "data": {
      "text/plain": [
       "{((1, 0, 0, 0), (0, 0, 0, 0))}"
      ]
     },
     "execution_count": 77,
     "metadata": {},
     "output_type": "execute_result"
    }
   ],
   "source": [
    "start_bots = np.array((1, 0, 0, 0))\n",
    "start_money = np.array((0, 0, 0, 0))\n",
    "state = (start_bots, start_money)\n",
    "to_set = lambda s: (tuple(s[0]), tuple(s[1]))\n",
    "from_set = lambda s: (np.array(s[0]), np.array(s[1]))\n",
    "states = set([to_set(state)])\n",
    "states"
   ]
  },
  {
   "cell_type": "code",
   "execution_count": 78,
   "id": "d012dcc0",
   "metadata": {},
   "outputs": [
    {
     "data": {
      "text/plain": [
       "((1, 0, 0, 0), (0, 0, 0, 0))"
      ]
     },
     "execution_count": 78,
     "metadata": {},
     "output_type": "execute_result"
    }
   ],
   "source": [
    "to_set(state)"
   ]
  },
  {
   "cell_type": "code",
   "execution_count": 107,
   "id": "e7cd807b",
   "metadata": {},
   "outputs": [],
   "source": [
    "def buy_options(bp, m):\n",
    "    return (np.min(money - bp, axis=1) >= 0)"
   ]
  },
  {
   "cell_type": "code",
   "execution_count": null,
   "id": "b1e5f85a",
   "metadata": {},
   "outputs": [],
   "source": []
  },
  {
   "cell_type": "code",
   "execution_count": 115,
   "id": "292249bd",
   "metadata": {},
   "outputs": [],
   "source": [
    "def find_best_moneys(moneys):\n",
    "    moneys.sort(reverse=True)\n",
    "    best = set()\n",
    "    new_set = set()\n",
    "    for item in moneys:\n",
    "        item = np.array(item)\n",
    "        best = new_set\n",
    "        new_set = best.copy()\n",
    "        for b in best:\n",
    "            b = np.array(b)\n",
    "            if np.all(b - item >= 0):\n",
    "                break\n",
    "        else:\n",
    "            new_set.add(tuple(item))\n",
    "            for b in best:\n",
    "                b = np.array(b)\n",
    "                if(np.all(item - b >= 0)):\n",
    "                    new_set.remove(tuple(b))\n",
    "        best = new_set\n",
    "    return new_set\n",
    "            "
   ]
  },
  {
   "cell_type": "code",
   "execution_count": 116,
   "id": "15c6cc3d",
   "metadata": {},
   "outputs": [],
   "source": [
    "from itertools import groupby\n",
    "from collections import defaultdict\n",
    "\n",
    "# def reduce_states(states):\n",
    "#     states = sorted(list(states))\n",
    "#     output = set()\n",
    "#     for bots, m_gen in groupby(states, lambda s: s[0]):\n",
    "#         moneys = [m[1] for m in m_gen]\n",
    "#         best_moneys = find_best_moneys(moneys)\n",
    "# #         print(bots, moneys)\n",
    "# #         print(bots, best_moneys)\n",
    "#         for bmoney in best_moneys:\n",
    "#             output.add((bots, bmoney))\n",
    "#     return output\n",
    "\n",
    "def reduce_states(states):\n",
    "    states_dict = defaultdict(list)\n",
    "    for bots, moneys in states:\n",
    "        states_dict[bots].append(moneys)\n",
    "    output = set()\n",
    "    for bots, moneys in states_dict.items():\n",
    "        best_moneys = find_best_moneys(moneys)\n",
    "        for bmoney in best_moneys:\n",
    "            output.add((bots, bmoney))\n",
    "    return output"
   ]
  },
  {
   "cell_type": "code",
   "execution_count": 117,
   "id": "1a5713c8",
   "metadata": {},
   "outputs": [
    {
     "data": {
      "text/plain": [
       "array([[ 4,  0,  0,  0],\n",
       "       [ 2,  0,  0,  0],\n",
       "       [ 3, 14,  0,  0],\n",
       "       [ 2,  0,  7,  0]])"
      ]
     },
     "execution_count": 117,
     "metadata": {},
     "output_type": "execute_result"
    }
   ],
   "source": [
    "bp"
   ]
  },
  {
   "cell_type": "code",
   "execution_count": null,
   "id": "a40237d8",
   "metadata": {},
   "outputs": [],
   "source": []
  },
  {
   "cell_type": "code",
   "execution_count": 7,
   "id": "984dd4a0",
   "metadata": {},
   "outputs": [],
   "source": [
    "all_nonnegative = lambda x: (x[0] >= 0) and (x[1] >= 0) and (x[2] >= 0) and (x[3] >= 0)\n",
    "\n",
    "def find_max_geodes(bp):\n",
    "    can_buy_all = np.max(bp, axis=0)\n",
    "    states = set([\n",
    "        ((1, 0, 0, 0), (0, 0, 0, 0))\n",
    "    ])\n",
    "    for i in range(10):\n",
    "        new_states = set()\n",
    "        for state in states: \n",
    "            state = from_set(state)\n",
    "            bots, money = state\n",
    "            options = buy_options(bp, money)\n",
    "            money += bots\n",
    "            # if we can buy all types, we should at least buy one\n",
    "            if all_nonnegative(money - can_buy_all):\n",
    "                new_money = []\n",
    "                new_bots = []\n",
    "            else:\n",
    "                new_money = [money]\n",
    "                new_bots = [bots]\n",
    "            for idx, option in enumerate(options):\n",
    "                if option: \n",
    "                    new_money.append(money - bp[idx,:])\n",
    "                    b = bots.copy()\n",
    "                    b[idx] += 1\n",
    "                    new_bots.append(b)\n",
    "            new_states.update([to_set((b,m)) for b, m in zip(new_bots, new_money)])\n",
    "        states = new_states\n",
    "        print(f\"{i}: {len(states)} state{'s' if len(states) > 1 else ''}\")\n",
    "        if i < 20:\n",
    "            states = reduce_states(states)\n",
    "            print(f\"{i}: {len(states)} state{'s' if len(states) > 1 else ''} after reduction\")\n",
    "\n",
    "    geodes = [s[1][3] for s in states]\n",
    "    return max(geodes)\n"
   ]
  },
  {
   "cell_type": "code",
   "execution_count": 119,
   "id": "d2c33537",
   "metadata": {},
   "outputs": [
    {
     "name": "stdout",
     "output_type": "stream",
     "text": [
      "2022-12-19 23:42:14.356001\n",
      "0: 4 states\n",
      "0: 4 states after reduction\n",
      "1: 16 states\n",
      "1: 13 states after reduction\n",
      "2: 52 states\n",
      "2: 40 states after reduction\n",
      "3: 157 states\n",
      "3: 118 states after reduction\n",
      "4: 454 states\n",
      "4: 334 states after reduction\n",
      "5: 1229 states\n",
      "5: 884 states after reduction\n",
      "6: 3092 states\n",
      "6: 2147 states after reduction\n",
      "7: 7142 states\n",
      "7: 4796 states after reduction\n",
      "8: 15297 states\n",
      "8: 9948 states after reduction\n",
      "9: 30573 states\n",
      "9: 19359 states after reduction\n",
      "         54105043 function calls in 173.199 seconds\n",
      "\n",
      "   Ordered by: standard name\n",
      "\n",
      "   ncalls  tottime  percall  cumtime  percall filename:lineno(function)\n",
      "     1000   52.345    0.052  171.776    0.172 1077583975.py:1(find_best_moneys)\n",
      "    18285    0.100    0.000    0.257    0.000 1902926624.py:1(buy_options)\n",
      "    73140    0.128    0.000    0.128    0.000 2325535112.py:4(<lambda>)\n",
      "    18285    0.013    0.000    0.046    0.000 2325535112.py:5(<lambda>)\n",
      "        1    0.353    0.353  173.195  173.195 3484823619.py:1(find_max_geodes)\n",
      "    18285    0.024    0.000    0.152    0.000 3484823619.py:26(<listcomp>)\n",
      "        1    0.175    0.175    0.175    0.175 3484823619.py:33(<listcomp>)\n",
      "       10    0.126    0.013  171.946   17.195 955162251.py:16(reduce_states)\n",
      "  5930871    9.212    0.000  107.467    0.000 <__array_function__ internals>:177(all)\n",
      "        1    0.000    0.000    0.000    0.000 <__array_function__ internals>:177(amax)\n",
      "    18285    0.016    0.000    0.157    0.000 <__array_function__ internals>:177(amin)\n",
      "        1    0.001    0.001    0.004    0.004 cProfile.py:40(print_stats)\n",
      "        1    0.000    0.000    0.000    0.000 cProfile.py:50(create_stats)\n",
      "  5930871    1.716    0.000    1.716    0.000 fromnumeric.py:2401(_all_dispatcher)\n",
      "  5930871   32.885    0.000   90.733    0.000 fromnumeric.py:2406(all)\n",
      "        1    0.000    0.000    0.000    0.000 fromnumeric.py:2672(_amax_dispatcher)\n",
      "        1    0.000    0.000    0.000    0.000 fromnumeric.py:2677(amax)\n",
      "    18285    0.003    0.000    0.003    0.000 fromnumeric.py:2797(_amin_dispatcher)\n",
      "    18285    0.020    0.000    0.126    0.000 fromnumeric.py:2802(amin)\n",
      "  5949157   16.372    0.000   57.954    0.000 fromnumeric.py:69(_wrapreduction)\n",
      "  5949157    4.307    0.000    4.307    0.000 fromnumeric.py:70(<dictcomp>)\n",
      "        5    0.008    0.002    0.035    0.007 iostream.py:202(schedule)\n",
      "       40    0.001    0.000    0.001    0.000 iostream.py:437(_is_master_process)\n",
      "       40    0.004    0.000    0.039    0.001 iostream.py:456(_schedule_flush)\n",
      "       40    0.011    0.000    0.053    0.001 iostream.py:526(write)\n",
      "        5    0.002    0.000    0.002    0.000 iostream.py:90(_event_pipe)\n",
      "        1    0.001    0.001    0.003    0.003 pstats.py:107(__init__)\n",
      "        1    0.001    0.001    0.002    0.002 pstats.py:117(init)\n",
      "        1    0.000    0.000    0.000    0.000 pstats.py:136(load_stats)\n",
      "        5    0.018    0.004    0.018    0.004 socket.py:545(send)\n",
      "        5    0.002    0.000    0.003    0.001 threading.py:1102(_wait_for_tstate_lock)\n",
      "        5    0.003    0.001    0.007    0.001 threading.py:1169(is_alive)\n",
      "        5    0.001    0.000    0.001    0.000 threading.py:553(is_set)\n",
      "        1    0.000    0.000    0.000    0.000 {built-in method builtins.hasattr}\n",
      "       41    0.000    0.000    0.000    0.000 {built-in method builtins.isinstance}\n",
      "       81    0.001    0.000    0.001    0.000 {built-in method builtins.len}\n",
      "        1    0.002    0.002    0.002    0.002 {built-in method builtins.max}\n",
      "       20    0.004    0.000    0.057    0.003 {built-in method builtins.print}\n",
      "  6007172   11.332    0.000   11.332    0.000 {built-in method numpy.array}\n",
      "  5949157    5.817    0.000   96.677    0.000 {built-in method numpy.core._multiarray_umath.implement_array_function}\n",
      "       40    0.000    0.000    0.000    0.000 {built-in method posix.getpid}\n",
      "       40    0.000    0.000    0.000    0.000 {method '__exit__' of '_thread.RLock' objects}\n",
      "        5    0.001    0.000    0.001    0.000 {method 'acquire' of '_thread.lock' objects}\n",
      "    75286    0.076    0.000    0.076    0.000 {method 'add' of 'set' objects}\n",
      "        5    0.000    0.000    0.000    0.000 {method 'append' of 'collections.deque' objects}\n",
      "   167726    0.016    0.000    0.016    0.000 {method 'append' of 'list' objects}\n",
      "    54855    0.050    0.000    0.050    0.000 {method 'copy' of 'numpy.ndarray' objects}\n",
      "    58016    0.179    0.000    0.179    0.000 {method 'copy' of 'set' objects}\n",
      "        1    0.000    0.000    0.000    0.000 {method 'disable' of '_lsprof.Profiler' objects}\n",
      "  5949167    1.392    0.000    1.392    0.000 {method 'items' of 'dict' objects}\n",
      "  5949157   35.883    0.000   35.883    0.000 {method 'reduce' of 'numpy.ufunc' objects}\n",
      "     1000    0.566    0.001    0.566    0.001 {method 'sort' of 'list' objects}\n",
      "    18285    0.028    0.000    0.028    0.000 {method 'update' of 'set' objects}\n",
      "       40    0.000    0.000    0.000    0.000 {method 'write' of '_io.StringIO' objects}\n",
      "\n",
      "\n"
     ]
    }
   ],
   "source": [
    "from datetime import datetime\n",
    "print(datetime.now())\n",
    "import cProfile\n",
    "\n",
    "with cProfile.Profile() as pr:\n",
    "    find_max_geodes(data[1])\n",
    "    pr.print_stats()\n"
   ]
  },
  {
   "cell_type": "code",
   "execution_count": 91,
   "id": "dcd65055",
   "metadata": {},
   "outputs": [
    {
     "data": {
      "text/plain": [
       "[((1, 4, 2, 2), (6, 41, 8, 9))]"
      ]
     },
     "execution_count": 91,
     "metadata": {},
     "output_type": "execute_result"
    }
   ],
   "source": [
    "[s for s in states if s[1] == (6, 41, 8, 9)]"
   ]
  },
  {
   "cell_type": "code",
   "execution_count": 3,
   "id": "9be725f7",
   "metadata": {},
   "outputs": [],
   "source": [
    "import numpy as np \n",
    "x = np.array([0,1,2,3])"
   ]
  },
  {
   "cell_type": "code",
   "execution_count": 4,
   "id": "d898d7d5",
   "metadata": {},
   "outputs": [
    {
     "name": "stdout",
     "output_type": "stream",
     "text": [
      "4.87 µs ± 107 ns per loop (mean ± std. dev. of 7 runs, 100,000 loops each)\n"
     ]
    }
   ],
   "source": [
    "%timeit np.all(x > 0)"
   ]
  },
  {
   "cell_type": "code",
   "execution_count": 5,
   "id": "99184bfd",
   "metadata": {},
   "outputs": [],
   "source": []
  },
  {
   "cell_type": "code",
   "execution_count": 6,
   "id": "a10cd410",
   "metadata": {},
   "outputs": [
    {
     "name": "stdout",
     "output_type": "stream",
     "text": [
      "178 ns ± 0.784 ns per loop (mean ± std. dev. of 7 runs, 10,000,000 loops each)\n"
     ]
    }
   ],
   "source": [
    "%timeit all_positive(x)"
   ]
  },
  {
   "cell_type": "code",
   "execution_count": null,
   "id": "7f5ec7a6",
   "metadata": {},
   "outputs": [],
   "source": []
  }
 ],
 "metadata": {
  "kernelspec": {
   "display_name": "adventofcode",
   "language": "python",
   "name": "adventofcode"
  },
  "language_info": {
   "codemirror_mode": {
    "name": "ipython",
    "version": 3
   },
   "file_extension": ".py",
   "mimetype": "text/x-python",
   "name": "python",
   "nbconvert_exporter": "python",
   "pygments_lexer": "ipython3",
   "version": "3.10.5"
  }
 },
 "nbformat": 4,
 "nbformat_minor": 5
}
