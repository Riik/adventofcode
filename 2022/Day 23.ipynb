{
 "cells": [
  {
   "cell_type": "code",
   "execution_count": 128,
   "id": "60574d0b",
   "metadata": {},
   "outputs": [],
   "source": [
    "import numpy as np\n",
    "from aocd import get_data, submit \n",
    "data = get_data(year=2022, day=23)\n",
    "data = data.split(\"\\n\")\n",
    "data = np.array(list(map(list, data)))\n",
    "data_to_elves = lambda data: list(zip(*map(list, np.where(data == \"#\"))))\n",
    "elves = data_to_elves(data)"
   ]
  },
  {
   "cell_type": "code",
   "execution_count": 109,
   "id": "562259e5",
   "metadata": {},
   "outputs": [],
   "source": [
    "def check_fields(elve, fields, elves_set):\n",
    "    for f in fields:\n",
    "        if (elve[0]+f[0], elve[1]+f[1]) in elves_set:\n",
    "            return False\n",
    "    return True\n",
    "\n",
    "move_to = lambda elve, move: (elve[0]+move[0], elve[1]+move[1])\n",
    "push_to_end_list = lambda x: x[1:] + [x[0]]"
   ]
  },
  {
   "cell_type": "code",
   "execution_count": 110,
   "id": "eafb4df4",
   "metadata": {},
   "outputs": [],
   "source": [
    "orig_directions = [ \n",
    "    ((-1,-1), (-1,0), (-1,1)),\n",
    "    ((1,1), (1,0), (1,-1)),\n",
    "    ((-1,-1), (0,-1), (1,-1)),\n",
    "    ((-1,1), (0,1), (1,1))\n",
    "]\n",
    "orig_moves = [(-1,0), (1,0), (0,-1), (0,1)]\n",
    "\n",
    "\n",
    "surrounding_fields = [(-1,-1),(-1,0),(-1,1),(0,1),(1,1),(1,0),(1,-1),(0,-1)]"
   ]
  },
  {
   "cell_type": "code",
   "execution_count": 121,
   "id": "50a08068",
   "metadata": {},
   "outputs": [],
   "source": [
    "def get_empty_fields(elves):\n",
    "    min_x = min([x for x,y in elves])\n",
    "    max_x = max([x for x,y in elves])\n",
    "    min_y = min([y for x,y in elves])\n",
    "    max_y = max([y for x,y in elves])\n",
    "\n",
    "    return (max_x - min_x + 1) * (max_y - min_y + 1) - len(elves) "
   ]
  },
  {
   "cell_type": "code",
   "execution_count": 124,
   "id": "8be426ab",
   "metadata": {
    "scrolled": true
   },
   "outputs": [
    {
     "name": "stdout",
     "output_type": "stream",
     "text": [
      "0\n",
      "100\n",
      "200\n",
      "300\n",
      "400\n",
      "500\n",
      "600\n",
      "700\n",
      "800\n",
      "900\n",
      "Converged after 950 rounds!\n"
     ]
    }
   ],
   "source": [
    "directions = orig_directions[:]\n",
    "moves = orig_moves[:]\n",
    "elves = data_to_elves(data)\n",
    "\n",
    "\n",
    "print_debug = lambda p=None: None\n",
    "answer_a = 0\n",
    "answer_b = 0\n",
    "\n",
    "for i in range(1000):\n",
    "    if i % 100 == 0: \n",
    "        print(i)\n",
    "    if i == 10:\n",
    "        answer_a = get_empty_fields(elves)\n",
    "    print_debug(f\"*** ROUND {i} ***\")\n",
    "#     print_field(elves, tuple(data.shape))\n",
    "    new_locations = []\n",
    "    collisions = set()\n",
    "    elves_set = set(elves)\n",
    "    new_elves_set = set()\n",
    "    has_converged = True\n",
    "    for elve in elves:\n",
    "        if check_fields(elve, surrounding_fields, elves_set):\n",
    "            print_debug(f\"Elve {elve} is clear, not moving\")\n",
    "            new_locations.append(elve)\n",
    "            new_elves_set.add(elve)\n",
    "            continue\n",
    "        has_converged = False\n",
    "        for direction, move in zip(directions, moves):\n",
    "            \n",
    "            if check_fields(elve, direction, elves_set):\n",
    "                print_debug(f\"Elve {elve} moving by {move}\")\n",
    "                new_loc = move_to(elve, move)\n",
    "                new_locations.append(new_loc)\n",
    "                if new_loc in new_elves_set:\n",
    "                    collisions.add(new_loc)\n",
    "                new_elves_set.add(new_loc)\n",
    "                break\n",
    "        else:\n",
    "            print_debug(f\"Elve {elve} can't move in any direction....\")\n",
    "            new_locations.append(elve)\n",
    "            new_elves_set.add(elve)\n",
    "\n",
    "    elves = [(new if new not in collisions else old) for new, old in zip(new_locations, elves)]\n",
    "    \n",
    "    directions = push_to_end_list(directions)\n",
    "    moves = push_to_end_list(moves)\n",
    "    \n",
    "    \n",
    "    if has_converged: \n",
    "        print(f\"Converged after {i+1} rounds!\")\n",
    "        answer_b = i+1\n",
    "        break\n",
    "\n"
   ]
  },
  {
   "cell_type": "code",
   "execution_count": 125,
   "id": "fcc5e347",
   "metadata": {},
   "outputs": [
    {
     "name": "stdout",
     "output_type": "stream",
     "text": [
      "Part a already solved with same answer: 4075\n"
     ]
    }
   ],
   "source": [
    "submit(answer_a, year=2022, day=23, part=\"a\")"
   ]
  },
  {
   "cell_type": "code",
   "execution_count": 127,
   "id": "05b1f92b",
   "metadata": {},
   "outputs": [
    {
     "name": "stdout",
     "output_type": "stream",
     "text": [
      "Part b already solved with same answer: 950\n"
     ]
    }
   ],
   "source": [
    "submit(answer_b, year=2022, day=23, part=\"b\")"
   ]
  },
  {
   "cell_type": "code",
   "execution_count": null,
   "id": "134f19c8",
   "metadata": {},
   "outputs": [],
   "source": []
  }
 ],
 "metadata": {
  "kernelspec": {
   "display_name": "adventofcode",
   "language": "python",
   "name": "adventofcode"
  },
  "language_info": {
   "codemirror_mode": {
    "name": "ipython",
    "version": 3
   },
   "file_extension": ".py",
   "mimetype": "text/x-python",
   "name": "python",
   "nbconvert_exporter": "python",
   "pygments_lexer": "ipython3",
   "version": "3.10.5"
  }
 },
 "nbformat": 4,
 "nbformat_minor": 5
}
