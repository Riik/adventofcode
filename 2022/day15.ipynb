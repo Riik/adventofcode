{
 "cells": [
  {
   "cell_type": "code",
   "execution_count": 2,
   "id": "ef07be83",
   "metadata": {},
   "outputs": [
    {
     "name": "stdout",
     "output_type": "stream",
     "text": [
      "Requirement already satisfied: shapely in /Users/rvlist/.pyenv/versions/3.10.5/envs/adventofcode/lib/python3.10/site-packages (2.0.0)\n",
      "Requirement already satisfied: numpy>=1.14 in /Users/rvlist/.pyenv/versions/3.10.5/envs/adventofcode/lib/python3.10/site-packages (from shapely) (1.23.5)\n",
      "\u001b[33mWARNING: You are using pip version 22.0.4; however, version 22.3.1 is available.\n",
      "You should consider upgrading via the '/Users/rvlist/.pyenv/versions/adventofcode/bin/python3 -m pip install --upgrade pip' command.\u001b[0m\u001b[33m\n",
      "\u001b[0mNote: you may need to restart the kernel to use updated packages.\n"
     ]
    }
   ],
   "source": [
    "%pip install shapely"
   ]
  },
  {
   "cell_type": "code",
   "execution_count": 25,
   "id": "329837b7",
   "metadata": {},
   "outputs": [],
   "source": [
    "from aocd import get_data, submit\n",
    "import re\n",
    "import numpy as np\n",
    "\n",
    "data = get_data(year=2022, day=15)\n",
    "\n",
    "dist = lambda p1, p2: int(np.linalg.norm(p1-p2, 1))\n",
    "\n",
    "data = data.splitlines()\n",
    "data = [re.findall(r\"=([-\\d]*)\", line) for line in data]\n",
    "data = [list(map(int, d)) for d in data]\n",
    "data = [[np.array([d[0], d[1]]), np.array([d[2], d[3]])] for d in data]\n",
    "data = [(p, b, dist(p, b)) for p,b in data]\n"
   ]
  },
  {
   "cell_type": "code",
   "execution_count": 26,
   "id": "f44cd90f",
   "metadata": {},
   "outputs": [
    {
     "data": {
      "text/plain": [
       "[range(-4, 0), range(1, 103)]"
      ]
     },
     "execution_count": 26,
     "metadata": {},
     "output_type": "execute_result"
    }
   ],
   "source": [
    "def merge_ranges(left, right):\n",
    "    if left.stop >= right.start:\n",
    "        new_min = min(left.start, left.start)\n",
    "        new_max = max(left.stop, right.stop)\n",
    "        return [range(new_min, new_max)]\n",
    "    return [left, right]\n",
    "    \n",
    "    \n",
    "merge_ranges(range(-4, 0), range(1, 103))"
   ]
  },
  {
   "cell_type": "code",
   "execution_count": 29,
   "id": "ede7358a",
   "metadata": {},
   "outputs": [],
   "source": [
    "x = [range(5), range(10, 12), range(-4, 10), range(13, 15), range(-10, -7)]\n",
    "def overlap_ranges(ranges):\n",
    "    ranges.sort(key=lambda r: min(r))\n",
    "    output = []\n",
    "    l = ranges[0]\n",
    "    for r in ranges[1:]:\n",
    "        res = merge_ranges(l, r)\n",
    "        if len(res) == 2:\n",
    "            l = res[1]\n",
    "            output.append(res[0])\n",
    "        else: \n",
    "            l = res[0]\n",
    "    output.append(l)\n",
    "    return output"
   ]
  },
  {
   "cell_type": "code",
   "execution_count": 30,
   "id": "2f729792",
   "metadata": {},
   "outputs": [],
   "source": [
    "y = 2000000\n",
    "def gen_range(p, d, y):\n",
    "    y_offset = y - p[1]\n",
    "    n_x = d-abs(y_offset)\n",
    "    return range(-n_x + p[0], n_x + 1 + p[0])\n",
    "    \n",
    "def ranges_for_row(y):\n",
    "    ranges = [gen_range(p, d, y) for p, _, d in data if abs(y - p[1]) <= d]\n",
    "    coverage = overlap_ranges(ranges)\n",
    "    return coverage"
   ]
  },
  {
   "cell_type": "code",
   "execution_count": 31,
   "id": "7ed1a333",
   "metadata": {},
   "outputs": [
    {
     "data": {
      "text/plain": [
       "5511201"
      ]
     },
     "execution_count": 31,
     "metadata": {},
     "output_type": "execute_result"
    }
   ],
   "source": [
    "coverage = ranges_for_row(2000000)[0]\n",
    "answer = coverage.stop - coverage.start - 1\n",
    "answer"
   ]
  },
  {
   "cell_type": "code",
   "execution_count": 32,
   "id": "f9bfd87e",
   "metadata": {},
   "outputs": [
    {
     "name": "stdout",
     "output_type": "stream",
     "text": [
      "Part a already solved with same answer: 5511201\n"
     ]
    }
   ],
   "source": [
    "submit(answer, year=2022, part=\"a\", day=15)"
   ]
  },
  {
   "cell_type": "markdown",
   "id": "54065539",
   "metadata": {},
   "source": [
    "## Runs in 286 ms which is quite nice, but no way that that will work for 4 million rows "
   ]
  },
  {
   "cell_type": "code",
   "execution_count": 33,
   "id": "76bb900f",
   "metadata": {},
   "outputs": [
    {
     "name": "stdout",
     "output_type": "stream",
     "text": [
      "284 ms ± 9.41 ms per loop (mean ± std. dev. of 7 runs, 1 loop each)\n"
     ]
    }
   ],
   "source": [
    "%timeit ranges_for_row(2000000)"
   ]
  },
  {
   "cell_type": "markdown",
   "id": "fd4e5c01",
   "metadata": {},
   "source": [
    "## We'll treat the range of each sensor as a diamond shaped area, intersect all areas and find the interior of that shape. Only space for the distress beacon to hide "
   ]
  },
  {
   "cell_type": "code",
   "execution_count": 34,
   "id": "84f4981f",
   "metadata": {},
   "outputs": [],
   "source": [
    "import shapely\n",
    "from shapely.geometry import Polygon\n",
    "from shapely.ops import unary_union\n",
    "\n",
    "def make_polygon(d):\n",
    "    p, _, radius = d\n",
    "    points = p + np.array([[0,radius], [radius,0], [0,-radius], [-radius,0]])\n",
    "    points = [tuple(p) for p in points]\n",
    "    return Polygon(points)\n",
    "\n",
    "polygons = [make_polygon(d) for d in data]\n",
    "all_coverages = unary_union(polygons)"
   ]
  },
  {
   "cell_type": "code",
   "execution_count": 35,
   "id": "b857463a",
   "metadata": {},
   "outputs": [
    {
     "data": {
      "image/svg+xml": [
       "<svg xmlns=\"http://www.w3.org/2000/svg\" xmlns:xlink=\"http://www.w3.org/1999/xlink\" width=\"300\" height=\"300\" viewBox=\"-1749005.12 -1740586.12 7302693.24 7008045.24\" preserveAspectRatio=\"xMinYMin meet\"><g transform=\"matrix(1,0,0,-1,0,3526873.0)\"><path fill-rule=\"evenodd\" fill=\"#66cc99\" stroke=\"#555555\" stroke-width=\"48684.6216\" opacity=\"0.6\" d=\"M 1763269.0,-459029.0 L 1436312.0,-132072.0 L 393374.0,-1175010.0 L -1478535.0,696899.0 L -636253.5,1539180.5 L -1096423.0,1999350.0 L -397245.0,2698528.0 L -541264.0,2842547.0 L -215062.0,3168749.0 L -875749.0,3829436.0 L 240430.0,4945615.0 L 901117.0,4284928.0 L 909141.0,4292952.0 L 1122086.0,4080007.0 L 1909567.0,4867488.0 L 2611172.0,4165883.0 L 2826220.0,4380931.0 L 3100489.0,4106662.0 L 3104748.0,4102403.0 L 3999334.0,4996989.0 L 5083630.0,3912693.0 L 4247502.5,3076565.5 L 4869748.0,2454320.0 L 4268501.0,1853073.0 L 4558195.0,1563379.0 L 4155986.0,1161170.0 L 5283218.0,33938.0 L 3779164.0,-1470116.0 L 2592951.0,-283903.0 L 2254818.0,-622036.0 L 1927540.0,-294758.0 L 1763269.0,-459029.0 z M 2829679.0,3411840.0 L 2829680.0,3411839.0 L 2829681.0,3411840.0 L 2829680.0,3411841.0 L 2829679.0,3411840.0 z\" /></g></svg>"
      ],
      "text/plain": [
       "<POLYGON ((1763269 -459029, 1436312 -132072, 393374 -1175010, -1478535 69689...>"
      ]
     },
     "execution_count": 35,
     "metadata": {},
     "output_type": "execute_result"
    }
   ],
   "source": [
    "all_coverages"
   ]
  },
  {
   "cell_type": "code",
   "execution_count": 36,
   "id": "117c9e26",
   "metadata": {},
   "outputs": [],
   "source": [
    "def get_middle(coords):\n",
    "    coords = list(set(coords))\n",
    "    coords.sort()\n",
    "    return int(coords[len(coords)//2])\n",
    "int_x, int_y = all_coverages.interiors[0].coords.xy\n",
    "beacon_x = get_middle(int_x)\n",
    "beacon_y = get_middle(int_y)"
   ]
  },
  {
   "cell_type": "code",
   "execution_count": 37,
   "id": "20df2569",
   "metadata": {},
   "outputs": [
    {
     "data": {
      "text/plain": [
       "11318723411840"
      ]
     },
     "execution_count": 37,
     "metadata": {},
     "output_type": "execute_result"
    }
   ],
   "source": [
    "answer = beacon_x*4000000 + beacon_y\n",
    "answer"
   ]
  },
  {
   "cell_type": "code",
   "execution_count": 38,
   "id": "3440b335",
   "metadata": {},
   "outputs": [
    {
     "name": "stdout",
     "output_type": "stream",
     "text": [
      "Part b already solved with same answer: 11318723411840\n"
     ]
    }
   ],
   "source": [
    "submit(answer, year=2022, part=\"b\", day=15)"
   ]
  }
 ],
 "metadata": {
  "kernelspec": {
   "display_name": "adventofcode",
   "language": "python",
   "name": "adventofcode"
  },
  "language_info": {
   "codemirror_mode": {
    "name": "ipython",
    "version": 3
   },
   "file_extension": ".py",
   "mimetype": "text/x-python",
   "name": "python",
   "nbconvert_exporter": "python",
   "pygments_lexer": "ipython3",
   "version": "3.10.5"
  }
 },
 "nbformat": 4,
 "nbformat_minor": 5
}
