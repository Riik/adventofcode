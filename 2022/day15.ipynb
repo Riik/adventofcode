{
 "cells": [
  {
   "cell_type": "code",
   "execution_count": 100,
   "id": "ef07be83",
   "metadata": {},
   "outputs": [
    {
     "name": "stdout",
     "output_type": "stream",
     "text": [
      "Requirement already satisfied: shapely in /Users/rvlist/.pyenv/versions/3.10.5/envs/adventofcode/lib/python3.10/site-packages (2.0.0)\n",
      "Requirement already satisfied: numpy>=1.14 in /Users/rvlist/.pyenv/versions/3.10.5/envs/adventofcode/lib/python3.10/site-packages (from shapely) (1.23.5)\n",
      "\u001b[33mWARNING: You are using pip version 22.0.4; however, version 22.3.1 is available.\n",
      "You should consider upgrading via the '/Users/rvlist/.pyenv/versions/adventofcode/bin/python3 -m pip install --upgrade pip' command.\u001b[0m\u001b[33m\n",
      "\u001b[0mNote: you may need to restart the kernel to use updated packages.\n"
     ]
    }
   ],
   "source": [
    "%pip install shapely"
   ]
  },
  {
   "cell_type": "code",
   "execution_count": 101,
   "id": "329837b7",
   "metadata": {},
   "outputs": [
    {
     "data": {
      "text/plain": [
       "[(array([3797530, 3451192]), array([3316341, 3328308]), 604073),\n",
       " (array([3779164,   33938]), array([4608350,  708806]), 1504054),\n",
       " (array([1331810, 3260896]), array([2075597, 3280016]), 762907),\n",
       " (array([393374, 696899]), array([2021690,  453306]), 1871909),\n",
       " (array([2928048,  923094]), array([2021690,  453306]), 1376146),\n",
       " (array([2386726, 3645023]), array([2075597, 3280016]), 676136),\n",
       " (array([1900159, 2381031]), array([1649961, 2000000]), 631229),\n",
       " (array([2601378, 2979844]), array([2218962, 2701963]), 660297),\n",
       " (array([2254818,   32199]), array([2021690,  453306]), 654235),\n",
       " (array([2689643,  375840]), array([2021690,  453306]), 745419),\n",
       " (array([ 909141, 2842547]), array([2218962, 2701963]), 1450405),\n",
       " (array([3915731, 2454320]), array([4268501, 1853073]), 954017),\n",
       " (array([1693574, 1344104]), array([1649961, 2000000]), 699509),\n",
       " (array([1760260, 3297662]), array([2075597, 3280016]), 332983),\n",
       " (array([1909567, 3990737]), array([2075597, 3280016]), 876751),\n",
       " (array([2097863, 3179766]), array([2075597, 3280016]), 122516),\n",
       " (array([3100489, 3623847]), array([3104748, 4102403]), 482815),\n",
       " (array([2746023, 2432826]), array([2218962, 2701963]), 796198),\n",
       " (array([3031245, 3031354]), array([3316341, 3328308]), 582050),\n",
       " (array([ 277094, 1999350]), array([1649961, 2000000]), 1373517),\n",
       " (array([1763269,  126349]), array([2021690,  453306]), 585378),\n",
       " (array([3287624, 2695420]), array([3316341, 3328308]), 661605),\n",
       " (array([2371102, 1745103]), array([1649961, 2000000]), 976038),\n",
       " (array([3553438, 1563379]), array([4268501, 1853073]), 1004757),\n",
       " (array([1529129, 2735122]), array([2218962, 2701963]), 722992),\n",
       " (array([2826220, 3958350]), array([3104748, 4102403]), 422581),\n",
       " (array([3999334, 3912693]), array([3104748, 4102403]), 1084296),\n",
       " (array([ 240430, 3829436]), array([-742036, 3963149]), 1116179),\n",
       " (array([3455748, 3814861]), array([3316341, 3328308]), 625960)]"
      ]
     },
     "execution_count": 101,
     "metadata": {},
     "output_type": "execute_result"
    }
   ],
   "source": [
    "from aocd import get_data, submit\n",
    "import re\n",
    "import numpy as np\n",
    "\n",
    "data = \"\"\"Sensor at x=2, y=18: closest beacon is at x=-2, y=15\n",
    "Sensor at x=9, y=16: closest beacon is at x=10, y=16\n",
    "Sensor at x=13, y=2: closest beacon is at x=15, y=3\n",
    "Sensor at x=12, y=14: closest beacon is at x=10, y=16\n",
    "Sensor at x=10, y=20: closest beacon is at x=10, y=16\n",
    "Sensor at x=14, y=17: closest beacon is at x=10, y=16\n",
    "Sensor at x=8, y=7: closest beacon is at x=2, y=10\n",
    "Sensor at x=2, y=0: closest beacon is at x=2, y=10\n",
    "Sensor at x=0, y=11: closest beacon is at x=2, y=10\n",
    "Sensor at x=20, y=14: closest beacon is at x=25, y=17\n",
    "Sensor at x=17, y=20: closest beacon is at x=21, y=22\n",
    "Sensor at x=16, y=7: closest beacon is at x=15, y=3\n",
    "Sensor at x=14, y=3: closest beacon is at x=15, y=3\n",
    "Sensor at x=20, y=1: closest beacon is at x=15, y=3\"\"\"\n",
    "data = get_data(year=2022, day=15)\n",
    "\n",
    "dist = lambda p1, p2: int(np.linalg.norm(p1-p2, 1))\n",
    "\n",
    "data = data.splitlines()\n",
    "data = [re.findall(r\"=([-\\d]*)\", line) for line in data]\n",
    "data = [list(map(int, d)) for d in data]\n",
    "data = [[np.array([d[0], d[1]]), np.array([d[2], d[3]])] for d in data]\n",
    "data = [(p, b, dist(p, b)) for p,b in data]\n",
    "data"
   ]
  },
  {
   "cell_type": "code",
   "execution_count": 102,
   "id": "f44cd90f",
   "metadata": {},
   "outputs": [
    {
     "data": {
      "text/plain": [
       "[range(-4, 0), range(1, 103)]"
      ]
     },
     "execution_count": 102,
     "metadata": {},
     "output_type": "execute_result"
    }
   ],
   "source": [
    "def merge_ranges(left, right):\n",
    "    if left.stop >= right.start:\n",
    "        new_min = min(left.start, left.start)\n",
    "        new_max = max(left.stop, right.stop)\n",
    "        return [range(new_min, new_max)]\n",
    "    return [left, right]\n",
    "    \n",
    "    \n",
    "merge_ranges(range(-4, 0), range(1, 103))"
   ]
  },
  {
   "cell_type": "code",
   "execution_count": 103,
   "id": "ede7358a",
   "metadata": {},
   "outputs": [
    {
     "data": {
      "text/plain": [
       "[range(-10, -7), range(-4, 12), range(13, 15)]"
      ]
     },
     "execution_count": 103,
     "metadata": {},
     "output_type": "execute_result"
    }
   ],
   "source": [
    "x = [range(5), range(10, 12), range(-4, 10), range(13, 15), range(-10, -7)]\n",
    "def overlap_ranges(ranges):\n",
    "    ranges.sort(key=lambda r: min(r))\n",
    "    output = []\n",
    "    l = ranges[0]\n",
    "    for r in ranges[1:]:\n",
    "        res = merge_ranges(l, r)\n",
    "        if len(res) == 2:\n",
    "            l = res[1]\n",
    "            output.append(res[0])\n",
    "        else: \n",
    "            l = res[0]\n",
    "    output.append(l)\n",
    "    return output\n",
    "\n",
    "overlap_ranges(x)"
   ]
  },
  {
   "cell_type": "code",
   "execution_count": 104,
   "id": "2f729792",
   "metadata": {},
   "outputs": [],
   "source": [
    "y = 2000000\n",
    "def gen_range(p, d, y):\n",
    "    y_offset = y - p[1]\n",
    "    n_x = d-abs(y_offset)\n",
    "    return range(-n_x + p[0], n_x + 1 + p[0])\n",
    "    \n",
    "def ranges_for_row(y):\n",
    "    ranges = [gen_range(p, d, y) for p, _, d in data if abs(y - p[1]) <= d]\n",
    "    coverage = overlap_ranges(ranges)\n",
    "    return coverage"
   ]
  },
  {
   "cell_type": "code",
   "execution_count": 105,
   "id": "7ed1a333",
   "metadata": {},
   "outputs": [
    {
     "data": {
      "text/plain": [
       "5511201"
      ]
     },
     "execution_count": 105,
     "metadata": {},
     "output_type": "execute_result"
    }
   ],
   "source": [
    "ranges_for_row(2000000)\n",
    "answer = coverage.stop - coverage.start - 1\n",
    "answer"
   ]
  },
  {
   "cell_type": "markdown",
   "id": "54065539",
   "metadata": {},
   "source": [
    "## Runs in 286 ms which is quite nice, but no way that that will work for 4 million rows "
   ]
  },
  {
   "cell_type": "code",
   "execution_count": 106,
   "id": "76bb900f",
   "metadata": {},
   "outputs": [
    {
     "name": "stdout",
     "output_type": "stream",
     "text": [
      "286 ms ± 1.83 ms per loop (mean ± std. dev. of 7 runs, 1 loop each)\n"
     ]
    }
   ],
   "source": [
    "%timeit ranges_for_row(2000000)"
   ]
  },
  {
   "cell_type": "markdown",
   "id": "fd4e5c01",
   "metadata": {},
   "source": [
    "## We'll treat the range of each sensor as a diamond shaped area, intersect all areas and find the interior of that shape. Only space for the distress beacon to hide "
   ]
  },
  {
   "cell_type": "code",
   "execution_count": 111,
   "id": "84f4981f",
   "metadata": {},
   "outputs": [],
   "source": [
    "import shapely\n",
    "from shapely.geometry import Polygon\n",
    "from shapely.ops import unary_union\n",
    "\n",
    "def make_polygon(d):\n",
    "    p, _, radius = d\n",
    "    points = p + np.array([[0,radius], [radius,0], [0,-radius], [-radius,0]])\n",
    "    points = [tuple(p) for p in points]\n",
    "    return Polygon(points)\n",
    "\n",
    "polygons = [make_polygon(d) for d in data]\n",
    "all_coverages = unary_union(polygons)"
   ]
  },
  {
   "cell_type": "code",
   "execution_count": 112,
   "id": "b857463a",
   "metadata": {},
   "outputs": [
    {
     "data": {
      "image/svg+xml": [
       "<svg xmlns=\"http://www.w3.org/2000/svg\" xmlns:xlink=\"http://www.w3.org/1999/xlink\" width=\"300\" height=\"300\" viewBox=\"-1749005.12 -1740586.12 7302693.24 7008045.24\" preserveAspectRatio=\"xMinYMin meet\"><g transform=\"matrix(1,0,0,-1,0,3526873.0)\"><path fill-rule=\"evenodd\" fill=\"#66cc99\" stroke=\"#555555\" stroke-width=\"48684.6216\" opacity=\"0.6\" d=\"M 1763269.0,-459029.0 L 1436312.0,-132072.0 L 393374.0,-1175010.0 L -1478535.0,696899.0 L -636253.5,1539180.5 L -1096423.0,1999350.0 L -397245.0,2698528.0 L -541264.0,2842547.0 L -215062.0,3168749.0 L -875749.0,3829436.0 L 240430.0,4945615.0 L 901117.0,4284928.0 L 909141.0,4292952.0 L 1122086.0,4080007.0 L 1909567.0,4867488.0 L 2611172.0,4165883.0 L 2826220.0,4380931.0 L 3100489.0,4106662.0 L 3104748.0,4102403.0 L 3999334.0,4996989.0 L 5083630.0,3912693.0 L 4247502.5,3076565.5 L 4869748.0,2454320.0 L 4268501.0,1853073.0 L 4558195.0,1563379.0 L 4155986.0,1161170.0 L 5283218.0,33938.0 L 3779164.0,-1470116.0 L 2592951.0,-283903.0 L 2254818.0,-622036.0 L 1927540.0,-294758.0 L 1763269.0,-459029.0 z M 2829679.0,3411840.0 L 2829680.0,3411839.0 L 2829681.0,3411840.0 L 2829680.0,3411841.0 L 2829679.0,3411840.0 z\" /></g></svg>"
      ],
      "text/plain": [
       "<POLYGON ((1763269 -459029, 1436312 -132072, 393374 -1175010, -1478535 69689...>"
      ]
     },
     "execution_count": 112,
     "metadata": {},
     "output_type": "execute_result"
    }
   ],
   "source": [
    "all_coverages"
   ]
  },
  {
   "cell_type": "code",
   "execution_count": 118,
   "id": "117c9e26",
   "metadata": {},
   "outputs": [
    {
     "data": {
      "text/plain": [
       "(array('d', [2829680.0, 2829681.0, 2829680.0, 2829679.0, 2829680.0]),\n",
       " array('d', [3411839.0, 3411840.0, 3411841.0, 3411840.0, 3411839.0]))"
      ]
     },
     "execution_count": 118,
     "metadata": {},
     "output_type": "execute_result"
    }
   ],
   "source": [
    "p.interiors[0].coords.xy"
   ]
  },
  {
   "cell_type": "code",
   "execution_count": 99,
   "id": "20df2569",
   "metadata": {},
   "outputs": [
    {
     "data": {
      "text/plain": [
       "11318723411840"
      ]
     },
     "execution_count": 99,
     "metadata": {},
     "output_type": "execute_result"
    }
   ],
   "source": [
    "answer = 2829680*4000000 + 3411840\n",
    "answer"
   ]
  },
  {
   "cell_type": "code",
   "execution_count": null,
   "id": "3440b335",
   "metadata": {},
   "outputs": [],
   "source": []
  }
 ],
 "metadata": {
  "kernelspec": {
   "display_name": "adventofcode",
   "language": "python",
   "name": "adventofcode"
  },
  "language_info": {
   "codemirror_mode": {
    "name": "ipython",
    "version": 3
   },
   "file_extension": ".py",
   "mimetype": "text/x-python",
   "name": "python",
   "nbconvert_exporter": "python",
   "pygments_lexer": "ipython3",
   "version": "3.10.5"
  }
 },
 "nbformat": 4,
 "nbformat_minor": 5
}
