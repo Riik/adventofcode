{
 "cells": [
  {
   "cell_type": "code",
   "execution_count": 83,
   "id": "439028a7",
   "metadata": {},
   "outputs": [],
   "source": [
    "from aocd import get_data, submit\n",
    "import numpy as np\n",
    "data = get_data(year=2022, day=24)\n",
    "data = data.split(\"\\n\")\n",
    "data = np.array(list(map(list, data)))\n",
    "data = data[1:-1, 1:-1]\n",
    "get_blizzards = lambda data: {direction: list(zip(*map(list, np.where(data == direction)))) \n",
    "             for direction in ['>', 'v', '<', '^']}\n",
    "blizzards = get_blizzards(data)\n",
    "max_y, max_x = data.shape\n",
    "endgoal = (max_y, max_x-1)\n"
   ]
  },
  {
   "cell_type": "code",
   "execution_count": 84,
   "id": "9e03474a",
   "metadata": {},
   "outputs": [],
   "source": [
    "moves = {\n",
    "    '>': (0,1),\n",
    "    'v': (1,0),\n",
    "    '<': (0,-1),\n",
    "    '^': (-1,0)\n",
    "}\n",
    "\n",
    "move_blizz = lambda b, m: ( (b[0]+m[0]) % max_y, (b[1]+m[1]) % max_x )\n",
    "\n",
    "\n",
    "def move_blizzards(blizzards):\n",
    "    new_blizzards = {}\n",
    "    for direction, blizz in blizzards.items():\n",
    "        m = moves[direction]\n",
    "        new_blizzards[direction] = [move_blizz(b, m) for b in blizz]\n",
    "    return new_blizzards\n",
    "\n",
    "blizzards = get_blizzards(data)\n",
    "\n",
    "blizzard_locations = lambda blizzards: set([b for blizz in blizzards.values() for b in blizz])\n",
    "\n",
    "def get_player_locs(p):\n",
    "    return [\n",
    "        p, \n",
    "        (p[0]+1, p[1]),\n",
    "        (p[0]-1, p[1]),        \n",
    "        (p[0], p[1]-1),        \n",
    "        (p[0], p[1]+1)\n",
    "    ]\n",
    "\n",
    "def is_valid_loc(p, blizz):\n",
    "    if p == (-1, 0):\n",
    "        return True\n",
    "    if p == endgoal:\n",
    "        return True\n",
    "    if not 0 <= p[0] < max_y:\n",
    "        return False\n",
    "    if not 0 <= p[1] < max_x:\n",
    "        return False\n",
    "    if p in blizz:\n",
    "        return False\n",
    "    return True"
   ]
  },
  {
   "cell_type": "code",
   "execution_count": 92,
   "id": "fcdc9649",
   "metadata": {},
   "outputs": [
    {
     "name": "stdout",
     "output_type": "stream",
     "text": [
      "*** Minute 0 ***\n",
      "No. states: 1\n",
      "*** Minute 100 ***\n",
      "No. states: 229\n",
      "*** Minute 200 ***\n",
      "No. states: 483\n",
      "*** Minute 300 ***\n",
      "No. states: 728\n",
      "Reached goal!\n",
      "*** Minute 400 ***\n",
      "No. states: 259\n",
      "*** Minute 500 ***\n",
      "No. states: 556\n",
      "Back home!\n",
      "*** Minute 600 ***\n",
      "No. states: 13\n",
      "*** Minute 700 ***\n",
      "No. states: 289\n",
      "*** Minute 800 ***\n",
      "No. states: 528\n",
      "Made it with the snacks!\n"
     ]
    },
    {
     "data": {
      "text/plain": [
       "896"
      ]
     },
     "execution_count": 92,
     "metadata": {},
     "output_type": "execute_result"
    }
   ],
   "source": [
    "blizzards = get_blizzards(data)\n",
    "blizz_locs = blizzard_locations(blizzards)\n",
    "\n",
    "player_locs = set([(-1,0)])\n",
    "reached_end = False\n",
    "got_snacks = False\n",
    "answer_a = 0\n",
    "\n",
    "for i in range(1000):\n",
    "    if i % 100 == 0:\n",
    "        print(f\"*** Minute {i} ***\")\n",
    "        print(f\"No. states: {len(player_locs)}\")\n",
    "    blizzards = move_blizzards(blizzards)\n",
    "    blizz_locs = blizzard_locations(blizzards)\n",
    "    \n",
    "    new_player_locs = set()\n",
    "    for player_loc in player_locs:\n",
    "        candidates = get_player_locs(player_loc)\n",
    "        candidates = [c for c in candidates if is_valid_loc(c, blizz_locs)]\n",
    "        new_player_locs.update(candidates)\n",
    "    \n",
    "    player_locs = new_player_locs\n",
    "    if endgoal in player_locs and not reached_end:\n",
    "        reached_end = True\n",
    "        player_locs = set([endgoal])\n",
    "        print(\"Reached goal!\")\n",
    "        if not got_snacks:\n",
    "            answer_a = i + 1\n",
    "    if (-1, 0) in player_locs and reached_end and not got_snacks:\n",
    "        got_snacks = True\n",
    "        player_locs = set([(-1,0)])\n",
    "        print(\"Back home!\")\n",
    "    if endgoal in player_locs and got_snacks:\n",
    "        print(\"Made it with the snacks!\")\n",
    "        break\n",
    "answer = i + 1\n",
    "answer\n"
   ]
  },
  {
   "cell_type": "code",
   "execution_count": 90,
   "id": "4960d269",
   "metadata": {},
   "outputs": [
    {
     "name": "stdout",
     "output_type": "stream",
     "text": [
      "Part a already solved with same answer: 314\n"
     ]
    }
   ],
   "source": [
    "submit(answer_a, year=2022, day=24, part=\"a\")"
   ]
  },
  {
   "cell_type": "code",
   "execution_count": 91,
   "id": "b0211d28",
   "metadata": {},
   "outputs": [
    {
     "name": "stdout",
     "output_type": "stream",
     "text": [
      "Part b already solved with same answer: 896\n"
     ]
    }
   ],
   "source": [
    "submit(answer, year=2022, day=24, part=\"b\")"
   ]
  }
 ],
 "metadata": {
  "kernelspec": {
   "display_name": "adventofcode",
   "language": "python",
   "name": "adventofcode"
  },
  "language_info": {
   "codemirror_mode": {
    "name": "ipython",
    "version": 3
   },
   "file_extension": ".py",
   "mimetype": "text/x-python",
   "name": "python",
   "nbconvert_exporter": "python",
   "pygments_lexer": "ipython3",
   "version": "3.10.5"
  }
 },
 "nbformat": 4,
 "nbformat_minor": 5
}
