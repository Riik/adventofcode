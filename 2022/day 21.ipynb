{
 "cells": [
  {
   "cell_type": "code",
   "execution_count": 1,
   "id": "d27f4498",
   "metadata": {},
   "outputs": [
    {
     "name": "stdout",
     "output_type": "stream",
     "text": [
      "Requirement already satisfied: sympy in /Users/rvlist/.pyenv/versions/3.10.5/envs/adventofcode/lib/python3.10/site-packages (1.11.1)\n",
      "Requirement already satisfied: mpmath>=0.19 in /Users/rvlist/.pyenv/versions/3.10.5/envs/adventofcode/lib/python3.10/site-packages (from sympy) (1.2.1)\n",
      "\u001b[33mWARNING: You are using pip version 22.0.4; however, version 22.3.1 is available.\n",
      "You should consider upgrading via the '/Users/rvlist/.pyenv/versions/adventofcode/bin/python3 -m pip install --upgrade pip' command.\u001b[0m\u001b[33m\n",
      "\u001b[0mNote: you may need to restart the kernel to use updated packages.\n"
     ]
    }
   ],
   "source": [
    "%pip install sympy"
   ]
  },
  {
   "cell_type": "code",
   "execution_count": 2,
   "id": "7709fe0b",
   "metadata": {},
   "outputs": [],
   "source": [
    "from aocd import get_data, submit \n",
    "data = get_data(year=2022, day=21)\n",
    "data = data.split(\"\\n\")\n",
    "data = [d.split(\":\") for d in data]\n",
    "data = {key: value.strip() for key, value in data}"
   ]
  },
  {
   "cell_type": "code",
   "execution_count": 3,
   "id": "6efb5b38",
   "metadata": {},
   "outputs": [],
   "source": [
    "from functools import lru_cache\n",
    "\n",
    "def do_maths(a, operand, b):\n",
    "    if operand == \"*\":\n",
    "        return a * b\n",
    "    if operand == \"/\":\n",
    "        return a / b\n",
    "    if operand == \"+\":\n",
    "        return a + b\n",
    "    if operand == \"-\":\n",
    "        return a - b\n",
    "\n",
    "@lru_cache(None)\n",
    "def resolve(key: str):\n",
    "    value = data[key]\n",
    "    if key == \"humn\":\n",
    "        return (int(value), \"humn\")\n",
    "    try:\n",
    "        value = int(value)\n",
    "        return (value, \"\")\n",
    "    except ValueError:\n",
    "        a, operand, b = value.split(\" \")\n",
    "\n",
    "        a = resolve(a)\n",
    "        b = resolve(b)\n",
    "        \n",
    "        if key == \"root\":\n",
    "            if a[1]:\n",
    "                return (do_maths(a[0], operand, b[0]), f\"({a[1]}) == {b[0]}\")\n",
    "            else:\n",
    "                return (do_maths(a[0], operand, b[0]), f\"({b[1]}) == {a[0]}\")\n",
    "        \n",
    "        if a[1]:\n",
    "            return(do_maths(a[0], operand, b[0]), f\"({a[1]}) {operand} {b[0]}\")\n",
    "        if b[1]:\n",
    "            return(do_maths(a[0], operand, b[0]), f\"{a[0]} {operand} ({b[1]})\")\n",
    "        \n",
    "        return (do_maths(a[0], operand, b[0]), \"\")\n",
    "        \n",
    "\n",
    "    "
   ]
  },
  {
   "cell_type": "code",
   "execution_count": 4,
   "id": "d1d0f5be",
   "metadata": {},
   "outputs": [
    {
     "data": {
      "text/plain": [
       "145167969204648"
      ]
     },
     "execution_count": 4,
     "metadata": {},
     "output_type": "execute_result"
    }
   ],
   "source": [
    "value, expr = resolve(\"root\")\n",
    "answer = int(value)\n",
    "answer"
   ]
  },
  {
   "cell_type": "code",
   "execution_count": 5,
   "id": "60e3c68a",
   "metadata": {},
   "outputs": [
    {
     "name": "stdout",
     "output_type": "stream",
     "text": [
      "Part a already solved with same answer: 145167969204648\n"
     ]
    }
   ],
   "source": [
    "submit(answer, year=2022, day=21, part=\"a\")"
   ]
  },
  {
   "cell_type": "code",
   "execution_count": 6,
   "id": "2183ca1c",
   "metadata": {},
   "outputs": [
    {
     "data": {
      "text/latex": [
       "$\\displaystyle 63951461680320.0 - \\frac{96 humn}{5}$"
      ],
      "text/plain": [
       "63951461680320.0 - 96*humn/5"
      ]
     },
     "execution_count": 6,
     "metadata": {},
     "output_type": "execute_result"
    }
   ],
   "source": [
    "import sympy as sym\n",
    "from sympy.solvers import solve\n",
    "humn = sym.Symbol('humn')\n",
    "left_side, right_side = expr.split(\"==\")\n",
    "zero_expr = f\"{left_side} - {right_side}\"\n",
    "sym_expr = eval(zero_expr)\n",
    "sym_expr"
   ]
  },
  {
   "cell_type": "code",
   "execution_count": 7,
   "id": "f585cbc8",
   "metadata": {},
   "outputs": [
    {
     "data": {
      "text/plain": [
       "3330805295850"
      ]
     },
     "execution_count": 7,
     "metadata": {},
     "output_type": "execute_result"
    }
   ],
   "source": [
    "answer = int(list(sym.solveset(zero_expr))[0])\n",
    "answer"
   ]
  },
  {
   "cell_type": "code",
   "execution_count": 8,
   "id": "860af5dd",
   "metadata": {},
   "outputs": [
    {
     "name": "stdout",
     "output_type": "stream",
     "text": [
      "Part b already solved with same answer: 3330805295850\n"
     ]
    }
   ],
   "source": [
    "submit(answer, year=2022, day=21, part=\"b\")"
   ]
  }
 ],
 "metadata": {
  "kernelspec": {
   "display_name": "adventofcode",
   "language": "python",
   "name": "adventofcode"
  },
  "language_info": {
   "codemirror_mode": {
    "name": "ipython",
    "version": 3
   },
   "file_extension": ".py",
   "mimetype": "text/x-python",
   "name": "python",
   "nbconvert_exporter": "python",
   "pygments_lexer": "ipython3",
   "version": "3.10.5"
  }
 },
 "nbformat": 4,
 "nbformat_minor": 5
}
