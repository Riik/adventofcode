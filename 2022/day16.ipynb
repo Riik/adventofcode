{
 "cells": [
  {
   "cell_type": "code",
   "execution_count": 2,
   "id": "9611584e",
   "metadata": {},
   "outputs": [
    {
     "data": {
      "text/plain": [
       "[Valve(valve='AA', rate=0, neighbours=['DD', 'II', 'BB']),\n",
       " Valve(valve='BB', rate=13, neighbours=['CC', 'AA']),\n",
       " Valve(valve='CC', rate=2, neighbours=['DD', 'BB']),\n",
       " Valve(valve='DD', rate=20, neighbours=['CC', 'AA', 'EE']),\n",
       " Valve(valve='EE', rate=3, neighbours=['FF', 'DD']),\n",
       " Valve(valve='FF', rate=0, neighbours=['EE', 'GG']),\n",
       " Valve(valve='GG', rate=0, neighbours=['FF', 'HH']),\n",
       " Valve(valve='HH', rate=22, neighbours=['GG']),\n",
       " Valve(valve='II', rate=0, neighbours=['AA', 'JJ']),\n",
       " Valve(valve='JJ', rate=21, neighbours=['II'])]"
      ]
     },
     "execution_count": 2,
     "metadata": {},
     "output_type": "execute_result"
    }
   ],
   "source": [
    "import re \n",
    "from dataclasses import dataclass\n",
    "from aocd import get_data, submit\n",
    "from collections import defaultdict \n",
    "import networkx as nx\n",
    "\n",
    "@dataclass\n",
    "class Valve:\n",
    "    valve: str\n",
    "    rate: int\n",
    "    neighbours: list\n",
    "        \n",
    "data = \"\"\"Valve AA has flow rate=0; tunnels lead to valves DD, II, BB\n",
    "Valve BB has flow rate=13; tunnels lead to valves CC, AA\n",
    "Valve CC has flow rate=2; tunnels lead to valves DD, BB\n",
    "Valve DD has flow rate=20; tunnels lead to valves CC, AA, EE\n",
    "Valve EE has flow rate=3; tunnels lead to valves FF, DD\n",
    "Valve FF has flow rate=0; tunnels lead to valves EE, GG\n",
    "Valve GG has flow rate=0; tunnels lead to valves FF, HH\n",
    "Valve HH has flow rate=22; tunnel leads to valve GG\n",
    "Valve II has flow rate=0; tunnels lead to valves AA, JJ\n",
    "Valve JJ has flow rate=21; tunnel leads to valve II\"\"\"\n",
    "   \n",
    "# data = get_data(year=2022, day=16)\n",
    "\n",
    "data=data.splitlines()\n",
    "\n",
    "nodes = []\n",
    "for line in data:\n",
    "    node = re.findall(\"Valve ([A-Z]*) \", line)[0]\n",
    "    rate = int(re.findall(\"rate=([\\d]*);\", line)[0])\n",
    "    neighbours = [n[1:].strip() for n in line.split(\"valve\")[1].split(\",\")]\n",
    "    nodes.append(Valve(node, rate, neighbours))\n",
    "nodes"
   ]
  },
  {
   "cell_type": "code",
   "execution_count": 3,
   "id": "3c24c6ef",
   "metadata": {},
   "outputs": [
    {
     "data": {
      "image/png": "[encoded data removed]",
      "text/plain": [
       "<Figure size 640x480 with 1 Axes>"
      ]
     },
     "metadata": {},
     "output_type": "display_data"
    }
   ],
   "source": [
    "g = defaultdict()\n",
    "for node in nodes:\n",
    "    g[node.valve] = {neigh: {} for neigh in node.neighbours}\n",
    "g = dict(g)\n",
    "G = nx.from_dict_of_dicts(g)\n",
    "nx.draw(G, with_labels=True)"
   ]
  },
  {
   "cell_type": "code",
   "execution_count": 4,
   "id": "9e734e62",
   "metadata": {},
   "outputs": [],
   "source": [
    "simple_dict = {node.valve:node.neighbours for node in nodes}\n",
    "useful_nodes = [node.valve for node in nodes if node.rate > 0]\n",
    "flowrate = {node.valve:node.rate for node in nodes}"
   ]
  },
  {
   "cell_type": "code",
   "execution_count": 5,
   "id": "5f93b944",
   "metadata": {},
   "outputs": [],
   "source": [
    "best_paths = defaultdict(dict)\n",
    "best_paths[\"AA\"] = {\"\": 0}\n",
    "DEBUG = False\n",
    "open_valves_flowrate = {}\n",
    "\n",
    "print_debug = lambda s: print(s) if DEBUG else None\n",
    "\n",
    "# iterate until it converges. Just put some high enough number\n",
    "for i in range(30):\n",
    "    print_debug(f\"*** ROUND {i} ***\")\n",
    "    new_best_paths = best_paths.copy()\n",
    "    # for each node, check all possible ordered combinations of open valves to get to that node\n",
    "    for node, options in best_paths.items():\n",
    "        print_debug(f\"Visiting {node}\")\n",
    "        # open_valves is an ordered combination of opened valves, best_stepcount is \n",
    "        # minimal stepcount to open those valves and get to the current node\n",
    "        for open_valves, best_stepcount in options.items():\n",
    "            neighbours = simple_dict[node]\n",
    "            for neigh in neighbours:\n",
    "                print_debug(f\"{i}, best_stepcount: {best_stepcount}, Open valves: {open_valves}, Neighbour: {neigh}\")\n",
    "                # check if we're actually making an improvement here, same order but fewer steps\n",
    "                if (open_valves in new_best_paths[neigh]) and (new_best_paths[neigh][open_valves] <= best_stepcount):\n",
    "                    continue\n",
    "                # traveling to the next valve takes one time unit\n",
    "                new_best_paths[neigh][open_valves] = best_stepcount+1\n",
    "        # for all combinations, add opening current valve as an option\n",
    "        for open_valves in list(options.keys()):\n",
    "            # if we haven't opened the valve yet, open it and add it to the list of possibilities\n",
    "            if (node in useful_nodes) and (node not in open_valves):\n",
    "                new_open_valves = open_valves + node\n",
    "                print_debug(\"> Opening valve\")\n",
    "                new_best_paths[node][new_open_valves] = new_best_paths[node][open_valves]+1\n",
    "    best_paths = new_best_paths"
   ]
  },
  {
   "cell_type": "code",
   "execution_count": 121,
   "id": "b6bbb6b7",
   "metadata": {},
   "outputs": [
    {
     "data": {
      "text/plain": [
       "24"
      ]
     },
     "execution_count": 121,
     "metadata": {},
     "output_type": "execute_result"
    }
   ],
   "source": [
    "# Test v\n",
    "test = \"DDBBJJHHEECC\"\n",
    "best_paths[test[-2:]][test]"
   ]
  },
  {
   "cell_type": "code",
   "execution_count": 125,
   "id": "4cf33e03",
   "metadata": {},
   "outputs": [],
   "source": [
    "# possible_paths = defaultdict(int)\n",
    "# possible_paths[\"AA\"] = 1\n",
    "# for i in range(30):\n",
    "#     new_paths = defaultdict(int)\n",
    "#     for key, neighbours in simple_dict.items():\n",
    "#         n_paths = possible_paths[key]\n",
    "#         # stay in same spot\n",
    "#         if \n",
    "#         new_paths[key] += n_paths\n",
    "#         # move to other location\n",
    "#         for neigh in neighbours:\n",
    "#             new_paths[neigh] += n_paths\n",
    "#     possible_paths = new_paths.copy()\n",
    "# possible_paths"
   ]
  },
  {
   "cell_type": "code",
   "execution_count": null,
   "id": "492a356a",
   "metadata": {},
   "outputs": [],
   "source": [
    "\n",
    "# def explore_graph(node, visited, opened, count, flow):\n",
    "#     neighbors = simple_dict[node]\n",
    "#     if (flowrate[node] > 0) and (node not in opened):\n",
    "#         flow += flowrate[node]*(count-1)\n",
    "#         return explore_graph(node, visited, opened, count, flow)\n",
    "#     for node in neighbors:\n",
    "#         if node in visited:\n",
    "        \n",
    "    \n",
    "# explore_graph(\"AA\", set(), set, 5, 0)"
   ]
  }
 ],
 "metadata": {
  "kernelspec": {
   "display_name": "adventofcode",
   "language": "python",
   "name": "adventofcode"
  },
  "language_info": {
   "codemirror_mode": {
    "name": "ipython",
    "version": 3
   },
   "file_extension": ".py",
   "mimetype": "text/x-python",
   "name": "python",
   "nbconvert_exporter": "python",
   "pygments_lexer": "ipython3",
   "version": "3.10.5"
  }
 },
 "nbformat": 4,
 "nbformat_minor": 5
}
