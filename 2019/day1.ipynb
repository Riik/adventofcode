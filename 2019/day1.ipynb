{
 "cells": [
  {
   "cell_type": "code",
   "id": "initial_id",
   "metadata": {
    "collapsed": true,
    "ExecuteTime": {
     "end_time": "2024-11-29T19:03:04.911663Z",
     "start_time": "2024-11-29T19:03:04.909503Z"
    }
   },
   "source": [
    "year = 2019; day = 1"
   ],
   "outputs": [],
   "execution_count": 1
  },
  {
   "cell_type": "code",
   "id": "77ec965f07aaa7f9",
   "metadata": {
    "ExecuteTime": {
     "end_time": "2024-11-29T19:03:05.752717Z",
     "start_time": "2024-11-29T19:03:05.483081Z"
    }
   },
   "source": [
    "from aocd import get_data, submit\n",
    "data = get_data(year=year, day=day)\n",
    "data = data.strip()\n",
    "data = data.split(\"\\n\")\n",
    "\n",
    "data = [int(x) for x in data]\n",
    "\n",
    "ans = sum([(x // 3) - 2 for x in data])\n",
    "ans"
   ],
   "outputs": [
    {
     "data": {
      "text/plain": [
       "3488702"
      ]
     },
     "execution_count": 2,
     "metadata": {},
     "output_type": "execute_result"
    }
   ],
   "execution_count": 2
  },
  {
   "cell_type": "code",
   "id": "c2d2290fab9c394f",
   "metadata": {
    "ExecuteTime": {
     "end_time": "2024-11-29T19:03:06.705632Z",
     "start_time": "2024-11-29T19:03:06.657822Z"
    }
   },
   "source": [
    "submit(ans, part=\"a\", year=year, day=day)"
   ],
   "outputs": [
    {
     "name": "stdout",
     "output_type": "stream",
     "text": [
      "aocd will not submit that answer again. At 2024-11-25 12:10:35.836784-05:00 you've previously submitted 3488702 and the server responded with:\n",
      "\u001B[32mThat's the right answer!  You are one gold star closer to rescuing Santa. [Continue to Part Two]\u001B[0m\n"
     ]
    }
   ],
   "execution_count": 3
  },
  {
   "cell_type": "code",
   "id": "218e7d65bedb0404",
   "metadata": {
    "ExecuteTime": {
     "end_time": "2024-11-29T19:03:07.493044Z",
     "start_time": "2024-11-29T19:03:07.488813Z"
    }
   },
   "source": [
    "x = data.copy()\n",
    "x = [max((x // 3) - 2, 0) for x in data]\n",
    "tot_sum = sum(x)\n",
    "while sum(x) > 0:\n",
    "    x = [max((x // 3) - 2, 0) for x in x]\n",
    "    tot_sum += sum(x)\n",
    "tot_sum\n"
   ],
   "outputs": [
    {
     "data": {
      "text/plain": [
       "5230169"
      ]
     },
     "execution_count": 4,
     "metadata": {},
     "output_type": "execute_result"
    }
   ],
   "execution_count": 4
  },
  {
   "cell_type": "code",
   "id": "ce9ff6a5ad0df1f6",
   "metadata": {
    "ExecuteTime": {
     "end_time": "2024-11-29T19:03:08.200930Z",
     "start_time": "2024-11-29T19:03:08.193141Z"
    }
   },
   "source": [
    "submit(tot_sum, part=\"b\", year=year, day=day)"
   ],
   "outputs": [
    {
     "name": "stdout",
     "output_type": "stream",
     "text": [
      "aocd will not submit that answer again. At 2024-11-25 12:17:43.570047-05:00 you've previously submitted 5230169 and the server responded with:\n",
      "\u001B[32mThat's the right answer!  You are one gold star closer to rescuing Santa.You have completed Day 1! You can [Shareon\n",
      "  Twitter\n",
      "Mastodon] this victory or [Return to Your Advent Calendar].\u001B[0m\n"
     ]
    }
   ],
   "execution_count": 5
  },
  {
   "metadata": {},
   "cell_type": "code",
   "outputs": [],
   "execution_count": null,
   "source": "",
   "id": "917bfeaf4b6e41fc"
  }
 ],
 "metadata": {
  "kernelspec": {
   "display_name": "aoc",
   "language": "python",
   "name": "aoc"
  },
  "language_info": {
   "codemirror_mode": {
    "name": "ipython",
    "version": 3
   },
   "file_extension": ".py",
   "mimetype": "text/x-python",
   "name": "python",
   "nbconvert_exporter": "python",
   "pygments_lexer": "ipython3",
   "version": "3.11.9"
  }
 },
 "nbformat": 4,
 "nbformat_minor": 5
}
