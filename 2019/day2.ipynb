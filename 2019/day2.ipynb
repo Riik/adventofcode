{
 "cells": [
  {
   "cell_type": "code",
   "id": "initial_id",
   "metadata": {
    "collapsed": true,
    "ExecuteTime": {
     "end_time": "2024-11-29T19:08:50.548620Z",
     "start_time": "2024-11-29T19:08:50.545396Z"
    }
   },
   "source": [
    "year = 2019; day = 2"
   ],
   "outputs": [],
   "execution_count": 2
  },
  {
   "cell_type": "code",
   "id": "77ec965f07aaa7f9",
   "metadata": {
    "ExecuteTime": {
     "end_time": "2024-11-29T19:14:48.683176Z",
     "start_time": "2024-11-29T19:14:48.674332Z"
    }
   },
   "source": [
    "from aocd import get_data, submit\n",
    "from helpers.helpers import parse_int_list\n",
    "data = get_data(year=year, day=day)\n",
    "data = data.strip()\n",
    "# data = data.split(\"\\n\")\n",
    "data = parse_int_list(data, sep=\",\")\n",
    "data[:5]"
   ],
   "outputs": [
    {
     "data": {
      "text/plain": [
       "[1, 0, 0, 3, 1]"
      ]
     },
     "execution_count": 24,
     "metadata": {},
     "output_type": "execute_result"
    }
   ],
   "execution_count": 24
  },
  {
   "cell_type": "code",
   "id": "375e1a05d5e1901f",
   "metadata": {
    "ExecuteTime": {
     "end_time": "2024-11-29T19:14:49.225636Z",
     "start_time": "2024-11-29T19:14:49.222707Z"
    }
   },
   "source": [
    "def run_simulation(data, noun, verb):\n",
    "    data = data.copy()\n",
    "    idx = 0\n",
    "    data[1] = noun\n",
    "    data[2] = verb\n",
    "    while data[idx] != 99:\n",
    "        if data[idx] == 1:\n",
    "            data[data[idx+3]] = data[data[idx+1]] + data[data[idx+2]]\n",
    "        elif data[idx] == 2:\n",
    "            data[data[idx+3]] = data[data[idx+1]] * data[data[idx+2]]\n",
    "        idx += 4\n",
    "    return data[0]"
   ],
   "outputs": [],
   "execution_count": 25
  },
  {
   "metadata": {
    "ExecuteTime": {
     "end_time": "2024-11-29T19:14:52.960572Z",
     "start_time": "2024-11-29T19:14:52.955774Z"
    }
   },
   "cell_type": "code",
   "source": "ans = run_simulation(data, 12, 2)",
   "id": "909768d692e82f6c",
   "outputs": [],
   "execution_count": 28
  },
  {
   "cell_type": "code",
   "id": "69567ab9c99a810f",
   "metadata": {
    "ExecuteTime": {
     "end_time": "2024-11-29T19:14:53.355197Z",
     "start_time": "2024-11-29T19:14:53.352566Z"
    }
   },
   "source": "submit(ans, day=2, year=2019, part=\"a\")",
   "outputs": [
    {
     "name": "stdout",
     "output_type": "stream",
     "text": [
      "Part a already solved with same answer: 5305097\n"
     ]
    }
   ],
   "execution_count": 29
  },
  {
   "metadata": {
    "ExecuteTime": {
     "end_time": "2024-11-29T19:15:44.090402Z",
     "start_time": "2024-11-29T19:15:44.044339Z"
    }
   },
   "cell_type": "code",
   "source": [
    "for i in range(100):\n",
    "    for j in range(100):\n",
    "        if run_simulation(data, i, j) == 19690720:\n",
    "            print(i, j)\n",
    "            ans = 100*i + j"
   ],
   "id": "474392f6fdcc4a3e",
   "outputs": [
    {
     "name": "stdout",
     "output_type": "stream",
     "text": [
      "49 25\n"
     ]
    }
   ],
   "execution_count": 31
  },
  {
   "cell_type": "code",
   "id": "a39fc56607f26fdf",
   "metadata": {
    "ExecuteTime": {
     "end_time": "2024-11-29T19:15:54.513493Z",
     "start_time": "2024-11-29T19:15:53.643625Z"
    }
   },
   "source": "submit(ans, day=2, year=2019, part=\"b\")",
   "outputs": [
    {
     "name": "stdout",
     "output_type": "stream",
     "text": [
      "\u001B[32mThat's the right answer!  You are one gold star closer to rescuing Santa.You have completed Day 2! You can [Shareon\n",
      "  Bluesky\n",
      "Twitter\n",
      "Mastodon] this victory or [Return to Your Advent Calendar].\u001B[0m\n"
     ]
    },
    {
     "data": {
      "text/plain": [
       "<urllib3.response.HTTPResponse at 0x1090d84f0>"
      ]
     },
     "execution_count": 32,
     "metadata": {},
     "output_type": "execute_result"
    }
   ],
   "execution_count": 32
  },
  {
   "metadata": {},
   "cell_type": "code",
   "outputs": [],
   "execution_count": null,
   "source": "",
   "id": "4193286c395ebe9f"
  }
 ],
 "metadata": {
  "kernelspec": {
   "display_name": "aoc",
   "language": "python",
   "name": "aoc"
  },
  "language_info": {
   "codemirror_mode": {
    "name": "ipython",
    "version": 3
   },
   "file_extension": ".py",
   "mimetype": "text/x-python",
   "name": "python",
   "nbconvert_exporter": "python",
   "pygments_lexer": "ipython3",
   "version": "3.11.9"
  }
 },
 "nbformat": 4,
 "nbformat_minor": 5
}
