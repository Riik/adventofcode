{
 "cells": [
  {
   "cell_type": "code",
   "id": "initial_id",
   "metadata": {
    "collapsed": true,
    "ExecuteTime": {
     "end_time": "2024-11-30T20:43:48.313703Z",
     "start_time": "2024-11-30T20:43:48.311918Z"
    }
   },
   "source": [
    "from pandas.core.computation.expr import intersection\n",
    "\n",
    "year = 2019; day = 3"
   ],
   "outputs": [],
   "execution_count": 7
  },
  {
   "cell_type": "code",
   "id": "77ec965f07aaa7f9",
   "metadata": {
    "ExecuteTime": {
     "end_time": "2024-11-30T21:09:11.337289Z",
     "start_time": "2024-11-30T21:09:11.327598Z"
    }
   },
   "source": [
    "from aocd import get_data, submit\n",
    "import numpy as np\n",
    "from helpers.helpers import *\n",
    "data = get_data(year=year, day=day)\n",
    "# data = \"\"\"R75,D30,R83,U83,L12,D49,R71,U7,L72\n",
    "# U62,R66,U55,R34,D71,R55,D58,R83\"\"\"\n",
    "# data = \"\"\"R98,U47,R26,D63,R33,U87,L62,D20,R33,U53,R51\n",
    "# U98,R91,D20,R16,D67,R40,U7,R15,U6,R7\"\"\"\n",
    "# data = \"\"\"R8,U5,L5,D3\n",
    "# U7,R6,D4,L4\"\"\"\n",
    "data = data.strip()\n",
    "data = data.split(\"\\n\")\n",
    "\n",
    "directions_map = {\n",
    "    \"U\": (0, 1),\n",
    "    \"D\": (0, -1),\n",
    "    \"L\": (-1, 0),\n",
    "    \"R\": (1, 0)\n",
    "}\n",
    "\n"
   ],
   "outputs": [],
   "execution_count": 89
  },
  {
   "metadata": {
    "ExecuteTime": {
     "end_time": "2024-11-30T21:09:11.528425Z",
     "start_time": "2024-11-30T21:09:11.452239Z"
    }
   },
   "cell_type": "code",
   "source": [
    "\n",
    "def get_visited(line):\n",
    "    visited = []\n",
    "    x, y = 0,0\n",
    "    for instr in line.split(\",\"):\n",
    "        dir = instr[:1]\n",
    "        len = int(instr[1:])\n",
    "        for i in range(len):\n",
    "            x += directions_map[dir][0]\n",
    "            y += directions_map[dir][1]\n",
    "            visited.append((x,y))\n",
    "    return visited\n",
    "\n",
    "l, r = [get_visited(line) for line in data]\n",
    "\n",
    "overlap = set(l).intersection(set(r))\n",
    "overlap\n"
   ],
   "id": "70846546fe64d1ee",
   "outputs": [
    {
     "data": {
      "text/plain": [
       "{(6491, 1524),\n",
       " (6518, 3060),\n",
       " (6769, 1619),\n",
       " (6788, 1619),\n",
       " (7028, 1619),\n",
       " (7207, 2660),\n",
       " (7371, 2377),\n",
       " (7655, 2591)}"
      ]
     },
     "execution_count": 90,
     "metadata": {},
     "output_type": "execute_result"
    }
   ],
   "execution_count": 90
  },
  {
   "metadata": {
    "ExecuteTime": {
     "end_time": "2024-11-30T21:09:11.610749Z",
     "start_time": "2024-11-30T21:09:11.608583Z"
    }
   },
   "cell_type": "code",
   "source": "ans = min([abs(i[0]) + abs(i[1]) for i in overlap])",
   "id": "4193286c395ebe9f",
   "outputs": [],
   "execution_count": 91
  },
  {
   "metadata": {
    "ExecuteTime": {
     "end_time": "2024-11-30T21:09:11.753682Z",
     "start_time": "2024-11-30T21:09:11.750957Z"
    }
   },
   "cell_type": "code",
   "source": "submit(ans, part=\"a\", year=year, day=day)",
   "id": "2dfe1e7253661cf7",
   "outputs": [
    {
     "name": "stdout",
     "output_type": "stream",
     "text": [
      "aocd will not submit that answer again. At 2024-11-30 16:07:47.865657-05:00 you've previously submitted 8015 and the server responded with:\n",
      "\u001B[32mThat's the right answer!  You are one gold star closer to rescuing Santa. [Continue to Part Two]\u001B[0m\n"
     ]
    }
   ],
   "execution_count": 92
  },
  {
   "metadata": {
    "ExecuteTime": {
     "end_time": "2024-11-30T21:10:01.907597Z",
     "start_time": "2024-11-30T21:10:01.875291Z"
    }
   },
   "cell_type": "code",
   "source": [
    "distances = []\n",
    "for x, y in overlap:\n",
    "    distances.append(l.index((x,y)) + r.index((x,y)) + 2)\n",
    "distances"
   ],
   "id": "921bdd07fe9cc8da",
   "outputs": [
    {
     "data": {
      "text/plain": [
       "[164634, 164566, 163676, 167256, 164244, 164244, 167256, 167846]"
      ]
     },
     "execution_count": 96,
     "metadata": {},
     "output_type": "execute_result"
    }
   ],
   "execution_count": 96
  },
  {
   "metadata": {
    "ExecuteTime": {
     "end_time": "2024-11-30T21:10:06.512725Z",
     "start_time": "2024-11-30T21:10:06.510156Z"
    }
   },
   "cell_type": "code",
   "source": "min(distances)",
   "id": "a3c4ee688ec9a24b",
   "outputs": [
    {
     "data": {
      "text/plain": [
       "163676"
      ]
     },
     "execution_count": 97,
     "metadata": {},
     "output_type": "execute_result"
    }
   ],
   "execution_count": 97
  },
  {
   "metadata": {
    "ExecuteTime": {
     "end_time": "2024-11-30T21:10:10.759500Z",
     "start_time": "2024-11-30T21:10:10.005331Z"
    }
   },
   "cell_type": "code",
   "source": "submit(min(distances), part=\"b\", year=year, day=day)",
   "id": "d1ee78d4b0182a97",
   "outputs": [
    {
     "name": "stdout",
     "output_type": "stream",
     "text": [
      "\u001B[32mThat's the right answer!  You are one gold star closer to rescuing Santa.You have completed Day 3! You can [Shareon\n",
      "  Bluesky\n",
      "Twitter\n",
      "Mastodon] this victory or [Return to Your Advent Calendar].\u001B[0m\n"
     ]
    },
    {
     "data": {
      "text/plain": [
       "<urllib3.response.HTTPResponse at 0x105493430>"
      ]
     },
     "execution_count": 98,
     "metadata": {},
     "output_type": "execute_result"
    }
   ],
   "execution_count": 98
  },
  {
   "metadata": {},
   "cell_type": "code",
   "outputs": [],
   "execution_count": null,
   "source": "",
   "id": "e8270d9a063d3a39"
  }
 ],
 "metadata": {
  "kernelspec": {
   "display_name": "aoc",
   "language": "python",
   "name": "aoc"
  },
  "language_info": {
   "codemirror_mode": {
    "name": "ipython",
    "version": 3
   },
   "file_extension": ".py",
   "mimetype": "text/x-python",
   "name": "python",
   "nbconvert_exporter": "python",
   "pygments_lexer": "ipython3",
   "version": "3.11.9"
  }
 },
 "nbformat": 4,
 "nbformat_minor": 5
}
